{
 "cells": [
  {
   "cell_type": "markdown",
   "id": "4ffedc36-b02e-4ebd-943c-dea24a1c2a13",
   "metadata": {},
   "source": [
    "## Creating Matching Bone Kernel Files"
   ]
  },
  {
   "cell_type": "code",
   "execution_count": 2,
   "id": "d083c55a-7afa-4afd-8af9-62a7638af5f4",
   "metadata": {},
   "outputs": [
    {
     "name": "stdout",
     "output_type": "stream",
     "text": [
      "Populating the interactive namespace from numpy and matplotlib\n"
     ]
    }
   ],
   "source": [
    "%pylab ipympl"
   ]
  },
  {
   "cell_type": "markdown",
   "id": "c4c1a291-5f77-41d4-bc9e-f2ea3278e429",
   "metadata": {},
   "source": [
    "#### Parameters"
   ]
  },
  {
   "cell_type": "code",
   "execution_count": 4,
   "id": "d0a00e6d-19a1-4e7e-93d8-14ef95f367ed",
   "metadata": {},
   "outputs": [],
   "source": [
    "filename = '../Topas/Kernels/FakeLungKernel129.csv'\n",
    "bins = 129"
   ]
  },
  {
   "cell_type": "markdown",
   "id": "695aea00-4cf7-4356-88c4-1adc1ad6b25b",
   "metadata": {},
   "source": [
    "#### Code"
   ]
  },
  {
   "cell_type": "code",
   "execution_count": 5,
   "id": "1170fe97-504c-4df4-9102-e3cf2f477b57",
   "metadata": {},
   "outputs": [],
   "source": [
    "file = open(filename,'w')\n",
    "\n",
    "file.write('# TOPAS Version: 3.7\\n')\n",
    "file.write('# Parameter File: FakeLungKernel129.txt\\n')\n",
    "file.write('# Results for scorer FakeLungKernel129\\n')\n",
    "file.write('# Scored in component: Phantom\\n')\n",
    "file.write('# X in '+str(bins)+' bin  of '+str(8/bins)+' cm\\n')\n",
    "file.write('# Y in '+str(bins)+' bin  of '+str(8/bins)+' cm\\n')\n",
    "file.write('# Z in '+str(bins)+' bins of '+str(8/bins)+' cm\\n')\n",
    "file.write('# EnergyFluence ( MeV/mm2 ) : Sum\\n')\n",
    "\n",
    "for n in range(bins**3):\n",
    "    file.write('0, 0, 0, 1\\n')\n",
    "\n",
    "file.close()"
   ]
  },
  {
   "cell_type": "markdown",
   "id": "84b1240b-f5be-444f-a358-36117c23b62d",
   "metadata": {},
   "source": [
    "## Fixing Jericho's Files"
   ]
  },
  {
   "cell_type": "code",
   "execution_count": 9,
   "id": "6219c9af-4bfc-4532-8206-0b9e0e0e8608",
   "metadata": {},
   "outputs": [],
   "source": [
    "file = open('lung_patient_python/lung_materials.egsphant','r')\n",
    "all_lines = file.readlines()\n",
    "file.close()\n",
    "my_lines = all_lines[:15066]\n",
    "\n",
    "file = open('lung_patient_python/lung_materials_copy.egsphant','w')\n",
    "for line in my_lines:\n",
    "    file.write(line)\n",
    "file.close()"
   ]
  },
  {
   "cell_type": "markdown",
   "id": "06bf7d13-0ba3-4d85-882a-9659aa931b49",
   "metadata": {},
   "source": [
    "### Creating Proper Rib Bone File"
   ]
  },
  {
   "cell_type": "code",
   "execution_count": 3,
   "id": "ef73e1dd-3285-42fd-a5e8-ae1ebb43fcc6",
   "metadata": {},
   "outputs": [],
   "source": [
    "linear = loadtxt('RIB_BONE_ICRP_linear.csv',delimiter=',')\n",
    "mass = loadtxt('RIB_BONE_ICRP_mass.csv',delimiter=',')\n",
    "\n",
    "file = open('rib_bone_coeffs.txt','w')\n",
    "\n",
    "file.write('Photon       Linear     Mass_Energy\\n')\n",
    "file.write('Energy       Coeff      Coeff\\n\\n')\n",
    "\n",
    "for n in range(len(linear[0])):\n",
    "    file.write(format_float_scientific(linear[0][n]/1000,unique=False,precision=5) + '  ' + format_float_scientific(linear[1][n],unique=False,precision=3) + '  ' + format_float_scientific(mass[1][n],unique=False,precision=3) + '\\n')\n",
    "\n",
    "file.close()"
   ]
  },
  {
   "cell_type": "code",
   "execution_count": 33,
   "id": "48f6a4bd-edbd-4edb-ba4c-ac79a57e8cfb",
   "metadata": {},
   "outputs": [
    {
     "data": {
      "text/plain": [
       "'2.00000e-03'"
      ]
     },
     "execution_count": 33,
     "metadata": {},
     "output_type": "execute_result"
    }
   ],
   "source": [
    "format_float_scientific(linear[0][n],unique=False,precision=5)"
   ]
  },
  {
   "cell_type": "markdown",
   "id": "72a62df4-2d7c-4b85-9b57-89c699701b3e",
   "metadata": {},
   "source": [
    "## Changing Units "
   ]
  },
  {
   "cell_type": "code",
   "execution_count": 4,
   "id": "6b55ad75-8321-468a-94a1-f5176f9152c4",
   "metadata": {},
   "outputs": [],
   "source": [
    "filename = 'energy_absorption_coeffs_muscle.txt'\n",
    "density = 1.05"
   ]
  },
  {
   "cell_type": "code",
   "execution_count": 7,
   "id": "891351b2-dd56-47da-ad6b-b3d89951ca44",
   "metadata": {},
   "outputs": [],
   "source": [
    "filename = 'energy_absorption_coeffs_lung.txt'\n",
    "density = 1.05"
   ]
  },
  {
   "cell_type": "code",
   "execution_count": 8,
   "id": "924b242f-b125-4ae0-aa10-dff0e94d84dc",
   "metadata": {},
   "outputs": [],
   "source": [
    "coeff_array = np.loadtxt(filename,skiprows=2,dtype=float)\n",
    "\n",
    "file = open(filename[:-4]+'_nodensity.txt','w')\n",
    "\n",
    "file.write('Photon       Linear     Mass_Energy\\n')\n",
    "file.write('Energy       Coeff      Coeff\\n\\n')\n",
    "\n",
    "for n in range(len(coeff_array.T[0])):\n",
    "    file.write(format_float_scientific(coeff_array.T[0][n],unique=False,precision=5) + '  ' + format_float_scientific(coeff_array.T[1][n]*density,unique=False,precision=3) + '  ' + format_float_scientific(coeff_array.T[1][n]*density,unique=False,precision=3) + '\\n')\n",
    "\n",
    "file.close()"
   ]
  }
 ],
 "metadata": {
  "kernelspec": {
   "display_name": "Python 3",
   "language": "python",
   "name": "python3"
  },
  "language_info": {
   "codemirror_mode": {
    "name": "ipython",
    "version": 3
   },
   "file_extension": ".py",
   "mimetype": "text/x-python",
   "name": "python",
   "nbconvert_exporter": "python",
   "pygments_lexer": "ipython3",
   "version": "3.6.9"
  }
 },
 "nbformat": 4,
 "nbformat_minor": 5
}
