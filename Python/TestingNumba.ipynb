{
 "cells": [
  {
   "cell_type": "markdown",
   "id": "b6660bfb-6364-48e6-b855-f164e2133946",
   "metadata": {},
   "source": [
    "# Trying Out Numba"
   ]
  },
  {
   "cell_type": "code",
   "execution_count": 1,
   "id": "812ff113-af32-436b-af83-6d66f9b15ac2",
   "metadata": {},
   "outputs": [
    {
     "name": "stdout",
     "output_type": "stream",
     "text": [
      "Populating the interactive namespace from numpy and matplotlib\n"
     ]
    }
   ],
   "source": [
    "%pylab ipympl\n",
    "%load_ext autoreload\n",
    "%autoreload 2\n",
    "import numba\n",
    "from numba import jit\n",
    "from numba import njit\n",
    "import dose_calculator_numba as dcn"
   ]
  },
  {
   "cell_type": "code",
   "execution_count": 15,
   "id": "f0eea65f-eb83-44e4-80a2-ec68afefa041",
   "metadata": {},
   "outputs": [
    {
     "name": "stdout",
     "output_type": "stream",
     "text": [
      "CPU times: user 17 µs, sys: 4 µs, total: 21 µs\n",
      "Wall time: 36.7 µs\n"
     ]
    }
   ],
   "source": [
    "%%time\n",
    "n = 100000000\n",
    "\n",
    "def add_a(n):\n",
    "    a = 0\n",
    "    b = 0\n",
    "    for i in range(n):\n",
    "        a += n\n",
    "    for i in range(n):\n",
    "        b += n\n",
    "    return(a,b)\n"
   ]
  },
  {
   "cell_type": "code",
   "execution_count": 16,
   "id": "00d3ca3d-d36c-4ba4-bcc1-2c497457ad28",
   "metadata": {},
   "outputs": [
    {
     "name": "stdout",
     "output_type": "stream",
     "text": [
      "CPU times: user 14.9 s, sys: 6.15 ms, total: 14.9 s\n",
      "Wall time: 14.9 s\n"
     ]
    },
    {
     "data": {
      "text/plain": [
       "(10000000000000000, 10000000000000000)"
      ]
     },
     "execution_count": 16,
     "metadata": {},
     "output_type": "execute_result"
    }
   ],
   "source": [
    "%%time\n",
    "add_a(n)"
   ]
  },
  {
   "cell_type": "code",
   "execution_count": 17,
   "id": "8e55ca1a-636a-4605-958f-98e0eea09bd7",
   "metadata": {},
   "outputs": [
    {
     "name": "stdout",
     "output_type": "stream",
     "text": [
      "CPU times: user 295 µs, sys: 36 µs, total: 331 µs\n",
      "Wall time: 785 µs\n"
     ]
    }
   ],
   "source": [
    "%%time\n",
    "@jit(nopython=True)\n",
    "def add_a_fast(n):\n",
    "    a = 0\n",
    "    b = 0\n",
    "    for i in range(n):\n",
    "        a += n\n",
    "    for i in range(n):\n",
    "        b += n\n",
    "    return(a,b)"
   ]
  },
  {
   "cell_type": "code",
   "execution_count": 25,
   "id": "dfe3df15-e066-4338-8271-b08974e27851",
   "metadata": {},
   "outputs": [
    {
     "name": "stdout",
     "output_type": "stream",
     "text": [
      "CPU times: user 20 µs, sys: 2 µs, total: 22 µs\n",
      "Wall time: 37.2 µs\n"
     ]
    },
    {
     "data": {
      "text/plain": [
       "(10000000000000000, 10000000000000000)"
      ]
     },
     "execution_count": 25,
     "metadata": {},
     "output_type": "execute_result"
    }
   ],
   "source": [
    "%%time\n",
    "add_a_fast(n)"
   ]
  },
  {
   "cell_type": "code",
   "execution_count": null,
   "id": "8eb81559-3b83-4ace-bd54-e3ca5c4f3f6f",
   "metadata": {},
   "outputs": [],
   "source": [
    "%%time \n",
    "\n",
    "# for a CT array of (Nx-1,Ny-1,Nz-1) voxels\n",
    "Nx = 51\n",
    "Ny = 51\n",
    "Nz = 51\n",
    "\n",
    "# distances between the x,y,z planes (also the lengths of the sides of the voxels) in cm\n",
    "dx = 0.1\n",
    "dy = 0.1\n",
    "dz = 0.1\n",
    "\n",
    "# initial and final coordinates of the beam\n",
    "x1,x2 = (0,0)\n",
    "y1,y2 = (0,0)\n",
    "z1,z2 = (2.5,-2.5)\n",
    "\n",
    "# adjustment from center \n",
    "adjust = 0.025\n",
    "\n",
    "# initial plane coordinates\n",
    "xplane1 = -2.5\n",
    "yplane1 = -2.5\n",
    "zplane1 = -2.5\n",
    "\n",
    "# beam info and filename\n",
    "beam_energy = 0.120 # in MeV\n",
    "fluence_0 = 3.183098862 * 10**10 # photon/cm^2\n",
    "# fluence_0 = 2.53 * 10**8 # photon/cm^2\n",
    "# fluence_0 = 9.93 * 10**8 # photon/cm^2\n",
    "# filename = 'energy_absorption_coeff.txt'\n",
    "\n",
    "# angular (in radians) and positional spread (in cm)\n",
    "angle_spread_x = 0\n",
    "angle_spread_y = 0\n",
    "angle_spread_z = 0\n",
    "\n",
    "pos_spread_x = 0.01\n",
    "pos_spread_y = 0.01\n",
    "pos_spread_z = 0\n",
    "\n",
    "angle_spread = (angle_spread_x,angle_spread_y,angle_spread_z)\n",
    "position_spread = (pos_spread_x,pos_spread_y,pos_spread_z)\n",
    "\n",
    "# file names for energy absorption coefficients\n",
    "filenames = ['energy_absorption_coeffs.txt','energy_absorption_coeffs_lung.txt','energy_absorption_coeffs_cort_bone.txt']\n",
    "\n",
    "# kernel info\n",
    "kernelname_water = '../Topas/Kernels/WaterKernel13.csv'\n",
    "kernelname_lung = '../Topas/Kernels/LungKernel1.csv'\n",
    "kernelname_bone = '../Topas/Kernels/BoneKernel3.csv'\n",
    "kernelnames = [kernelname_water,kernelname_lung,kernelname_bone]\n",
    "# kernelname = '../Topas/RealKernel1.csv'\n",
    "kernel_size = (4,4,4) # cm \n",
    "\n",
    "# effective distance from center of kernel \n",
    "eff_dist = (2,2,2) # cm\n",
    "\n",
    "# making materials array \n",
    "materials = []\n",
    "for i in range(Nx-1):\n",
    "    materials.append([])\n",
    "    for j in range(Ny-1):\n",
    "        materials[i].append([])\n",
    "        for k in range(Nz-1):\n",
    "            materials[i][j].append('w')\n",
    "\n",
    "# number of cores to use\n",
    "num_cores = 16\n",
    "\n",
    "# Siddon((Nx,Ny,Nz),(dx,dy,dz),((x1,x2),(y1,y2),(z1,z2)),(xplane1,yplane1,zplane1),plot=True)\n",
    "# terma = sd.TERMA((Nx,Ny,Nz),(dx,dy,dz),((x1,x2),(y1,y2),(z1,z2)),(xplane1,yplane1,zplane1),[beam_energy],[fluence_0],mu)\n",
    "\n",
    "dose = dcn.Dose_Calculator((Nx,Ny,Nz),(dx,dy,dz),[((x1+adjust,x2+adjust),(y1+adjust,y2+adjust),(z1,z2)),((x1-adjust,x2-adjust),(y1+adjust,y2+adjust),(z1,z2)),((x1+adjust,x2+adjust),(y1-adjust,y2-adjust),(z1,z2)),((x1-adjust,x2-adjust),(y1-adjust,y2-adjust),(z1,z2))],(xplane1,yplane1,zplane1),[beam_energy],[fluence_0],angle_spread,position_spread,filenames,kernelnames,kernel_size,eff_dist,materials,num_cores)\n"
   ]
  }
 ],
 "metadata": {
  "kernelspec": {
   "display_name": "Python 3",
   "language": "python",
   "name": "python3"
  },
  "language_info": {
   "codemirror_mode": {
    "name": "ipython",
    "version": 3
   },
   "file_extension": ".py",
   "mimetype": "text/x-python",
   "name": "python",
   "nbconvert_exporter": "python",
   "pygments_lexer": "ipython3",
   "version": "3.6.9"
  }
 },
 "nbformat": 4,
 "nbformat_minor": 5
}
