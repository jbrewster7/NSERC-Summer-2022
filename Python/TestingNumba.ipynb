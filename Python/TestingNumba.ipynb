{
 "cells": [
  {
   "cell_type": "markdown",
   "id": "b6660bfb-6364-48e6-b855-f164e2133946",
   "metadata": {},
   "source": [
    "# Trying Out Numba"
   ]
  },
  {
   "cell_type": "code",
   "execution_count": 1,
   "id": "812ff113-af32-436b-af83-6d66f9b15ac2",
   "metadata": {},
   "outputs": [
    {
     "name": "stdout",
     "output_type": "stream",
     "text": [
      "Populating the interactive namespace from numpy and matplotlib\n"
     ]
    }
   ],
   "source": [
    "%pylab ipympl\n",
    "%load_ext autoreload\n",
    "%autoreload 2\n",
    "import numba\n",
    "from numba import jit\n",
    "from numba import njit\n",
    "import dose_calculator_numba as dcn"
   ]
  },
  {
   "cell_type": "code",
   "execution_count": 15,
   "id": "f0eea65f-eb83-44e4-80a2-ec68afefa041",
   "metadata": {},
   "outputs": [
    {
     "name": "stdout",
     "output_type": "stream",
     "text": [
      "CPU times: user 17 µs, sys: 4 µs, total: 21 µs\n",
      "Wall time: 36.7 µs\n"
     ]
    }
   ],
   "source": [
    "%%time\n",
    "n = 100000000\n",
    "\n",
    "def add_a(n):\n",
    "    a = 0\n",
    "    b = 0\n",
    "    for i in range(n):\n",
    "        a += n\n",
    "    for i in range(n):\n",
    "        b += n\n",
    "    return(a,b)\n"
   ]
  },
  {
   "cell_type": "code",
   "execution_count": 16,
   "id": "00d3ca3d-d36c-4ba4-bcc1-2c497457ad28",
   "metadata": {},
   "outputs": [
    {
     "name": "stdout",
     "output_type": "stream",
     "text": [
      "CPU times: user 14.9 s, sys: 6.15 ms, total: 14.9 s\n",
      "Wall time: 14.9 s\n"
     ]
    },
    {
     "data": {
      "text/plain": [
       "(10000000000000000, 10000000000000000)"
      ]
     },
     "execution_count": 16,
     "metadata": {},
     "output_type": "execute_result"
    }
   ],
   "source": [
    "%%time\n",
    "add_a(n)"
   ]
  },
  {
   "cell_type": "code",
   "execution_count": 17,
   "id": "8e55ca1a-636a-4605-958f-98e0eea09bd7",
   "metadata": {},
   "outputs": [
    {
     "name": "stdout",
     "output_type": "stream",
     "text": [
      "CPU times: user 295 µs, sys: 36 µs, total: 331 µs\n",
      "Wall time: 785 µs\n"
     ]
    }
   ],
   "source": [
    "%%time\n",
    "@jit(nopython=True)\n",
    "def add_a_fast(n):\n",
    "    a = 0\n",
    "    b = 0\n",
    "    for i in range(n):\n",
    "        a += n\n",
    "    for i in range(n):\n",
    "        b += n\n",
    "    return(a,b)"
   ]
  },
  {
   "cell_type": "code",
   "execution_count": 25,
   "id": "dfe3df15-e066-4338-8271-b08974e27851",
   "metadata": {},
   "outputs": [
    {
     "name": "stdout",
     "output_type": "stream",
     "text": [
      "CPU times: user 20 µs, sys: 2 µs, total: 22 µs\n",
      "Wall time: 37.2 µs\n"
     ]
    },
    {
     "data": {
      "text/plain": [
       "(10000000000000000, 10000000000000000)"
      ]
     },
     "execution_count": 25,
     "metadata": {},
     "output_type": "execute_result"
    }
   ],
   "source": [
    "%%time\n",
    "add_a_fast(n)"
   ]
  },
  {
   "cell_type": "code",
   "execution_count": 5,
   "id": "8eb81559-3b83-4ace-bd54-e3ca5c4f3f6f",
   "metadata": {},
   "outputs": [
    {
     "name": "stdout",
     "output_type": "stream",
     "text": [
      "Calling Superposition\n",
      "Kernel Interpolated\n"
     ]
    },
    {
     "name": "stderr",
     "output_type": "stream",
     "text": [
      "/home/user/NSERC-Summer-2022/Python/dose_calculator_numba.py:327: NumbaWarning: \u001b[1m\n",
      "Compilation is falling back to object mode WITH looplifting enabled because Function \"Superimpose\" failed type inference due to: \u001b[1m\u001b[1mNo implementation of function Function(<built-in function setitem>) found for signature:\n",
      " \n",
      " >>> setitem(list(array(float64, 2d, A))<iv=None>, int64, list(array(float64, 1d, A))<iv=None>)\n",
      " \n",
      "There are 16 candidate implementations:\n",
      "\u001b[1m      - Of which 14 did not match due to:\n",
      "      Overload of function 'setitem': File: <numerous>: Line N/A.\n",
      "        With argument(s): '(list(array(float64, 2d, A))<iv=None>, int64, list(array(float64, 1d, A))<iv=None>)':\u001b[0m\n",
      "\u001b[1m       No match.\u001b[0m\n",
      "\u001b[1m      - Of which 2 did not match due to:\n",
      "      Overload in function 'SetItemSequence.generic': File: numba/core/typing/collections.py: Line 56.\n",
      "        With argument(s): '(list(array(float64, 2d, A))<iv=None>, int64, list(array(float64, 1d, A))<iv=None>)':\u001b[0m\n",
      "\u001b[1m       Rejected as the implementation raised a specific error:\n",
      "         TypingError: \u001b[1minvalid setitem with value of list(array(float64, 1d, A))<iv=None> to element of array(float64, 2d, A)\u001b[0m\u001b[0m\n",
      "  raised from /home/user/.local/lib/python3.6/site-packages/numba/core/typing/collections.py:65\n",
      "\u001b[0m\n",
      "\u001b[0m\u001b[1mDuring: typing of setitem at /home/user/NSERC-Summer-2022/Python/dose_calculator_numba.py (361)\u001b[0m\n",
      "\u001b[1m\n",
      "File \"dose_calculator_numba.py\", line 361:\u001b[0m\n",
      "\u001b[1m    def to_list(arr):\n",
      "        <source elided>\n",
      "        for i in range(len(arr)):\n",
      "\u001b[1m            arr[i] = list(arr[i])\n",
      "\u001b[0m            \u001b[1m^\u001b[0m\u001b[0m\n",
      "\u001b[0m\n",
      "  @njit\n",
      "/home/user/NSERC-Summer-2022/Python/dose_calculator_numba.py:327: NumbaWarning: \u001b[1m\n",
      "Compilation is falling back to object mode WITHOUT looplifting enabled because Function \"Superimpose\" failed type inference due to: \u001b[1m\u001b[1mCannot determine Numba type of <class 'numba.core.dispatcher.LiftedLoop'>\u001b[0m\n",
      "\u001b[1m\n",
      "File \"dose_calculator_numba.py\", line 384:\u001b[0m\n",
      "\u001b[1m    def to_list(arr):\n",
      "        <source elided>\n",
      "        # print('y bottom less')\n",
      "\u001b[1m        for i in range(len(energy_deposited)):\n",
      "\u001b[0m        \u001b[1m^\u001b[0m\u001b[0m\n",
      "\u001b[0m\u001b[0m\n",
      "  @njit\n",
      "/home/user/.local/lib/python3.6/site-packages/numba/core/object_mode_passes.py:152: NumbaWarning: \u001b[1mFunction \"Superimpose\" was compiled in object mode without forceobj=True, but has lifted loops.\n",
      "\u001b[1m\n",
      "File \"dose_calculator_numba.py\", line 356:\u001b[0m\n",
      "\u001b[1m    \n",
      "\u001b[1m    def to_list(arr):\n",
      "\u001b[0m    \u001b[1m^\u001b[0m\u001b[0m\n",
      "\u001b[0m\n",
      "  state.func_ir.loc))\n",
      "/home/user/.local/lib/python3.6/site-packages/numba/core/object_mode_passes.py:162: NumbaDeprecationWarning: \u001b[1m\n",
      "Fall-back from the nopython compilation path to the object mode compilation path has been detected, this is deprecated behaviour.\n",
      "\n",
      "For more information visit https://numba.pydata.org/numba-doc/latest/reference/deprecation.html#deprecation-of-object-mode-fall-back-behaviour-when-using-jit\n",
      "\u001b[1m\n",
      "File \"dose_calculator_numba.py\", line 356:\u001b[0m\n",
      "\u001b[1m    \n",
      "\u001b[1m    def to_list(arr):\n",
      "\u001b[0m    \u001b[1m^\u001b[0m\u001b[0m\n",
      "\u001b[0m\n",
      "  state.func_ir.loc))\n"
     ]
    },
    {
     "ename": "NameError",
     "evalue": "global name 'to_list' is not defined",
     "output_type": "error",
     "traceback": [
      "\u001b[0;31m---------------------------------------------------------------------------\u001b[0m",
      "\u001b[0;31mNameError\u001b[0m                                 Traceback (most recent call last)",
      "\u001b[0;32m<timed exec>\u001b[0m in \u001b[0;36m<module>\u001b[0;34m\u001b[0m\n",
      "\u001b[0;32m~/NSERC-Summer-2022/Python/dose_calculator_numba.py\u001b[0m in \u001b[0;36mDose_Calculator\u001b[0;34m(num_planes, voxel_lengths, beam_coor, ini_planes, beam_energy, ini_fluence, angle_spread, position_spread, filenames, kernelnames, kernel_size, eff_distance, mat_array, num_cores)\u001b[0m\n\u001b[1;32m    765\u001b[0m     \u001b[0mprint\u001b[0m\u001b[0;34m(\u001b[0m\u001b[0;34m'Calling Superposition'\u001b[0m\u001b[0;34m)\u001b[0m\u001b[0;34m\u001b[0m\u001b[0;34m\u001b[0m\u001b[0m\n\u001b[1;32m    766\u001b[0m \u001b[0;34m\u001b[0m\u001b[0m\n\u001b[0;32m--> 767\u001b[0;31m     \u001b[0menergy_deposit\u001b[0m \u001b[0;34m=\u001b[0m \u001b[0mSuperposition\u001b[0m\u001b[0;34m(\u001b[0m\u001b[0mkernel_arrays\u001b[0m\u001b[0;34m,\u001b[0m\u001b[0mkernel_size\u001b[0m\u001b[0;34m,\u001b[0m\u001b[0mnum_planes\u001b[0m\u001b[0;34m,\u001b[0m\u001b[0mvoxel_lengths\u001b[0m\u001b[0;34m,\u001b[0m\u001b[0mvoxel_info\u001b[0m\u001b[0;34m,\u001b[0m\u001b[0mbeam_coor\u001b[0m\u001b[0;34m,\u001b[0m\u001b[0meff_distance\u001b[0m\u001b[0;34m,\u001b[0m\u001b[0mmat_array\u001b[0m\u001b[0;34m,\u001b[0m\u001b[0mnum_cores\u001b[0m\u001b[0;34m)\u001b[0m\u001b[0;34m\u001b[0m\u001b[0;34m\u001b[0m\u001b[0m\n\u001b[0m\u001b[1;32m    768\u001b[0m     \u001b[0;32mreturn\u001b[0m \u001b[0menergy_deposit\u001b[0m\u001b[0;34m\u001b[0m\u001b[0;34m\u001b[0m\u001b[0m\n\u001b[1;32m    769\u001b[0m \u001b[0;34m\u001b[0m\u001b[0m\n",
      "\u001b[0;32m~/NSERC-Summer-2022/Python/dose_calculator_numba.py\u001b[0m in \u001b[0;36mSuperposition\u001b[0;34m(kernel_arrays, kernel_size, num_planes, voxel_lengths, voxel_info, beam_coor, eff_distance, mat_array, num_cores)\u001b[0m\n\u001b[1;32m    609\u001b[0m \u001b[0;34m\u001b[0m\u001b[0m\n\u001b[1;32m    610\u001b[0m \u001b[0;34m\u001b[0m\u001b[0m\n\u001b[0;32m--> 611\u001b[0;31m         \u001b[0menergy_deposit\u001b[0m\u001b[0;34m[\u001b[0m\u001b[0mray\u001b[0m\u001b[0;34m]\u001b[0m \u001b[0;34m=\u001b[0m \u001b[0;34m[\u001b[0m\u001b[0mSuperimpose\u001b[0m\u001b[0;34m(\u001b[0m\u001b[0mvoxel_info\u001b[0m\u001b[0;34m[\u001b[0m\u001b[0mray\u001b[0m\u001b[0;34m]\u001b[0m\u001b[0;34m[\u001b[0m\u001b[0mvoxel_ind\u001b[0m\u001b[0;34m]\u001b[0m\u001b[0;34m[\u001b[0m\u001b[0;34m'indices'\u001b[0m\u001b[0;34m]\u001b[0m\u001b[0;34m,\u001b[0m\u001b[0mvoxel_info\u001b[0m\u001b[0;34m[\u001b[0m\u001b[0mray\u001b[0m\u001b[0;34m]\u001b[0m\u001b[0;34m[\u001b[0m\u001b[0mvoxel_ind\u001b[0m\u001b[0;34m]\u001b[0m\u001b[0;34m[\u001b[0m\u001b[0;34m'TERMA'\u001b[0m\u001b[0;34m]\u001b[0m\u001b[0;34m,\u001b[0m\u001b[0;34m[\u001b[0m\u001b[0menergy_deposition_water\u001b[0m\u001b[0;34m,\u001b[0m\u001b[0menergy_deposition_lung\u001b[0m\u001b[0;34m,\u001b[0m\u001b[0menergy_deposition_bone\u001b[0m\u001b[0;34m]\u001b[0m\u001b[0;34m,\u001b[0m\u001b[0mcenter_coor_en\u001b[0m\u001b[0;34m,\u001b[0m\u001b[0mmat_array\u001b[0m\u001b[0;34m)\u001b[0m \u001b[0;32mfor\u001b[0m \u001b[0mvoxel_ind\u001b[0m \u001b[0;32min\u001b[0m \u001b[0mrange\u001b[0m\u001b[0;34m(\u001b[0m\u001b[0mlen\u001b[0m\u001b[0;34m(\u001b[0m\u001b[0mvoxel_info\u001b[0m\u001b[0;34m[\u001b[0m\u001b[0mray\u001b[0m\u001b[0;34m]\u001b[0m\u001b[0;34m)\u001b[0m\u001b[0;34m)\u001b[0m\u001b[0;34m]\u001b[0m\u001b[0;34m\u001b[0m\u001b[0;34m\u001b[0m\u001b[0m\n\u001b[0m\u001b[1;32m    612\u001b[0m \u001b[0;34m\u001b[0m\u001b[0m\n\u001b[1;32m    613\u001b[0m         \u001b[0menergy_deposit\u001b[0m\u001b[0;34m[\u001b[0m\u001b[0mray\u001b[0m\u001b[0;34m]\u001b[0m \u001b[0;34m=\u001b[0m \u001b[0mnp\u001b[0m\u001b[0;34m.\u001b[0m\u001b[0marray\u001b[0m\u001b[0;34m(\u001b[0m\u001b[0mnp\u001b[0m\u001b[0;34m.\u001b[0m\u001b[0msum\u001b[0m\u001b[0;34m(\u001b[0m\u001b[0menergy_deposit\u001b[0m\u001b[0;34m[\u001b[0m\u001b[0mray\u001b[0m\u001b[0;34m]\u001b[0m\u001b[0;34m,\u001b[0m\u001b[0maxis\u001b[0m\u001b[0;34m=\u001b[0m\u001b[0;36m0\u001b[0m\u001b[0;34m)\u001b[0m\u001b[0;34m)\u001b[0m\u001b[0;34m\u001b[0m\u001b[0;34m\u001b[0m\u001b[0m\n",
      "\u001b[0;32m~/NSERC-Summer-2022/Python/dose_calculator_numba.py\u001b[0m in \u001b[0;36m<listcomp>\u001b[0;34m(.0)\u001b[0m\n\u001b[1;32m    609\u001b[0m \u001b[0;34m\u001b[0m\u001b[0m\n\u001b[1;32m    610\u001b[0m \u001b[0;34m\u001b[0m\u001b[0m\n\u001b[0;32m--> 611\u001b[0;31m         \u001b[0menergy_deposit\u001b[0m\u001b[0;34m[\u001b[0m\u001b[0mray\u001b[0m\u001b[0;34m]\u001b[0m \u001b[0;34m=\u001b[0m \u001b[0;34m[\u001b[0m\u001b[0mSuperimpose\u001b[0m\u001b[0;34m(\u001b[0m\u001b[0mvoxel_info\u001b[0m\u001b[0;34m[\u001b[0m\u001b[0mray\u001b[0m\u001b[0;34m]\u001b[0m\u001b[0;34m[\u001b[0m\u001b[0mvoxel_ind\u001b[0m\u001b[0;34m]\u001b[0m\u001b[0;34m[\u001b[0m\u001b[0;34m'indices'\u001b[0m\u001b[0;34m]\u001b[0m\u001b[0;34m,\u001b[0m\u001b[0mvoxel_info\u001b[0m\u001b[0;34m[\u001b[0m\u001b[0mray\u001b[0m\u001b[0;34m]\u001b[0m\u001b[0;34m[\u001b[0m\u001b[0mvoxel_ind\u001b[0m\u001b[0;34m]\u001b[0m\u001b[0;34m[\u001b[0m\u001b[0;34m'TERMA'\u001b[0m\u001b[0;34m]\u001b[0m\u001b[0;34m,\u001b[0m\u001b[0;34m[\u001b[0m\u001b[0menergy_deposition_water\u001b[0m\u001b[0;34m,\u001b[0m\u001b[0menergy_deposition_lung\u001b[0m\u001b[0;34m,\u001b[0m\u001b[0menergy_deposition_bone\u001b[0m\u001b[0;34m]\u001b[0m\u001b[0;34m,\u001b[0m\u001b[0mcenter_coor_en\u001b[0m\u001b[0;34m,\u001b[0m\u001b[0mmat_array\u001b[0m\u001b[0;34m)\u001b[0m \u001b[0;32mfor\u001b[0m \u001b[0mvoxel_ind\u001b[0m \u001b[0;32min\u001b[0m \u001b[0mrange\u001b[0m\u001b[0;34m(\u001b[0m\u001b[0mlen\u001b[0m\u001b[0;34m(\u001b[0m\u001b[0mvoxel_info\u001b[0m\u001b[0;34m[\u001b[0m\u001b[0mray\u001b[0m\u001b[0;34m]\u001b[0m\u001b[0;34m)\u001b[0m\u001b[0;34m)\u001b[0m\u001b[0;34m]\u001b[0m\u001b[0;34m\u001b[0m\u001b[0;34m\u001b[0m\u001b[0m\n\u001b[0m\u001b[1;32m    612\u001b[0m \u001b[0;34m\u001b[0m\u001b[0m\n\u001b[1;32m    613\u001b[0m         \u001b[0menergy_deposit\u001b[0m\u001b[0;34m[\u001b[0m\u001b[0mray\u001b[0m\u001b[0;34m]\u001b[0m \u001b[0;34m=\u001b[0m \u001b[0mnp\u001b[0m\u001b[0;34m.\u001b[0m\u001b[0marray\u001b[0m\u001b[0;34m(\u001b[0m\u001b[0mnp\u001b[0m\u001b[0;34m.\u001b[0m\u001b[0msum\u001b[0m\u001b[0;34m(\u001b[0m\u001b[0menergy_deposit\u001b[0m\u001b[0;34m[\u001b[0m\u001b[0mray\u001b[0m\u001b[0;34m]\u001b[0m\u001b[0;34m,\u001b[0m\u001b[0maxis\u001b[0m\u001b[0;34m=\u001b[0m\u001b[0;36m0\u001b[0m\u001b[0;34m)\u001b[0m\u001b[0;34m)\u001b[0m\u001b[0;34m\u001b[0m\u001b[0;34m\u001b[0m\u001b[0m\n",
      "\u001b[0;31mNameError\u001b[0m: global name 'to_list' is not defined"
     ]
    }
   ],
   "source": [
    "%%time \n",
    "\n",
    "# for a CT array of (Nx-1,Ny-1,Nz-1) voxels\n",
    "Nx = 51\n",
    "Ny = 51\n",
    "Nz = 51\n",
    "\n",
    "# distances between the x,y,z planes (also the lengths of the sides of the voxels) in cm\n",
    "dx = 0.1\n",
    "dy = 0.1\n",
    "dz = 0.1\n",
    "\n",
    "# initial and final coordinates of the beam\n",
    "x1,x2 = (0,0)\n",
    "y1,y2 = (0,0)\n",
    "z1,z2 = (2.5,-2.5)\n",
    "\n",
    "# adjustment from center \n",
    "adjust = 0.025\n",
    "\n",
    "# initial plane coordinates\n",
    "xplane1 = -2.5\n",
    "yplane1 = -2.5\n",
    "zplane1 = -2.5\n",
    "\n",
    "# beam info and filename\n",
    "beam_energy = 0.120 # in MeV\n",
    "fluence_0 = 3.183098862 * 10**10 # photon/cm^2\n",
    "# fluence_0 = 2.53 * 10**8 # photon/cm^2\n",
    "# fluence_0 = 9.93 * 10**8 # photon/cm^2\n",
    "# filename = 'energy_absorption_coeff.txt'\n",
    "\n",
    "# angular (in radians) and positional spread (in cm)\n",
    "angle_spread_x = 0\n",
    "angle_spread_y = 0\n",
    "angle_spread_z = 0\n",
    "\n",
    "pos_spread_x = 0.01\n",
    "pos_spread_y = 0.01\n",
    "pos_spread_z = 0\n",
    "\n",
    "angle_spread = (angle_spread_x,angle_spread_y,angle_spread_z)\n",
    "position_spread = (pos_spread_x,pos_spread_y,pos_spread_z)\n",
    "\n",
    "# file names for energy absorption coefficients\n",
    "filenames = ['energy_absorption_coeffs.txt','energy_absorption_coeffs_lung.txt','energy_absorption_coeffs_cort_bone.txt']\n",
    "\n",
    "# kernel info\n",
    "kernelname_water = '../Topas/Kernels/WaterKernel13.csv'\n",
    "kernelname_lung = '../Topas/Kernels/LungKernel1.csv'\n",
    "kernelname_bone = '../Topas/Kernels/BoneKernel3.csv'\n",
    "kernelnames = [kernelname_water,kernelname_lung,kernelname_bone]\n",
    "# kernelname = '../Topas/RealKernel1.csv'\n",
    "kernel_size = (4,4,4) # cm \n",
    "\n",
    "# effective distance from center of kernel \n",
    "eff_dist = (2,2,2) # cm\n",
    "\n",
    "# making materials array \n",
    "materials = []\n",
    "for i in range(Nx-1):\n",
    "    materials.append([])\n",
    "    for j in range(Ny-1):\n",
    "        materials[i].append([])\n",
    "        for k in range(Nz-1):\n",
    "            materials[i][j].append('w')\n",
    "\n",
    "# number of cores to use\n",
    "num_cores = 16\n",
    "\n",
    "# Siddon((Nx,Ny,Nz),(dx,dy,dz),((x1,x2),(y1,y2),(z1,z2)),(xplane1,yplane1,zplane1),plot=True)\n",
    "# terma = sd.TERMA((Nx,Ny,Nz),(dx,dy,dz),((x1,x2),(y1,y2),(z1,z2)),(xplane1,yplane1,zplane1),[beam_energy],[fluence_0],mu)\n",
    "\n",
    "dose = dcn.Dose_Calculator((Nx,Ny,Nz),(dx,dy,dz),[((x1+adjust,x2+adjust),(y1+adjust,y2+adjust),(z1,z2)),((x1-adjust,x2-adjust),(y1+adjust,y2+adjust),(z1,z2)),((x1+adjust,x2+adjust),(y1-adjust,y2-adjust),(z1,z2)),((x1-adjust,x2-adjust),(y1-adjust,y2-adjust),(z1,z2))],(xplane1,yplane1,zplane1),[beam_energy],[fluence_0],angle_spread,position_spread,filenames,kernelnames,kernel_size,eff_dist,materials,num_cores)\n"
   ]
  }
 ],
 "metadata": {
  "kernelspec": {
   "display_name": "Python 3",
   "language": "python",
   "name": "python3"
  },
  "language_info": {
   "codemirror_mode": {
    "name": "ipython",
    "version": 3
   },
   "file_extension": ".py",
   "mimetype": "text/x-python",
   "name": "python",
   "nbconvert_exporter": "python",
   "pygments_lexer": "ipython3",
   "version": "3.6.9"
  }
 },
 "nbformat": 4,
 "nbformat_minor": 5
}
