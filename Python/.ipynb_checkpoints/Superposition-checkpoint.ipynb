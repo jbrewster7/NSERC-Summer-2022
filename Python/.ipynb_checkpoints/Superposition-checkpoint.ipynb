{
 "cells": [
  {
   "cell_type": "markdown",
   "id": "41b167eb-8811-497a-9b68-93cbb27581ea",
   "metadata": {},
   "source": [
    "# Superposition"
   ]
  },
  {
   "cell_type": "markdown",
   "id": "95271ee4-b842-46fe-9c9d-d4c821a1fe98",
   "metadata": {},
   "source": [
    "This is where I will be attemping to do superposition of the kernel onto the terma stuff."
   ]
  },
  {
   "cell_type": "code",
   "execution_count": 5,
   "id": "87c0281d-c6f4-4139-a4a1-fd8991098dd4",
   "metadata": {},
   "outputs": [],
   "source": [
    "import numpy as np\n",
    "import sliding as sl"
   ]
  },
  {
   "cell_type": "code",
   "execution_count": 6,
   "id": "091834a5-3b87-4dfd-883b-772f1aa966d4",
   "metadata": {},
   "outputs": [],
   "source": [
    "import siddon as sd\n",
    "from topas2numpy import BinnedResult\n",
    "from scipy import interpolate"
   ]
  },
  {
   "cell_type": "code",
   "execution_count": 7,
   "id": "e14c2780-f263-4236-b5e6-ce43c8ce3532",
   "metadata": {},
   "outputs": [],
   "source": [
    "'''\n",
    "Parameters\n",
    "'''\n",
    "# for a CT array of (Nx-1,Ny-1,Nz-1) voxels\n",
    "Nx = 5 \n",
    "Ny = 4\n",
    "Nz = 3\n",
    "\n",
    "# distances between the x,y,z planes (also the lengths of the sides of the voxels)\n",
    "dx = 0.1\n",
    "dy = 2\n",
    "dz = 0.5\n",
    "\n",
    "# initial and final coordinates of the beam\n",
    "x1,x2 = (0.5,0)\n",
    "y1,y2 = (3,0)\n",
    "z1,z2 = (2,0.25)\n",
    "\n",
    "# initial plane coordinates\n",
    "xplane1 = 0\n",
    "yplane1 = 0\n",
    "zplane1 = 0\n",
    "\n",
    "# beam info and filename\n",
    "ini_energy = 0.120 # in MeV\n",
    "filename = 'energy_absorption_coeff.txt'\n",
    "\n",
    "# information about the voxels\n",
    "voxel_info = sd.TERMA((Nx,Ny,Nz),(dx,dy,dz),((x1,x2),(y1,y2),(z1,z2)),(xplane1,yplane1,zplane1),ini_energy,filename)\n",
    "\n",
    "# kernel file\n",
    "kernelname = '../Topas/RealKernel1.csv'"
   ]
  },
  {
   "cell_type": "code",
   "execution_count": 12,
   "id": "180a886b-0e59-4de8-b0f4-24bcf110d5fc",
   "metadata": {},
   "outputs": [],
   "source": [
    "# for a CT array of (Nx-1,Ny-1,Nz-1) voxels\n",
    "Nx = 200\n",
    "Ny = 200\n",
    "Nz = 200\n",
    "\n",
    "# distances between the x,y,z planes (also the lengths of the sides of the voxels)\n",
    "dx = 0.1\n",
    "dy = 0.1\n",
    "dz = 0.1\n",
    "\n",
    "# initial and final coordinates of the beam\n",
    "x1,x2 = (8,0)\n",
    "y1,y2 = (300,2)\n",
    "z1,z2 = (4,-6)\n",
    "\n",
    "# initial plane coordinates\n",
    "xplane1 = -5\n",
    "yplane1 = 0\n",
    "zplane1 = -8\n",
    "\n",
    "# beam info and filename\n",
    "ini_energy = 0.120 # in MeV\n",
    "beam_energy = 0.120 # in MeV\n",
    "fluence_0 = 1 # photon/cm^2\n",
    "filename = 'energy_absorption_coeff.txt'\n",
    "\n",
    "voxel_info = sd.TERMA((Nx,Ny,Nz),(dx,dy,dz),((x1,x2),(y1,y2),(z1,z2)),(xplane1,yplane1,zplane1),ini_energy,filename)\n",
    "\n",
    "# kernel info\n",
    "kernelname = '../Topas/RealKernel1.csv'\n",
    "kernel_size = (60,60,60) # cm "
   ]
  },
  {
   "cell_type": "code",
   "execution_count": 8,
   "id": "2254344c-befe-4bd9-bdf4-42e3700888dc",
   "metadata": {},
   "outputs": [],
   "source": [
    "# real array\n",
    "kernel_array_raw = BinnedResult(kernelname).data['Sum']"
   ]
  },
  {
   "cell_type": "code",
   "execution_count": 20,
   "id": "2256a027-1e36-49be-8f97-ce1e273960ce",
   "metadata": {},
   "outputs": [],
   "source": [
    "# pretend array for testing\n",
    "kernel_array_raw = np.array([[[[0],[0],[0],[0],[0]],[[0],[0],[0],[0],[0]],[[0],[0],[0.1],[0],[0]],[[0],[0],[0],[0],[0]],[[0],[0],[0],[0],[0]]],[[[0],[0],[0],[0],[0]],[[0],[0],[0.1],[0],[0]],[[0],[0.1],[0.3],[0.1],[0]],[[0],[0],[0.1],[0],[0]],[[0],[0],[0],[0],[0]]],[[[0],[0],[0.2],[0],[0]],[[0],[0.2],[0.5],[0.2],[0]],[[0],[0.3],[1],[0.3],[0]],[[0],[0.1],[0.2],[0.1],[0]],[[0],[0],[0.1],[0],[0]]],[[[0],[0],[0],[0],[0]],[[0],[0],[0.1],[0],[0]],[[0],[0.1],[0.3],[0.1],[0]],[[0],[0],[0.1],[0],[0]],[[0],[0],[0],[0],[0]]],[[[0],[0],[0],[0],[0]],[[0],[0],[0],[0],[0]],[[0],[0],[0.1],[0],[0]],[[0],[0],[0],[0],[0]],[[0],[0],[0],[0],[0]]]])\n"
   ]
  },
  {
   "cell_type": "markdown",
   "id": "5c1d52a1-c525-458e-9ac6-19fefbc6d274",
   "metadata": {},
   "source": [
    "### Normalizing Kernel"
   ]
  },
  {
   "cell_type": "code",
   "execution_count": 9,
   "id": "17d7add9-492b-4e78-be36-36ce9cb1636b",
   "metadata": {},
   "outputs": [],
   "source": [
    "kernel_array = kernel_array_raw/np.sum(kernel_array_raw)"
   ]
  },
  {
   "cell_type": "markdown",
   "id": "0a13f624-a078-4d7d-9d54-bc74110cf536",
   "metadata": {},
   "source": [
    "### Interpolating Kernel"
   ]
  },
  {
   "cell_type": "code",
   "execution_count": 10,
   "id": "ae9064fc-5918-448f-ba6f-6c105e4a6793",
   "metadata": {},
   "outputs": [],
   "source": [
    "# still need to normalize kernel\n",
    "x = np.linspace(0,len(kernel_array)-1,len(kernel_array))\n",
    "y = np.linspace(0,len(kernel_array[0])-1,len(kernel_array[0]))\n",
    "z = np.linspace(0,len(kernel_array[0][0])-1,len(kernel_array[0][0]))\n",
    "\n",
    "kernel_func = interpolate.RegularGridInterpolator((x,y,z),kernel_array,bounds_error=False,fill_value=0)"
   ]
  },
  {
   "cell_type": "markdown",
   "id": "33566b1b-e7cf-46c9-8369-62b32f6d4c83",
   "metadata": {},
   "source": [
    "### Finding Center of Kernel\n",
    "*NOTE: Kernels will be forced to interact in the centre and will be an odd number of voxels.*"
   ]
  },
  {
   "cell_type": "code",
   "execution_count": 11,
   "id": "c69df087-68e9-409f-9576-c75db4bc41e2",
   "metadata": {},
   "outputs": [],
   "source": [
    "center_coor = (int(np.floor(len(kernel_array)/2)),int(np.floor(len(kernel_array[0])/2)),int(np.floor(len(kernel_array[0][0])/2)))\n"
   ]
  },
  {
   "cell_type": "markdown",
   "id": "b0d50753-5b26-4378-b8d7-d88d0e70a377",
   "metadata": {},
   "source": [
    "### Information Needed for Kernel"
   ]
  },
  {
   "cell_type": "code",
   "execution_count": 12,
   "id": "3456f276-5246-4480-9b61-f042a9b1330e",
   "metadata": {},
   "outputs": [],
   "source": [
    "'''\n",
    "Parameters\n",
    "'''\n",
    "# size of kernel in cm\n",
    "xsize = 60\n",
    "ysize = 60\n",
    "zsize = 60\n",
    "\n",
    "'''\n",
    "Creating Info Dictionary\n",
    "'''\n",
    "kernel_info = {}\n",
    "kernel_info['x'] = {}\n",
    "kernel_info['y'] = {}\n",
    "kernel_info['z'] = {}\n",
    "\n",
    "kernel_info['x']['bins'] = len(kernel_array)\n",
    "kernel_info['y']['bins'] = len(kernel_array[0])\n",
    "kernel_info['z']['bins'] = len(kernel_array[0][0])\n",
    "\n",
    "kernel_info['x']['size'] = xsize\n",
    "kernel_info['y']['size'] = ysize\n",
    "kernel_info['z']['size'] = zsize\n",
    "\n",
    "kernel_info['x']['voxel_size'] = kernel_info['x']['size']/kernel_info['x']['bins']\n",
    "kernel_info['y']['voxel_size'] = kernel_info['y']['size']/kernel_info['y']['bins']\n",
    "kernel_info['z']['voxel_size'] = kernel_info['z']['size']/kernel_info['z']['bins']"
   ]
  },
  {
   "cell_type": "code",
   "execution_count": 13,
   "id": "6ece18cd-7cf7-482c-b0ae-67da2f0316a4",
   "metadata": {},
   "outputs": [
    {
     "data": {
      "text/plain": [
       "{'x': {'bins': 100, 'size': 60, 'voxel_size': 0.6},\n",
       " 'y': {'bins': 100, 'size': 60, 'voxel_size': 0.6},\n",
       " 'z': {'bins': 100, 'size': 60, 'voxel_size': 0.6}}"
      ]
     },
     "execution_count": 13,
     "metadata": {},
     "output_type": "execute_result"
    }
   ],
   "source": [
    "kernel_info"
   ]
  },
  {
   "cell_type": "markdown",
   "id": "b5bf1926-3124-4beb-837c-e12e5138d8dc",
   "metadata": {},
   "source": [
    "### Put it All Together"
   ]
  },
  {
   "cell_type": "code",
   "execution_count": null,
   "id": "9efb3462-4237-45a0-bab6-ed6afc080810",
   "metadata": {},
   "outputs": [],
   "source": [
    "def Superposition():\n",
    "    '''\n",
    "    '''\n",
    "    "
   ]
  },
  {
   "cell_type": "code",
   "execution_count": 21,
   "id": "1386f857-774c-448e-9d03-6a609e85f8f4",
   "metadata": {},
   "outputs": [
    {
     "name": "stdout",
     "output_type": "stream",
     "text": [
      "(1.0, 1.0, 1.0) 9.374720986839532e-05\n",
      "(1.0, 1.0, 2.0) 9.374720986839532e-05\n",
      "(1.0, 2.0, 1.0) 0.00035603452400686603\n",
      "(1.0, 2.0, 2.0) 0.00035603452400686603\n",
      "(1.0, 3.0, 1.0) 0.002421131441686662\n",
      "(1.0, 3.0, 2.0) 0.002421131441686662\n",
      "(2.0, 1.0, 1.0) 9.082869695838694e-05\n",
      "(2.0, 1.0, 2.0) 9.082869695838694e-05\n",
      "(2.0, 2.0, 1.0) 0.0003566520160520591\n",
      "(2.0, 2.0, 2.0) 0.0003566520160520591\n",
      "(2.0, 3.0, 1.0) 0.0024095785751002833\n",
      "(2.0, 3.0, 2.0) 0.0024095785751002833\n",
      "(3.0, 1.0, 1.0) 8.791018404837856e-05\n",
      "(3.0, 1.0, 2.0) 8.791018404837856e-05\n",
      "(3.0, 2.0, 1.0) 0.00035726950809725216\n",
      "(3.0, 2.0, 2.0) 0.00035726950809725216\n",
      "(3.0, 3.0, 1.0) 0.002398025708513904\n",
      "(3.0, 3.0, 2.0) 0.002398025708513904\n",
      "(4.0, 1.0, 1.0) 8.499167113837004e-05\n",
      "(4.0, 1.0, 2.0) 8.499167113837004e-05\n",
      "(4.0, 2.0, 1.0) 0.0003578870001424453\n",
      "(4.0, 2.0, 2.0) 0.0003578870001424453\n",
      "(4.0, 3.0, 1.0) 0.002386472841927525\n",
      "(4.0, 3.0, 2.0) 0.002386472841927525\n",
      "(1.0, 1.0, 1.0) 9.082869695838694e-05\n",
      "(1.0, 1.0, 2.0) 9.082869695838694e-05\n",
      "(1.0, 2.0, 1.0) 0.0003566520160520591\n",
      "(1.0, 2.0, 2.0) 0.0003566520160520591\n",
      "(1.0, 3.0, 1.0) 0.0024095785751002833\n",
      "(1.0, 3.0, 2.0) 0.0024095785751002833\n",
      "(2.0, 1.0, 1.0) 8.791018404837856e-05\n",
      "(2.0, 1.0, 2.0) 8.791018404837856e-05\n",
      "(2.0, 2.0, 1.0) 0.00035726950809725216\n",
      "(2.0, 2.0, 2.0) 0.00035726950809725216\n",
      "(2.0, 3.0, 1.0) 0.002398025708513904\n",
      "(2.0, 3.0, 2.0) 0.002398025708513904\n",
      "(3.0, 1.0, 1.0) 8.499167113837004e-05\n",
      "(3.0, 1.0, 2.0) 8.499167113837004e-05\n",
      "(3.0, 2.0, 1.0) 0.0003578870001424453\n",
      "(3.0, 2.0, 2.0) 0.0003578870001424453\n",
      "(3.0, 3.0, 1.0) 0.002386472841927525\n",
      "(3.0, 3.0, 2.0) 0.002386472841927525\n",
      "(4.0, 1.0, 1.0) 8.207315822836167e-05\n",
      "(4.0, 1.0, 2.0) 8.207315822836167e-05\n",
      "(4.0, 2.0, 1.0) 0.0003585044921876384\n",
      "(4.0, 2.0, 2.0) 0.0003585044921876384\n",
      "(4.0, 3.0, 1.0) 0.002374919975341146\n",
      "(4.0, 3.0, 2.0) 0.002374919975341146\n",
      "(1.0, 1.0, 1.0) 8.791018404837856e-05\n",
      "(1.0, 1.0, 2.0) 8.791018404837856e-05\n",
      "(1.0, 2.0, 1.0) 0.00035726950809725216\n",
      "(1.0, 2.0, 2.0) 0.00035726950809725216\n",
      "(1.0, 3.0, 1.0) 0.002398025708513904\n",
      "(1.0, 3.0, 2.0) 0.002398025708513904\n",
      "(2.0, 1.0, 1.0) 8.499167113837004e-05\n",
      "(2.0, 1.0, 2.0) 8.499167113837004e-05\n",
      "(2.0, 2.0, 1.0) 0.0003578870001424453\n",
      "(2.0, 2.0, 2.0) 0.0003578870001424453\n",
      "(2.0, 3.0, 1.0) 0.002386472841927525\n",
      "(2.0, 3.0, 2.0) 0.002386472841927525\n",
      "(3.0, 1.0, 1.0) 8.207315822836167e-05\n",
      "(3.0, 1.0, 2.0) 8.207315822836167e-05\n",
      "(3.0, 2.0, 1.0) 0.0003585044921876384\n",
      "(3.0, 2.0, 2.0) 0.0003585044921876384\n",
      "(3.0, 3.0, 1.0) 0.002374919975341146\n",
      "(3.0, 3.0, 2.0) 0.002374919975341146\n",
      "(4.0, 1.0, 1.0) 8.40420170229367e-05\n",
      "(4.0, 1.0, 2.0) 8.40420170229367e-05\n",
      "(4.0, 2.0, 1.0) 0.0003479500340220979\n",
      "(4.0, 2.0, 2.0) 0.0003479500340220979\n",
      "(4.0, 3.0, 1.0) 0.0021257184091455503\n",
      "(4.0, 3.0, 2.0) 0.0021257184091455503\n",
      "(1.0, 1.0, 1.0) 8.791018404837856e-05\n",
      "(1.0, 1.0, 2.0) 8.791018404837856e-05\n",
      "(1.0, 2.0, 1.0) 0.00035726950809725216\n",
      "(1.0, 2.0, 2.0) 0.00035726950809725216\n",
      "(1.0, 3.0, 1.0) 0.002398025708513904\n",
      "(1.0, 3.0, 2.0) 0.002398025708513904\n",
      "(2.0, 1.0, 1.0) 8.499167113837004e-05\n",
      "(2.0, 1.0, 2.0) 8.499167113837004e-05\n",
      "(2.0, 2.0, 1.0) 0.0003578870001424453\n",
      "(2.0, 2.0, 2.0) 0.0003578870001424453\n",
      "(2.0, 3.0, 1.0) 0.002386472841927525\n",
      "(2.0, 3.0, 2.0) 0.002386472841927525\n",
      "(3.0, 1.0, 1.0) 8.207315822836167e-05\n",
      "(3.0, 1.0, 2.0) 8.207315822836167e-05\n",
      "(3.0, 2.0, 1.0) 0.0003585044921876384\n",
      "(3.0, 2.0, 2.0) 0.0003585044921876384\n",
      "(3.0, 3.0, 1.0) 0.002374919975341146\n",
      "(3.0, 3.0, 2.0) 0.002374919975341146\n",
      "(4.0, 1.0, 1.0) 8.40420170229367e-05\n",
      "(4.0, 1.0, 2.0) 8.40420170229367e-05\n",
      "(4.0, 2.0, 1.0) 0.0003479500340220979\n",
      "(4.0, 2.0, 2.0) 0.0003479500340220979\n",
      "(4.0, 3.0, 1.0) 0.0021257184091455503\n",
      "(4.0, 3.0, 2.0) 0.0021257184091455503\n"
     ]
    }
   ],
   "source": [
    "# print(voxel)\n",
    "energy_deposit = []\n",
    "\n",
    "x_voxels = np.linspace(0,Nx-2,Nx-1)\n",
    "y_voxels = np.linspace(0,Ny-2,Ny-1)\n",
    "z_voxels = np.linspace(0,Nz-2,Nz-1)\n",
    "\n",
    "voxel_array = []\n",
    "voxel_array = np.array([[x,y,z] for x in x_voxels for y in y_voxels for z in z_voxels])\n",
    "\n",
    "# for x in x_voxels:\n",
    "#     for y in y_voxels:\n",
    "#         for z in z_voxels:\n",
    "#             voxel_array.append(np.array([x,y,z]))\n",
    "# voxel_array = np.array(voxel_array)\n",
    "\n",
    "voxel_diff = ['','','']\n",
    "first_time = True\n",
    "for voxel_ind in range(len(voxel_info)):\n",
    "    if voxel_info[voxel_ind]['d'] != 0:\n",
    "        for n in range(len(voxel_array)):\n",
    "            voxel_diff[0] = voxel_array[n][0] - voxel_info[voxel_ind]['indices'][0]-1\n",
    "            voxel_diff[1] = voxel_array[n][1] - voxel_info[voxel_ind]['indices'][1]-1\n",
    "            voxel_diff[2] = voxel_array[n][2] - voxel_info[voxel_ind]['indices'][2]-1\n",
    "\n",
    "            if first_time:\n",
    "                energy_deposit.append({})\n",
    "                energy_deposit[n]['indices'] = (voxel_array[n][0]+1,voxel_array[n][1]+1,voxel_array[n][2]+1)\n",
    "                first_time == False\n",
    "\n",
    "            kernel_value = kernel_func((center_coor[0]+voxel_diff[0]*dx/kernel_info['x']['voxel_size'],center_coor[1]+voxel_diff[1]*dy/kernel_info['y']['voxel_size'],center_coor[2]+voxel_diff[1]*dz/kernel_info['z']['voxel_size']))\n",
    "            # still need to figure out TERMA properly\n",
    "            # energy_deposit[n]['energy'] += kernel_value * voxel_info[voxel_ind]['TERMA']\n",
    "        \n",
    "            print(energy_deposit[n]['indices'],kernel_value)\n",
    "\n",
    "    "
   ]
  },
  {
   "cell_type": "code",
   "execution_count": 3,
   "id": "c0b9c446-7685-4e8d-9b03-f2017597ef86",
   "metadata": {},
   "outputs": [
    {
     "data": {
      "text/plain": [
       "\u001b[0;31mSignature:\u001b[0m \u001b[0mp\u001b[0m\u001b[0;34m.\u001b[0m\u001b[0mmap\u001b[0m\u001b[0;34m(\u001b[0m\u001b[0mfunc\u001b[0m\u001b[0;34m,\u001b[0m \u001b[0miterable\u001b[0m\u001b[0;34m,\u001b[0m \u001b[0mchunksize\u001b[0m\u001b[0;34m=\u001b[0m\u001b[0;32mNone\u001b[0m\u001b[0;34m)\u001b[0m\u001b[0;34m\u001b[0m\u001b[0;34m\u001b[0m\u001b[0m\n",
       "\u001b[0;31mDocstring:\u001b[0m\n",
       "Apply `func` to each element in `iterable`, collecting the results\n",
       "in a list that is returned.\n",
       "\u001b[0;31mFile:\u001b[0m      /usr/lib/python3.6/multiprocessing/pool.py\n",
       "\u001b[0;31mType:\u001b[0m      method\n"
      ]
     },
     "metadata": {},
     "output_type": "display_data"
    },
    {
     "name": "stderr",
     "output_type": "stream",
     "text": [
      "Process ForkPoolWorker-8:\n",
      "Process ForkPoolWorker-5:\n",
      "Process ForkPoolWorker-6:\n",
      "Process ForkPoolWorker-7:\n",
      "Traceback (most recent call last):\n",
      "Traceback (most recent call last):\n",
      "Traceback (most recent call last):\n",
      "Traceback (most recent call last):\n",
      "  File \"/usr/lib/python3.6/multiprocessing/process.py\", line 258, in _bootstrap\n",
      "    self.run()\n",
      "  File \"/usr/lib/python3.6/multiprocessing/process.py\", line 258, in _bootstrap\n",
      "    self.run()\n",
      "  File \"/usr/lib/python3.6/multiprocessing/process.py\", line 258, in _bootstrap\n",
      "    self.run()\n",
      "  File \"/usr/lib/python3.6/multiprocessing/process.py\", line 258, in _bootstrap\n",
      "    self.run()\n",
      "  File \"/usr/lib/python3.6/multiprocessing/process.py\", line 93, in run\n",
      "    self._target(*self._args, **self._kwargs)\n",
      "  File \"/usr/lib/python3.6/multiprocessing/process.py\", line 93, in run\n",
      "    self._target(*self._args, **self._kwargs)\n",
      "  File \"/usr/lib/python3.6/multiprocessing/process.py\", line 93, in run\n",
      "    self._target(*self._args, **self._kwargs)\n",
      "  File \"/usr/lib/python3.6/multiprocessing/process.py\", line 93, in run\n",
      "    self._target(*self._args, **self._kwargs)\n",
      "  File \"/usr/lib/python3.6/multiprocessing/pool.py\", line 108, in worker\n",
      "    task = get()\n",
      "  File \"/usr/lib/python3.6/multiprocessing/pool.py\", line 108, in worker\n",
      "    task = get()\n",
      "  File \"/usr/lib/python3.6/multiprocessing/pool.py\", line 108, in worker\n",
      "    task = get()\n",
      "  File \"/usr/lib/python3.6/multiprocessing/pool.py\", line 108, in worker\n",
      "    task = get()\n",
      "  File \"/usr/lib/python3.6/multiprocessing/queues.py\", line 334, in get\n",
      "    with self._rlock:\n",
      "  File \"/usr/lib/python3.6/multiprocessing/queues.py\", line 334, in get\n",
      "    with self._rlock:\n",
      "  File \"/usr/lib/python3.6/multiprocessing/queues.py\", line 334, in get\n",
      "    with self._rlock:\n",
      "  File \"/usr/lib/python3.6/multiprocessing/queues.py\", line 335, in get\n",
      "    res = self._reader.recv_bytes()\n",
      "  File \"/usr/lib/python3.6/multiprocessing/synchronize.py\", line 95, in __enter__\n",
      "    return self._semlock.__enter__()\n",
      "  File \"/usr/lib/python3.6/multiprocessing/synchronize.py\", line 95, in __enter__\n",
      "    return self._semlock.__enter__()\n",
      "  File \"/usr/lib/python3.6/multiprocessing/synchronize.py\", line 95, in __enter__\n",
      "    return self._semlock.__enter__()\n",
      "  File \"/usr/lib/python3.6/multiprocessing/connection.py\", line 216, in recv_bytes\n",
      "    buf = self._recv_bytes(maxlength)\n",
      "KeyboardInterrupt\n",
      "KeyboardInterrupt\n",
      "  File \"/usr/lib/python3.6/multiprocessing/connection.py\", line 407, in _recv_bytes\n",
      "    buf = self._recv(4)\n",
      "KeyboardInterrupt\n",
      "  File \"/usr/lib/python3.6/multiprocessing/connection.py\", line 379, in _recv\n",
      "    chunk = read(handle, remaining)\n",
      "KeyboardInterrupt\n"
     ]
    }
   ],
   "source": [
    "from multiprocessing import Pool\n",
    "p = Pool(4)\n",
    "p.map?"
   ]
  }
 ],
 "metadata": {
  "kernelspec": {
   "display_name": "Python 3",
   "language": "python",
   "name": "python3"
  },
  "language_info": {
   "codemirror_mode": {
    "name": "ipython",
    "version": 3
   },
   "file_extension": ".py",
   "mimetype": "text/x-python",
   "name": "python",
   "nbconvert_exporter": "python",
   "pygments_lexer": "ipython3",
   "version": "3.6.9"
  }
 },
 "nbformat": 4,
 "nbformat_minor": 5
}
