{
 "cells": [
  {
   "cell_type": "markdown",
   "id": "b6660bfb-6364-48e6-b855-f164e2133946",
   "metadata": {},
   "source": [
    "# Trying Out Numba"
   ]
  },
  {
   "cell_type": "code",
   "execution_count": 1,
   "id": "812ff113-af32-436b-af83-6d66f9b15ac2",
   "metadata": {},
   "outputs": [],
   "source": [
    "import numba\n",
    "from numba import jit"
   ]
  },
  {
   "cell_type": "code",
   "execution_count": 2,
   "id": "f0eea65f-eb83-44e4-80a2-ec68afefa041",
   "metadata": {},
   "outputs": [
    {
     "name": "stdout",
     "output_type": "stream",
     "text": [
      "CPU times: user 4 µs, sys: 3 µs, total: 7 µs\n",
      "Wall time: 12.4 µs\n"
     ]
    }
   ],
   "source": [
    "%%time\n",
    "n = 100000000\n",
    "\n",
    "def add_a(n):\n",
    "    a = 0\n",
    "    for i in range(n):\n",
    "        a += n\n"
   ]
  },
  {
   "cell_type": "code",
   "execution_count": 3,
   "id": "00d3ca3d-d36c-4ba4-bcc1-2c497457ad28",
   "metadata": {},
   "outputs": [
    {
     "name": "stdout",
     "output_type": "stream",
     "text": [
      "CPU times: user 7.18 s, sys: 884 µs, total: 7.18 s\n",
      "Wall time: 7.2 s\n"
     ]
    }
   ],
   "source": [
    "%%time\n",
    "add_a(n)"
   ]
  },
  {
   "cell_type": "code",
   "execution_count": 4,
   "id": "8e55ca1a-636a-4605-958f-98e0eea09bd7",
   "metadata": {},
   "outputs": [
    {
     "name": "stdout",
     "output_type": "stream",
     "text": [
      "CPU times: user 212 µs, sys: 0 ns, total: 212 µs\n",
      "Wall time: 219 µs\n"
     ]
    }
   ],
   "source": [
    "%%time\n",
    "@jit(nopython=True)\n",
    "def add_a_fast(n):\n",
    "    a = 0\n",
    "    for i in range(n):\n",
    "        a += n"
   ]
  },
  {
   "cell_type": "code",
   "execution_count": 5,
   "id": "dfe3df15-e066-4338-8271-b08974e27851",
   "metadata": {},
   "outputs": [
    {
     "name": "stdout",
     "output_type": "stream",
     "text": [
      "CPU times: user 1.01 s, sys: 1.81 s, total: 2.82 s\n",
      "Wall time: 301 ms\n"
     ]
    }
   ],
   "source": [
    "%%time\n",
    "add_a_fast(n)"
   ]
  }
 ],
 "metadata": {
  "kernelspec": {
   "display_name": "Python 3",
   "language": "python",
   "name": "python3"
  },
  "language_info": {
   "codemirror_mode": {
    "name": "ipython",
    "version": 3
   },
   "file_extension": ".py",
   "mimetype": "text/x-python",
   "name": "python",
   "nbconvert_exporter": "python",
   "pygments_lexer": "ipython3",
   "version": "3.6.9"
  }
 },
 "nbformat": 4,
 "nbformat_minor": 5
}
