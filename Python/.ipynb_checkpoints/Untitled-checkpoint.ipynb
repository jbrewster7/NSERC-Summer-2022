{
 "cells": [
  {
   "cell_type": "code",
   "execution_count": 2,
   "id": "3ddf9142-b99d-435c-9bca-d442a15493d7",
   "metadata": {},
   "outputs": [
    {
     "name": "stdout",
     "output_type": "stream",
     "text": [
      "Populating the interactive namespace from numpy and matplotlib\n"
     ]
    }
   ],
   "source": [
    "%pylab ipympl \n",
    "%load_ext autoreload\n",
    "import siddon as sd\n",
    "import dose_calculator as dc\n",
    "import imshow_slider as ims\n",
    "from topas2numpy import BinnedResult\n",
    "import pickle\n",
    "from scipy import interpolate\n",
    "import spekpy as sp"
   ]
  },
  {
   "cell_type": "markdown",
   "id": "b2f11f32-5619-457a-ad90-4348816c143d",
   "metadata": {},
   "source": [
    "## Testing Dose Three"
   ]
  },
  {
   "cell_type": "code",
   "execution_count": 3,
   "id": "4a358e69-2f72-49aa-87fb-e413e1fc11e6",
   "metadata": {},
   "outputs": [
    {
     "name": "stdout",
     "output_type": "stream",
     "text": [
      "CPU times: user 17.6 s, sys: 708 ms, total: 18.3 s\n",
      "Wall time: 5min 48s\n"
     ]
    }
   ],
   "source": [
    "%%time \n",
    "\n",
    "# for a CT array of (Nx-1,Ny-1,Nz-1) voxels\n",
    "Nx = 51\n",
    "Ny = 51\n",
    "Nz = 51\n",
    "\n",
    "# distances between the x,y,z planes (also the lengths of the sides of the voxels) in cm\n",
    "dx = 0.1\n",
    "dy = 0.1\n",
    "dz = 0.1\n",
    "\n",
    "# initial and final coordinates of the beam\n",
    "x1,x2 = (0,0)\n",
    "y1,y2 = (0,0)\n",
    "z1,z2 = (2.5,-2.5)\n",
    "\n",
    "# adjustment from center \n",
    "adjust = 0.025\n",
    "\n",
    "# initial plane coordinates\n",
    "xplane1 = -2.5\n",
    "yplane1 = -2.5\n",
    "zplane1 = -2.5\n",
    "\n",
    "# beam info and filename\n",
    "beam_energy = 0.120 # in MeV\n",
    "# fluence_0 = 3.183098862 * 10**8 # photon/cm^2\n",
    "# fluence_0 = 2.53 * 10**8 # photon/cm^2\n",
    "fluence_0 = 9.93 * 10**8 # photon/cm^2\n",
    "# filename = 'energy_absorption_coeff.txt'\n",
    "filenames = ['energy_absorption_coeffs.txt','energy_absorption_coeffs_cort_bone.txt']\n",
    "\n",
    "# kernel info\n",
    "kernelname_water = '../Topas/Kernels/WaterKernel13.csv'\n",
    "kernelname_bone = '../Topas/Kernels/BoneKernel1.csv'\n",
    "kernelnames = [kernelname_water,kernelname_bone]\n",
    "# kernelname = '../Topas/RealKernel1.csv'\n",
    "kernel_size = (4,4,4) # cm \n",
    "\n",
    "# effective distance from center of kernel \n",
    "eff_dist = (2,2,2) # cm\n",
    "\n",
    "# making materials array \n",
    "materials = []\n",
    "for i in range(Nx-1):\n",
    "    materials.append([])\n",
    "    for j in range(Ny-1):\n",
    "        materials[i].append([])\n",
    "        for k in range((Nz-1)//2):\n",
    "            materials[i][j].append('b')\n",
    "        for k in range((Nz-1)//2,Nz-1):\n",
    "            materials[i][j].append('w')\n",
    "\n",
    "# number of cores to use\n",
    "num_cores = 16\n",
    "\n",
    "# Siddon((Nx,Ny,Nz),(dx,dy,dz),((x1,x2),(y1,y2),(z1,z2)),(xplane1,yplane1,zplane1),plot=True)\n",
    "# terma = sd.TERMA((Nx,Ny,Nz),(dx,dy,dz),((x1,x2),(y1,y2),(z1,z2)),(xplane1,yplane1,zplane1),[beam_energy],[fluence_0],mu)\n",
    "\n",
    "dose = dc.Dose_Calculator((Nx,Ny,Nz),(dx,dy,dz),[((x1+adjust,x2+adjust),(y1+adjust,y2+adjust),(z1,z2)),((x1-adjust,x2-adjust),(y1+adjust,y2+adjust),(z1,z2)),((x1+adjust,x2+adjust),(y1-adjust,y2-adjust),(z1,z2)),((x1-adjust,x2-adjust),(y1-adjust,y2-adjust),(z1,z2))],(xplane1,yplane1,zplane1),[beam_energy],[fluence_0],filenames,kernelnames,kernel_size,eff_dist,materials,num_cores)"
   ]
  },
  {
   "cell_type": "code",
   "execution_count": 4,
   "id": "4185e21e-0daf-44a2-942f-7a95eccca248",
   "metadata": {},
   "outputs": [],
   "source": [
    "pickle.dump(dose,open('dose3_1.pickle','wb'))"
   ]
  },
  {
   "cell_type": "markdown",
   "id": "655b6cfc-868e-404b-8d01-1b32cb42b104",
   "metadata": {},
   "source": [
    "## Testing Dose Five"
   ]
  },
  {
   "cell_type": "code",
   "execution_count": 5,
   "id": "bfc3f5bc-e926-4701-a84c-ca44c3d17d98",
   "metadata": {},
   "outputs": [
    {
     "name": "stdout",
     "output_type": "stream",
     "text": [
      "CPU times: user 17.6 s, sys: 832 ms, total: 18.4 s\n",
      "Wall time: 5min 43s\n"
     ]
    }
   ],
   "source": [
    "%%time \n",
    "\n",
    "# for a CT array of (Nx-1,Ny-1,Nz-1) voxels\n",
    "Nx = 51\n",
    "Ny = 51\n",
    "Nz = 51\n",
    "\n",
    "# distances between the x,y,z planes (also the lengths of the sides of the voxels) in cm\n",
    "dx = 0.1\n",
    "dy = 0.1\n",
    "dz = 0.1\n",
    "\n",
    "# initial and final coordinates of the beam\n",
    "x1,x2 = (0,0)\n",
    "y1,y2 = (0,0)\n",
    "z1,z2 = (2.5,-2.5)\n",
    "\n",
    "# adjustment from center \n",
    "adjust = 0.025\n",
    "\n",
    "# initial plane coordinates\n",
    "xplane1 = -2.5\n",
    "yplane1 = -2.5\n",
    "zplane1 = -2.5\n",
    "\n",
    "# beam info and filename\n",
    "beam_energy = 0.120 # in MeV\n",
    "# fluence_0 = 3.183098862 * 10**8 # photon/cm^2\n",
    "# fluence_0 = 2.53 * 10**8 # photon/cm^2\n",
    "fluence_0 = 9.93 * 10**8 # photon/cm^2\n",
    "# filename = 'energy_absorption_coeff.txt'\n",
    "filenames = ['energy_absorption_coeffs.txt','energy_absorption_coeffs_cort_bone.txt']\n",
    "\n",
    "# kernel info\n",
    "kernelname_water = '../Topas/Kernels/WaterKernel13.csv'\n",
    "kernelname_bone = '../Topas/Kernels/BoneKernel1.csv'\n",
    "kernelnames = [kernelname_water,kernelname_bone]\n",
    "# kernelname = '../Topas/RealKernel1.csv'\n",
    "kernel_size = (4,4,4) # cm \n",
    "\n",
    "# effective distance from center of kernel \n",
    "eff_dist = (2,2,2) # cm\n",
    "\n",
    "# making materials array \n",
    "materials = []\n",
    "for i in range(Nx-1):\n",
    "    materials.append([])\n",
    "    for j in range(Ny-1):\n",
    "        materials[i].append([])\n",
    "        for k in range(Nz-1):\n",
    "            materials[i][j].append('b')\n",
    "\n",
    "# number of cores to use\n",
    "num_cores = 16\n",
    "\n",
    "# Siddon((Nx,Ny,Nz),(dx,dy,dz),((x1,x2),(y1,y2),(z1,z2)),(xplane1,yplane1,zplane1),plot=True)\n",
    "# terma = sd.TERMA((Nx,Ny,Nz),(dx,dy,dz),((x1,x2),(y1,y2),(z1,z2)),(xplane1,yplane1,zplane1),[beam_energy],[fluence_0],mu)\n",
    "\n",
    "dose = dc.Dose_Calculator((Nx,Ny,Nz),(dx,dy,dz),[((x1+adjust,x2+adjust),(y1+adjust,y2+adjust),(z1,z2)),((x1-adjust,x2-adjust),(y1+adjust,y2+adjust),(z1,z2)),((x1+adjust,x2+adjust),(y1-adjust,y2-adjust),(z1,z2)),((x1-adjust,x2-adjust),(y1-adjust,y2-adjust),(z1,z2))],(xplane1,yplane1,zplane1),[beam_energy],[fluence_0],filenames,kernelnames,kernel_size,eff_dist,materials,num_cores)"
   ]
  },
  {
   "cell_type": "code",
   "execution_count": 7,
   "id": "e74a6cbd-7b3a-484f-a610-6ebb5bd16527",
   "metadata": {},
   "outputs": [],
   "source": [
    "pickle.dump(dose,open('dose5_1.pickle','wb'))"
   ]
  }
 ],
 "metadata": {
  "kernelspec": {
   "display_name": "Python 3",
   "language": "python",
   "name": "python3"
  },
  "language_info": {
   "codemirror_mode": {
    "name": "ipython",
    "version": 3
   },
   "file_extension": ".py",
   "mimetype": "text/x-python",
   "name": "python",
   "nbconvert_exporter": "python",
   "pygments_lexer": "ipython3",
   "version": "3.6.9"
  }
 },
 "nbformat": 4,
 "nbformat_minor": 5
}
