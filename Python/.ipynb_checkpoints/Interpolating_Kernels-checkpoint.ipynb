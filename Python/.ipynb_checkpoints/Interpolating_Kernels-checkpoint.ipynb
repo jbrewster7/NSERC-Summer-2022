{
 "cells": [
  {
   "cell_type": "markdown",
   "id": "fa8ba78b-604f-4689-9859-fc0c12916905",
   "metadata": {},
   "source": [
    "# Interpolating Kernels"
   ]
  },
  {
   "cell_type": "code",
   "execution_count": 2,
   "id": "0c782ce3-500f-4a0f-9984-3149342dbaad",
   "metadata": {},
   "outputs": [
    {
     "name": "stdout",
     "output_type": "stream",
     "text": [
      "Populating the interactive namespace from numpy and matplotlib\n"
     ]
    }
   ],
   "source": [
    "%pylab ipympl\n",
    "from scipy import interpolate \n",
    "from topas2numpy import BinnedResult"
   ]
  },
  {
   "cell_type": "code",
   "execution_count": 15,
   "id": "d84a1def-2b8e-4924-a246-575bf404c612",
   "metadata": {},
   "outputs": [],
   "source": [
    "# interpolate.RegularGridInterpolator?"
   ]
  },
  {
   "cell_type": "code",
   "execution_count": 29,
   "id": "078d448d-b91f-445f-ad1e-de3196be4448",
   "metadata": {},
   "outputs": [
    {
     "data": {
      "text/plain": [
       "(6, 7, 8)"
      ]
     },
     "execution_count": 29,
     "metadata": {},
     "output_type": "execute_result"
    }
   ],
   "source": [
    "a = BinnedResult('pytest.csv').data['Sum']\n",
    "shape(a)"
   ]
  },
  {
   "cell_type": "code",
   "execution_count": 35,
   "id": "4f3e864f-a1bb-47a5-9d2e-993accf6a2a3",
   "metadata": {},
   "outputs": [
    {
     "data": {
      "text/plain": [
       "array([0.02623263])"
      ]
     },
     "execution_count": 35,
     "metadata": {},
     "output_type": "execute_result"
    }
   ],
   "source": [
    "x = linspace(0,len(a)-1,len(a))\n",
    "y = linspace(0,len(a[0])-1,len(a[0]))\n",
    "z = linspace(0,len(a[0][0])-1,len(a[0][0]))\n",
    "\n",
    "func = interpolate.RegularGridInterpolator((x,y,z),a)\n",
    "\n",
    "func(array([5,2,4]))"
   ]
  }
 ],
 "metadata": {
  "kernelspec": {
   "display_name": "Python 3",
   "language": "python",
   "name": "python3"
  },
  "language_info": {
   "codemirror_mode": {
    "name": "ipython",
    "version": 3
   },
   "file_extension": ".py",
   "mimetype": "text/x-python",
   "name": "python",
   "nbconvert_exporter": "python",
   "pygments_lexer": "ipython3",
   "version": "3.6.9"
  }
 },
 "nbformat": 4,
 "nbformat_minor": 5
}
