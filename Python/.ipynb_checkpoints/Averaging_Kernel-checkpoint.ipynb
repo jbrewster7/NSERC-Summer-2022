{
 "cells": [
  {
   "cell_type": "markdown",
   "id": "bf137ac5-b164-4db1-93f2-e2e6ce817379",
   "metadata": {},
   "source": [
    "## Averaging the interaction zones of kernels"
   ]
  },
  {
   "cell_type": "code",
   "execution_count": 33,
   "id": "010877a4-7396-4d22-92ae-13880843fec9",
   "metadata": {},
   "outputs": [
    {
     "name": "stdout",
     "output_type": "stream",
     "text": [
      "Populating the interactive namespace from numpy and matplotlib\n"
     ]
    },
    {
     "name": "stderr",
     "output_type": "stream",
     "text": [
      "/usr/local/lib/python3.6/dist-packages/IPython/core/magics/pylab.py:160: UserWarning: pylab import has clobbered these variables: ['maximum', 'average', 'size']\n",
      "`%matplotlib` prevents importing * from pylab and numpy\n",
      "  \"\\n`%matplotlib` prevents importing * from pylab and numpy\"\n"
     ]
    }
   ],
   "source": [
    "%pylab ipympl \n",
    "from topas2numpy import BinnedResult"
   ]
  },
  {
   "cell_type": "code",
   "execution_count": 34,
   "id": "b55fcaec-14e3-403e-9b8b-8a2d61bca3e8",
   "metadata": {},
   "outputs": [],
   "source": [
    "kernel_name = '../Topas/Kernels/WaterKernel5.csv'\n",
    "new_kernel_name = '../Topas/Kernels/WaterKernel6.csv'\n",
    "\n",
    "# start and end of the interaction zone \n",
    "min_voxel,max_voxel = (47,51)\n",
    "\n",
    "# number of lines to skip \n",
    "skip = 8"
   ]
  },
  {
   "cell_type": "code",
   "execution_count": 35,
   "id": "4b6dac8c-ab9f-41da-8150-6d9f20f4ebf0",
   "metadata": {},
   "outputs": [],
   "source": [
    "kernel_array = BinnedResult(kernel_name).data['Sum']\n",
    "\n",
    "interaction_zone = []\n",
    "for j in kernel_array[min_voxel:max_voxel+1]:\n",
    "    for k in j[min_voxel:max_voxel+1]:\n",
    "        interaction_zone.append(k[min_voxel:max_voxel+1])\n",
    "interaction_zone = np.array(interaction_zone)\n",
    "average = np.mean(interaction_zone)\n",
    "maximum = np.max(interaction_zone)"
   ]
  },
  {
   "cell_type": "code",
   "execution_count": 4,
   "id": "7ff497ed-1c5f-4ed2-be72-d24f36697d21",
   "metadata": {},
   "outputs": [],
   "source": [
    "file = open(kernel_name,'r')\n",
    "\n",
    "lines = file.readlines()\n",
    "\n",
    "file.close()"
   ]
  },
  {
   "cell_type": "code",
   "execution_count": 36,
   "id": "4e85e64c-1263-4bf3-b88e-b9b881c23e92",
   "metadata": {},
   "outputs": [],
   "source": [
    "size = round(cbrt(len(lines)-skip))\n",
    "\n",
    "xlines = lines[skip:][size**2*min_voxel:size**2*(max_voxel+1)]\n",
    "\n",
    "for i in range(min_voxel,max_voxel+1):\n",
    "    for j in range(min_voxel,max_voxel+1):\n",
    "        for k in range(min_voxel,max_voxel+1):\n",
    "            lines[size**2*i+size*j+k+skip] = lines[skip:][size**2*i+size*j+k][:lines[skip:][size**2*i+size*j+k].rfind(',')+1] + ' ' + str(maximum) + '\\n'\n",
    "            # print(lines[skip:][size**2*i+size*j+k])\n"
   ]
  },
  {
   "cell_type": "code",
   "execution_count": 37,
   "id": "f22d34c1-48c5-4510-aaf2-433d0e673544",
   "metadata": {},
   "outputs": [],
   "source": [
    "file = open(new_kernel_name,'w')\n",
    "\n",
    "for line in lines:\n",
    "    file.write(line)\n",
    "\n",
    "file.close()"
   ]
  }
 ],
 "metadata": {
  "kernelspec": {
   "display_name": "Python 3",
   "language": "python",
   "name": "python3"
  },
  "language_info": {
   "codemirror_mode": {
    "name": "ipython",
    "version": 3
   },
   "file_extension": ".py",
   "mimetype": "text/x-python",
   "name": "python",
   "nbconvert_exporter": "python",
   "pygments_lexer": "ipython3",
   "version": "3.6.9"
  }
 },
 "nbformat": 4,
 "nbformat_minor": 5
}
