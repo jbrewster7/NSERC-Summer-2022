{
 "cells": [
  {
   "cell_type": "markdown",
   "id": "900f6f7d-7efa-4bdb-a667-f8578f013799",
   "metadata": {
    "tags": []
   },
   "source": [
    "# Testing Dose Calculator Function\n",
    "I'll do initial testing stuff and miscellaneous things here and then add them into `dose_calculator_tests.py`."
   ]
  },
  {
   "cell_type": "code",
   "execution_count": 1,
   "id": "5869feba-5ea0-48bf-93af-26a8f32eed41",
   "metadata": {},
   "outputs": [
    {
     "name": "stdout",
     "output_type": "stream",
     "text": [
      "Populating the interactive namespace from numpy and matplotlib\n"
     ]
    }
   ],
   "source": [
    "%pylab ipympl \n",
    "%load_ext autoreload\n",
    "import siddon as sd\n",
    "import dose_calculator as dc\n",
    "import imshow_slider as ims\n",
    "from topas2numpy import BinnedResult\n",
    "import pickle\n",
    "from scipy import interpolate\n",
    "import spekpy as sp"
   ]
  },
  {
   "cell_type": "markdown",
   "id": "e1b15e18-7a5c-4b26-ad2a-8b453873abe9",
   "metadata": {
    "tags": []
   },
   "source": [
    "## Testing Dose One\n",
    "This is a 120 keV monoenergetic pencil beam in an ellipse shape moving from positive to negative z. The medium is a 5cm x 5cm x 5cm block with 50 voxels in each axis."
   ]
  },
  {
   "cell_type": "code",
   "execution_count": 5,
   "id": "8529847d-bbd1-498c-9190-8fe7d195c38f",
   "metadata": {},
   "outputs": [
    {
     "name": "stdout",
     "output_type": "stream",
     "text": [
      "Calling Superposition\n",
      "Kernel Interpolated\n",
      "0\n",
      "1\n",
      "2\n",
      "3\n",
      "CPU times: user 2min 20s, sys: 21.6 s, total: 2min 42s\n",
      "Wall time: 7min 20s\n"
     ]
    }
   ],
   "source": [
    "%%time \n",
    "\n",
    "# for a CT array of (Nx-1,Ny-1,Nz-1) voxels\n",
    "Nx = 51\n",
    "Ny = 51\n",
    "Nz = 51\n",
    "\n",
    "# distances between the x,y,z planes (also the lengths of the sides of the voxels) in cm\n",
    "dx = 0.1\n",
    "dy = 0.1\n",
    "dz = 0.1\n",
    "\n",
    "# initial and final coordinates of the beam\n",
    "x1,x2 = (0,0)\n",
    "y1,y2 = (0,0)\n",
    "z1,z2 = (2.5,-2.5)\n",
    "\n",
    "# adjustment from center \n",
    "adjust = 0.025\n",
    "\n",
    "# initial plane coordinates\n",
    "xplane1 = -2.5\n",
    "yplane1 = -2.5\n",
    "zplane1 = -2.5\n",
    "\n",
    "# beam info and filename\n",
    "beam_energy = 0.120 # in MeV\n",
    "fluence_0 = 3.183098862 * 10**10 # photon/cm^2\n",
    "# fluence_0 = 9.93 * 10**8 # photon/cm^2\n",
    "filenames = ['energy_absorption_coeffs.txt','energy_absorption_coeffs_cort_bone.txt']\n",
    "\n",
    "# kernel info\n",
    "kernelname_water = '../Topas/Kernels/WaterKernel13.csv'\n",
    "kernelname_bone = '../Topas/Kernels/BoneKernel3.csv'\n",
    "kernelnames = [kernelname_water,kernelname_bone]\n",
    "# kernelname = '../Topas/RealKernel1.csv'\n",
    "kernel_size = (4,4,4) # cm \n",
    "\n",
    "# effective distance from center of kernel \n",
    "eff_dist = (2,2,2) # cm\n",
    "\n",
    "# making materials array \n",
    "materials = []\n",
    "for i in range(Nx-1):\n",
    "    materials.append([])\n",
    "    for j in range(Ny-1):\n",
    "        materials[i].append([])\n",
    "        for k in range(Nz-1):\n",
    "            materials[i][j].append('w')\n",
    "\n",
    "# number of cores to use\n",
    "num_cores = 16\n",
    "\n",
    "# Siddon((Nx,Ny,Nz),(dx,dy,dz),((x1,x2),(y1,y2),(z1,z2)),(xplane1,yplane1,zplane1),plot=True)\n",
    "# terma = sd.TERMA((Nx,Ny,Nz),(dx,dy,dz),((x1,x2),(y1,y2),(z1,z2)),(xplane1,yplane1,zplane1),[beam_energy],[fluence_0],mu)\n",
    "\n",
    "dose = dc.Dose_Calculator((Nx,Ny,Nz),(dx,dy,dz),[((x1+adjust,x2+adjust),(y1+adjust,y2+adjust),(z1,z2)),((x1-adjust,x2-adjust),(y1+adjust,y2+adjust),(z1,z2)),((x1+adjust,x2+adjust),(y1-adjust,y2-adjust),(z1,z2)),((x1-adjust,x2-adjust),(y1-adjust,y2-adjust),(z1,z2))],(xplane1,yplane1,zplane1),[beam_energy],[fluence_0],filenames,kernelnames,kernel_size,eff_dist,materials,num_cores)\n"
   ]
  },
  {
   "cell_type": "code",
   "execution_count": 4,
   "id": "75a1ccfb-0144-47f8-9892-088d61e77c28",
   "metadata": {},
   "outputs": [],
   "source": [
    "with 16 \"cores\":\n",
    "CPU times: user 9.09 s, sys: 1.1 s, total: 10.2 s\n",
    "Wall time: 13min 36s"
   ]
  },
  {
   "cell_type": "code",
   "execution_count": 7,
   "id": "ae4c066d-cd48-4345-ab62-3c6115cd581c",
   "metadata": {},
   "outputs": [],
   "source": [
    "pickle.dump(dose,open('dose_38.pickle','wb'))"
   ]
  },
  {
   "cell_type": "markdown",
   "id": "2fbc050a-8bd1-4873-a7b0-4da4f461bf88",
   "metadata": {},
   "source": [
    "## Testing Dose Two\n"
   ]
  },
  {
   "cell_type": "code",
   "execution_count": 2,
   "id": "6e64aef1-c300-491b-9f0a-e7e65064ac4f",
   "metadata": {},
   "outputs": [],
   "source": [
    "s = sp.Spek(kvp=120,th=12) # Generate a spectrum (80 kV, 12 degree tube angle)\n",
    "s.filter('Al', 4.0) # Filter by 4 mm of Al\n",
    "\n",
    "hvl = s.get_hvl1() # Get the 1st HVL in mm Al\n",
    "\n",
    "# print(hvl) # Print out the HVL value (Python3 syntax)\n",
    "\n",
    "beam_energy,fluence_0 = s.get_spectrum()\n",
    "beam_energy = beam_energy/1000"
   ]
  },
  {
   "cell_type": "code",
   "execution_count": 3,
   "id": "0a677621-4bcf-4eb1-abf3-c28082fcfa1e",
   "metadata": {},
   "outputs": [
    {
     "data": {
      "text/plain": [
       "238"
      ]
     },
     "execution_count": 3,
     "metadata": {},
     "output_type": "execute_result"
    }
   ],
   "source": [
    "# for fluence in fluence_0:\n",
    "#     print(fluence/sum(fluence_0),end=' ')\n",
    "len(beam_energy)"
   ]
  },
  {
   "cell_type": "code",
   "execution_count": 4,
   "id": "9eaf59d5-eeea-4c5f-bd24-b3667bf8fc27",
   "metadata": {},
   "outputs": [
    {
     "name": "stdout",
     "output_type": "stream",
     "text": [
      "CPU times: user 9.15 s, sys: 1.01 s, total: 10.2 s\n",
      "Wall time: 12min 17s\n"
     ]
    }
   ],
   "source": [
    "%%time \n",
    "\n",
    "# for a CT array of (Nx-1,Ny-1,Nz-1) voxels\n",
    "Nx = 51\n",
    "Ny = 51\n",
    "Nz = 51\n",
    "\n",
    "# distances between the x,y,z planes (also the lengths of the sides of the voxels) in cm\n",
    "dx = 0.1\n",
    "dy = 0.1\n",
    "dz = 0.1\n",
    "\n",
    "# initial and final coordinates of the beam\n",
    "x1,x2 = (0,0)\n",
    "y1,y2 = (0,0)\n",
    "z1,z2 = (2.5,-2.5)\n",
    "\n",
    "# adjustment from center \n",
    "adjust = 0.025\n",
    "\n",
    "# initial plane coordinates\n",
    "xplane1 = -2.5\n",
    "yplane1 = -2.5\n",
    "zplane1 = -2.5\n",
    "\n",
    "# beam info and filename\n",
    "filename = 'energy_absorption_coeffs.txt'\n",
    "\n",
    "# kernel info\n",
    "kernelname = '../Topas/RealKernel1.csv'\n",
    "kernel_size = (2,2,2) # cm \n",
    "\n",
    "# effective distance from center of kernel \n",
    "eff_dist = (0.1,0.1,0.1) # cm\n",
    "\n",
    "# number of cores to use\n",
    "num_cores = 16\n",
    "\n",
    "# Siddon((Nx,Ny,Nz),(dx,dy,dz),((x1,x2),(y1,y2),(z1,z2)),(xplane1,yplane1,zplane1),plot=True)\n",
    "# terma = sd.TERMA((Nx,Ny,Nz),(dx,dy,dz),((x1,x2),(y1,y2),(z1,z2)),(xplane1,yplane1,zplane1),[beam_energy],[fluence_0],mu)\n",
    "\n",
    "dose = sd.Dose_Calculator((Nx,Ny,Nz),(dx,dy,dz),[((x1+adjust,x2+adjust),(y1+adjust,y2+adjust),(z1,z2)),((x1-adjust,x2-adjust),(y1+adjust,y2+adjust),(z1,z2)),((x1+adjust,x2+adjust),(y1-adjust,y2-adjust),(z1,z2)),((x1-adjust,x2-adjust),(y1-adjust,y2-adjust),(z1,z2))],(xplane1,yplane1,zplane1),beam_energy,fluence_0,filename,kernelname,kernel_size,eff_dist,num_cores)\n"
   ]
  },
  {
   "cell_type": "code",
   "execution_count": 5,
   "id": "027a44a4-ca2a-4f88-b452-004df5f22586",
   "metadata": {},
   "outputs": [],
   "source": [
    "pickle.dump(dose,open('dosetest2_1.pickle','wb'))"
   ]
  },
  {
   "cell_type": "markdown",
   "id": "a40052eb-acf1-4ca6-8f93-8505641f35f2",
   "metadata": {},
   "source": [
    "## Testing Dose Three"
   ]
  },
  {
   "cell_type": "code",
   "execution_count": 2,
   "id": "8a9178c4-ff1e-43f1-8652-42a3ec55bac4",
   "metadata": {},
   "outputs": [
    {
     "name": "stdout",
     "output_type": "stream",
     "text": [
      "Calling Superposition\n",
      "Kernel Interpolated\n",
      "0\n",
      "1\n",
      "2\n",
      "3\n",
      "CPU times: user 2min 22s, sys: 23.5 s, total: 2min 45s\n",
      "Wall time: 7min 57s\n"
     ]
    }
   ],
   "source": [
    "%%time \n",
    "\n",
    "# for a CT array of (Nx-1,Ny-1,Nz-1) voxels\n",
    "Nx = 51\n",
    "Ny = 51\n",
    "Nz = 51\n",
    "\n",
    "# distances between the x,y,z planes (also the lengths of the sides of the voxels) in cm\n",
    "dx = 0.1\n",
    "dy = 0.1\n",
    "dz = 0.1\n",
    "\n",
    "# initial and final coordinates of the beam\n",
    "x1,x2 = (0,0)\n",
    "y1,y2 = (0,0)\n",
    "z1,z2 = (2.5,-2.5)\n",
    "\n",
    "# adjustment from center \n",
    "adjust = 0.025\n",
    "\n",
    "# initial plane coordinates\n",
    "xplane1 = -2.5\n",
    "yplane1 = -2.5\n",
    "zplane1 = -2.5\n",
    "\n",
    "# beam info and filename\n",
    "beam_energy = 0.120 # in MeV\n",
    "# fluence_0 = 3.183098862 * 10**8 # photon/cm^2\n",
    "# fluence_0 = 2.53 * 10**8 # photon/cm^2\n",
    "fluence_0 = 9.93 * 10**8 # photon/cm^2\n",
    "# filename = 'energy_absorption_coeff.txt'\n",
    "filenames = ['energy_absorption_coeffs.txt','energy_absorption_coeffs_cort_bone.txt']\n",
    "\n",
    "# kernel info\n",
    "kernelname_water = '../Topas/Kernels/WaterKernel13.csv'\n",
    "kernelname_bone = '../Topas/Kernels/BoneKernel3.csv'\n",
    "kernelnames = [kernelname_water,kernelname_bone]\n",
    "# kernelname = '../Topas/RealKernel1.csv'\n",
    "kernel_size = (4,4,4) # cm \n",
    "\n",
    "# effective distance from center of kernel \n",
    "eff_dist = (2,2,2) # cm\n",
    "\n",
    "# making materials array \n",
    "materials = []\n",
    "for i in range(Nx-1):\n",
    "    materials.append([])\n",
    "    for j in range(Ny-1):\n",
    "        materials[i].append([])\n",
    "        for k in range((Nz-1)//2):\n",
    "            materials[i][j].append('b')\n",
    "        for k in range((Nz-1)//2,Nz-1):\n",
    "            materials[i][j].append('w')\n",
    "\n",
    "# number of cores to use\n",
    "num_cores = 16\n",
    "\n",
    "# Siddon((Nx,Ny,Nz),(dx,dy,dz),((x1,x2),(y1,y2),(z1,z2)),(xplane1,yplane1,zplane1),plot=True)\n",
    "# terma = sd.TERMA((Nx,Ny,Nz),(dx,dy,dz),((x1,x2),(y1,y2),(z1,z2)),(xplane1,yplane1,zplane1),[beam_energy],[fluence_0],mu)\n",
    "\n",
    "dose = dc.Dose_Calculator((Nx,Ny,Nz),(dx,dy,dz),[((x1+adjust,x2+adjust),(y1+adjust,y2+adjust),(z1,z2)),((x1-adjust,x2-adjust),(y1+adjust,y2+adjust),(z1,z2)),((x1+adjust,x2+adjust),(y1-adjust,y2-adjust),(z1,z2)),((x1-adjust,x2-adjust),(y1-adjust,y2-adjust),(z1,z2))],(xplane1,yplane1,zplane1),[beam_energy],[fluence_0],filenames,kernelnames,kernel_size,eff_dist,materials,num_cores)\n"
   ]
  },
  {
   "cell_type": "code",
   "execution_count": 4,
   "id": "76d00927-745f-4687-8f33-988424fa4ffd",
   "metadata": {},
   "outputs": [],
   "source": [
    "pickle.dump(dose,open('dose3_4.pickle','wb'))"
   ]
  },
  {
   "cell_type": "markdown",
   "id": "63cba315-892e-4d38-a07d-45074d7a5255",
   "metadata": {},
   "source": [
    "## Testing Dose Four"
   ]
  },
  {
   "cell_type": "code",
   "execution_count": null,
   "id": "8a3a9df4-1fbf-4c08-8fe8-2ccc743b7bb6",
   "metadata": {},
   "outputs": [
    {
     "name": "stdout",
     "output_type": "stream",
     "text": [
      "Calling Superposition\n",
      "Kernel Interpolated\n",
      "0\n",
      "1\n",
      "2\n",
      "3\n",
      "4\n",
      "5\n",
      "6\n",
      "7\n",
      "8\n",
      "9\n",
      "10\n",
      "11\n",
      "12\n",
      "13\n",
      "14\n",
      "15\n",
      "16\n",
      "17\n",
      "18\n",
      "19\n",
      "20\n",
      "21\n",
      "22\n",
      "23\n",
      "24\n",
      "25\n",
      "26\n",
      "27\n",
      "28\n",
      "29\n",
      "30\n",
      "31\n",
      "32\n",
      "33\n",
      "34\n",
      "35\n",
      "36\n",
      "37\n",
      "38\n",
      "39\n",
      "40\n",
      "41\n",
      "42\n",
      "43\n",
      "44\n",
      "45\n",
      "46\n",
      "47\n",
      "48\n",
      "49\n",
      "50\n",
      "51\n",
      "52\n",
      "53\n",
      "54\n",
      "55\n",
      "56\n",
      "57\n",
      "58\n",
      "59\n",
      "60\n",
      "61\n",
      "62\n",
      "63\n",
      "64\n",
      "65\n",
      "66\n"
     ]
    }
   ],
   "source": [
    "%%time \n",
    "\n",
    "# for a CT array of (Nx-1,Ny-1,Nz-1) voxels\n",
    "Nx = 51\n",
    "Ny = 51\n",
    "Nz = 51\n",
    "\n",
    "# distances between the x,y,z planes (also the lengths of the sides of the voxels) in cm\n",
    "dx = 0.1\n",
    "dy = 0.1\n",
    "dz = 0.1\n",
    "\n",
    "# initial and final coordinates of the beam\n",
    "x1,x2 = (0,0)\n",
    "y1,y2 = (0,0)\n",
    "z1,z2 = (2.5,-2.5)\n",
    "\n",
    "# number of rays \n",
    "num_rays = 100\n",
    "\n",
    "rays = dc.MakeFanBeamRays(num_rays,np.pi/6,((x1,x2),(y1,y2),(z1,z2)),direction='y',adjust=0.025)\n",
    "\n",
    "# adjustment from center \n",
    "adjust = 0.01\n",
    "\n",
    "# initial plane coordinates\n",
    "xplane1 = -2.5\n",
    "yplane1 = -2.5\n",
    "zplane1 = -2.5\n",
    "\n",
    "# beam info and filename\n",
    "beam_energy = 0.120 # in MeV\n",
    "# fluence_0 = 3.183098862 * 10**8 # photon/cm^2\n",
    "# fluence_0 = 2.53 * 10**8 # photon/cm^2\n",
    "fluence_0 = 9.93 * 10**8 # photon/cm^2\n",
    "# filename = 'energy_absorption_coeff.txt'\n",
    "filenames = ['energy_absorption_coeffs.txt','energy_absorption_coeffs_cort_bone.txt']\n",
    "\n",
    "# kernel info\n",
    "kernelname_water = '../Topas/Kernels/WaterKernel13.csv'\n",
    "kernelname_bone = '../Topas/Kernels/BoneKernel3.csv'\n",
    "kernelnames = [kernelname_water,kernelname_bone]\n",
    "kernel_size = (4,4,4) # cm \n",
    "\n",
    "# effective distance from center of kernel \n",
    "eff_dist = (0.5,0.5,0.5) # cm\n",
    "\n",
    "# making materials array \n",
    "materials = []\n",
    "for i in range(Nx-1):\n",
    "    materials.append([])\n",
    "    for j in range(Ny-1):\n",
    "        materials[i].append([])\n",
    "        for k in range(Nz-1):\n",
    "            materials[i][j].append('w')\n",
    "\n",
    "# number of cores to use\n",
    "num_cores = 16\n",
    "\n",
    "# Siddon((Nx,Ny,Nz),(dx,dy,dz),((x1,x2),(y1,y2),(z1,z2)),(xplane1,yplane1,zplane1),plot=True)\n",
    "# terma = sd.TERMA((Nx,Ny,Nz),(dx,dy,dz),((x1,x2),(y1,y2),(z1,z2)),(xplane1,yplane1,zplane1),[beam_energy],[fluence_0],mu)\n",
    "\n",
    "dose = dc.Dose_Calculator((Nx,Ny,Nz),(dx,dy,dz),rays,(xplane1,yplane1,zplane1),[beam_energy],[fluence_0],filenames,kernelnames,kernel_size,eff_dist,materials,num_cores)\n"
   ]
  },
  {
   "cell_type": "code",
   "execution_count": null,
   "id": "5c012202-8444-40db-b450-7f714832f87c",
   "metadata": {},
   "outputs": [],
   "source": [
    "# with previous code (slow), 16 cores, and 10 rays\n",
    "CPU times: user 10.5 s, sys: 2.04 s, total: 12.6 s\n",
    "Wall time: 29min 31s"
   ]
  },
  {
   "cell_type": "code",
   "execution_count": 3,
   "id": "c31f7a6e-9cc8-448c-a747-627bd05212b0",
   "metadata": {},
   "outputs": [],
   "source": [
    "pickle.dump(dose,open('dose4_9.pickle','wb'))"
   ]
  },
  {
   "cell_type": "markdown",
   "id": "726bc5c0-4183-4499-827c-0b4582ee1dc8",
   "metadata": {},
   "source": [
    "## Testing Dose Five \n",
    "- like TestingDose1 except bone!"
   ]
  },
  {
   "cell_type": "code",
   "execution_count": 2,
   "id": "680fe950-6bfb-4998-bbe1-b59bccad1add",
   "metadata": {},
   "outputs": [
    {
     "name": "stdout",
     "output_type": "stream",
     "text": [
      "Calling Superposition\n",
      "Kernel Interpolated\n"
     ]
    },
    {
     "ename": "KeyboardInterrupt",
     "evalue": "",
     "output_type": "error",
     "traceback": [
      "\u001b[0;31m---------------------------------------------------------------------------\u001b[0m",
      "\u001b[0;31mKeyboardInterrupt\u001b[0m                         Traceback (most recent call last)",
      "\u001b[0;32m<timed exec>\u001b[0m in \u001b[0;36m<module>\u001b[0;34m\u001b[0m\n",
      "\u001b[0;32m~/NSERC-Summer-2022/Python/dose_calculator.py\u001b[0m in \u001b[0;36mDose_Calculator\u001b[0;34m(num_planes, voxel_lengths, beam_coor, ini_planes, beam_energy, ini_fluence, filenames, kernelnames, kernel_size, eff_distance, mat_array, num_cores)\u001b[0m\n\u001b[1;32m    698\u001b[0m     \u001b[0mprint\u001b[0m\u001b[0;34m(\u001b[0m\u001b[0;34m'Calling Superposition'\u001b[0m\u001b[0;34m)\u001b[0m\u001b[0;34m\u001b[0m\u001b[0;34m\u001b[0m\u001b[0m\n\u001b[1;32m    699\u001b[0m \u001b[0;34m\u001b[0m\u001b[0m\n\u001b[0;32m--> 700\u001b[0;31m     \u001b[0menergy_deposit\u001b[0m \u001b[0;34m=\u001b[0m \u001b[0mSuperposition\u001b[0m\u001b[0;34m(\u001b[0m\u001b[0mkernel_arrays\u001b[0m\u001b[0;34m,\u001b[0m\u001b[0mkernel_size\u001b[0m\u001b[0;34m,\u001b[0m\u001b[0mnum_planes\u001b[0m\u001b[0;34m,\u001b[0m\u001b[0mvoxel_lengths\u001b[0m\u001b[0;34m,\u001b[0m\u001b[0mvoxel_info\u001b[0m\u001b[0;34m,\u001b[0m\u001b[0mbeam_coor\u001b[0m\u001b[0;34m,\u001b[0m\u001b[0meff_distance\u001b[0m\u001b[0;34m,\u001b[0m\u001b[0mmat_array\u001b[0m\u001b[0;34m,\u001b[0m\u001b[0mnum_cores\u001b[0m\u001b[0;34m)\u001b[0m\u001b[0;34m\u001b[0m\u001b[0;34m\u001b[0m\u001b[0m\n\u001b[0m\u001b[1;32m    701\u001b[0m     \u001b[0;32mreturn\u001b[0m \u001b[0menergy_deposit\u001b[0m\u001b[0;34m\u001b[0m\u001b[0;34m\u001b[0m\u001b[0m\n\u001b[1;32m    702\u001b[0m \u001b[0;34m\u001b[0m\u001b[0m\n",
      "\u001b[0;32m~/NSERC-Summer-2022/Python/dose_calculator.py\u001b[0m in \u001b[0;36mSuperposition\u001b[0;34m(kernel_arrays, kernel_size, num_planes, voxel_lengths, voxel_info, beam_coor, eff_distance, mat_array, num_cores)\u001b[0m\n\u001b[1;32m    489\u001b[0m \u001b[0;34m\u001b[0m\u001b[0m\n\u001b[1;32m    490\u001b[0m     \u001b[0;31m# this is where I can lower size of data too\u001b[0m\u001b[0;34m\u001b[0m\u001b[0;34m\u001b[0m\u001b[0;34m\u001b[0m\u001b[0m\n\u001b[0;32m--> 491\u001b[0;31m     \u001b[0mvoxel_array\u001b[0m \u001b[0;34m=\u001b[0m \u001b[0mnp\u001b[0m\u001b[0;34m.\u001b[0m\u001b[0marray\u001b[0m\u001b[0;34m(\u001b[0m\u001b[0;34m[\u001b[0m\u001b[0;34m[\u001b[0m\u001b[0mx\u001b[0m\u001b[0;34m,\u001b[0m\u001b[0my\u001b[0m\u001b[0;34m,\u001b[0m\u001b[0mz\u001b[0m\u001b[0;34m]\u001b[0m \u001b[0;32mfor\u001b[0m \u001b[0mx\u001b[0m \u001b[0;32min\u001b[0m \u001b[0mx_voxels\u001b[0m \u001b[0;32mfor\u001b[0m \u001b[0my\u001b[0m \u001b[0;32min\u001b[0m \u001b[0my_voxels\u001b[0m \u001b[0;32mfor\u001b[0m \u001b[0mz\u001b[0m \u001b[0;32min\u001b[0m \u001b[0mz_voxels\u001b[0m\u001b[0;34m]\u001b[0m\u001b[0;34m)\u001b[0m\u001b[0;34m\u001b[0m\u001b[0;34m\u001b[0m\u001b[0m\n\u001b[0m\u001b[1;32m    492\u001b[0m \u001b[0;34m\u001b[0m\u001b[0m\n\u001b[1;32m    493\u001b[0m     \u001b[0menergy_deposit\u001b[0m \u001b[0;34m=\u001b[0m \u001b[0;34m[\u001b[0m\u001b[0;34m]\u001b[0m\u001b[0;34m\u001b[0m\u001b[0;34m\u001b[0m\u001b[0m\n",
      "\u001b[0;31mKeyboardInterrupt\u001b[0m: "
     ]
    }
   ],
   "source": [
    "%%time \n",
    "\n",
    "# for a CT array of (Nx-1,Ny-1,Nz-1) voxels\n",
    "Nx = 51\n",
    "Ny = 51\n",
    "Nz = 51\n",
    "\n",
    "# distances between the x,y,z planes (also the lengths of the sides of the voxels) in cm\n",
    "dx = 0.1\n",
    "dy = 0.1\n",
    "dz = 0.1\n",
    "\n",
    "# initial and final coordinates of the beam\n",
    "x1,x2 = (0,0)\n",
    "y1,y2 = (0,0)\n",
    "z1,z2 = (2.5,-2.5)\n",
    "\n",
    "# adjustment from center \n",
    "adjust = 0.025\n",
    "\n",
    "# initial plane coordinates\n",
    "xplane1 = -2.5\n",
    "yplane1 = -2.5\n",
    "zplane1 = -2.5\n",
    "\n",
    "# beam info and filename\n",
    "beam_energy = 0.120 # in MeV\n",
    "# fluence_0 = 3.183098862 * 10**8 # photon/cm^2\n",
    "# fluence_0 = 2.53 * 10**8 # photon/cm^2\n",
    "fluence_0 = 9.93 * 10**8 # photon/cm^2\n",
    "# filename = 'energy_absorption_coeff.txt'\n",
    "filenames = ['energy_absorption_coeffs.txt','energy_absorption_coeffs_cort_bone.txt']\n",
    "\n",
    "# kernel info\n",
    "kernelname_water = '../Topas/Kernels/WaterKernel13.csv'\n",
    "kernelname_bone = '../Topas/Kernels/BoneKernel3.csv'\n",
    "kernelnames = [kernelname_water,kernelname_bone]\n",
    "# kernelname = '../Topas/RealKernel1.csv'\n",
    "kernel_size = (4,4,4) # cm \n",
    "\n",
    "# effective distance from center of kernel \n",
    "eff_dist = (2,2,2) # cm\n",
    "\n",
    "# making materials array \n",
    "materials = []\n",
    "for i in range(Nx-1):\n",
    "    materials.append([])\n",
    "    for j in range(Ny-1):\n",
    "        materials[i].append([])\n",
    "        for k in range(Nz-1):\n",
    "            materials[i][j].append('b')\n",
    "\n",
    "# number of cores to use\n",
    "num_cores = 16\n",
    "\n",
    "# Siddon((Nx,Ny,Nz),(dx,dy,dz),((x1,x2),(y1,y2),(z1,z2)),(xplane1,yplane1,zplane1),plot=True)\n",
    "# terma = sd.TERMA((Nx,Ny,Nz),(dx,dy,dz),((x1,x2),(y1,y2),(z1,z2)),(xplane1,yplane1,zplane1),[beam_energy],[fluence_0],mu)\n",
    "\n",
    "dose = dc.Dose_Calculator((Nx,Ny,Nz),(dx,dy,dz),[((x1+adjust,x2+adjust),(y1+adjust,y2+adjust),(z1,z2)),((x1-adjust,x2-adjust),(y1+adjust,y2+adjust),(z1,z2)),((x1+adjust,x2+adjust),(y1-adjust,y2-adjust),(z1,z2)),((x1-adjust,x2-adjust),(y1-adjust,y2-adjust),(z1,z2))],(xplane1,yplane1,zplane1),[beam_energy],[fluence_0],filenames,kernelnames,kernel_size,eff_dist,materials,num_cores)\n"
   ]
  },
  {
   "cell_type": "code",
   "execution_count": 3,
   "id": "80dc2f97-6c97-4a40-b452-3d32f15f3688",
   "metadata": {},
   "outputs": [],
   "source": [
    "pickle.dump(dose,open('dose5_3pickle','wb'))"
   ]
  },
  {
   "cell_type": "markdown",
   "id": "d47a5625-f6f3-4920-a6fa-2c6f5fca6cff",
   "metadata": {
    "tags": []
   },
   "source": [
    "## Testing Dose Six\n",
    "This is a 120 keV monoenergetic pencil beam in an ellipse shape moving from positive to negative z. The medium is a 5cm x 5cm x 5cm block with 50 voxels in each axis."
   ]
  },
  {
   "cell_type": "code",
   "execution_count": 10,
   "id": "7ee9cfa4-02eb-4cfe-8ef2-602958e02816",
   "metadata": {},
   "outputs": [
    {
     "name": "stdout",
     "output_type": "stream",
     "text": [
      "Calling Superposition\n",
      "Kernel Interpolated\n",
      "0\n",
      "1\n",
      "CPU times: user 1min 19s, sys: 12.9 s, total: 1min 32s\n",
      "Wall time: 4min 34s\n"
     ]
    }
   ],
   "source": [
    "%%time \n",
    "\n",
    "# for a CT array of (Nx-1,Ny-1,Nz-1) voxels\n",
    "Nx = 51\n",
    "Ny = 51\n",
    "Nz = 51\n",
    "\n",
    "# distances between the x,y,z planes (also the lengths of the sides of the voxels) in cm\n",
    "dx = 0.1\n",
    "dy = 0.1\n",
    "dz = 0.1\n",
    "\n",
    "# initial and final coordinates of the beam\n",
    "x1,x2 = (0,0)\n",
    "y1,y2 = (0,tan(pi/6)*5)\n",
    "z1,z2 = (2.5,-2.5)\n",
    "\n",
    "# adjustment from center \n",
    "adjust = 0.025\n",
    "\n",
    "# initial plane coordinates\n",
    "xplane1 = -2.5\n",
    "yplane1 = -2.5\n",
    "zplane1 = -2.5\n",
    "\n",
    "# beam info and filename\n",
    "beam_energy = 0.120 # in MeV\n",
    "fluence_0 = 3.183098862 * 10**10 # photon/cm^2\n",
    "# fluence_0 = 9.93 * 10**8 # photon/cm^2\n",
    "filenames = ['energy_absorption_coeffs.txt','energy_absorption_coeffs_cort_bone.txt']\n",
    "\n",
    "# kernel info\n",
    "kernelname_water = '../Topas/Kernels/WaterKernel13.csv'\n",
    "kernelname_bone = '../Topas/Kernels/BoneKernel3.csv'\n",
    "kernelnames = [kernelname_water,kernelname_bone]\n",
    "# kernelname = '../Topas/RealKernel1.csv'\n",
    "kernel_size = (4,4,4) # cm \n",
    "\n",
    "# effective distance from center of kernel \n",
    "eff_dist = (2,2,2) # cm\n",
    "\n",
    "# making materials array \n",
    "materials = []\n",
    "for i in range(Nx-1):\n",
    "    materials.append([])\n",
    "    for j in range(Ny-1):\n",
    "        materials[i].append([])\n",
    "        for k in range(Nz-1):\n",
    "            materials[i][j].append('w')\n",
    "\n",
    "# number of cores to use\n",
    "num_cores = 16\n",
    "\n",
    "# Siddon((Nx,Ny,Nz),(dx,dy,dz),((x1,x2),(y1,y2),(z1,z2)),(xplane1,yplane1,zplane1),plot=True)\n",
    "# terma = sd.TERMA((Nx,Ny,Nz),(dx,dy,dz),((x1,x2),(y1,y2),(z1,z2)),(xplane1,yplane1,zplane1),[beam_energy],[fluence_0],mu)\n",
    "\n",
    "dose = dc.Dose_Calculator((Nx,Ny,Nz),(dx,dy,dz),[((x1+adjust,x2+adjust),(y1,y2),(z1,z2)),((x1-adjust,x2-adjust),(y1,y2),(z1,z2))],(xplane1,yplane1,zplane1),[beam_energy],[fluence_0],filenames,kernelnames,kernel_size,eff_dist,materials,num_cores)\n"
   ]
  },
  {
   "cell_type": "code",
   "execution_count": 11,
   "id": "6663ebfd-5b4a-438c-a5b2-c307180fe540",
   "metadata": {},
   "outputs": [],
   "source": [
    "pickle.dump(dose,open('dose6_2.pickle','wb'))"
   ]
  },
  {
   "cell_type": "markdown",
   "id": "a305edf9-7b69-4a89-99b8-2473e714d706",
   "metadata": {
    "tags": []
   },
   "source": [
    "## Reverse Engineering Kernel"
   ]
  },
  {
   "cell_type": "code",
   "execution_count": 2,
   "id": "9cf5960e-6399-4362-b853-d0a473056428",
   "metadata": {},
   "outputs": [
    {
     "name": "stdout",
     "output_type": "stream",
     "text": [
      "(3.0, 3.0, 13.0) 0.0\n",
      "(3.0, 3.0, 10.0) 0.0\n",
      "(3.0, 3.0, 12.0) 0.0\n",
      "(3.0, 3.0, 6.0) 6.419899895270212e-07\n",
      "(3.0, 3.0, 11.0) 0.0\n",
      "(3.0, 3.0, 9.0) 0.0\n",
      "(3.0, 3.0, 5.0) 0.0006659781594462842(3.0, 3.0, 3.0) \n",
      "4.8628067551665585e-05\n",
      "(3.0, 3.0, 8.0) 7.422201649956291e-08\n",
      "(3.0, 3.0, 2.0) 3.230064520680644e-07\n",
      "(3.0, 3.0, 7.0) 2.528025660796346e-07\n",
      "(3.0, 3.0, 4.0) 0.0018144549474584369\n",
      "(3.0, 3.0, -1.0) 0.0\n",
      "(3.0, 3.0, 1.0) 6.413210910409552e-08(3.0, 3.0, 0.0)\n",
      " 3.0111572516624414e-08\n",
      "(3.0, 3.0, -2.0) 0.0\n",
      "(3.0, 3.0, -3.0) 0.0\n",
      "(3.0, 3.0, -4.0) 0.0\n",
      "(3.0, 3.0, -5.0) 0.0\n",
      "(4.0, 3.0, 13.0) 0.0\n",
      "(4.0, 3.0, 12.0) 0.0\n",
      "(4.0, 3.0, 8.0) 8.480457472828421e-08\n",
      "(4.0, 3.0, 6.0) 9.194167009919759e-07\n",
      "(4.0, 3.0, 10.0) 0.0\n",
      "(4.0, 3.0, 11.0) 0.0\n",
      "(4.0, 3.0, 7.0) 1.9779083910200444e-07\n",
      "(4.0, 3.0, 3.0) 0.0004282900914994053\n",
      "(4.0, 3.0, 9.0) 0.0\n",
      "(4.0, 3.0, 5.0) 0.012707327037807283\n",
      "(4.0, 3.0, 4.0) 0.0020735952439145592\n",
      "(4.0, 3.0, 1.0) 8.497772198892075e-08\n",
      "(4.0, 3.0, 0.0) 8.833288777891727e-08\n",
      "(4.0, 3.0, 2.0) 2.5793574744466066e-07\n",
      "(4.0, 3.0, -2.0) 0.0\n",
      "(4.0, 3.0, -3.0) 0.0\n",
      "(4.0, 3.0, -1.0) 0.0\n",
      "(4.0, 3.0, -5.0) 0.0\n",
      "(4.0, 3.0, -4.0) 0.0\n",
      "(3.0, 4.0, 12.0) 0.0\n",
      "(3.0, 4.0, 13.0) 0.0\n",
      "(3.0, 4.0, 8.0) 1.3355826394045e-07\n",
      "(3.0, 4.0, 11.0) 0.0\n",
      "(3.0, 4.0, 10.0) 0.0\n",
      "(3.0, 4.0, 7.0) 2.3660722993547786e-07\n",
      "(3.0, 4.0, 5.0) 0.012684661445702511\n",
      "(3.0, 4.0, 9.0) 0.0\n",
      "(3.0, 4.0, 2.0) 3.2092761686273856e-07\n",
      "(3.0, 4.0, -2.0) 0.0\n",
      "(3.0, 4.0, 4.0) 0.0020802265385764214\n",
      "(3.0, 4.0, 1.0) 1.0372132831637139e-07\n",
      "(3.0, 4.0, 0.0) 5.075754388040384e-08\n",
      "(3.0, 4.0, 6.0) 7.680821382484351e-07\n",
      "(3.0, 4.0, 3.0) 0.000432456919845498\n",
      "(3.0, 4.0, -1.0) 0.0\n",
      "(3.0, 4.0, -3.0) 0.0\n",
      "(3.0, 4.0, -4.0) 0.0\n",
      "(3.0, 4.0, -5.0) 0.0\n",
      "(4.0, 4.0, 13.0) 0.0\n",
      "(4.0, 4.0, 12.0) 0.0\n",
      "(4.0, 4.0, 9.0) 0.0\n",
      "(4.0, 4.0, 10.0) 0.0\n",
      "(4.0, 4.0, 7.0) 3.705988960663628e-07\n",
      "(4.0, 4.0, 8.0) 9.892502903799936e-08\n",
      "(4.0, 4.0, 11.0) 0.0\n",
      "(4.0, 4.0, 3.0) 0.0030815566018014065\n",
      "(4.0, 4.0, 0.0) 5.2347737252406056e-08\n",
      "(4.0, 4.0, 5.0) 0.3166433887477645\n",
      "(4.0, 4.0, 6.0) 1.1694043186579824e-06\n",
      "(4.0, 4.0, 2.0) 2.8728604758968235e-07\n",
      "(4.0, 4.0, 4.0) 0.6093311929612528\n",
      "(4.0, 4.0, 1.0) 5.7164979012375356e-08\n",
      "(4.0, 4.0, -1.0) 0.0\n",
      "(4.0, 4.0, -2.0) 0.0\n",
      "(4.0, 4.0, -5.0) 0.0\n",
      "(4.0, 4.0, -3.0) 0.0\n",
      "(4.0, 4.0, -4.0) 0.0\n",
      "CPU times: user 710 ms, sys: 466 ms, total: 1.18 s\n",
      "Wall time: 1min 6s\n"
     ]
    }
   ],
   "source": [
    "%%time \n",
    "\n",
    "# for a CT array of (Nx-1,Ny-1,Nz-1) voxels\n",
    "Nx = 51\n",
    "Ny = 51\n",
    "Nz = 51\n",
    "\n",
    "# distances between the x,y,z planes (also the lengths of the sides of the voxels) in cm\n",
    "dx = 0.1\n",
    "dy = 0.1\n",
    "dz = 0.1\n",
    "\n",
    "# initial and final coordinates of the beam\n",
    "x1,x2 = (0,0)\n",
    "y1,y2 = (0,0)\n",
    "z1,z2 = (2.5,-2.5)\n",
    "\n",
    "# adjustment from center \n",
    "adjust = 0.025\n",
    "\n",
    "# initial plane coordinates\n",
    "xplane1 = -2.5\n",
    "yplane1 = -2.5\n",
    "zplane1 = -2.5\n",
    "\n",
    "# beam info and filename\n",
    "beam_energy = 0.120 # in MeV\n",
    "# fluence_0 = 3.183098862 * 10**8 # photon/cm^2\n",
    "# fluence_0 = 2.53 * 10**8 # photon/cm^2\n",
    "fluence_0 = 9.93 * 10**8 # photon/cm^2\n",
    "# filename = 'energy_absorption_coeff.txt'\n",
    "filename = 'energy_absorption_coeffs.txt'\n",
    "\n",
    "# kernel info\n",
    "kernelname = '../Topas/ReverseEngineerKernel.csv'\n",
    "kernel_size = (0.9,0.9,0.9) # cm \n",
    "\n",
    "# effective distance from center of kernel \n",
    "eff_dist = (1,1,1) # cm\n",
    "\n",
    "# number of cores to use\n",
    "num_cores = 16\n",
    "\n",
    "# Siddon((Nx,Ny,Nz),(dx,dy,dz),((x1,x2),(y1,y2),(z1,z2)),(xplane1,yplane1,zplane1),plot=True)\n",
    "# terma = sd.TERMA((Nx,Ny,Nz),(dx,dy,dz),((x1,x2),(y1,y2),(z1,z2)),(xplane1,yplane1,zplane1),[beam_energy],[fluence_0],mu)\n",
    "\n",
    "dose = dc.Dose_Calculator((Nx,Ny,Nz),(dx,dy,dz),[((x1+adjust,x2+adjust),(y1+adjust,y2+adjust),(z1,z2)),((x1-adjust,x2-adjust),(y1+adjust,y2+adjust),(z1,z2)),((x1+adjust,x2+adjust),(y1-adjust,y2-adjust),(z1,z2)),((x1-adjust,x2-adjust),(y1-adjust,y2-adjust),(z1,z2))],(xplane1,yplane1,zplane1),[beam_energy],[fluence_0],filename,kernelname,kernel_size,eff_dist,num_cores)\n"
   ]
  },
  {
   "cell_type": "code",
   "execution_count": 3,
   "id": "ddb9b8a3-a097-41cd-b631-f0bcb6e79f8a",
   "metadata": {},
   "outputs": [],
   "source": [
    "pickle.dump(dose,open('dose_24.pickle','wb'))"
   ]
  },
  {
   "cell_type": "markdown",
   "id": "ee10efe1-42dd-473f-a30a-d11afb67a62e",
   "metadata": {},
   "source": [
    "## Other Stuff"
   ]
  },
  {
   "cell_type": "code",
   "execution_count": null,
   "id": "3825bb45-273d-4f09-accd-98927d368f01",
   "metadata": {},
   "outputs": [],
   "source": [
    "x1,x2 = (0,0)\n",
    "y1,y2 = (0,0)\n",
    "z1,z2 = (2.5,-2.5)\n",
    "rays = [((x1,x2),(),(z1,z2)) for ]"
   ]
  },
  {
   "cell_type": "code",
   "execution_count": 18,
   "id": "92daa9e5-b1f0-478b-98e8-d4b79219771b",
   "metadata": {},
   "outputs": [],
   "source": [
    "'''\n",
    "making mu interpolation function\n",
    "'''\n",
    "filename = 'energy_absorption_coeffs.txt'\n",
    "\n",
    "coeff_array = np.loadtxt(filename,skiprows=2,dtype=float)\n",
    "\n",
    "# exponentially interpolate \n",
    "mu_linear = interpolate.interp1d(np.log(coeff_array.T[0]),np.log(coeff_array.T[1]),kind='linear',fill_value='extrapolate')\n",
    "mu_l = lambda energy, material: np.exp(mu_linear(np.log(energy))) # CHANGE THIS LATER TO A REAL FUNCTION\n",
    "\n",
    "mu_mass = interpolate.interp1d(np.log(coeff_array.T[0]),np.log(coeff_array.T[2]),kind='linear',fill_value='extrapolate')\n",
    "mu_m = lambda energy, material: np.exp(mu_mass(np.log(energy))) # CHANGE THIS LATER TO A REAL FUNCTION"
   ]
  },
  {
   "cell_type": "code",
   "execution_count": 10,
   "id": "79accc39-e821-4d51-a507-58e92f2dd37d",
   "metadata": {},
   "outputs": [
    {
     "data": {
      "application/vnd.jupyter.widget-view+json": {
       "model_id": "ebdaf0ccf88c44c4a3cb0d7bb377fd8a",
       "version_major": 2,
       "version_minor": 0
      },
      "image/png": "[encoded data removed]",
      "text/html": [
       "\n",
       "            <div style=\"display: inline-block;\">\n",
       "                <div class=\"jupyter-widgets widget-label\" style=\"text-align: center;\">\n",
       "                    Figure\n",
       "                </div>\n",
       "                <img src='data:image/png;base64,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' width=640.0/>\n",
       "            </div>\n",
       "        "
      ],
      "text/plain": [
       "Canvas(toolbar=Toolbar(toolitems=[('Home', 'Reset original view', 'home', 'home'), ('Back', 'Back to previous …"
      ]
     },
     "metadata": {},
     "output_type": "display_data"
    }
   ],
   "source": [
    "x1,x2 = (0,0)\n",
    "y1,y2 = (0,0)\n",
    "z1,z2 = (2.5,-2.5)\n",
    "rays = dc.MakeFanBeamRays(12,np.pi/6,((x1,x2),(y1,y2),(z1,z2)),direction='y',adjust=0.025)\n",
    "\n",
    "ifig=1;close(ifig);figure(ifig)\n",
    "for ray in rays:\n",
    "    plot(ray[2],ray[1])\n",
    "grid(b=True)"
   ]
  },
  {
   "cell_type": "markdown",
   "id": "08997f62-318a-41aa-98a9-9dbd24ca4c9e",
   "metadata": {},
   "source": [
    "#### Testing TERMA with Polyenergetic"
   ]
  },
  {
   "cell_type": "code",
   "execution_count": 6,
   "id": "e688d2de-3c87-46f7-aeba-41bb9ae94fb6",
   "metadata": {},
   "outputs": [
    {
     "ename": "NameError",
     "evalue": "name 'mu_l' is not defined",
     "output_type": "error",
     "traceback": [
      "\u001b[0;31m---------------------------------------------------------------------------\u001b[0m",
      "\u001b[0;31mNameError\u001b[0m                                 Traceback (most recent call last)",
      "\u001b[0;32m<timed exec>\u001b[0m in \u001b[0;36m<module>\u001b[0;34m\u001b[0m\n",
      "\u001b[0;31mNameError\u001b[0m: name 'mu_l' is not defined"
     ]
    }
   ],
   "source": [
    "%%time\n",
    "# for a CT array of (Nx-1,Ny-1,Nz-1) voxels\n",
    "Nx = 10\n",
    "Ny = 10\n",
    "Nz = 10\n",
    "\n",
    "# distances between the x,y,z planes (also the lengths of the sides of the voxels)\n",
    "dx = 0.1\n",
    "dy = 0.1\n",
    "dz = 0.1\n",
    "\n",
    "# initial and final coordinates of the beam\n",
    "x1,x2 = (0.2,0.5)\n",
    "y1,y2 = (0.4,0.8)\n",
    "z1,z2 = (4,-6)\n",
    "\n",
    "# initial plane coordinates\n",
    "xplane1 = 0\n",
    "yplane1 = 0\n",
    "zplane1 = 0\n",
    "\n",
    "# beam info and filename\n",
    "# beam_energy = 0.120 # in MeV\n",
    "# fluence_0 = 1 # photon/cm^2\n",
    "filename = 'energy_absorption_coeffs.txt'\n",
    "\n",
    "# kernel info\n",
    "kernelname = '../Topas/RealKernel1.csv'\n",
    "kernel_size = (1,1,1) # cm \n",
    "\n",
    "# number of cores to use \n",
    "num_cores = 8\n",
    "\n",
    "# sd.Siddon((Nx,Ny,Nz),(dx,dy,dz),((x1,x2),(y1,y2),(z1,z2)),(xplane1,yplane1,zplane1),plot=True)\n",
    "terma = sd.TERMA((Nx,Ny,Nz),(dx,dy,dz),((x1,x2),(y1,y2),(z1,z2)),(xplane1,yplane1,zplane1),beam_energy,fluence_0,mu_l,mu_m)\n",
    "\n",
    "# dose = sd.Dose_Calculator((Nx,Ny,Nz),(dx,dy,dz),[((x1,x2),(y1,y2),(z1,z2))],(xplane1,yplane1,zplane1),beam_energy,fluence_0,filename,kernelname,kernel_size,num_cores)\n",
    "\n",
    "# sd.TERMA?\n",
    "terma"
   ]
  },
  {
   "cell_type": "code",
   "execution_count": 7,
   "id": "07f3e1b0-8e91-4cfa-b336-3b0b6d1a4d2c",
   "metadata": {},
   "outputs": [
    {
     "data": {
      "text/plain": [
       "0.1613015136737795"
      ]
     },
     "execution_count": 7,
     "metadata": {},
     "output_type": "execute_result"
    }
   ],
   "source": [
    "mu_l(0.12,'water')"
   ]
  },
  {
   "cell_type": "code",
   "execution_count": 2,
   "id": "fa9f2fee-5e7c-4f07-8ca5-2411eef0d6ea",
   "metadata": {},
   "outputs": [],
   "source": [
    "# for a CT array of (Nx-1,Ny-1,Nz-1) voxels\n",
    "Nx = 16\n",
    "Ny = 16\n",
    "Nz = 16\n",
    "\n",
    "# distances between the x,y,z planes (also the lengths of the sides of the voxels) in cm\n",
    "dx = 0.05\n",
    "dy = 0.05\n",
    "dz = 0.05\n",
    "\n",
    "# initial and final coordinates of the beam\n",
    "x1,x2 = (0,0)\n",
    "y1,y2 = (0,0)\n",
    "z1,z2 = (-0.8,0.8)\n",
    "\n",
    "# initial plane coordinates\n",
    "xplane1 = -0.8\n",
    "yplane1 = -0.8\n",
    "zplane1 = -0.8\n",
    "\n",
    "# beam info and filename\n",
    "beam_energy = 0.120 # in MeV\n",
    "fluence_0 = 3.183098862 * 10**8 # photon/cm^2\n",
    "filename = 'energy_absorption_coeffs.txt'\n",
    "\n",
    "# kernel info\n",
    "kernelname = '../Topas/RealKernel1.csv'\n",
    "kernel_size = (1,1,1) # cm \n",
    "\n",
    "# number of cores to use \n",
    "num_cores = 8\n",
    "\n",
    "# siddon = sd.Siddon((Nx,Ny,Nz),(dx,dy,dz),((x1,x2),(y1,y2),(z1,z2)),(xplane1,yplane1,zplane1))\n",
    "# terma = sd.TERMA((Nx,Ny,Nz),(dx,dy,dz),((x1,x2),(y1,y2),(z1,z2)),(xplane1,yplane1,zplane1),beam_energy,fluence_0,mu)\n",
    "dose = sd.Dose_Calculator((Nx,Ny,Nz),(dx,dy,dz),[((x1,x2),(y1,y2),(z1,z2))],(xplane1,yplane1,zplane1),[beam_energy],[fluence_0],filename,kernelname,kernel_size,num_cores)\n"
   ]
  },
  {
   "cell_type": "code",
   "execution_count": 3,
   "id": "112e1d3c-cc3b-4233-876b-d612551bcd20",
   "metadata": {},
   "outputs": [
    {
     "data": {
      "text/plain": [
       "(15, 15, 15)"
      ]
     },
     "execution_count": 3,
     "metadata": {},
     "output_type": "execute_result"
    }
   ],
   "source": [
    "shape(dose)"
   ]
  },
  {
   "cell_type": "code",
   "execution_count": 8,
   "id": "3513af4a-0c38-458b-bf41-17151d79cdc4",
   "metadata": {},
   "outputs": [],
   "source": [
    "s = sp.Spek(kvp=120,th=12) # Generate a spectrum (80 kV, 12 degree tube angle)\n",
    "s.filter('Al', 4.0) # Filter by 4 mm of Al\n",
    "\n",
    "hvl = s.get_hvl1() # Get the 1st HVL in mm Al\n",
    "\n",
    "# print(hvl) # Print out the HVL value (Python3 syntax)\n",
    "\n",
    "beam_energy,fluence_0 = s.get_spectrum()\n",
    "\n",
    "# sp.Spek?"
   ]
  },
  {
   "cell_type": "code",
   "execution_count": 12,
   "id": "6e9be349-5364-4de1-8f80-8559d71ac587",
   "metadata": {},
   "outputs": [
    {
     "name": "stdout",
     "output_type": "stream",
     "text": [
      "CPU times: user 8.05 s, sys: 148 ms, total: 8.2 s\n",
      "Wall time: 8.57 s\n"
     ]
    }
   ],
   "source": [
    "%%time\n",
    "# for a CT array of (Nx-1,Ny-1,Nz-1) voxels\n",
    "Nx = 10\n",
    "Ny = 10\n",
    "Nz = 10\n",
    "\n",
    "# distances between the x,y,z planes (also the lengths of the sides of the voxels)\n",
    "dx = 0.1\n",
    "dy = 0.1\n",
    "dz = 0.1\n",
    "\n",
    "# initial and final coordinates of the beam\n",
    "x1,x2 = (0.2,0.5)\n",
    "y1,y2 = (0.4,0.8)\n",
    "z1,z2 = (4,-6)\n",
    "\n",
    "# initial plane coordinates\n",
    "xplane1 = 0\n",
    "yplane1 = 0\n",
    "zplane1 = 0\n",
    "\n",
    "# beam info and filename\n",
    "beam_energy = 0.120 # in MeV\n",
    "fluence_0 = 1 # photon/cm^2\n",
    "filename = 'energy_absorption_coeffs.txt'\n",
    "\n",
    "# kernel info\n",
    "kernelname = '../Topas/RealKernel1.csv'\n",
    "kernel_size = (2,2,2) # cm \n",
    "\n",
    "# effective distance from center of kernel \n",
    "eff_dist = (0.5,0.5,0.5) # cm\n",
    "\n",
    "# number of cores to use \n",
    "num_cores = 8\n",
    "\n",
    "# sd.Siddon((Nx,Ny,Nz),(dx,dy,dz),((x1,x2),(y1,y2),(z1,z2)),(xplane1,yplane1,zplane1),plot=True)\n",
    "# terma = sd.TERMA((Nx,Ny,Nz),(dx,dy,dz),((x1,x2),(y1,y2),(z1,z2)),(xplane1,yplane1,zplane1),beam_energy,fluence_0,mu)\n",
    "\n",
    "dose = dc.Dose_Calculator((Nx,Ny,Nz),(dx,dy,dz),[((x1,x2),(y1,y2),(z1,z2))],(xplane1,yplane1,zplane1),[beam_energy],[fluence_0],filename,kernelname,kernel_size,eff_dist,num_cores)\n"
   ]
  },
  {
   "cell_type": "markdown",
   "id": "5a727dda-bf55-4e07-9123-1063a79addd7",
   "metadata": {},
   "source": [
    "*I'm guessing a lot of this time is coming from interpolating the kernel at the beginning, maybe I'll try to run some tests with bigger arrays*"
   ]
  },
  {
   "cell_type": "markdown",
   "id": "2b9c6a88-e1bf-4fcf-a04b-1ce8bd935ea1",
   "metadata": {},
   "source": [
    "with 8 cores:\n",
    "CPU times: user 7.96 s, sys: 151 ms, total: 8.11 s\n",
    "Wall time: 8.55 s"
   ]
  },
  {
   "cell_type": "markdown",
   "id": "923da6f2-ced4-4b29-95fb-4cd36df2cf07",
   "metadata": {},
   "source": [
    "with 4 cores:\n",
    "CPU times: user 7.99 s, sys: 140 ms, total: 8.14 s\n",
    "Wall time: 8.76 s"
   ]
  },
  {
   "cell_type": "code",
   "execution_count": 19,
   "id": "02b14f2e-7f8e-43dc-bf09-c4b698145133",
   "metadata": {},
   "outputs": [],
   "source": [
    "for n in range(len(voxel_info)):\n",
    "    for voxel in voxel_info[n]:\n",
    "        if abs(voxel['d'] - 0.1) > 0.00000001:\n",
    "            print('oops')"
   ]
  },
  {
   "cell_type": "code",
   "execution_count": 7,
   "id": "47dff494-51f0-455c-8315-71eed385238c",
   "metadata": {},
   "outputs": [],
   "source": [
    "dose_im_array = []\n",
    "\n",
    "for dose_row in dose:\n",
    "    dose_im_array.append(dose_row['energy'])\n",
    "\n",
    "dose_im_array = np.array(dose_im_array)\n",
    "\n",
    "dose_im_array = dose_im_array.reshape(Nx-1,Ny-1,Nz-1)\n",
    "\n",
    "pickle.dump(dose_im_array,open('dose_test.pickle','wb'))"
   ]
  },
  {
   "cell_type": "code",
   "execution_count": 21,
   "id": "ea03e31b-387b-45e9-9067-e2d1f0f21d1f",
   "metadata": {},
   "outputs": [
    {
     "data": {
      "text/plain": [
       "6"
      ]
     },
     "execution_count": 21,
     "metadata": {},
     "output_type": "execute_result"
    }
   ],
   "source": [
    "a = array([1,2])\n",
    "b = []"
   ]
  },
  {
   "cell_type": "code",
   "execution_count": 27,
   "id": "ac41d656-69e1-47ea-b726-4bcf44627fff",
   "metadata": {},
   "outputs": [
    {
     "data": {
      "text/plain": [
       "716.6427428588867"
      ]
     },
     "execution_count": 27,
     "metadata": {},
     "output_type": "execute_result"
    }
   ],
   "source": [
    "interaction_zone = []\n",
    "for j in kernel_array[47:52]:\n",
    "    for k in j[47:52]:\n",
    "        interaction_zone.append(k[47:52])\n",
    "interaction_zone = np.array(interaction_zone)\n",
    "np.mean(interaction_zone)"
   ]
  },
  {
   "cell_type": "markdown",
   "id": "172cf36d-7104-47a2-910d-524e765474cc",
   "metadata": {},
   "source": [
    "### Slider to Look at 3D Stuff"
   ]
  },
  {
   "cell_type": "code",
   "execution_count": 9,
   "id": "aba68d76-c685-40c3-ba8c-0fde62a2cd5a",
   "metadata": {},
   "outputs": [],
   "source": [
    "kernelname = '../Topas/RealKernel1.csv'\n",
    "kernel_array = BinnedResult(kernelname).data['Sum']"
   ]
  },
  {
   "cell_type": "code",
   "execution_count": 10,
   "id": "4bf9c815-0996-4b4a-ae1d-d7c24d57ca61",
   "metadata": {},
   "outputs": [],
   "source": [
    "kernelname = '../Topas/ReverseEngineerKernel.csv'\n",
    "kernel_array = BinnedResult(kernelname).data['Sum']"
   ]
  },
  {
   "cell_type": "code",
   "execution_count": 6,
   "id": "0364c355-a2c4-4d85-9fef-9e6a59677a13",
   "metadata": {},
   "outputs": [],
   "source": [
    "kernelname = '../Topas/Kernels/WaterKernel6.csv'\n",
    "kernel_array = BinnedResult(kernelname).data['Sum']"
   ]
  },
  {
   "cell_type": "code",
   "execution_count": 5,
   "id": "8bd5a289-6b2f-4776-8d08-5a6673175ef9",
   "metadata": {},
   "outputs": [],
   "source": [
    "kernelname = '../Topas/BoneKernel1.csv'\n",
    "kernel_array = BinnedResult(kernelname).data['Sum']"
   ]
  },
  {
   "cell_type": "code",
   "execution_count": 6,
   "id": "343715ad-3318-4711-bd0d-298a4595a0a0",
   "metadata": {},
   "outputs": [],
   "source": [
    "data = BinnedResult('../Topas/EnergyFluence.csv').data['Sum']"
   ]
  },
  {
   "cell_type": "code",
   "execution_count": 7,
   "id": "e70b54d5-802f-4bbb-83f6-ae832103e5c8",
   "metadata": {},
   "outputs": [
    {
     "data": {
      "text/plain": [
       "(array([25]), array([24]), array([49]))"
      ]
     },
     "execution_count": 7,
     "metadata": {},
     "output_type": "execute_result"
    }
   ],
   "source": [
    "where(data==np.max(data))"
   ]
  },
  {
   "cell_type": "code",
   "execution_count": 7,
   "id": "a95f5121-1625-4b9b-ba94-573ca0c005cb",
   "metadata": {},
   "outputs": [
    {
     "data": {
      "application/vnd.jupyter.widget-view+json": {
       "model_id": "b0e7134057ab4a45b0f65daf69de3855",
       "version_major": 2,
       "version_minor": 0
      },
      "text/plain": [
       "VBox(children=(HBox(children=(Play(value=0, max=98), IntSlider(value=0, description='axis0', max=98, readout=F…"
      ]
     },
     "metadata": {},
     "output_type": "display_data"
    },
    {
     "data": {
      "application/vnd.jupyter.widget-view+json": {
       "model_id": "40f2dcbe05ec4ea99f4090c7970376ba",
       "version_major": 2,
       "version_minor": 0
      },
      "image/png": "[encoded data removed]",
      "text/html": [
       "\n",
       "            <div style=\"display: inline-block;\">\n",
       "                <div class=\"jupyter-widgets widget-label\" style=\"text-align: center;\">\n",
       "                    Figure\n",
       "                </div>\n",
       "                <img src='data:image/png;base64,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' width=640.0/>\n",
       "            </div>\n",
       "        "
      ],
      "text/plain": [
       "Canvas(toolbar=Toolbar(toolitems=[('Home', 'Reset original view', 'home', 'home'), ('Back', 'Back to previous …"
      ]
     },
     "metadata": {},
     "output_type": "display_data"
    }
   ],
   "source": [
    "fig,ax,controls = ims.slider(kernel_array)"
   ]
  },
  {
   "cell_type": "code",
   "execution_count": 8,
   "id": "98c7079b-a34a-4a4c-a298-1dbd5c83fad9",
   "metadata": {},
   "outputs": [
    {
     "data": {
      "application/vnd.jupyter.widget-view+json": {
       "model_id": "0ba68aeeab9d4e11ac7bfeea137ad502",
       "version_major": 2,
       "version_minor": 0
      },
      "text/plain": [
       "VBox(children=(HBox(children=(Play(value=0, max=98), IntSlider(value=0, description='axis0', max=98, readout=F…"
      ]
     },
     "metadata": {},
     "output_type": "display_data"
    },
    {
     "data": {
      "application/vnd.jupyter.widget-view+json": {
       "model_id": "79a54f005c9640fa891ac453924ed05c",
       "version_major": 2,
       "version_minor": 0
      },
      "image/png": "[encoded data removed]",
      "text/html": [
       "\n",
       "            <div style=\"display: inline-block;\">\n",
       "                <div class=\"jupyter-widgets widget-label\" style=\"text-align: center;\">\n",
       "                    Figure\n",
       "                </div>\n",
       "                <img src='data:image/png;base64,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' width=640.0/>\n",
       "            </div>\n",
       "        "
      ],
      "text/plain": [
       "Canvas(toolbar=Toolbar(toolitems=[('Home', 'Reset original view', 'home', 'home'), ('Back', 'Back to previous …"
      ]
     },
     "metadata": {},
     "output_type": "display_data"
    }
   ],
   "source": [
    "fig,ax,controls = ims.slider(kernel_array)"
   ]
  },
  {
   "cell_type": "code",
   "execution_count": 7,
   "id": "7d75a888-2b22-44d2-befe-4de65c9431ba",
   "metadata": {},
   "outputs": [
    {
     "data": {
      "text/plain": [
       "(49, 49, 49)"
      ]
     },
     "execution_count": 7,
     "metadata": {},
     "output_type": "execute_result"
    }
   ],
   "source": [
    "(int(np.floor(len(kernel_array)/2)),int(np.floor(len(kernel_array[0])/2)),int(np.floor(len(kernel_array[0][0])/2)))"
   ]
  },
  {
   "cell_type": "code",
   "execution_count": 16,
   "id": "471b7a56-bbb3-4973-9f71-2002d7950313",
   "metadata": {},
   "outputs": [],
   "source": [
    "my_dose_array = pickle.load(open('dose_1.pickle','rb'))\n",
    "mc_dose_array_full = BinnedResult('../Topas/TestingDose1.csv')\n",
    "mc_dose_array = mc_dose_array_full.data['Sum']"
   ]
  },
  {
   "cell_type": "code",
   "execution_count": 15,
   "id": "4f211284-1084-4ee0-9412-a58f38a25b60",
   "metadata": {},
   "outputs": [
    {
     "data": {
      "application/vnd.jupyter.widget-view+json": {
       "model_id": "540014a4c4fe4cb59f97ab440723f5a7",
       "version_major": 2,
       "version_minor": 0
      },
      "text/plain": [
       "VBox(children=(HBox(children=(Play(value=0, max=8), IntSlider(value=0, description='axis0', max=8, readout=Fal…"
      ]
     },
     "metadata": {},
     "output_type": "display_data"
    },
    {
     "data": {
      "application/vnd.jupyter.widget-view+json": {
       "model_id": "01d9f5128c7c4dbea51f1e722b5e61f4",
       "version_major": 2,
       "version_minor": 0
      },
      "image/png": "[encoded data removed]",
      "text/html": [
       "\n",
       "            <div style=\"display: inline-block;\">\n",
       "                <div class=\"jupyter-widgets widget-label\" style=\"text-align: center;\">\n",
       "                    Figure\n",
       "                </div>\n",
       "                <img src='data:image/png;base64,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' width=640.0/>\n",
       "            </div>\n",
       "        "
      ],
      "text/plain": [
       "Canvas(toolbar=Toolbar(toolitems=[('Home', 'Reset original view', 'home', 'home'), ('Back', 'Back to previous …"
      ]
     },
     "metadata": {},
     "output_type": "display_data"
    }
   ],
   "source": [
    "fig,ax,controls = ims.slider(dose)"
   ]
  },
  {
   "cell_type": "code",
   "execution_count": 18,
   "id": "cdb0af15-94e6-40c2-8161-32429903e1b2",
   "metadata": {},
   "outputs": [
    {
     "data": {
      "text/plain": [
       "<matplotlib.image.AxesImage at 0x7fc7e994a438>"
      ]
     },
     "execution_count": 18,
     "metadata": {},
     "output_type": "execute_result"
    },
    {
     "data": {
      "application/vnd.jupyter.widget-view+json": {
       "model_id": "d7d81963ecfc4f89b40eb8deeae53bce",
       "version_major": 2,
       "version_minor": 0
      },
      "image/png": "[encoded data removed]",
      "text/html": [
       "\n",
       "            <div style=\"display: inline-block;\">\n",
       "                <div class=\"jupyter-widgets widget-label\" style=\"text-align: center;\">\n",
       "                    Figure\n",
       "                </div>\n",
       "                <img src='data:image/png;base64,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' width=640.0/>\n",
       "            </div>\n",
       "        "
      ],
      "text/plain": [
       "Canvas(toolbar=Toolbar(toolitems=[('Home', 'Reset original view', 'home', 'home'), ('Back', 'Back to previous …"
      ]
     },
     "metadata": {},
     "output_type": "display_data"
    }
   ],
   "source": [
    "close(5);figure(5)\n",
    "imshow(dose[4])"
   ]
  },
  {
   "cell_type": "code",
   "execution_count": 9,
   "id": "f09adf6e-ac10-46a6-9ab4-b139228321a8",
   "metadata": {},
   "outputs": [
    {
     "name": "stdout",
     "output_type": "stream",
     "text": [
      "0.03631941168294036 0.0009266880412018293\n"
     ]
    }
   ],
   "source": [
    "print(sum(my_dose_array)*1.602e-10,sum(mc_dose_array))"
   ]
  },
  {
   "cell_type": "markdown",
   "id": "74cee703-c011-4813-a3f2-7ebb7bc03f51",
   "metadata": {
    "tags": []
   },
   "source": [
    "### Tests for Superposition"
   ]
  },
  {
   "cell_type": "code",
   "execution_count": 13,
   "id": "8ed17873-a185-4428-853b-f968e8678d96",
   "metadata": {},
   "outputs": [],
   "source": [
    "test_kernel = array([[[0,0,0],[0,0.1,0],[0,0,0]],\n",
    "                     [[0,0.1,0],[0.1,0.4,0.1],[0,0.1,0]],\n",
    "                     [[0,0,0],[0,0.1,0],[0,0,0]]])"
   ]
  },
  {
   "cell_type": "code",
   "execution_count": 14,
   "id": "e4769d3d-bd53-4826-bae9-33cc7feadc3e",
   "metadata": {},
   "outputs": [],
   "source": [
    "test_array_1 = array([[[1,1],[1,1]],\n",
    "                      [[1,1],[1,1]]])\n",
    "\n",
    "test_array_2 = array([[[1,1],[0,0]],\n",
    "                      [[0,0],[0,0]]])"
   ]
  },
  {
   "cell_type": "code",
   "execution_count": 15,
   "id": "4009f8da-ebf2-40e2-a981-6e1b6ee80c4c",
   "metadata": {},
   "outputs": [
    {
     "data": {
      "text/plain": [
       "[{'indices': (1, 1, 1), 'TERMA': 1, 'd': 0.1},\n",
       " {'indices': (1, 1, 2), 'TERMA': 1, 'd': 0.1},\n",
       " {'indices': (1, 2, 1), 'TERMA': 0, 'd': 0.1},\n",
       " {'indices': (1, 2, 2), 'TERMA': 0, 'd': 0.1},\n",
       " {'indices': (2, 1, 1), 'TERMA': 0, 'd': 0.1},\n",
       " {'indices': (2, 1, 2), 'TERMA': 0, 'd': 0.1},\n",
       " {'indices': (2, 2, 1), 'TERMA': 0, 'd': 0.1},\n",
       " {'indices': (2, 2, 2), 'TERMA': 0, 'd': 0.1}]"
      ]
     },
     "execution_count": 15,
     "metadata": {},
     "output_type": "execute_result"
    }
   ],
   "source": [
    "test_array = test_array_2\n",
    "\n",
    "voxel_info_1 = []\n",
    "n=0\n",
    "for x in range(len(test_array)):\n",
    "    for y in range(len(test_array[0])):\n",
    "        for z in range(len(test_array[0][0])):\n",
    "            voxel_info_1.append({})\n",
    "            voxel_info_1[n]['indices'] = (x+1,y+1,z+1)\n",
    "            voxel_info_1[n]['TERMA'] = test_array[x][y][z]\n",
    "            voxel_info_1[n]['d'] = 0.1\n",
    "            n += 1\n",
    "\n",
    "voxel_info_1"
   ]
  },
  {
   "cell_type": "code",
   "execution_count": 16,
   "id": "02136eae-f9be-4f66-98e1-a5c8c934e689",
   "metadata": {},
   "outputs": [
    {
     "data": {
      "text/plain": [
       "array([[[0.50758621, 0.50758621],\n",
       "        [0.20965517, 0.20965517]],\n",
       "\n",
       "       [[0.20965517, 0.20965517],\n",
       "        [0.07310345, 0.07310345]]])"
      ]
     },
     "execution_count": 16,
     "metadata": {},
     "output_type": "execute_result"
    }
   ],
   "source": [
    "sd.Superposition(test_kernel,(3,3,3),(3,3,3),(0.75,0.75,0.75),[voxel_info_1],4)\n",
    "# sd.Superposition?"
   ]
  },
  {
   "cell_type": "code",
   "execution_count": 25,
   "id": "c13e11a3-f7ca-436b-ba2c-6d449f84f1a3",
   "metadata": {},
   "outputs": [
    {
     "data": {
      "text/plain": [
       "array([[[0.50758621, 0.50758621],\n",
       "        [0.20965517, 0.20965517]],\n",
       "\n",
       "       [[0.20965517, 0.20965517],\n",
       "        [0.07310345, 0.07310345]]])"
      ]
     },
     "execution_count": 25,
     "metadata": {},
     "output_type": "execute_result"
    }
   ],
   "source": [
    "x1,x2 = (2,2.1)\n",
    "y1,y2 = (0,0)\n",
    "z1,z2 = (1,1)\n",
    "\n",
    "dc.Superposition(test_kernel,(3,3,3),(3,3,3),(0.75,0.75,0.75),[voxel_info_1],[((x1,x2),(y1,y2),(z1,z2))],(8,8,8),4)\n",
    "# dc.Superposition?"
   ]
  }
 ],
 "metadata": {
  "kernelspec": {
   "display_name": "Python 3",
   "language": "python",
   "name": "python3"
  },
  "language_info": {
   "codemirror_mode": {
    "name": "ipython",
    "version": 3
   },
   "file_extension": ".py",
   "mimetype": "text/x-python",
   "name": "python",
   "nbconvert_exporter": "python",
   "pygments_lexer": "ipython3",
   "version": "3.6.9"
  }
 },
 "nbformat": 4,
 "nbformat_minor": 5
}
