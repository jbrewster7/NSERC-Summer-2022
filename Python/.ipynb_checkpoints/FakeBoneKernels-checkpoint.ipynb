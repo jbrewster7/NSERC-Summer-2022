{
 "cells": [
  {
   "cell_type": "markdown",
   "id": "4ffedc36-b02e-4ebd-943c-dea24a1c2a13",
   "metadata": {},
   "source": [
    "# Creating Matching Bone Kernel Files"
   ]
  },
  {
   "cell_type": "markdown",
   "id": "c4c1a291-5f77-41d4-bc9e-f2ea3278e429",
   "metadata": {},
   "source": [
    "#### Parameters"
   ]
  },
  {
   "cell_type": "code",
   "execution_count": 4,
   "id": "d0a00e6d-19a1-4e7e-93d8-14ef95f367ed",
   "metadata": {},
   "outputs": [],
   "source": [
    "filename = '../Topas/Kernels/FakeLungKernel129.csv'\n",
    "bins = 129"
   ]
  },
  {
   "cell_type": "markdown",
   "id": "695aea00-4cf7-4356-88c4-1adc1ad6b25b",
   "metadata": {},
   "source": [
    "#### Code"
   ]
  },
  {
   "cell_type": "code",
   "execution_count": 5,
   "id": "1170fe97-504c-4df4-9102-e3cf2f477b57",
   "metadata": {},
   "outputs": [],
   "source": [
    "file = open(filename,'w')\n",
    "\n",
    "file.write('# TOPAS Version: 3.7\\n')\n",
    "file.write('# Parameter File: FakeLungKernel129.txt\\n')\n",
    "file.write('# Results for scorer FakeLungKernel129\\n')\n",
    "file.write('# Scored in component: Phantom\\n')\n",
    "file.write('# X in '+str(bins)+' bin  of '+str(8/bins)+' cm\\n')\n",
    "file.write('# Y in '+str(bins)+' bin  of '+str(8/bins)+' cm\\n')\n",
    "file.write('# Z in '+str(bins)+' bins of '+str(8/bins)+' cm\\n')\n",
    "file.write('# EnergyFluence ( MeV/mm2 ) : Sum\\n')\n",
    "\n",
    "for n in range(bins**3):\n",
    "    file.write('0, 0, 0, 1\\n')\n",
    "\n",
    "file.close()"
   ]
  }
 ],
 "metadata": {
  "kernelspec": {
   "display_name": "Python 3",
   "language": "python",
   "name": "python3"
  },
  "language_info": {
   "codemirror_mode": {
    "name": "ipython",
    "version": 3
   },
   "file_extension": ".py",
   "mimetype": "text/x-python",
   "name": "python",
   "nbconvert_exporter": "python",
   "pygments_lexer": "ipython3",
   "version": "3.6.9"
  }
 },
 "nbformat": 4,
 "nbformat_minor": 5
}
