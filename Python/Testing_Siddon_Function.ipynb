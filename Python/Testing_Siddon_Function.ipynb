{
 "cells": [
  {
   "cell_type": "markdown",
   "id": "900f6f7d-7efa-4bdb-a667-f8578f013799",
   "metadata": {
    "tags": []
   },
   "source": [
    "# Testing Dose Calculator Function\n",
    "I'll do initial testing stuff and miscellaneous things here and then add them into `dose_calculator_tests.py`."
   ]
  },
  {
   "cell_type": "code",
   "execution_count": 8,
   "id": "5869feba-5ea0-48bf-93af-26a8f32eed41",
   "metadata": {},
   "outputs": [
    {
     "name": "stdout",
     "output_type": "stream",
     "text": [
      "Populating the interactive namespace from numpy and matplotlib\n",
      "The autoreload extension is already loaded. To reload it, use:\n",
      "  %reload_ext autoreload\n"
     ]
    }
   ],
   "source": [
    "%pylab ipympl \n",
    "%load_ext autoreload\n",
    "import siddon as sd\n",
    "import dose_calculator as dc\n",
    "import imshow_slider as ims\n",
    "from topas2numpy import BinnedResult\n",
    "import pickle\n",
    "from scipy import interpolate\n",
    "import spekpy as sp"
   ]
  },
  {
   "cell_type": "markdown",
   "id": "e1b15e18-7a5c-4b26-ad2a-8b453873abe9",
   "metadata": {
    "tags": []
   },
   "source": [
    "## Testing Dose One\n",
    "This is a 120 keV monoenergetic pencil beam in an ellipse shape moving from positive to negative z. The medium is a 5cm x 5cm x 5cm block with 50 voxels in each axis."
   ]
  },
  {
   "cell_type": "code",
   "execution_count": 11,
   "id": "8529847d-bbd1-498c-9190-8fe7d195c38f",
   "metadata": {},
   "outputs": [
    {
     "name": "stdout",
     "output_type": "stream",
     "text": [
      "(44.05, 44.05, 88.6) 0.0\n",
      "(44.05, 44.05, 93.55000000000001) 0.0\n",
      "(44.05, 44.05, 83.65) 0.0\n",
      "(44.05, 44.05, 78.7) 0.0\n",
      "(44.05, 44.05, 63.85) 0.0\n",
      "(44.05, 44.05, 73.75) 0.0\n",
      "(44.05, 44.05, 44.05) 1.7575695168343907e-08\n",
      "(44.05, 44.05, 53.95) 7.539014129976516e-08\n",
      "(44.05, 44.05, 58.9) 0.0\n",
      "(44.05, 44.05, 68.8) 0.0\n",
      "(44.05, 44.05, 24.25) 0.0\n",
      "(44.05, 44.05, 19.299999999999997) 0.0\n",
      "(44.05, 44.05, 29.2) 0.0\n",
      "(44.05, 44.05, 39.1) 0.0\n",
      "(44.05, 44.05, 34.15) 0.0\n",
      "(44.05, 44.05, 49.0) 2.604981823833065e-07\n",
      "(44.05, 44.05, 14.350000000000001) 0.0\n",
      "(44.05, 44.05, 9.399999999999999) 0.0\n",
      "(44.05, 44.05, 4.449999999999996) 0.0\n",
      "(49.0, 44.05, 58.9) 0.0\n",
      "(49.0, 44.05, 73.75) 0.0\n",
      "(49.0, 44.05, 68.8) 0.0\n",
      "(49.0, 44.05, 53.95) 0.0\n",
      "(49.0, 44.05, 78.7) 0.0\n",
      "(49.0, 44.05, 93.55000000000001) 0.0\n",
      "(49.0, 44.05, 83.65) 0.0\n",
      "(49.0, 44.05, 39.1) 0.0\n",
      "(49.0, 44.05, 88.6) 0.0\n",
      "(49.0, 44.05, 63.85) 0.0\n",
      "(49.0, 44.05, 24.25) 0.0\n",
      "(49.0, 44.05, 34.15) 0.0\n",
      "(49.0, 44.05, 49.0) 4.939633906189958e-05\n",
      "(49.0, 44.05, 44.05) 6.650775703067797e-06\n",
      "(49.0, 44.05, 19.299999999999997) 0.0\n",
      "(49.0, 44.05, 29.2) 0.0\n",
      "(49.0, 44.05, 9.399999999999999) 0.0\n",
      "(49.0, 44.05, 14.350000000000001) 0.0\n",
      "(49.0, 44.05, 4.449999999999996) 0.0\n",
      "(44.05, 49.0, 93.55000000000001) 0.0\n",
      "(44.05, 49.0, 78.7) 0.0\n",
      "(44.05, 49.0, 73.75) 0.0\n",
      "(44.05, 49.0, 88.6) 0.0\n",
      "(44.05, 49.0, 49.0) 4.630767971693267e-05\n",
      "(44.05, 49.0, 83.65) 0.0\n",
      "(44.05, 49.0, 34.15) 0.0\n",
      "(44.05, 49.0, 58.9) 0.0\n",
      "(44.05, 49.0, 63.85) 0.0\n",
      "(44.05, 49.0, 68.8) 0.0\n",
      "(44.05, 49.0, 53.95) 0.0\n",
      "(44.05, 49.0, 44.05) 8.585689331225783e-06\n",
      "(44.05, 49.0, 19.299999999999997) 0.0\n",
      "(44.05, 49.0, 39.1) 0.0\n",
      "(44.05, 49.0, 29.2) 0.0\n",
      "(44.05, 49.0, 24.25) 0.0\n",
      "(44.05, 49.0, 9.399999999999999) 0.0\n",
      "(44.05, 49.0, 14.350000000000001) 0.0\n",
      "(44.05, 49.0, 4.449999999999996) 0.0\n",
      "(49.0, 49.0, 93.55000000000001) 0.0\n",
      "(49.0, 49.0, 88.6) 0.0\n",
      "(49.0, 49.0, 73.75) 0.0\n",
      "(49.0, 49.0, 83.65) 0.0\n",
      "(49.0, 49.0, 68.8) 0.0\n",
      "(49.0, 49.0, 78.7) 0.0\n",
      "(49.0, 49.0, 58.9) 0.0\n",
      "(49.0, 49.0, 63.85) 0.0\n",
      "(49.0, 49.0, 53.95) 6.117346070585521e-09\n",
      "(49.0, 49.0, 34.15) 0.0\n",
      "(49.0, 49.0, 24.25) 0.0\n",
      "(49.0, 49.0, 44.05) 0.00011441878489899189\n",
      "(49.0, 49.0, 29.2) 0.0\n",
      "(49.0, 49.0, 49.0) 0.007224064224327995\n",
      "(49.0, 49.0, 39.1) 0.0\n",
      "(49.0, 49.0, 19.299999999999997) 0.0\n",
      "(49.0, 49.0, 9.399999999999999) 0.0\n",
      "(49.0, 49.0, 14.350000000000001) 0.0\n",
      "(49.0, 49.0, 4.449999999999996) 0.0\n",
      "CPU times: user 8.64 s, sys: 584 ms, total: 9.22 s\n",
      "Wall time: 1min 14s\n"
     ]
    }
   ],
   "source": [
    "%%time \n",
    "\n",
    "# for a CT array of (Nx-1,Ny-1,Nz-1) voxels\n",
    "Nx = 51\n",
    "Ny = 51\n",
    "Nz = 51\n",
    "\n",
    "# distances between the x,y,z planes (also the lengths of the sides of the voxels) in cm\n",
    "dx = 0.1\n",
    "dy = 0.1\n",
    "dz = 0.1\n",
    "\n",
    "# initial and final coordinates of the beam\n",
    "x1,x2 = (0,0)\n",
    "y1,y2 = (0,0)\n",
    "z1,z2 = (2.5,-2.5)\n",
    "\n",
    "# adjustment from center \n",
    "adjust = 0.025\n",
    "\n",
    "# initial plane coordinates\n",
    "xplane1 = -2.5\n",
    "yplane1 = -2.5\n",
    "zplane1 = -2.5\n",
    "\n",
    "# beam info and filename\n",
    "beam_energy = 0.120 # in MeV\n",
    "# fluence_0 = 3.183098862 * 10**8 # photon/cm^2\n",
    "# fluence_0 = 2.53 * 10**8 # photon/cm^2\n",
    "fluence_0 = 9.93 * 10**8 # photon/cm^2\n",
    "# filename = 'energy_absorption_coeff.txt'\n",
    "filename = 'energy_absorption_coeffs.txt'\n",
    "\n",
    "# kernel info\n",
    "kernelname = '../Topas/Kernels/WaterKernel6.csv'\n",
    "kernel_size = (2,2,2) # cm \n",
    "\n",
    "# effective distance from center of kernel \n",
    "eff_dist = (1,1,1) # cm\n",
    "\n",
    "# number of cores to use\n",
    "num_cores = 16\n",
    "\n",
    "# Siddon((Nx,Ny,Nz),(dx,dy,dz),((x1,x2),(y1,y2),(z1,z2)),(xplane1,yplane1,zplane1),plot=True)\n",
    "# terma = sd.TERMA((Nx,Ny,Nz),(dx,dy,dz),((x1,x2),(y1,y2),(z1,z2)),(xplane1,yplane1,zplane1),[beam_energy],[fluence_0],mu)\n",
    "\n",
    "dose = dc.Dose_Calculator((Nx,Ny,Nz),(dx,dy,dz),[((x1+adjust,x2+adjust),(y1+adjust,y2+adjust),(z1,z2)),((x1-adjust,x2-adjust),(y1+adjust,y2+adjust),(z1,z2)),((x1+adjust,x2+adjust),(y1-adjust,y2-adjust),(z1,z2)),((x1-adjust,x2-adjust),(y1-adjust,y2-adjust),(z1,z2))],(xplane1,yplane1,zplane1),[beam_energy],[fluence_0],filename,kernelname,kernel_size,eff_dist,num_cores)\n"
   ]
  },
  {
   "cell_type": "code",
   "execution_count": null,
   "id": "75a1ccfb-0144-47f8-9892-088d61e77c28",
   "metadata": {},
   "outputs": [],
   "source": [
    "with 16 \"cores\":\n",
    "CPU times: user 9.09 s, sys: 1.1 s, total: 10.2 s\n",
    "Wall time: 13min 36s"
   ]
  },
  {
   "cell_type": "code",
   "execution_count": 12,
   "id": "ae4c066d-cd48-4345-ab62-3c6115cd581c",
   "metadata": {},
   "outputs": [],
   "source": [
    "pickle.dump(dose,open('dose_27.pickle','wb'))"
   ]
  },
  {
   "cell_type": "markdown",
   "id": "2fbc050a-8bd1-4873-a7b0-4da4f461bf88",
   "metadata": {},
   "source": [
    "## Testing Dose Two\n"
   ]
  },
  {
   "cell_type": "code",
   "execution_count": 2,
   "id": "6e64aef1-c300-491b-9f0a-e7e65064ac4f",
   "metadata": {},
   "outputs": [],
   "source": [
    "s = sp.Spek(kvp=120,th=12) # Generate a spectrum (80 kV, 12 degree tube angle)\n",
    "s.filter('Al', 4.0) # Filter by 4 mm of Al\n",
    "\n",
    "hvl = s.get_hvl1() # Get the 1st HVL in mm Al\n",
    "\n",
    "# print(hvl) # Print out the HVL value (Python3 syntax)\n",
    "\n",
    "beam_energy,fluence_0 = s.get_spectrum()\n",
    "beam_energy = beam_energy/1000"
   ]
  },
  {
   "cell_type": "code",
   "execution_count": 3,
   "id": "0a677621-4bcf-4eb1-abf3-c28082fcfa1e",
   "metadata": {},
   "outputs": [
    {
     "data": {
      "text/plain": [
       "238"
      ]
     },
     "execution_count": 3,
     "metadata": {},
     "output_type": "execute_result"
    }
   ],
   "source": [
    "# for fluence in fluence_0:\n",
    "#     print(fluence/sum(fluence_0),end=' ')\n",
    "len(beam_energy)"
   ]
  },
  {
   "cell_type": "code",
   "execution_count": 4,
   "id": "9eaf59d5-eeea-4c5f-bd24-b3667bf8fc27",
   "metadata": {},
   "outputs": [
    {
     "name": "stdout",
     "output_type": "stream",
     "text": [
      "CPU times: user 9.15 s, sys: 1.01 s, total: 10.2 s\n",
      "Wall time: 12min 17s\n"
     ]
    }
   ],
   "source": [
    "%%time \n",
    "\n",
    "# for a CT array of (Nx-1,Ny-1,Nz-1) voxels\n",
    "Nx = 51\n",
    "Ny = 51\n",
    "Nz = 51\n",
    "\n",
    "# distances between the x,y,z planes (also the lengths of the sides of the voxels) in cm\n",
    "dx = 0.1\n",
    "dy = 0.1\n",
    "dz = 0.1\n",
    "\n",
    "# initial and final coordinates of the beam\n",
    "x1,x2 = (0,0)\n",
    "y1,y2 = (0,0)\n",
    "z1,z2 = (2.5,-2.5)\n",
    "\n",
    "# adjustment from center \n",
    "adjust = 0.025\n",
    "\n",
    "# initial plane coordinates\n",
    "xplane1 = -2.5\n",
    "yplane1 = -2.5\n",
    "zplane1 = -2.5\n",
    "\n",
    "# beam info and filename\n",
    "filename = 'energy_absorption_coeffs.txt'\n",
    "\n",
    "# kernel info\n",
    "kernelname = '../Topas/RealKernel1.csv'\n",
    "kernel_size = (2,2,2) # cm \n",
    "\n",
    "# effective distance from center of kernel \n",
    "eff_dist = (0.1,0.1,0.1) # cm\n",
    "\n",
    "# number of cores to use\n",
    "num_cores = 16\n",
    "\n",
    "# Siddon((Nx,Ny,Nz),(dx,dy,dz),((x1,x2),(y1,y2),(z1,z2)),(xplane1,yplane1,zplane1),plot=True)\n",
    "# terma = sd.TERMA((Nx,Ny,Nz),(dx,dy,dz),((x1,x2),(y1,y2),(z1,z2)),(xplane1,yplane1,zplane1),[beam_energy],[fluence_0],mu)\n",
    "\n",
    "dose = sd.Dose_Calculator((Nx,Ny,Nz),(dx,dy,dz),[((x1+adjust,x2+adjust),(y1+adjust,y2+adjust),(z1,z2)),((x1-adjust,x2-adjust),(y1+adjust,y2+adjust),(z1,z2)),((x1+adjust,x2+adjust),(y1-adjust,y2-adjust),(z1,z2)),((x1-adjust,x2-adjust),(y1-adjust,y2-adjust),(z1,z2))],(xplane1,yplane1,zplane1),beam_energy,fluence_0,filename,kernelname,kernel_size,eff_dist,num_cores)\n"
   ]
  },
  {
   "cell_type": "code",
   "execution_count": 5,
   "id": "027a44a4-ca2a-4f88-b452-004df5f22586",
   "metadata": {},
   "outputs": [],
   "source": [
    "pickle.dump(dose,open('dosetest2_1.pickle','wb'))"
   ]
  },
  {
   "cell_type": "markdown",
   "id": "63cba315-892e-4d38-a07d-45074d7a5255",
   "metadata": {},
   "source": [
    "## Testing Dose Four"
   ]
  },
  {
   "cell_type": "code",
   "execution_count": 2,
   "id": "8a3a9df4-1fbf-4c08-8fe8-2ccc743b7bb6",
   "metadata": {},
   "outputs": [
    {
     "name": "stdout",
     "output_type": "stream",
     "text": [
      "CPU times: user 16.9 s, sys: 11.7 s, total: 28.6 s\n",
      "Wall time: 43min 40s\n"
     ]
    }
   ],
   "source": [
    "%%time \n",
    "\n",
    "# for a CT array of (Nx-1,Ny-1,Nz-1) voxels\n",
    "Nx = 51\n",
    "Ny = 51\n",
    "Nz = 51\n",
    "\n",
    "# distances between the x,y,z planes (also the lengths of the sides of the voxels) in cm\n",
    "dx = 0.1\n",
    "dy = 0.1\n",
    "dz = 0.1\n",
    "\n",
    "# initial and final coordinates of the beam\n",
    "x1,x2 = (0,0)\n",
    "y1,y2 = (0,0)\n",
    "z1,z2 = (2.5,-2.5)\n",
    "\n",
    "# number of rays \n",
    "num_rays = 300\n",
    "\n",
    "rays = dc.MakeFanBeamRays(num_rays,np.pi/6,((x1,x2),(y1,y2),(z1,z2)),direction='y',adjust=0.025)\n",
    "\n",
    "# adjustment from center \n",
    "adjust = 0.025\n",
    "\n",
    "# initial plane coordinates\n",
    "xplane1 = -2.5\n",
    "yplane1 = -2.5\n",
    "zplane1 = -2.5\n",
    "\n",
    "# beam info and filename\n",
    "beam_energy = 0.120 # in MeV\n",
    "# fluence_0 = 3.183098862 * 10**8 # photon/cm^2\n",
    "# fluence_0 = 2.53 * 10**8 # photon/cm^2\n",
    "fluence_0 = 9.93 * 10**8 # photon/cm^2\n",
    "# filename = 'energy_absorption_coeff.txt'\n",
    "filename = 'energy_absorption_coeffs.txt'\n",
    "\n",
    "# kernel info\n",
    "kernelname = '../Topas/ReverseEngineerKernel.csv'\n",
    "kernel_size = (2,2,2) # cm \n",
    "\n",
    "# effective distance from center of kernel \n",
    "eff_dist = (0.01,0.01,0.01) # cm\n",
    "\n",
    "# number of cores to use\n",
    "num_cores = 16\n",
    "\n",
    "# Siddon((Nx,Ny,Nz),(dx,dy,dz),((x1,x2),(y1,y2),(z1,z2)),(xplane1,yplane1,zplane1),plot=True)\n",
    "# terma = sd.TERMA((Nx,Ny,Nz),(dx,dy,dz),((x1,x2),(y1,y2),(z1,z2)),(xplane1,yplane1,zplane1),[beam_energy],[fluence_0],mu)\n",
    "\n",
    "dose = dc.Dose_Calculator((Nx,Ny,Nz),(dx,dy,dz),rays,(xplane1,yplane1,zplane1),[beam_energy],[fluence_0],filename,kernelname,kernel_size,eff_dist,num_cores)\n"
   ]
  },
  {
   "cell_type": "code",
   "execution_count": null,
   "id": "5c012202-8444-40db-b450-7f714832f87c",
   "metadata": {},
   "outputs": [],
   "source": [
    "# with previous code (slow), 16 cores, and 10 rays\n",
    "CPU times: user 10.5 s, sys: 2.04 s, total: 12.6 s\n",
    "Wall time: 29min 31s"
   ]
  },
  {
   "cell_type": "code",
   "execution_count": 3,
   "id": "c31f7a6e-9cc8-448c-a747-627bd05212b0",
   "metadata": {},
   "outputs": [],
   "source": [
    "pickle.dump(dose,open('dose4_4.pickle','wb'))"
   ]
  },
  {
   "cell_type": "markdown",
   "id": "726bc5c0-4183-4499-827c-0b4582ee1dc8",
   "metadata": {},
   "source": [
    "## Testing Dose Five \n",
    "- like TestingDose1 except 256x256x256 voxels!"
   ]
  },
  {
   "cell_type": "code",
   "execution_count": 2,
   "id": "394956d4-6f82-4573-809e-493e5883accf",
   "metadata": {},
   "outputs": [
    {
     "name": "stderr",
     "output_type": "stream",
     "text": [
      "Process ForkPoolWorker-56:\n",
      "Process ForkPoolWorker-47:\n",
      "Process ForkPoolWorker-49:\n",
      "Process ForkPoolWorker-55:\n",
      "Process ForkPoolWorker-53:\n",
      "Process ForkPoolWorker-54:\n",
      "Process ForkPoolWorker-48:\n",
      "Process ForkPoolWorker-46:\n",
      "Process ForkPoolWorker-50:\n",
      "Process ForkPoolWorker-44:\n",
      "Process ForkPoolWorker-52:\n",
      "Process ForkPoolWorker-42:\n",
      "Process ForkPoolWorker-51:\n",
      "Process ForkPoolWorker-45:\n",
      "Process ForkPoolWorker-43:\n",
      "Process ForkPoolWorker-41:\n",
      "Traceback (most recent call last):\n",
      "Traceback (most recent call last):\n",
      "Traceback (most recent call last):\n",
      "Traceback (most recent call last):\n",
      "Traceback (most recent call last):\n",
      "Traceback (most recent call last):\n",
      "Traceback (most recent call last):\n",
      "Traceback (most recent call last):\n",
      "Traceback (most recent call last):\n",
      "  File \"/usr/lib/python3.6/multiprocessing/process.py\", line 258, in _bootstrap\n",
      "    self.run()\n",
      "  File \"/usr/lib/python3.6/multiprocessing/process.py\", line 258, in _bootstrap\n",
      "    self.run()\n",
      "  File \"/usr/lib/python3.6/multiprocessing/process.py\", line 258, in _bootstrap\n",
      "    self.run()\n",
      "  File \"/usr/lib/python3.6/multiprocessing/process.py\", line 258, in _bootstrap\n",
      "    self.run()\n",
      "Traceback (most recent call last):\n",
      "  File \"/usr/lib/python3.6/multiprocessing/process.py\", line 258, in _bootstrap\n",
      "    self.run()\n",
      "  File \"/usr/lib/python3.6/multiprocessing/process.py\", line 258, in _bootstrap\n",
      "    self.run()\n",
      "  File \"/usr/lib/python3.6/multiprocessing/process.py\", line 258, in _bootstrap\n",
      "    self.run()\n",
      "  File \"/usr/lib/python3.6/multiprocessing/process.py\", line 258, in _bootstrap\n",
      "    self.run()\n",
      "  File \"/usr/lib/python3.6/multiprocessing/process.py\", line 258, in _bootstrap\n",
      "    self.run()\n",
      "  File \"/usr/lib/python3.6/multiprocessing/process.py\", line 93, in run\n",
      "    self._target(*self._args, **self._kwargs)\n",
      "  File \"/usr/lib/python3.6/multiprocessing/process.py\", line 93, in run\n",
      "    self._target(*self._args, **self._kwargs)\n",
      "  File \"/usr/lib/python3.6/multiprocessing/process.py\", line 93, in run\n",
      "    self._target(*self._args, **self._kwargs)\n",
      "  File \"/usr/lib/python3.6/multiprocessing/process.py\", line 93, in run\n",
      "    self._target(*self._args, **self._kwargs)\n",
      "  File \"/usr/lib/python3.6/multiprocessing/process.py\", line 93, in run\n",
      "    self._target(*self._args, **self._kwargs)\n",
      "  File \"/usr/lib/python3.6/multiprocessing/process.py\", line 93, in run\n",
      "    self._target(*self._args, **self._kwargs)\n",
      "  File \"/usr/lib/python3.6/multiprocessing/process.py\", line 258, in _bootstrap\n",
      "    self.run()\n",
      "  File \"/usr/lib/python3.6/multiprocessing/process.py\", line 93, in run\n",
      "    self._target(*self._args, **self._kwargs)\n",
      "  File \"/usr/lib/python3.6/multiprocessing/process.py\", line 93, in run\n",
      "    self._target(*self._args, **self._kwargs)\n",
      "  File \"/usr/lib/python3.6/multiprocessing/process.py\", line 93, in run\n",
      "    self._target(*self._args, **self._kwargs)\n",
      "  File \"/usr/lib/python3.6/multiprocessing/pool.py\", line 108, in worker\n",
      "    task = get()\n",
      "  File \"/usr/lib/python3.6/multiprocessing/pool.py\", line 108, in worker\n",
      "    task = get()\n",
      "  File \"/usr/lib/python3.6/multiprocessing/pool.py\", line 108, in worker\n",
      "    task = get()\n",
      "  File \"/usr/lib/python3.6/multiprocessing/pool.py\", line 108, in worker\n",
      "    task = get()\n",
      "  File \"/usr/lib/python3.6/multiprocessing/pool.py\", line 108, in worker\n",
      "    task = get()\n",
      "  File \"/usr/lib/python3.6/multiprocessing/pool.py\", line 108, in worker\n",
      "    task = get()\n",
      "  File \"/usr/lib/python3.6/multiprocessing/process.py\", line 93, in run\n",
      "    self._target(*self._args, **self._kwargs)\n",
      "  File \"/usr/lib/python3.6/multiprocessing/pool.py\", line 108, in worker\n",
      "    task = get()\n",
      "  File \"/usr/lib/python3.6/multiprocessing/pool.py\", line 108, in worker\n",
      "    task = get()\n",
      "  File \"/usr/lib/python3.6/multiprocessing/pool.py\", line 108, in worker\n",
      "    task = get()\n",
      "  File \"/usr/lib/python3.6/multiprocessing/queues.py\", line 334, in get\n",
      "    with self._rlock:\n",
      "  File \"/usr/lib/python3.6/multiprocessing/queues.py\", line 334, in get\n",
      "    with self._rlock:\n",
      "  File \"/usr/lib/python3.6/multiprocessing/queues.py\", line 334, in get\n",
      "    with self._rlock:\n",
      "  File \"/usr/lib/python3.6/multiprocessing/queues.py\", line 334, in get\n",
      "    with self._rlock:\n",
      "  File \"/usr/lib/python3.6/multiprocessing/queues.py\", line 334, in get\n",
      "    with self._rlock:\n",
      "  File \"/usr/lib/python3.6/multiprocessing/queues.py\", line 334, in get\n",
      "    with self._rlock:\n",
      "  File \"/usr/lib/python3.6/multiprocessing/pool.py\", line 108, in worker\n",
      "    task = get()\n",
      "  File \"/usr/lib/python3.6/multiprocessing/queues.py\", line 334, in get\n",
      "    with self._rlock:\n",
      "Traceback (most recent call last):\n",
      "  File \"/usr/lib/python3.6/multiprocessing/queues.py\", line 334, in get\n",
      "    with self._rlock:\n",
      "  File \"/usr/lib/python3.6/multiprocessing/queues.py\", line 334, in get\n",
      "    with self._rlock:\n",
      "  File \"/usr/lib/python3.6/multiprocessing/synchronize.py\", line 95, in __enter__\n",
      "    return self._semlock.__enter__()\n",
      "  File \"/usr/lib/python3.6/multiprocessing/synchronize.py\", line 95, in __enter__\n",
      "    return self._semlock.__enter__()\n",
      "  File \"/usr/lib/python3.6/multiprocessing/synchronize.py\", line 95, in __enter__\n",
      "    return self._semlock.__enter__()\n",
      "  File \"/usr/lib/python3.6/multiprocessing/synchronize.py\", line 95, in __enter__\n",
      "    return self._semlock.__enter__()\n",
      "  File \"/usr/lib/python3.6/multiprocessing/synchronize.py\", line 95, in __enter__\n",
      "    return self._semlock.__enter__()\n",
      "  File \"/usr/lib/python3.6/multiprocessing/synchronize.py\", line 95, in __enter__\n",
      "    return self._semlock.__enter__()\n",
      "  File \"/usr/lib/python3.6/multiprocessing/queues.py\", line 334, in get\n",
      "    with self._rlock:\n",
      "  File \"/usr/lib/python3.6/multiprocessing/synchronize.py\", line 95, in __enter__\n",
      "    return self._semlock.__enter__()\n",
      "  File \"/usr/lib/python3.6/multiprocessing/process.py\", line 258, in _bootstrap\n",
      "    self.run()\n",
      "  File \"/usr/lib/python3.6/multiprocessing/synchronize.py\", line 95, in __enter__\n",
      "    return self._semlock.__enter__()\n",
      "  File \"/usr/lib/python3.6/multiprocessing/synchronize.py\", line 95, in __enter__\n",
      "    return self._semlock.__enter__()\n",
      "KeyboardInterrupt\n",
      "KeyboardInterrupt\n",
      "KeyboardInterrupt\n",
      "KeyboardInterrupt\n",
      "KeyboardInterrupt\n",
      "KeyboardInterrupt\n",
      "  File \"/usr/lib/python3.6/multiprocessing/synchronize.py\", line 95, in __enter__\n",
      "    return self._semlock.__enter__()\n",
      "KeyboardInterrupt\n",
      "  File \"/usr/lib/python3.6/multiprocessing/process.py\", line 93, in run\n",
      "    self._target(*self._args, **self._kwargs)\n",
      "KeyboardInterrupt\n",
      "KeyboardInterrupt\n",
      "Traceback (most recent call last):\n",
      "Traceback (most recent call last):\n",
      "Traceback (most recent call last):\n",
      "KeyboardInterrupt\n",
      "  File \"/usr/lib/python3.6/multiprocessing/pool.py\", line 108, in worker\n",
      "    task = get()\n",
      "Traceback (most recent call last):\n",
      "  File \"/usr/lib/python3.6/multiprocessing/process.py\", line 258, in _bootstrap\n",
      "    self.run()\n",
      "  File \"/usr/lib/python3.6/multiprocessing/process.py\", line 258, in _bootstrap\n",
      "    self.run()\n",
      "  File \"/usr/lib/python3.6/multiprocessing/process.py\", line 258, in _bootstrap\n",
      "    self.run()\n",
      "Traceback (most recent call last):\n",
      "  File \"/usr/lib/python3.6/multiprocessing/queues.py\", line 334, in get\n",
      "    with self._rlock:\n",
      "  File \"/usr/lib/python3.6/multiprocessing/process.py\", line 93, in run\n",
      "    self._target(*self._args, **self._kwargs)\n",
      "  File \"/usr/lib/python3.6/multiprocessing/process.py\", line 93, in run\n",
      "    self._target(*self._args, **self._kwargs)\n",
      "  File \"/usr/lib/python3.6/multiprocessing/process.py\", line 93, in run\n",
      "    self._target(*self._args, **self._kwargs)\n",
      "  File \"/usr/lib/python3.6/multiprocessing/process.py\", line 258, in _bootstrap\n",
      "    self.run()\n",
      "  File \"/usr/lib/python3.6/multiprocessing/process.py\", line 258, in _bootstrap\n",
      "    self.run()\n",
      "  File \"/usr/lib/python3.6/multiprocessing/synchronize.py\", line 95, in __enter__\n",
      "    return self._semlock.__enter__()\n",
      "  File \"/usr/lib/python3.6/multiprocessing/pool.py\", line 108, in worker\n",
      "    task = get()\n",
      "  File \"/usr/lib/python3.6/multiprocessing/pool.py\", line 108, in worker\n",
      "    task = get()\n",
      "  File \"/usr/lib/python3.6/multiprocessing/process.py\", line 93, in run\n",
      "    self._target(*self._args, **self._kwargs)\n",
      "  File \"/usr/lib/python3.6/multiprocessing/pool.py\", line 108, in worker\n",
      "    task = get()\n",
      "  File \"/usr/lib/python3.6/multiprocessing/process.py\", line 93, in run\n",
      "    self._target(*self._args, **self._kwargs)\n",
      "KeyboardInterrupt\n",
      "  File \"/usr/lib/python3.6/multiprocessing/queues.py\", line 334, in get\n",
      "    with self._rlock:\n",
      "  File \"/usr/lib/python3.6/multiprocessing/queues.py\", line 334, in get\n",
      "    with self._rlock:\n",
      "  File \"/usr/lib/python3.6/multiprocessing/queues.py\", line 335, in get\n",
      "    res = self._reader.recv_bytes()\n",
      "  File \"/usr/lib/python3.6/multiprocessing/pool.py\", line 108, in worker\n",
      "    task = get()\n",
      "  File \"/usr/lib/python3.6/multiprocessing/synchronize.py\", line 95, in __enter__\n",
      "    return self._semlock.__enter__()\n",
      "  File \"/usr/lib/python3.6/multiprocessing/pool.py\", line 108, in worker\n",
      "    task = get()\n",
      "  File \"/usr/lib/python3.6/multiprocessing/queues.py\", line 334, in get\n",
      "    with self._rlock:\n",
      "  File \"/usr/lib/python3.6/multiprocessing/connection.py\", line 216, in recv_bytes\n",
      "    buf = self._recv_bytes(maxlength)\n",
      "  File \"/usr/lib/python3.6/multiprocessing/queues.py\", line 334, in get\n",
      "    with self._rlock:\n",
      "KeyboardInterrupt\n",
      "  File \"/usr/lib/python3.6/multiprocessing/synchronize.py\", line 95, in __enter__\n",
      "    return self._semlock.__enter__()\n",
      "  File \"/usr/lib/python3.6/multiprocessing/synchronize.py\", line 95, in __enter__\n",
      "    return self._semlock.__enter__()\n",
      "  File \"/usr/lib/python3.6/multiprocessing/connection.py\", line 407, in _recv_bytes\n",
      "    buf = self._recv(4)\n",
      "  File \"/usr/lib/python3.6/multiprocessing/synchronize.py\", line 95, in __enter__\n",
      "    return self._semlock.__enter__()\n",
      "KeyboardInterrupt\n",
      "KeyboardInterrupt\n",
      "  File \"/usr/lib/python3.6/multiprocessing/connection.py\", line 379, in _recv\n",
      "    chunk = read(handle, remaining)\n",
      "KeyboardInterrupt\n",
      "KeyboardInterrupt\n"
     ]
    },
    {
     "ename": "KeyboardInterrupt",
     "evalue": "",
     "output_type": "error",
     "traceback": [
      "\u001b[0;31m---------------------------------------------------------------------------\u001b[0m",
      "\u001b[0;31mKeyboardInterrupt\u001b[0m                         Traceback (most recent call last)",
      "\u001b[0;32m<timed exec>\u001b[0m in \u001b[0;36m<module>\u001b[0;34m\u001b[0m\n",
      "\u001b[0;32m~/NSERC-Summer-2022/Python/dose_calculator.py\u001b[0m in \u001b[0;36mDose_Calculator\u001b[0;34m(num_planes, voxel_lengths, beam_coor, ini_planes, beam_energy, ini_fluence, filename, kernelname, kernel_size, eff_distance, num_cores)\u001b[0m\n\u001b[1;32m    611\u001b[0m     \u001b[0mkernel_array\u001b[0m \u001b[0;34m=\u001b[0m \u001b[0mkernel_array_raw\u001b[0m\u001b[0;34m/\u001b[0m\u001b[0mnp\u001b[0m\u001b[0;34m.\u001b[0m\u001b[0msum\u001b[0m\u001b[0;34m(\u001b[0m\u001b[0mkernel_array_raw\u001b[0m\u001b[0;34m)\u001b[0m \u001b[0;31m# normalized array\u001b[0m\u001b[0;34m\u001b[0m\u001b[0;34m\u001b[0m\u001b[0m\n\u001b[1;32m    612\u001b[0m \u001b[0;34m\u001b[0m\u001b[0m\n\u001b[0;32m--> 613\u001b[0;31m     \u001b[0menergy_deposit\u001b[0m \u001b[0;34m=\u001b[0m \u001b[0mSuperposition\u001b[0m\u001b[0;34m(\u001b[0m\u001b[0mkernel_array\u001b[0m\u001b[0;34m,\u001b[0m\u001b[0mkernel_size\u001b[0m\u001b[0;34m,\u001b[0m\u001b[0mnum_planes\u001b[0m\u001b[0;34m,\u001b[0m\u001b[0mvoxel_lengths\u001b[0m\u001b[0;34m,\u001b[0m\u001b[0mvoxel_info\u001b[0m\u001b[0;34m,\u001b[0m\u001b[0mbeam_coor\u001b[0m\u001b[0;34m,\u001b[0m\u001b[0meff_distance\u001b[0m\u001b[0;34m,\u001b[0m\u001b[0mnum_cores\u001b[0m\u001b[0;34m)\u001b[0m\u001b[0;34m\u001b[0m\u001b[0;34m\u001b[0m\u001b[0m\n\u001b[0m\u001b[1;32m    614\u001b[0m     \u001b[0;32mreturn\u001b[0m \u001b[0menergy_deposit\u001b[0m\u001b[0;34m\u001b[0m\u001b[0;34m\u001b[0m\u001b[0m\n\u001b[1;32m    615\u001b[0m \u001b[0;34m\u001b[0m\u001b[0m\n",
      "\u001b[0;32m~/NSERC-Summer-2022/Python/dose_calculator.py\u001b[0m in \u001b[0;36mSuperposition\u001b[0;34m(kernel_array, kernel_size, num_planes, voxel_lengths, voxel_info, beam_coor, eff_distance, num_cores)\u001b[0m\n\u001b[1;32m    502\u001b[0m         \u001b[0mpickle\u001b[0m\u001b[0;34m.\u001b[0m\u001b[0mdump\u001b[0m\u001b[0;34m(\u001b[0m\u001b[0mkernel_coors_mat\u001b[0m\u001b[0;34m,\u001b[0m\u001b[0mopen\u001b[0m\u001b[0;34m(\u001b[0m\u001b[0;34m'dose_calc_variables/kernel_coors_mat.pickle'\u001b[0m\u001b[0;34m,\u001b[0m\u001b[0;34m'wb'\u001b[0m\u001b[0;34m)\u001b[0m\u001b[0;34m)\u001b[0m\u001b[0;34m\u001b[0m\u001b[0;34m\u001b[0m\u001b[0m\n\u001b[1;32m    503\u001b[0m \u001b[0;34m\u001b[0m\u001b[0m\n\u001b[0;32m--> 504\u001b[0;31m         \u001b[0menergy_deposit\u001b[0m\u001b[0;34m[\u001b[0m\u001b[0mray\u001b[0m\u001b[0;34m]\u001b[0m \u001b[0;34m=\u001b[0m \u001b[0mp\u001b[0m\u001b[0;34m.\u001b[0m\u001b[0mmap\u001b[0m\u001b[0;34m(\u001b[0m\u001b[0mmask_superimpose\u001b[0m\u001b[0;34m,\u001b[0m\u001b[0mvoxel_info\u001b[0m\u001b[0;34m[\u001b[0m\u001b[0mray\u001b[0m\u001b[0;34m]\u001b[0m\u001b[0;34m)\u001b[0m\u001b[0;34m\u001b[0m\u001b[0;34m\u001b[0m\u001b[0m\n\u001b[0m\u001b[1;32m    505\u001b[0m \u001b[0;34m\u001b[0m\u001b[0m\n\u001b[1;32m    506\u001b[0m         \u001b[0;31m# energy_deposit[ray] = [Superimpose(voxel_info[ray][voxel_ind],voxel_array,kernel_func,center_coor,(dx/kernel_info['x']['voxel_size'],dy/kernel_info['y']['voxel_size'],dz/kernel_info['z']['voxel_size'])) for voxel_ind in range(len(voxel_info[ray]))]\u001b[0m\u001b[0;34m\u001b[0m\u001b[0;34m\u001b[0m\u001b[0;34m\u001b[0m\u001b[0m\n",
      "\u001b[0;32m/usr/lib/python3.6/multiprocessing/pool.py\u001b[0m in \u001b[0;36mmap\u001b[0;34m(self, func, iterable, chunksize)\u001b[0m\n\u001b[1;32m    264\u001b[0m         \u001b[0;32min\u001b[0m \u001b[0ma\u001b[0m \u001b[0mlist\u001b[0m \u001b[0mthat\u001b[0m \u001b[0;32mis\u001b[0m \u001b[0mreturned\u001b[0m\u001b[0;34m.\u001b[0m\u001b[0;34m\u001b[0m\u001b[0;34m\u001b[0m\u001b[0m\n\u001b[1;32m    265\u001b[0m         '''\n\u001b[0;32m--> 266\u001b[0;31m         \u001b[0;32mreturn\u001b[0m \u001b[0mself\u001b[0m\u001b[0;34m.\u001b[0m\u001b[0m_map_async\u001b[0m\u001b[0;34m(\u001b[0m\u001b[0mfunc\u001b[0m\u001b[0;34m,\u001b[0m \u001b[0miterable\u001b[0m\u001b[0;34m,\u001b[0m \u001b[0mmapstar\u001b[0m\u001b[0;34m,\u001b[0m \u001b[0mchunksize\u001b[0m\u001b[0;34m)\u001b[0m\u001b[0;34m.\u001b[0m\u001b[0mget\u001b[0m\u001b[0;34m(\u001b[0m\u001b[0;34m)\u001b[0m\u001b[0;34m\u001b[0m\u001b[0;34m\u001b[0m\u001b[0m\n\u001b[0m\u001b[1;32m    267\u001b[0m \u001b[0;34m\u001b[0m\u001b[0m\n\u001b[1;32m    268\u001b[0m     \u001b[0;32mdef\u001b[0m \u001b[0mstarmap\u001b[0m\u001b[0;34m(\u001b[0m\u001b[0mself\u001b[0m\u001b[0;34m,\u001b[0m \u001b[0mfunc\u001b[0m\u001b[0;34m,\u001b[0m \u001b[0miterable\u001b[0m\u001b[0;34m,\u001b[0m \u001b[0mchunksize\u001b[0m\u001b[0;34m=\u001b[0m\u001b[0;32mNone\u001b[0m\u001b[0;34m)\u001b[0m\u001b[0;34m:\u001b[0m\u001b[0;34m\u001b[0m\u001b[0;34m\u001b[0m\u001b[0m\n",
      "\u001b[0;32m/usr/lib/python3.6/multiprocessing/pool.py\u001b[0m in \u001b[0;36mget\u001b[0;34m(self, timeout)\u001b[0m\n\u001b[1;32m    636\u001b[0m \u001b[0;34m\u001b[0m\u001b[0m\n\u001b[1;32m    637\u001b[0m     \u001b[0;32mdef\u001b[0m \u001b[0mget\u001b[0m\u001b[0;34m(\u001b[0m\u001b[0mself\u001b[0m\u001b[0;34m,\u001b[0m \u001b[0mtimeout\u001b[0m\u001b[0;34m=\u001b[0m\u001b[0;32mNone\u001b[0m\u001b[0;34m)\u001b[0m\u001b[0;34m:\u001b[0m\u001b[0;34m\u001b[0m\u001b[0;34m\u001b[0m\u001b[0m\n\u001b[0;32m--> 638\u001b[0;31m         \u001b[0mself\u001b[0m\u001b[0;34m.\u001b[0m\u001b[0mwait\u001b[0m\u001b[0;34m(\u001b[0m\u001b[0mtimeout\u001b[0m\u001b[0;34m)\u001b[0m\u001b[0;34m\u001b[0m\u001b[0;34m\u001b[0m\u001b[0m\n\u001b[0m\u001b[1;32m    639\u001b[0m         \u001b[0;32mif\u001b[0m \u001b[0;32mnot\u001b[0m \u001b[0mself\u001b[0m\u001b[0;34m.\u001b[0m\u001b[0mready\u001b[0m\u001b[0;34m(\u001b[0m\u001b[0;34m)\u001b[0m\u001b[0;34m:\u001b[0m\u001b[0;34m\u001b[0m\u001b[0;34m\u001b[0m\u001b[0m\n\u001b[1;32m    640\u001b[0m             \u001b[0;32mraise\u001b[0m \u001b[0mTimeoutError\u001b[0m\u001b[0;34m\u001b[0m\u001b[0;34m\u001b[0m\u001b[0m\n",
      "\u001b[0;32m/usr/lib/python3.6/multiprocessing/pool.py\u001b[0m in \u001b[0;36mwait\u001b[0;34m(self, timeout)\u001b[0m\n\u001b[1;32m    633\u001b[0m \u001b[0;34m\u001b[0m\u001b[0m\n\u001b[1;32m    634\u001b[0m     \u001b[0;32mdef\u001b[0m \u001b[0mwait\u001b[0m\u001b[0;34m(\u001b[0m\u001b[0mself\u001b[0m\u001b[0;34m,\u001b[0m \u001b[0mtimeout\u001b[0m\u001b[0;34m=\u001b[0m\u001b[0;32mNone\u001b[0m\u001b[0;34m)\u001b[0m\u001b[0;34m:\u001b[0m\u001b[0;34m\u001b[0m\u001b[0;34m\u001b[0m\u001b[0m\n\u001b[0;32m--> 635\u001b[0;31m         \u001b[0mself\u001b[0m\u001b[0;34m.\u001b[0m\u001b[0m_event\u001b[0m\u001b[0;34m.\u001b[0m\u001b[0mwait\u001b[0m\u001b[0;34m(\u001b[0m\u001b[0mtimeout\u001b[0m\u001b[0;34m)\u001b[0m\u001b[0;34m\u001b[0m\u001b[0;34m\u001b[0m\u001b[0m\n\u001b[0m\u001b[1;32m    636\u001b[0m \u001b[0;34m\u001b[0m\u001b[0m\n\u001b[1;32m    637\u001b[0m     \u001b[0;32mdef\u001b[0m \u001b[0mget\u001b[0m\u001b[0;34m(\u001b[0m\u001b[0mself\u001b[0m\u001b[0;34m,\u001b[0m \u001b[0mtimeout\u001b[0m\u001b[0;34m=\u001b[0m\u001b[0;32mNone\u001b[0m\u001b[0;34m)\u001b[0m\u001b[0;34m:\u001b[0m\u001b[0;34m\u001b[0m\u001b[0;34m\u001b[0m\u001b[0m\n",
      "\u001b[0;32m/usr/lib/python3.6/threading.py\u001b[0m in \u001b[0;36mwait\u001b[0;34m(self, timeout)\u001b[0m\n\u001b[1;32m    549\u001b[0m             \u001b[0msignaled\u001b[0m \u001b[0;34m=\u001b[0m \u001b[0mself\u001b[0m\u001b[0;34m.\u001b[0m\u001b[0m_flag\u001b[0m\u001b[0;34m\u001b[0m\u001b[0;34m\u001b[0m\u001b[0m\n\u001b[1;32m    550\u001b[0m             \u001b[0;32mif\u001b[0m \u001b[0;32mnot\u001b[0m \u001b[0msignaled\u001b[0m\u001b[0;34m:\u001b[0m\u001b[0;34m\u001b[0m\u001b[0;34m\u001b[0m\u001b[0m\n\u001b[0;32m--> 551\u001b[0;31m                 \u001b[0msignaled\u001b[0m \u001b[0;34m=\u001b[0m \u001b[0mself\u001b[0m\u001b[0;34m.\u001b[0m\u001b[0m_cond\u001b[0m\u001b[0;34m.\u001b[0m\u001b[0mwait\u001b[0m\u001b[0;34m(\u001b[0m\u001b[0mtimeout\u001b[0m\u001b[0;34m)\u001b[0m\u001b[0;34m\u001b[0m\u001b[0;34m\u001b[0m\u001b[0m\n\u001b[0m\u001b[1;32m    552\u001b[0m             \u001b[0;32mreturn\u001b[0m \u001b[0msignaled\u001b[0m\u001b[0;34m\u001b[0m\u001b[0;34m\u001b[0m\u001b[0m\n\u001b[1;32m    553\u001b[0m \u001b[0;34m\u001b[0m\u001b[0m\n",
      "\u001b[0;32m/usr/lib/python3.6/threading.py\u001b[0m in \u001b[0;36mwait\u001b[0;34m(self, timeout)\u001b[0m\n\u001b[1;32m    293\u001b[0m         \u001b[0;32mtry\u001b[0m\u001b[0;34m:\u001b[0m    \u001b[0;31m# restore state no matter what (e.g., KeyboardInterrupt)\u001b[0m\u001b[0;34m\u001b[0m\u001b[0;34m\u001b[0m\u001b[0m\n\u001b[1;32m    294\u001b[0m             \u001b[0;32mif\u001b[0m \u001b[0mtimeout\u001b[0m \u001b[0;32mis\u001b[0m \u001b[0;32mNone\u001b[0m\u001b[0;34m:\u001b[0m\u001b[0;34m\u001b[0m\u001b[0;34m\u001b[0m\u001b[0m\n\u001b[0;32m--> 295\u001b[0;31m                 \u001b[0mwaiter\u001b[0m\u001b[0;34m.\u001b[0m\u001b[0macquire\u001b[0m\u001b[0;34m(\u001b[0m\u001b[0;34m)\u001b[0m\u001b[0;34m\u001b[0m\u001b[0;34m\u001b[0m\u001b[0m\n\u001b[0m\u001b[1;32m    296\u001b[0m                 \u001b[0mgotit\u001b[0m \u001b[0;34m=\u001b[0m \u001b[0;32mTrue\u001b[0m\u001b[0;34m\u001b[0m\u001b[0;34m\u001b[0m\u001b[0m\n\u001b[1;32m    297\u001b[0m             \u001b[0;32melse\u001b[0m\u001b[0;34m:\u001b[0m\u001b[0;34m\u001b[0m\u001b[0;34m\u001b[0m\u001b[0m\n",
      "\u001b[0;31mKeyboardInterrupt\u001b[0m: "
     ]
    }
   ],
   "source": [
    "%%time \n",
    "\n",
    "# for a CT array of (Nx-1,Ny-1,Nz-1) voxels\n",
    "Nx = 257\n",
    "Ny = 257\n",
    "Nz = 257\n",
    "\n",
    "# distances between the x,y,z planes (also the lengths of the sides of the voxels) in cm\n",
    "dx = 0.1\n",
    "dy = 0.1\n",
    "dz = 0.1\n",
    "\n",
    "# initial and final coordinates of the beam\n",
    "x1,x2 = (0,0)\n",
    "y1,y2 = (0,0)\n",
    "z1,z2 = (2.5,-2.5)\n",
    "\n",
    "# adjustment from center \n",
    "adjust = 0.025\n",
    "\n",
    "# initial plane coordinates\n",
    "xplane1 = -2.5\n",
    "yplane1 = -2.5\n",
    "zplane1 = -2.5\n",
    "\n",
    "# beam info and filename\n",
    "beam_energy = 0.120 # in MeV\n",
    "# fluence_0 = 3.183098862 * 10**8 # photon/cm^2\n",
    "# fluence_0 = 2.53 * 10**8 # photon/cm^2\n",
    "fluence_0 = 9.93 * 10**8 # photon/cm^2\n",
    "# filename = 'energy_absorption_coeff.txt'\n",
    "filename = 'energy_absorption_coeffs.txt'\n",
    "\n",
    "# kernel info\n",
    "kernelname = '../Topas/RealKernel1.csv'\n",
    "kernel_size = (2,2,2) # cm \n",
    "\n",
    "# effective distance from center of kernel \n",
    "eff_dist = (0.5,0.5,0.5) # cm\n",
    "\n",
    "# number of cores to use\n",
    "num_cores = 16\n",
    "\n",
    "# Siddon((Nx,Ny,Nz),(dx,dy,dz),((x1,x2),(y1,y2),(z1,z2)),(xplane1,yplane1,zplane1),plot=True)\n",
    "# terma = sd.TERMA((Nx,Ny,Nz),(dx,dy,dz),((x1,x2),(y1,y2),(z1,z2)),(xplane1,yplane1,zplane1),[beam_energy],[fluence_0],mu)\n",
    "\n",
    "dose = dc.Dose_Calculator((Nx,Ny,Nz),(dx,dy,dz),[((x1+adjust,x2+adjust),(y1+adjust,y2+adjust),(z1,z2)),((x1-adjust,x2-adjust),(y1+adjust,y2+adjust),(z1,z2)),((x1+adjust,x2+adjust),(y1-adjust,y2-adjust),(z1,z2)),((x1-adjust,x2-adjust),(y1-adjust,y2-adjust),(z1,z2))],(xplane1,yplane1,zplane1),[beam_energy],[fluence_0],filename,kernelname,kernel_size,eff_dist,num_cores)\n"
   ]
  },
  {
   "cell_type": "markdown",
   "id": "a305edf9-7b69-4a89-99b8-2473e714d706",
   "metadata": {
    "tags": []
   },
   "source": [
    "## Reverse Engineering Kernel"
   ]
  },
  {
   "cell_type": "code",
   "execution_count": 2,
   "id": "9cf5960e-6399-4362-b853-d0a473056428",
   "metadata": {},
   "outputs": [
    {
     "name": "stdout",
     "output_type": "stream",
     "text": [
      "(3.0, 3.0, 13.0) 0.0\n",
      "(3.0, 3.0, 10.0) 0.0\n",
      "(3.0, 3.0, 12.0) 0.0\n",
      "(3.0, 3.0, 6.0) 6.419899895270212e-07\n",
      "(3.0, 3.0, 11.0) 0.0\n",
      "(3.0, 3.0, 9.0) 0.0\n",
      "(3.0, 3.0, 5.0) 0.0006659781594462842(3.0, 3.0, 3.0) \n",
      "4.8628067551665585e-05\n",
      "(3.0, 3.0, 8.0) 7.422201649956291e-08\n",
      "(3.0, 3.0, 2.0) 3.230064520680644e-07\n",
      "(3.0, 3.0, 7.0) 2.528025660796346e-07\n",
      "(3.0, 3.0, 4.0) 0.0018144549474584369\n",
      "(3.0, 3.0, -1.0) 0.0\n",
      "(3.0, 3.0, 1.0) 6.413210910409552e-08(3.0, 3.0, 0.0)\n",
      " 3.0111572516624414e-08\n",
      "(3.0, 3.0, -2.0) 0.0\n",
      "(3.0, 3.0, -3.0) 0.0\n",
      "(3.0, 3.0, -4.0) 0.0\n",
      "(3.0, 3.0, -5.0) 0.0\n",
      "(4.0, 3.0, 13.0) 0.0\n",
      "(4.0, 3.0, 12.0) 0.0\n",
      "(4.0, 3.0, 8.0) 8.480457472828421e-08\n",
      "(4.0, 3.0, 6.0) 9.194167009919759e-07\n",
      "(4.0, 3.0, 10.0) 0.0\n",
      "(4.0, 3.0, 11.0) 0.0\n",
      "(4.0, 3.0, 7.0) 1.9779083910200444e-07\n",
      "(4.0, 3.0, 3.0) 0.0004282900914994053\n",
      "(4.0, 3.0, 9.0) 0.0\n",
      "(4.0, 3.0, 5.0) 0.012707327037807283\n",
      "(4.0, 3.0, 4.0) 0.0020735952439145592\n",
      "(4.0, 3.0, 1.0) 8.497772198892075e-08\n",
      "(4.0, 3.0, 0.0) 8.833288777891727e-08\n",
      "(4.0, 3.0, 2.0) 2.5793574744466066e-07\n",
      "(4.0, 3.0, -2.0) 0.0\n",
      "(4.0, 3.0, -3.0) 0.0\n",
      "(4.0, 3.0, -1.0) 0.0\n",
      "(4.0, 3.0, -5.0) 0.0\n",
      "(4.0, 3.0, -4.0) 0.0\n",
      "(3.0, 4.0, 12.0) 0.0\n",
      "(3.0, 4.0, 13.0) 0.0\n",
      "(3.0, 4.0, 8.0) 1.3355826394045e-07\n",
      "(3.0, 4.0, 11.0) 0.0\n",
      "(3.0, 4.0, 10.0) 0.0\n",
      "(3.0, 4.0, 7.0) 2.3660722993547786e-07\n",
      "(3.0, 4.0, 5.0) 0.012684661445702511\n",
      "(3.0, 4.0, 9.0) 0.0\n",
      "(3.0, 4.0, 2.0) 3.2092761686273856e-07\n",
      "(3.0, 4.0, -2.0) 0.0\n",
      "(3.0, 4.0, 4.0) 0.0020802265385764214\n",
      "(3.0, 4.0, 1.0) 1.0372132831637139e-07\n",
      "(3.0, 4.0, 0.0) 5.075754388040384e-08\n",
      "(3.0, 4.0, 6.0) 7.680821382484351e-07\n",
      "(3.0, 4.0, 3.0) 0.000432456919845498\n",
      "(3.0, 4.0, -1.0) 0.0\n",
      "(3.0, 4.0, -3.0) 0.0\n",
      "(3.0, 4.0, -4.0) 0.0\n",
      "(3.0, 4.0, -5.0) 0.0\n",
      "(4.0, 4.0, 13.0) 0.0\n",
      "(4.0, 4.0, 12.0) 0.0\n",
      "(4.0, 4.0, 9.0) 0.0\n",
      "(4.0, 4.0, 10.0) 0.0\n",
      "(4.0, 4.0, 7.0) 3.705988960663628e-07\n",
      "(4.0, 4.0, 8.0) 9.892502903799936e-08\n",
      "(4.0, 4.0, 11.0) 0.0\n",
      "(4.0, 4.0, 3.0) 0.0030815566018014065\n",
      "(4.0, 4.0, 0.0) 5.2347737252406056e-08\n",
      "(4.0, 4.0, 5.0) 0.3166433887477645\n",
      "(4.0, 4.0, 6.0) 1.1694043186579824e-06\n",
      "(4.0, 4.0, 2.0) 2.8728604758968235e-07\n",
      "(4.0, 4.0, 4.0) 0.6093311929612528\n",
      "(4.0, 4.0, 1.0) 5.7164979012375356e-08\n",
      "(4.0, 4.0, -1.0) 0.0\n",
      "(4.0, 4.0, -2.0) 0.0\n",
      "(4.0, 4.0, -5.0) 0.0\n",
      "(4.0, 4.0, -3.0) 0.0\n",
      "(4.0, 4.0, -4.0) 0.0\n",
      "CPU times: user 710 ms, sys: 466 ms, total: 1.18 s\n",
      "Wall time: 1min 6s\n"
     ]
    }
   ],
   "source": [
    "%%time \n",
    "\n",
    "# for a CT array of (Nx-1,Ny-1,Nz-1) voxels\n",
    "Nx = 51\n",
    "Ny = 51\n",
    "Nz = 51\n",
    "\n",
    "# distances between the x,y,z planes (also the lengths of the sides of the voxels) in cm\n",
    "dx = 0.1\n",
    "dy = 0.1\n",
    "dz = 0.1\n",
    "\n",
    "# initial and final coordinates of the beam\n",
    "x1,x2 = (0,0)\n",
    "y1,y2 = (0,0)\n",
    "z1,z2 = (2.5,-2.5)\n",
    "\n",
    "# adjustment from center \n",
    "adjust = 0.025\n",
    "\n",
    "# initial plane coordinates\n",
    "xplane1 = -2.5\n",
    "yplane1 = -2.5\n",
    "zplane1 = -2.5\n",
    "\n",
    "# beam info and filename\n",
    "beam_energy = 0.120 # in MeV\n",
    "# fluence_0 = 3.183098862 * 10**8 # photon/cm^2\n",
    "# fluence_0 = 2.53 * 10**8 # photon/cm^2\n",
    "fluence_0 = 9.93 * 10**8 # photon/cm^2\n",
    "# filename = 'energy_absorption_coeff.txt'\n",
    "filename = 'energy_absorption_coeffs.txt'\n",
    "\n",
    "# kernel info\n",
    "kernelname = '../Topas/ReverseEngineerKernel.csv'\n",
    "kernel_size = (0.9,0.9,0.9) # cm \n",
    "\n",
    "# effective distance from center of kernel \n",
    "eff_dist = (1,1,1) # cm\n",
    "\n",
    "# number of cores to use\n",
    "num_cores = 16\n",
    "\n",
    "# Siddon((Nx,Ny,Nz),(dx,dy,dz),((x1,x2),(y1,y2),(z1,z2)),(xplane1,yplane1,zplane1),plot=True)\n",
    "# terma = sd.TERMA((Nx,Ny,Nz),(dx,dy,dz),((x1,x2),(y1,y2),(z1,z2)),(xplane1,yplane1,zplane1),[beam_energy],[fluence_0],mu)\n",
    "\n",
    "dose = dc.Dose_Calculator((Nx,Ny,Nz),(dx,dy,dz),[((x1+adjust,x2+adjust),(y1+adjust,y2+adjust),(z1,z2)),((x1-adjust,x2-adjust),(y1+adjust,y2+adjust),(z1,z2)),((x1+adjust,x2+adjust),(y1-adjust,y2-adjust),(z1,z2)),((x1-adjust,x2-adjust),(y1-adjust,y2-adjust),(z1,z2))],(xplane1,yplane1,zplane1),[beam_energy],[fluence_0],filename,kernelname,kernel_size,eff_dist,num_cores)\n"
   ]
  },
  {
   "cell_type": "code",
   "execution_count": 3,
   "id": "ddb9b8a3-a097-41cd-b631-f0bcb6e79f8a",
   "metadata": {},
   "outputs": [],
   "source": [
    "pickle.dump(dose,open('dose_24.pickle','wb'))"
   ]
  },
  {
   "cell_type": "markdown",
   "id": "ee10efe1-42dd-473f-a30a-d11afb67a62e",
   "metadata": {},
   "source": [
    "## Other Stuff"
   ]
  },
  {
   "cell_type": "code",
   "execution_count": null,
   "id": "3825bb45-273d-4f09-accd-98927d368f01",
   "metadata": {},
   "outputs": [],
   "source": [
    "x1,x2 = (0,0)\n",
    "y1,y2 = (0,0)\n",
    "z1,z2 = (2.5,-2.5)\n",
    "rays = [((x1,x2),(),(z1,z2)) for ]"
   ]
  },
  {
   "cell_type": "code",
   "execution_count": 18,
   "id": "92daa9e5-b1f0-478b-98e8-d4b79219771b",
   "metadata": {},
   "outputs": [],
   "source": [
    "'''\n",
    "making mu interpolation function\n",
    "'''\n",
    "filename = 'energy_absorption_coeffs.txt'\n",
    "\n",
    "coeff_array = np.loadtxt(filename,skiprows=2,dtype=float)\n",
    "\n",
    "# exponentially interpolate \n",
    "mu_linear = interpolate.interp1d(np.log(coeff_array.T[0]),np.log(coeff_array.T[1]),kind='linear',fill_value='extrapolate')\n",
    "mu_l = lambda energy, material: np.exp(mu_linear(np.log(energy))) # CHANGE THIS LATER TO A REAL FUNCTION\n",
    "\n",
    "mu_mass = interpolate.interp1d(np.log(coeff_array.T[0]),np.log(coeff_array.T[2]),kind='linear',fill_value='extrapolate')\n",
    "mu_m = lambda energy, material: np.exp(mu_mass(np.log(energy))) # CHANGE THIS LATER TO A REAL FUNCTION"
   ]
  },
  {
   "cell_type": "code",
   "execution_count": 9,
   "id": "79accc39-e821-4d51-a507-58e92f2dd37d",
   "metadata": {},
   "outputs": [
    {
     "data": {
      "application/vnd.jupyter.widget-view+json": {
       "model_id": "6444d7a6831347f4ae7b322e61452d29",
       "version_major": 2,
       "version_minor": 0
      },
      "image/png": "[encoded data removed]",
      "text/html": [
       "\n",
       "            <div style=\"display: inline-block;\">\n",
       "                <div class=\"jupyter-widgets widget-label\" style=\"text-align: center;\">\n",
       "                    Figure\n",
       "                </div>\n",
       "                <img src='data:image/png;base64,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' width=640.0/>\n",
       "            </div>\n",
       "        "
      ],
      "text/plain": [
       "Canvas(toolbar=Toolbar(toolitems=[('Home', 'Reset original view', 'home', 'home'), ('Back', 'Back to previous …"
      ]
     },
     "metadata": {},
     "output_type": "display_data"
    }
   ],
   "source": [
    "x1,x2 = (0,0)\n",
    "y1,y2 = (0,0)\n",
    "z1,z2 = (2.5,-2.5)\n",
    "rays = dc.MakeFanBeamRays(12,np.pi/6,((x1,x2),(y1,y2),(z1,z2)),direction='y',adjust=0.025)\n",
    "\n",
    "ifig=1;close(ifig);figure(ifig)\n",
    "for ray in rays:\n",
    "    plot(ray[2],ray[1])"
   ]
  },
  {
   "cell_type": "markdown",
   "id": "08997f62-318a-41aa-98a9-9dbd24ca4c9e",
   "metadata": {},
   "source": [
    "#### Testing TERMA with Polyenergetic"
   ]
  },
  {
   "cell_type": "code",
   "execution_count": 6,
   "id": "e688d2de-3c87-46f7-aeba-41bb9ae94fb6",
   "metadata": {},
   "outputs": [
    {
     "ename": "NameError",
     "evalue": "name 'mu_l' is not defined",
     "output_type": "error",
     "traceback": [
      "\u001b[0;31m---------------------------------------------------------------------------\u001b[0m",
      "\u001b[0;31mNameError\u001b[0m                                 Traceback (most recent call last)",
      "\u001b[0;32m<timed exec>\u001b[0m in \u001b[0;36m<module>\u001b[0;34m\u001b[0m\n",
      "\u001b[0;31mNameError\u001b[0m: name 'mu_l' is not defined"
     ]
    }
   ],
   "source": [
    "%%time\n",
    "# for a CT array of (Nx-1,Ny-1,Nz-1) voxels\n",
    "Nx = 10\n",
    "Ny = 10\n",
    "Nz = 10\n",
    "\n",
    "# distances between the x,y,z planes (also the lengths of the sides of the voxels)\n",
    "dx = 0.1\n",
    "dy = 0.1\n",
    "dz = 0.1\n",
    "\n",
    "# initial and final coordinates of the beam\n",
    "x1,x2 = (0.2,0.5)\n",
    "y1,y2 = (0.4,0.8)\n",
    "z1,z2 = (4,-6)\n",
    "\n",
    "# initial plane coordinates\n",
    "xplane1 = 0\n",
    "yplane1 = 0\n",
    "zplane1 = 0\n",
    "\n",
    "# beam info and filename\n",
    "# beam_energy = 0.120 # in MeV\n",
    "# fluence_0 = 1 # photon/cm^2\n",
    "filename = 'energy_absorption_coeffs.txt'\n",
    "\n",
    "# kernel info\n",
    "kernelname = '../Topas/RealKernel1.csv'\n",
    "kernel_size = (1,1,1) # cm \n",
    "\n",
    "# number of cores to use \n",
    "num_cores = 8\n",
    "\n",
    "# sd.Siddon((Nx,Ny,Nz),(dx,dy,dz),((x1,x2),(y1,y2),(z1,z2)),(xplane1,yplane1,zplane1),plot=True)\n",
    "terma = sd.TERMA((Nx,Ny,Nz),(dx,dy,dz),((x1,x2),(y1,y2),(z1,z2)),(xplane1,yplane1,zplane1),beam_energy,fluence_0,mu_l,mu_m)\n",
    "\n",
    "# dose = sd.Dose_Calculator((Nx,Ny,Nz),(dx,dy,dz),[((x1,x2),(y1,y2),(z1,z2))],(xplane1,yplane1,zplane1),beam_energy,fluence_0,filename,kernelname,kernel_size,num_cores)\n",
    "\n",
    "# sd.TERMA?\n",
    "terma"
   ]
  },
  {
   "cell_type": "code",
   "execution_count": 7,
   "id": "07f3e1b0-8e91-4cfa-b336-3b0b6d1a4d2c",
   "metadata": {},
   "outputs": [
    {
     "data": {
      "text/plain": [
       "0.1613015136737795"
      ]
     },
     "execution_count": 7,
     "metadata": {},
     "output_type": "execute_result"
    }
   ],
   "source": [
    "mu_l(0.12,'water')"
   ]
  },
  {
   "cell_type": "code",
   "execution_count": 2,
   "id": "fa9f2fee-5e7c-4f07-8ca5-2411eef0d6ea",
   "metadata": {},
   "outputs": [],
   "source": [
    "# for a CT array of (Nx-1,Ny-1,Nz-1) voxels\n",
    "Nx = 16\n",
    "Ny = 16\n",
    "Nz = 16\n",
    "\n",
    "# distances between the x,y,z planes (also the lengths of the sides of the voxels) in cm\n",
    "dx = 0.05\n",
    "dy = 0.05\n",
    "dz = 0.05\n",
    "\n",
    "# initial and final coordinates of the beam\n",
    "x1,x2 = (0,0)\n",
    "y1,y2 = (0,0)\n",
    "z1,z2 = (-0.8,0.8)\n",
    "\n",
    "# initial plane coordinates\n",
    "xplane1 = -0.8\n",
    "yplane1 = -0.8\n",
    "zplane1 = -0.8\n",
    "\n",
    "# beam info and filename\n",
    "beam_energy = 0.120 # in MeV\n",
    "fluence_0 = 3.183098862 * 10**8 # photon/cm^2\n",
    "filename = 'energy_absorption_coeffs.txt'\n",
    "\n",
    "# kernel info\n",
    "kernelname = '../Topas/RealKernel1.csv'\n",
    "kernel_size = (1,1,1) # cm \n",
    "\n",
    "# number of cores to use \n",
    "num_cores = 8\n",
    "\n",
    "# siddon = sd.Siddon((Nx,Ny,Nz),(dx,dy,dz),((x1,x2),(y1,y2),(z1,z2)),(xplane1,yplane1,zplane1))\n",
    "# terma = sd.TERMA((Nx,Ny,Nz),(dx,dy,dz),((x1,x2),(y1,y2),(z1,z2)),(xplane1,yplane1,zplane1),beam_energy,fluence_0,mu)\n",
    "dose = sd.Dose_Calculator((Nx,Ny,Nz),(dx,dy,dz),[((x1,x2),(y1,y2),(z1,z2))],(xplane1,yplane1,zplane1),[beam_energy],[fluence_0],filename,kernelname,kernel_size,num_cores)\n"
   ]
  },
  {
   "cell_type": "code",
   "execution_count": 3,
   "id": "112e1d3c-cc3b-4233-876b-d612551bcd20",
   "metadata": {},
   "outputs": [
    {
     "data": {
      "text/plain": [
       "(15, 15, 15)"
      ]
     },
     "execution_count": 3,
     "metadata": {},
     "output_type": "execute_result"
    }
   ],
   "source": [
    "shape(dose)"
   ]
  },
  {
   "cell_type": "code",
   "execution_count": 8,
   "id": "3513af4a-0c38-458b-bf41-17151d79cdc4",
   "metadata": {},
   "outputs": [],
   "source": [
    "s = sp.Spek(kvp=120,th=12) # Generate a spectrum (80 kV, 12 degree tube angle)\n",
    "s.filter('Al', 4.0) # Filter by 4 mm of Al\n",
    "\n",
    "hvl = s.get_hvl1() # Get the 1st HVL in mm Al\n",
    "\n",
    "# print(hvl) # Print out the HVL value (Python3 syntax)\n",
    "\n",
    "beam_energy,fluence_0 = s.get_spectrum()\n",
    "\n",
    "# sp.Spek?"
   ]
  },
  {
   "cell_type": "code",
   "execution_count": 12,
   "id": "6e9be349-5364-4de1-8f80-8559d71ac587",
   "metadata": {},
   "outputs": [
    {
     "name": "stdout",
     "output_type": "stream",
     "text": [
      "CPU times: user 8.05 s, sys: 148 ms, total: 8.2 s\n",
      "Wall time: 8.57 s\n"
     ]
    }
   ],
   "source": [
    "%%time\n",
    "# for a CT array of (Nx-1,Ny-1,Nz-1) voxels\n",
    "Nx = 10\n",
    "Ny = 10\n",
    "Nz = 10\n",
    "\n",
    "# distances between the x,y,z planes (also the lengths of the sides of the voxels)\n",
    "dx = 0.1\n",
    "dy = 0.1\n",
    "dz = 0.1\n",
    "\n",
    "# initial and final coordinates of the beam\n",
    "x1,x2 = (0.2,0.5)\n",
    "y1,y2 = (0.4,0.8)\n",
    "z1,z2 = (4,-6)\n",
    "\n",
    "# initial plane coordinates\n",
    "xplane1 = 0\n",
    "yplane1 = 0\n",
    "zplane1 = 0\n",
    "\n",
    "# beam info and filename\n",
    "beam_energy = 0.120 # in MeV\n",
    "fluence_0 = 1 # photon/cm^2\n",
    "filename = 'energy_absorption_coeffs.txt'\n",
    "\n",
    "# kernel info\n",
    "kernelname = '../Topas/RealKernel1.csv'\n",
    "kernel_size = (2,2,2) # cm \n",
    "\n",
    "# effective distance from center of kernel \n",
    "eff_dist = (0.5,0.5,0.5) # cm\n",
    "\n",
    "# number of cores to use \n",
    "num_cores = 8\n",
    "\n",
    "# sd.Siddon((Nx,Ny,Nz),(dx,dy,dz),((x1,x2),(y1,y2),(z1,z2)),(xplane1,yplane1,zplane1),plot=True)\n",
    "# terma = sd.TERMA((Nx,Ny,Nz),(dx,dy,dz),((x1,x2),(y1,y2),(z1,z2)),(xplane1,yplane1,zplane1),beam_energy,fluence_0,mu)\n",
    "\n",
    "dose = dc.Dose_Calculator((Nx,Ny,Nz),(dx,dy,dz),[((x1,x2),(y1,y2),(z1,z2))],(xplane1,yplane1,zplane1),[beam_energy],[fluence_0],filename,kernelname,kernel_size,eff_dist,num_cores)\n"
   ]
  },
  {
   "cell_type": "markdown",
   "id": "5a727dda-bf55-4e07-9123-1063a79addd7",
   "metadata": {},
   "source": [
    "*I'm guessing a lot of this time is coming from interpolating the kernel at the beginning, maybe I'll try to run some tests with bigger arrays*"
   ]
  },
  {
   "cell_type": "markdown",
   "id": "2b9c6a88-e1bf-4fcf-a04b-1ce8bd935ea1",
   "metadata": {},
   "source": [
    "with 8 cores:\n",
    "CPU times: user 7.96 s, sys: 151 ms, total: 8.11 s\n",
    "Wall time: 8.55 s"
   ]
  },
  {
   "cell_type": "markdown",
   "id": "923da6f2-ced4-4b29-95fb-4cd36df2cf07",
   "metadata": {},
   "source": [
    "with 4 cores:\n",
    "CPU times: user 7.99 s, sys: 140 ms, total: 8.14 s\n",
    "Wall time: 8.76 s"
   ]
  },
  {
   "cell_type": "code",
   "execution_count": 19,
   "id": "02b14f2e-7f8e-43dc-bf09-c4b698145133",
   "metadata": {},
   "outputs": [],
   "source": [
    "for n in range(len(voxel_info)):\n",
    "    for voxel in voxel_info[n]:\n",
    "        if abs(voxel['d'] - 0.1) > 0.00000001:\n",
    "            print('oops')"
   ]
  },
  {
   "cell_type": "code",
   "execution_count": 7,
   "id": "47dff494-51f0-455c-8315-71eed385238c",
   "metadata": {},
   "outputs": [],
   "source": [
    "dose_im_array = []\n",
    "\n",
    "for dose_row in dose:\n",
    "    dose_im_array.append(dose_row['energy'])\n",
    "\n",
    "dose_im_array = np.array(dose_im_array)\n",
    "\n",
    "dose_im_array = dose_im_array.reshape(Nx-1,Ny-1,Nz-1)\n",
    "\n",
    "pickle.dump(dose_im_array,open('dose_test.pickle','wb'))"
   ]
  },
  {
   "cell_type": "code",
   "execution_count": 21,
   "id": "ea03e31b-387b-45e9-9067-e2d1f0f21d1f",
   "metadata": {},
   "outputs": [
    {
     "data": {
      "text/plain": [
       "6"
      ]
     },
     "execution_count": 21,
     "metadata": {},
     "output_type": "execute_result"
    }
   ],
   "source": [
    "a = array([1,2])\n",
    "b = []"
   ]
  },
  {
   "cell_type": "code",
   "execution_count": 27,
   "id": "ac41d656-69e1-47ea-b726-4bcf44627fff",
   "metadata": {},
   "outputs": [
    {
     "data": {
      "text/plain": [
       "716.6427428588867"
      ]
     },
     "execution_count": 27,
     "metadata": {},
     "output_type": "execute_result"
    }
   ],
   "source": [
    "interaction_zone = []\n",
    "for j in kernel_array[47:52]:\n",
    "    for k in j[47:52]:\n",
    "        interaction_zone.append(k[47:52])\n",
    "interaction_zone = np.array(interaction_zone)\n",
    "np.mean(interaction_zone)"
   ]
  },
  {
   "cell_type": "markdown",
   "id": "172cf36d-7104-47a2-910d-524e765474cc",
   "metadata": {},
   "source": [
    "### Slider to Look at 3D Stuff"
   ]
  },
  {
   "cell_type": "code",
   "execution_count": 9,
   "id": "aba68d76-c685-40c3-ba8c-0fde62a2cd5a",
   "metadata": {},
   "outputs": [],
   "source": [
    "kernelname = '../Topas/RealKernel1.csv'\n",
    "kernel_array = BinnedResult(kernelname).data['Sum']"
   ]
  },
  {
   "cell_type": "code",
   "execution_count": 10,
   "id": "4bf9c815-0996-4b4a-ae1d-d7c24d57ca61",
   "metadata": {},
   "outputs": [],
   "source": [
    "kernelname = '../Topas/ReverseEngineerKernel.csv'\n",
    "kernel_array = BinnedResult(kernelname).data['Sum']"
   ]
  },
  {
   "cell_type": "code",
   "execution_count": 6,
   "id": "0364c355-a2c4-4d85-9fef-9e6a59677a13",
   "metadata": {},
   "outputs": [],
   "source": [
    "kernelname = '../Topas/Kernels/WaterKernel6.csv'\n",
    "kernel_array = BinnedResult(kernelname).data['Sum']"
   ]
  },
  {
   "cell_type": "code",
   "execution_count": 5,
   "id": "8bd5a289-6b2f-4776-8d08-5a6673175ef9",
   "metadata": {},
   "outputs": [],
   "source": [
    "kernelname = '../Topas/BoneKernel1.csv'\n",
    "kernel_array = BinnedResult(kernelname).data['Sum']"
   ]
  },
  {
   "cell_type": "code",
   "execution_count": 6,
   "id": "343715ad-3318-4711-bd0d-298a4595a0a0",
   "metadata": {},
   "outputs": [],
   "source": [
    "data = BinnedResult('../Topas/EnergyFluence.csv').data['Sum']"
   ]
  },
  {
   "cell_type": "code",
   "execution_count": 7,
   "id": "e70b54d5-802f-4bbb-83f6-ae832103e5c8",
   "metadata": {},
   "outputs": [
    {
     "data": {
      "text/plain": [
       "(array([25]), array([24]), array([49]))"
      ]
     },
     "execution_count": 7,
     "metadata": {},
     "output_type": "execute_result"
    }
   ],
   "source": [
    "where(data==np.max(data))"
   ]
  },
  {
   "cell_type": "code",
   "execution_count": 7,
   "id": "a95f5121-1625-4b9b-ba94-573ca0c005cb",
   "metadata": {},
   "outputs": [
    {
     "data": {
      "application/vnd.jupyter.widget-view+json": {
       "model_id": "b0e7134057ab4a45b0f65daf69de3855",
       "version_major": 2,
       "version_minor": 0
      },
      "text/plain": [
       "VBox(children=(HBox(children=(Play(value=0, max=98), IntSlider(value=0, description='axis0', max=98, readout=F…"
      ]
     },
     "metadata": {},
     "output_type": "display_data"
    },
    {
     "data": {
      "application/vnd.jupyter.widget-view+json": {
       "model_id": "40f2dcbe05ec4ea99f4090c7970376ba",
       "version_major": 2,
       "version_minor": 0
      },
      "image/png": "[encoded data removed]",
      "text/html": [
       "\n",
       "            <div style=\"display: inline-block;\">\n",
       "                <div class=\"jupyter-widgets widget-label\" style=\"text-align: center;\">\n",
       "                    Figure\n",
       "                </div>\n",
       "                <img src='data:image/png;base64,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' width=640.0/>\n",
       "            </div>\n",
       "        "
      ],
      "text/plain": [
       "Canvas(toolbar=Toolbar(toolitems=[('Home', 'Reset original view', 'home', 'home'), ('Back', 'Back to previous …"
      ]
     },
     "metadata": {},
     "output_type": "display_data"
    }
   ],
   "source": [
    "fig,ax,controls = ims.slider(kernel_array)"
   ]
  },
  {
   "cell_type": "code",
   "execution_count": 8,
   "id": "98c7079b-a34a-4a4c-a298-1dbd5c83fad9",
   "metadata": {},
   "outputs": [
    {
     "data": {
      "application/vnd.jupyter.widget-view+json": {
       "model_id": "0ba68aeeab9d4e11ac7bfeea137ad502",
       "version_major": 2,
       "version_minor": 0
      },
      "text/plain": [
       "VBox(children=(HBox(children=(Play(value=0, max=98), IntSlider(value=0, description='axis0', max=98, readout=F…"
      ]
     },
     "metadata": {},
     "output_type": "display_data"
    },
    {
     "data": {
      "application/vnd.jupyter.widget-view+json": {
       "model_id": "79a54f005c9640fa891ac453924ed05c",
       "version_major": 2,
       "version_minor": 0
      },
      "image/png": "[encoded data removed]",
      "text/html": [
       "\n",
       "            <div style=\"display: inline-block;\">\n",
       "                <div class=\"jupyter-widgets widget-label\" style=\"text-align: center;\">\n",
       "                    Figure\n",
       "                </div>\n",
       "                <img src='data:image/png;base64,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' width=640.0/>\n",
       "            </div>\n",
       "        "
      ],
      "text/plain": [
       "Canvas(toolbar=Toolbar(toolitems=[('Home', 'Reset original view', 'home', 'home'), ('Back', 'Back to previous …"
      ]
     },
     "metadata": {},
     "output_type": "display_data"
    }
   ],
   "source": [
    "fig,ax,controls = ims.slider(kernel_array)"
   ]
  },
  {
   "cell_type": "code",
   "execution_count": 7,
   "id": "7d75a888-2b22-44d2-befe-4de65c9431ba",
   "metadata": {},
   "outputs": [
    {
     "data": {
      "text/plain": [
       "(49, 49, 49)"
      ]
     },
     "execution_count": 7,
     "metadata": {},
     "output_type": "execute_result"
    }
   ],
   "source": [
    "(int(np.floor(len(kernel_array)/2)),int(np.floor(len(kernel_array[0])/2)),int(np.floor(len(kernel_array[0][0])/2)))"
   ]
  },
  {
   "cell_type": "code",
   "execution_count": 16,
   "id": "471b7a56-bbb3-4973-9f71-2002d7950313",
   "metadata": {},
   "outputs": [],
   "source": [
    "my_dose_array = pickle.load(open('dose_1.pickle','rb'))\n",
    "mc_dose_array_full = BinnedResult('../Topas/TestingDose1.csv')\n",
    "mc_dose_array = mc_dose_array_full.data['Sum']"
   ]
  },
  {
   "cell_type": "code",
   "execution_count": 15,
   "id": "4f211284-1084-4ee0-9412-a58f38a25b60",
   "metadata": {},
   "outputs": [
    {
     "data": {
      "application/vnd.jupyter.widget-view+json": {
       "model_id": "540014a4c4fe4cb59f97ab440723f5a7",
       "version_major": 2,
       "version_minor": 0
      },
      "text/plain": [
       "VBox(children=(HBox(children=(Play(value=0, max=8), IntSlider(value=0, description='axis0', max=8, readout=Fal…"
      ]
     },
     "metadata": {},
     "output_type": "display_data"
    },
    {
     "data": {
      "application/vnd.jupyter.widget-view+json": {
       "model_id": "01d9f5128c7c4dbea51f1e722b5e61f4",
       "version_major": 2,
       "version_minor": 0
      },
      "image/png": "[encoded data removed]",
      "text/html": [
       "\n",
       "            <div style=\"display: inline-block;\">\n",
       "                <div class=\"jupyter-widgets widget-label\" style=\"text-align: center;\">\n",
       "                    Figure\n",
       "                </div>\n",
       "                <img src='data:image/png;base64,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' width=640.0/>\n",
       "            </div>\n",
       "        "
      ],
      "text/plain": [
       "Canvas(toolbar=Toolbar(toolitems=[('Home', 'Reset original view', 'home', 'home'), ('Back', 'Back to previous …"
      ]
     },
     "metadata": {},
     "output_type": "display_data"
    }
   ],
   "source": [
    "fig,ax,controls = ims.slider(dose)"
   ]
  },
  {
   "cell_type": "code",
   "execution_count": 18,
   "id": "cdb0af15-94e6-40c2-8161-32429903e1b2",
   "metadata": {},
   "outputs": [
    {
     "data": {
      "text/plain": [
       "<matplotlib.image.AxesImage at 0x7fc7e994a438>"
      ]
     },
     "execution_count": 18,
     "metadata": {},
     "output_type": "execute_result"
    },
    {
     "data": {
      "application/vnd.jupyter.widget-view+json": {
       "model_id": "d7d81963ecfc4f89b40eb8deeae53bce",
       "version_major": 2,
       "version_minor": 0
      },
      "image/png": "[encoded data removed]",
      "text/html": [
       "\n",
       "            <div style=\"display: inline-block;\">\n",
       "                <div class=\"jupyter-widgets widget-label\" style=\"text-align: center;\">\n",
       "                    Figure\n",
       "                </div>\n",
       "                <img src='data:image/png;base64,iVBORw0KGgoAAAANSUhEUgAAAoAAAAHgCAYAAAA10dzkAAAAOXRFWHRTb2Z0d2FyZQBNYXRwbG90bGliIHZlcnNpb24zLjMuNCwgaHR0cHM6Ly9tYXRwbG90bGliLm9yZy8QVMy6AAAACXBIWXMAAA9hAAAPYQGoP6dpAAAb1ElEQVR4nO3de4zcdf3v8ffsLh0KblcotNB0gYoapNwpNqVeUCumPyDgMaikxlLUeFnE2qOxNQE0WBa8NKjFchGBBAp4OQVDfkCgHloRGnoRD/XCxRurWKpGd0s107Iz5w9z9qRppVB35tPh/Xgk35D59tvmldl297nfmZZKo9FoBAAAaXSUHgAAQGsJQACAZAQgAEAyAhAAIBkBCACQjAAEAEhGAAIAJCMAAQCSEYAAAMkIQACAZAQgAEAyAhAAIBkBCACQjAAEAEhGAAIAJCMAAQCSEYAAAMkIQACAZAQgAEAyAhAAIBkBCACQjAAEAEhGAAIAJCMAAQCSEYAAAMkIQACAZAQgAEAyAhAAIBkBCACQjAAEAEhGAAIAJCMAAQCSEYAAAMkIQACAZAQgAEAyAhAAIBkBCACQjAAEAEhGAAIAJCMAAQCSEYAAAMkIQACAZAQgAEAyAhAAIBkBCACQjAAEAEhGAAIAJCMAAQCSEYAAAMkIQACAZAQgAEAyAhAAIBkBCACQjAAEAEhGAAIAJCMAAQCS6So9gPZUr9fj2Wefje7u7qhUKqXnAPAyNRqN2LJlS0yaNCk6OtwPykYAskeeffbZ6O3tLT0DgP/QwMBATJ48ufQMWkwAske6u7sjIuJN8V/RFfsUXgPAy/VCbI+H4r9HPp+TiwBkj/y/l327Yp/oqghAgLbT+Nd/vI0nJy/6AwAkIwABAJIRgAAAyQhAAIBkBCAAQDICEAAgGQEIAJCMAAQASEYAAgAkIwABAJIRgAAAyQhAAIBkBCAAQDICMLmrr746jjjiiNh3331j+vTp8eijj5aeBAA0mQBM7I477ogFCxbEpZdeGhs2bIjjjz8+3vWud8XmzZtLTwMAmkgAJrZkyZL4yEc+EvPmzYujjz46rrnmmthvv/3iO9/5TulpAEATCcCktm3bFuvXr49Zs2aNnOvo6IhZs2bFI488stP1tVothoaGdjgAgPYkAJP6y1/+EsPDwzFx4sQdzk+cODE2bdq00/X9/f3R09MzcvT29rZqKgAwygQgL8miRYticHBw5BgYGCg9CQDYQ12lB1DGQQcdFJ2dnfHcc8/tcP65556LQw45ZKfrq9VqVKvVVs0DAJrIHcCkxowZEyeffHKsXLly5Fy9Xo+VK1fGjBkzCi4DAJrNHcDEFixYEHPnzo1p06bFG9/4xrjqqqti69atMW/evNLTAIAmEoCJve9974s///nPcckll8SmTZvihBNOiHvvvXenvxgCALyyVBqNRqP0CNrP0NBQ9PT0xGlxdnRV9ik9B4CX6YXG9ngw7orBwcEYN25c6Tm0mPcAAgAkIwABAJIRgAAAyQhAAIBkBCAAQDICEAAgGQEIAJCMAAQASEYAAgAkIwABAJIRgAAAyQhAAIBkBCAAQDJdpQdAepVK6QW0UqNRegGAO4AAANkIQACAZAQgAEAyAhAAIBkBCACQjAAEAEhGAAIAJCMAAQCSEYAAAMkIQACAZAQgAEAyAhAAIBkBCACQjAAEAEhGAAIAJCMAAQCSEYBJrV69Os4666yYNGlSVCqVuPPOO0tPAgBaRAAmtXXr1jj++OPj6quvLj0FAGixrtIDKGP27Nkxe/bs0jMAgAIEIC9JrVaLWq028nhoaKjgGgDgP+ElYF6S/v7+6OnpGTl6e3tLTwIA9pAA5CVZtGhRDA4OjhwDAwOlJwEAe8hLwLwk1Wo1qtVq6RkAwChwBxAAIBl3AJN6/vnn4+mnnx55/Nvf/jYee+yxOPDAA+Owww4ruAwAaDYBmNS6devibW9728jjBQsWRETE3Llz46abbiq0CgBoBQGY1GmnnRaNRqP0DACgAO8BBABIRgACACQjAAEAkhGAAADJCEAAgGQEIABAMgIQACAZAQgAkIwABABIRgACACQjAAEAkhGAAADJCEAAgGS6Sg+gzVUq/zrYcxXfh6Xij0sejXrpBbtRiWiU3kApvvIAACQjAAEAkhGAAADJCEAAgGQEIABAMgIQACAZAQgAkIwABABIRgACACQjAAEAkhGAAADJCEAAgGQEIABAMgIQACAZAQgAkIwABABIRgAm1d/fH6ecckp0d3fHhAkT4pxzzoknnnii9CwAoAUEYFKrVq2Kvr6+WLNmTdx///2xffv2OP3002Pr1q2lpwEATdZVegBl3HvvvTs8vummm2LChAmxfv36eMtb3lJoFQDQCgKQiIgYHByMiIgDDzxwlz9eq9WiVquNPB4aGmrJLgBg9HkJmKjX6zF//vyYOXNmHHPMMbu8pr+/P3p6ekaO3t7eFq8EAEaLACT6+vpi48aNcfvtt//baxYtWhSDg4Mjx8DAQAsXAgCjyUvAyV144YVx9913x+rVq2Py5Mn/9rpqtRrVarWFywCAZhGASTUajfjkJz8ZK1asiAcffDCmTJlSehIA0CICMKm+vr5Yvnx53HXXXdHd3R2bNm2KiIienp4YO3Zs4XUAQDN5D2BSy5Yti8HBwTjttNPi0EMPHTnuuOOO0tMAgCZzBzCpRqNRegIAUIg7gAAAyQhAAIBkBCAAQDICEAAgGQEIAJCMAAQASEYAAgAkIwABAJIRgAAAyQhAAIBkBCAAQDICEAAgGQEIAJBMV+kBtLlKx7+OvVSlo1J6wivDXvwxHuFjPXrqjdILdqsxPFx6wu7t9X9uOiL2/g81TbK3/+4EAGCUCUAAgGQEIABAMgIQACAZAQgAkIwABABIRgACACQjAAEAkhGAAADJCEAAgGQEIABAMgIQACAZAQgAkIwABABIRgACACQjAAEAkhGASS1btiyOO+64GDduXIwbNy5mzJgR99xzT+lZAEALCMCkJk+eHFdccUWsX78+1q1bF29/+9vj7LPPjp///OelpwEATdZVegBlnHXWWTs8Xrx4cSxbtizWrFkTU6dOLbQKAGgFAUgMDw/H9773vdi6dWvMmDFjl9fUarWo1Wojj4eGhlo1DwAYZV4CTuzxxx+PV73qVVGtVuNjH/tYrFixIo4++uhdXtvf3x89PT0jR29vb4vXAgCjpdJoNBqlR1DGtm3b4plnnonBwcH4/ve/H9/+9rdj1apVu4zAXd0B7O3tjdM6/kd0VfZp5eyXpdJRKT3hlaHSBt8r+liPnvre/2WhMTxcekLbe6GxPR6s/68YHByMcePGlZ5Di3kJOLExY8bEa1/72oiIOPnkk2Pt2rXx9a9/Pa699tqdrq1Wq1GtVls9EQBogjb4tp5WqdfrO9zlAwBemdwBTGrRokUxe/bsOOyww2LLli2xfPnyePDBB+O+++4rPQ0AaDIBmNTmzZvjgx/8YPzpT3+Knp6eOO644+K+++6Ld77znaWnAQBNJgCTuuGGG0pPAAAK8R5AAIBkBCAAQDICEAAgGQEIAJCMAAQASEYAAgAkIwABAJIRgAAAyQhAAIBkBCAAQDICEAAgGQEIAJCMAAQASKar9ADaW2WfrqhU9t7fRpXOztITdq9SKb1g9zp8r5hKvV56we690AZ/boaHSy94UZVGJaINPtQ0h8/qAADJCEAAgGQEIABAMgIQACAZAQgAkIwABABIRgACACQjAAEAkhGAAADJCEAAgGQEIABAMgIQACAZAQgAkIwABABIRgACACQjAAEAkhGAxBVXXBGVSiXmz59fegoA0AICMLm1a9fGtddeG8cdd1zpKQBAiwjAxJ5//vmYM2dOXH/99XHAAQeUngMAtIgATKyvry/OOOOMmDVr1m6vrdVqMTQ0tMMBALSnrtIDKOP222+PDRs2xNq1a1/S9f39/fHFL36xyasAgFZwBzChgYGB+NSnPhW33npr7Lvvvi/p5yxatCgGBwdHjoGBgSavBACaxR3AhNavXx+bN2+Ok046aeTc8PBwrF69OpYuXRq1Wi06Ozt3+DnVajWq1WqrpwIATSAAE3rHO94Rjz/++A7n5s2bF0cddVR87nOf2yn+AIBXFgGYUHd3dxxzzDE7nNt///1j/PjxO50HAF55vAcQACAZdwCJiIgHH3yw9AQAoEXcAQQASEYAAgAkIwABAJIRgAAAyQhAAIBkBCAAQDICEAAgGQEIAJCMAAQASEYAAgAkIwABAJIRgAAAyQhAAIBkukoPoL39z7XrYv/uvff7iPEd/yw9Ybe6O4ZLT9it/SqV0hN2a7/KPqUnvCT7dYwpPeEVYfbrZpaesFuNeqP0hN3Yez9303w++gAAyQhAAIBkBCAAQDICEAAgGQEIAJCMAAQASEYAAgAkIwABAJIRgAAAyQhAAIBkBCAAQDICEAAgGQEIAJCMAAQASEYAAgAkIwABAJIRgEl94QtfiEqlssNx1FFHlZ4FALRAV+kBlDN16tR44IEHRh53dfntAAAZ+IqfWFdXVxxyyCGlZwAALeYl4MSeeuqpmDRpUrzmNa+JOXPmxDPPPPNvr63VajE0NLTDAQC0JwGY1PTp0+Omm26Ke++9N5YtWxa//e1v481vfnNs2bJll9f39/dHT0/PyNHb29vixQDAaKk0Go1G6RGU9/e//z0OP/zwWLJkSXzoQx/a6cdrtVrUarWRx0NDQ9Hb2xt3/5/XxP7de+/3EeM7/ll6wm51dwyXnrBb+1UqpSfs1n6VfUpPeEn26xhTesIrwuzXzSw9Ybca27aXnvCiXmhsj/+9/XsxODgY48aNKz2HFvMeQCIi4tWvfnW8/vWvj6effnqXP16tVqNarbZ4FQDQDHvvrRta6vnnn49f//rXceihh5aeAgA0mQBM6jOf+UysWrUqfve738XDDz8c7373u6OzszPOO++80tMAgCbzEnBSf/jDH+K8886Lv/71r3HwwQfHm970plizZk0cfPDBpacBAE0mAJO6/fbbS08AAArxEjAAQDICEAAgGQEIAJCMAAQASEYAAgAkIwABAJIRgAAAyQhAAIBkBCAAQDICEAAgGQEIAJCMAAQASEYAAgAkIwABAJLpKj2A9rZkxvToqowpPePfqnR2lp7wytBRKb1g9yq+nx01w8OlF+xW44Va6Qm716iXXvDi9vZ9NJXPmAAAyQhAAIBkBCAAQDICEAAgGQEIAJCMAAQASEYAAgAkIwABAJIRgAAAyQhAAIBkBCAAQDICEAAgGQEIAJCMAAQASEYAAgAkIwAT++Mf/xgf+MAHYvz48TF27Ng49thjY926daVnAQBN1lV6AGX87W9/i5kzZ8bb3va2uOeee+Lggw+Op556Kg444IDS0wCAJhOASV155ZXR29sbN95448i5KVOmFFwEALSKl4CT+uEPfxjTpk2Lc889NyZMmBAnnnhiXH/99aVnAQAtIACT+s1vfhPLli2L173udXHffffFxz/+8bjooovi5ptv3uX1tVothoaGdjgAgPbkJeCk6vV6TJs2LS6//PKIiDjxxBNj48aNcc0118TcuXN3ur6/vz+++MUvtnomANAE7gAmdeihh8bRRx+9w7k3vOEN8cwzz+zy+kWLFsXg4ODIMTAw0IqZAEATuAOY1MyZM+OJJ57Y4dyTTz4Zhx9++C6vr1arUa1WWzENAGgydwCT+vSnPx1r1qyJyy+/PJ5++ulYvnx5XHfdddHX11d6GgDQZAIwqVNOOSVWrFgRt912WxxzzDFx2WWXxVVXXRVz5swpPQ0AaDIvASd25plnxplnnll6BgDQYu4AAgAkIwABAJIRgAAAyQhAAIBkBCAAQDICEAAgGQEIAJCMAAQASEYAAgAkIwABAJIRgAAAyQhAAIBkBCAAQDICEAAgma7SA2hv9X/Wol6pl57R1iodldITYAeNeqP0hN1rtMHnncbe/Tw2Gi+UnkBB7gACACQjAAEAkhGAAADJCEAAgGQEIABAMgIQACAZAQgAkIwABABIRgACACQjAAEAkhGAAADJCEAAgGQEIABAMgIQACAZAQgAkIwATOqII46ISqWy09HX11d6GgDQZF2lB1DG2rVrY3h4eOTxxo0b453vfGece+65BVcBAK0gAJM6+OCDd3h8xRVXxJFHHhlvfetbCy0CAFrFS8DEtm3b4pZbbokLLrggKpVK6TkAQJO5A0jceeed8fe//z3OP//8f3tNrVaLWq028nhoaKgFywCAZnAHkLjhhhti9uzZMWnSpH97TX9/f/T09Iwcvb29LVwIAIwmAZjc73//+3jggQfiwx/+8Itet2jRohgcHBw5BgYGWrQQABhtXgJO7sYbb4wJEybEGWec8aLXVavVqFarLVoFADSTO4CJ1ev1uPHGG2Pu3LnR1eV7AQDIQgAm9sADD8QzzzwTF1xwQekpAEALue2T2Omnnx6NRqP0DACgxdwBBABIRgACACQjAAEAkhGAAADJCEAAgGQEIABAMgIQACAZAQgAkIwABABIRgACACQjAAEAkhGAAADJCEAAgGQEIABAMl2lB9Dm6sMRlb34+4hKpfSC3WoMl14ANMVe//mnEtEovYFS9uKv3AAANIMABABIRgACACQjAAEAkhGAAADJCEAAgGQEIABAMgIQACAZAQgAkIwABABIRgACACQjAAEAkhGAAADJCEAAgGQEIABAMgIwqeHh4bj44otjypQpMXbs2DjyyCPjsssui0ajUXoaANBkXaUHUMaVV14Zy5Yti5tvvjmmTp0a69ati3nz5kVPT09cdNFFpecBAE0kAJN6+OGH4+yzz44zzjgjIiKOOOKIuO222+LRRx8tvAwAaDYvASd16qmnxsqVK+PJJ5+MiIif/exn8dBDD8Xs2bMLLwMAms0dwKQWLlwYQ0NDcdRRR0VnZ2cMDw/H4sWLY86cObu8vlarRa1WG3k8NDTUqqkAwChzBzCp7373u3HrrbfG8uXLY8OGDXHzzTfHV7/61bj55pt3eX1/f3/09PSMHL29vS1eDACMlkrDX/tMqbe3NxYuXBh9fX0j5770pS/FLbfcEr/61a92un5XdwB7e3vjtDg7uir7tGTzHqlUSi8A2Cu90NgeDzbujMHBwRg3blzpObSYl4CT+sc//hEdHTveAO7s7Ix6vb7L66vValSr1VZMAwCaTAAmddZZZ8XixYvjsMMOi6lTp8ZPf/rTWLJkSVxwwQWlpwEATSYAk/rmN78ZF198cXziE5+IzZs3x6RJk+KjH/1oXHLJJaWnAQBN5j2A7JGhoaHo6enxHkCANuU9gLn5W8AAAMkIQACAZAQgAEAyAhAAIBkBCACQjAAEAEhGAAIAJCMAAQCSEYAAAMkIQACAZAQgAEAyAhAAIBkBCACQTFfpAbSnRqMREREvxPaIRuExL6pSegDAXumFxvaI+P+fz8lFALJHtmzZEhERD8V/F16yGz6vAbyoLVu2RE9PT+kZtFilIf3ZA/V6PZ599tno7u6OSmV07rINDQ1Fb29vDAwMxLhx40bl18zI8zg6PI+jw/M4OprxPDYajdiyZUtMmjQpOjq8IywbdwDZIx0dHTF58uSm/Nrjxo3zhWIUeB5Hh+dxdHgeR8doP4/u/OUl+QEAkhGAAADJCED2GtVqNS699NKoVqulp7Q1z+Po8DyODs/j6PA8Mtr8JRAAgGTcAQQASEYAAgAkIwABAJIRgAAAyQhA9gpXX311HHHEEbHvvvvG9OnT49FHHy09qa309/fHKaecEt3d3TFhwoQ455xz4oknnig9q+1dccUVUalUYv78+aWntKU//vGP8YEPfCDGjx8fY8eOjWOPPTbWrVtXelZbGR4ejosvvjimTJkSY8eOjSOPPDIuu+wy//9e/mMCkOLuuOOOWLBgQVx66aWxYcOGOP744+Nd73pXbN68ufS0trFq1aro6+uLNWvWxP333x/bt2+P008/PbZu3Vp6Wttau3ZtXHvttXHccceVntKW/va3v8XMmTNjn332iXvuuSd+8YtfxNe+9rU44IADSk9rK1deeWUsW7Ysli5dGr/85S/jyiuvjC9/+cvxzW9+s/Q02px/Bobipk+fHqecckosXbo0Iv71/xnu7e2NT37yk7Fw4cLC69rTn//855gwYUKsWrUq3vKWt5Se03aef/75OOmkk+Jb3/pWfOlLX4oTTjghrrrqqtKz2srChQvjJz/5Sfz4xz8uPaWtnXnmmTFx4sS44YYbRs695z3vibFjx8Ytt9xScBntzh1Aitq2bVusX78+Zs2aNXKuo6MjZs2aFY888kjBZe1tcHAwIiIOPPDAwkvaU19fX5xxxhk7/L7k5fnhD38Y06ZNi3PPPTcmTJgQJ554Ylx//fWlZ7WdU089NVauXBlPPvlkRET87Gc/i4ceeihmz55deBntrqv0AHL7y1/+EsPDwzFx4sQdzk+cODF+9atfFVrV3ur1esyfPz9mzpwZxxxzTOk5bef222+PDRs2xNq1a0tPaWu/+c1vYtmyZbFgwYL4/Oc/H2vXro2LLrooxowZE3Pnzi09r20sXLgwhoaG4qijjorOzs4YHh6OxYsXx5w5c0pPo80JQHiF6evri40bN8ZDDz1UekrbGRgYiE996lNx//33x7777lt6Tlur1+sxbdq0uPzyyyMi4sQTT4yNGzfGNddcIwBfhu9+97tx6623xvLly2Pq1Knx2GOPxfz582PSpEmeR/4jApCiDjrooOjs7Iznnntuh/PPPfdcHHLIIYVWta8LL7ww7r777li9enVMnjy59Jy2s379+ti8eXOcdNJJI+eGh4dj9erVsXTp0qjVatHZ2VlwYfs49NBD4+ijj97h3Bve8Ib4wQ9+UGhRe/rsZz8bCxcujPe///0REXHsscfG73//++jv7xeA/Ee8B5CixowZEyeffHKsXLly5Fy9Xo+VK1fGjBkzCi5rL41GIy688MJYsWJF/OhHP4opU6aUntSW3vGOd8Tjjz8ejz322Mgxbdq0mDNnTjz22GPi72WYOXPmTv8U0ZNPPhmHH354oUXt6R//+Ed0dOz4pbqzszPq9XqhRbxSuANIcQsWLIi5c+fGtGnT4o1vfGNcddVVsXXr1pg3b17paW2jr68vli9fHnfddVd0d3fHpk2bIiKip6cnxo4dW3hd++ju7t7pfZP7779/jB8/3vspX6ZPf/rTceqpp8bll18e733ve+PRRx+N6667Lq677rrS09rKWWedFYsXL47DDjsspk6dGj/96U9jyZIlccEFF5SeRpvzz8CwV1i6dGl85StfiU2bNsUJJ5wQ3/jGN2L69OmlZ7WNSqWyy/M33nhjnH/++a0d8wpz2mmn+Wdg9tDdd98dixYtiqeeeiqmTJkSCxYsiI985COlZ7WVLVu2xMUXXxwrVqyIzZs3x6RJk+K8886LSy65JMaMGVN6Hm1MAAIAJOM9gAAAyQhAAIBkBCAAQDICEAAgGQEIAJCMAAQASEYAAgAkIwABAJIRgAAAyQhAAIBkBCAAQDICEAAgGQEIAJCMAAQASEYAAgAkIwABAJIRgAAAyQhAAIBkBCAAQDICEAAgGQEIAJCMAAQASEYAAgAkIwABAJIRgAAAyQhAAIBkBCAAQDICEAAgGQEIAJCMAAQASEYAAgAk838B6bnqCoKK5b4AAAAASUVORK5CYII=' width=640.0/>\n",
       "            </div>\n",
       "        "
      ],
      "text/plain": [
       "Canvas(toolbar=Toolbar(toolitems=[('Home', 'Reset original view', 'home', 'home'), ('Back', 'Back to previous …"
      ]
     },
     "metadata": {},
     "output_type": "display_data"
    }
   ],
   "source": [
    "close(5);figure(5)\n",
    "imshow(dose[4])"
   ]
  },
  {
   "cell_type": "code",
   "execution_count": 9,
   "id": "f09adf6e-ac10-46a6-9ab4-b139228321a8",
   "metadata": {},
   "outputs": [
    {
     "name": "stdout",
     "output_type": "stream",
     "text": [
      "0.03631941168294036 0.0009266880412018293\n"
     ]
    }
   ],
   "source": [
    "print(sum(my_dose_array)*1.602e-10,sum(mc_dose_array))"
   ]
  },
  {
   "cell_type": "markdown",
   "id": "74cee703-c011-4813-a3f2-7ebb7bc03f51",
   "metadata": {
    "tags": []
   },
   "source": [
    "### Tests for Superposition"
   ]
  },
  {
   "cell_type": "code",
   "execution_count": 13,
   "id": "8ed17873-a185-4428-853b-f968e8678d96",
   "metadata": {},
   "outputs": [],
   "source": [
    "test_kernel = array([[[0,0,0],[0,0.1,0],[0,0,0]],\n",
    "                     [[0,0.1,0],[0.1,0.4,0.1],[0,0.1,0]],\n",
    "                     [[0,0,0],[0,0.1,0],[0,0,0]]])"
   ]
  },
  {
   "cell_type": "code",
   "execution_count": 14,
   "id": "e4769d3d-bd53-4826-bae9-33cc7feadc3e",
   "metadata": {},
   "outputs": [],
   "source": [
    "test_array_1 = array([[[1,1],[1,1]],\n",
    "                      [[1,1],[1,1]]])\n",
    "\n",
    "test_array_2 = array([[[1,1],[0,0]],\n",
    "                      [[0,0],[0,0]]])"
   ]
  },
  {
   "cell_type": "code",
   "execution_count": 15,
   "id": "4009f8da-ebf2-40e2-a981-6e1b6ee80c4c",
   "metadata": {},
   "outputs": [
    {
     "data": {
      "text/plain": [
       "[{'indices': (1, 1, 1), 'TERMA': 1, 'd': 0.1},\n",
       " {'indices': (1, 1, 2), 'TERMA': 1, 'd': 0.1},\n",
       " {'indices': (1, 2, 1), 'TERMA': 0, 'd': 0.1},\n",
       " {'indices': (1, 2, 2), 'TERMA': 0, 'd': 0.1},\n",
       " {'indices': (2, 1, 1), 'TERMA': 0, 'd': 0.1},\n",
       " {'indices': (2, 1, 2), 'TERMA': 0, 'd': 0.1},\n",
       " {'indices': (2, 2, 1), 'TERMA': 0, 'd': 0.1},\n",
       " {'indices': (2, 2, 2), 'TERMA': 0, 'd': 0.1}]"
      ]
     },
     "execution_count": 15,
     "metadata": {},
     "output_type": "execute_result"
    }
   ],
   "source": [
    "test_array = test_array_2\n",
    "\n",
    "voxel_info_1 = []\n",
    "n=0\n",
    "for x in range(len(test_array)):\n",
    "    for y in range(len(test_array[0])):\n",
    "        for z in range(len(test_array[0][0])):\n",
    "            voxel_info_1.append({})\n",
    "            voxel_info_1[n]['indices'] = (x+1,y+1,z+1)\n",
    "            voxel_info_1[n]['TERMA'] = test_array[x][y][z]\n",
    "            voxel_info_1[n]['d'] = 0.1\n",
    "            n += 1\n",
    "\n",
    "voxel_info_1"
   ]
  },
  {
   "cell_type": "code",
   "execution_count": 16,
   "id": "02136eae-f9be-4f66-98e1-a5c8c934e689",
   "metadata": {},
   "outputs": [
    {
     "data": {
      "text/plain": [
       "array([[[0.50758621, 0.50758621],\n",
       "        [0.20965517, 0.20965517]],\n",
       "\n",
       "       [[0.20965517, 0.20965517],\n",
       "        [0.07310345, 0.07310345]]])"
      ]
     },
     "execution_count": 16,
     "metadata": {},
     "output_type": "execute_result"
    }
   ],
   "source": [
    "sd.Superposition(test_kernel,(3,3,3),(3,3,3),(0.75,0.75,0.75),[voxel_info_1],4)\n",
    "# sd.Superposition?"
   ]
  },
  {
   "cell_type": "code",
   "execution_count": 25,
   "id": "c13e11a3-f7ca-436b-ba2c-6d449f84f1a3",
   "metadata": {},
   "outputs": [
    {
     "data": {
      "text/plain": [
       "array([[[0.50758621, 0.50758621],\n",
       "        [0.20965517, 0.20965517]],\n",
       "\n",
       "       [[0.20965517, 0.20965517],\n",
       "        [0.07310345, 0.07310345]]])"
      ]
     },
     "execution_count": 25,
     "metadata": {},
     "output_type": "execute_result"
    }
   ],
   "source": [
    "x1,x2 = (2,2.1)\n",
    "y1,y2 = (0,0)\n",
    "z1,z2 = (1,1)\n",
    "\n",
    "dc.Superposition(test_kernel,(3,3,3),(3,3,3),(0.75,0.75,0.75),[voxel_info_1],[((x1,x2),(y1,y2),(z1,z2))],(8,8,8),4)\n",
    "# dc.Superposition?"
   ]
  }
 ],
 "metadata": {
  "kernelspec": {
   "display_name": "Python 3",
   "language": "python",
   "name": "python3"
  },
  "language_info": {
   "codemirror_mode": {
    "name": "ipython",
    "version": 3
   },
   "file_extension": ".py",
   "mimetype": "text/x-python",
   "name": "python",
   "nbconvert_exporter": "python",
   "pygments_lexer": "ipython3",
   "version": "3.6.9"
  }
 },
 "nbformat": 4,
 "nbformat_minor": 5
}
