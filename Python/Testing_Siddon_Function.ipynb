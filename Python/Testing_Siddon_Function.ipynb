{
 "cells": [
  {
   "cell_type": "markdown",
   "id": "900f6f7d-7efa-4bdb-a667-f8578f013799",
   "metadata": {},
   "source": [
    "# Testing Dose Calculator Function\n",
    "I'll do initial testing stuff and miscellaneous things here and then add them into `dose_calculator_tests.py`."
   ]
  },
  {
   "cell_type": "code",
   "execution_count": 1,
   "id": "5869feba-5ea0-48bf-93af-26a8f32eed41",
   "metadata": {},
   "outputs": [
    {
     "name": "stdout",
     "output_type": "stream",
     "text": [
      "Populating the interactive namespace from numpy and matplotlib\n"
     ]
    }
   ],
   "source": [
    "%pylab ipympl \n",
    "%load_ext autoreload\n",
    "import siddon as sd\n",
    "import imshow_slider as ims\n",
    "from topas2numpy import BinnedResult\n",
    "import pickle"
   ]
  },
  {
   "cell_type": "code",
   "execution_count": null,
   "id": "fa9f2fee-5e7c-4f07-8ca5-2411eef0d6ea",
   "metadata": {},
   "outputs": [],
   "source": [
    "# for a CT array of (Nx-1,Ny-1,Nz-1) voxels\n",
    "Nx = 32\n",
    "Ny = 32*8\n",
    "Nz = 32\n",
    "\n",
    "# distances between the x,y,z planes (also the lengths of the sides of the voxels) in cm\n",
    "dx = 0.5\n",
    "dy = 0.5/8\n",
    "dz = 0.5\n",
    "\n",
    "# initial and final coordinates of the beam\n",
    "x1,x2 = (1,1)\n",
    "y1,y2 = (1,1)\n",
    "z1,z2 = (-9,9)\n",
    "\n",
    "# initial plane coordinates\n",
    "xplane1 = -3\n",
    "yplane1 = -3\n",
    "zplane1 = -3\n",
    "\n",
    "# beam info and filename\n",
    "beam_energy = 0.120 # in MeV\n",
    "fluence_0 = 3.183098862 * 10**8 # photon/cm^2\n",
    "filename = 'energy_absorption_coeff.txt'\n",
    "\n",
    "# kernel info\n",
    "kernelname = '../Topas/RealKernel1.csv'\n",
    "kernel_size = (1,1,1) # cm \n",
    "\n",
    "siddon = sd.Siddon((Nx,Ny,Nz),(dx,dy,dz),((x1,x2),(y1,y2),(z1,z2)),(xplane1,yplane1,zplane1))\n",
    "terma = sd.TERMA((Nx,Ny,Nz),(dx,dy,dz),((x1,x2),(y1,y2),(z1,z2)),(xplane1,yplane1,zplane1),beam_energy,fluence_0,filename)\n",
    "dose = sd.Dose_Calculator((Nx,Ny,Nz),(dx,dy,dz),((x1,x2),(y1,y2),(z1,z2)),(xplane1,yplane1,zplane1),beam_energy,fluence_0,filename,kernelname,kernel_size)\n"
   ]
  },
  {
   "cell_type": "code",
   "execution_count": 16,
   "id": "112e1d3c-cc3b-4233-876b-d612551bcd20",
   "metadata": {},
   "outputs": [
    {
     "data": {
      "text/plain": [
       "[{'d': 0.0, 'indices': (9, 9, 1), 'TERMA': 6520259.708920799},\n",
       " {'d': 0.5000000000000002, 'indices': (9, 9, 1), 'TERMA': 6520259.708920799},\n",
       " {'d': 0.5000000000000002, 'indices': (9, 9, 2), 'TERMA': 5986842.878387278},\n",
       " {'d': 0.5000000000000002, 'indices': (9, 9, 3), 'TERMA': 5497064.41929886},\n",
       " {'d': 0.4999999999999992, 'indices': (9, 9, 4), 'TERMA': 5047354.314075717},\n",
       " {'d': 0.5000000000000002, 'indices': (9, 9, 5), 'TERMA': 4634434.605201179},\n",
       " {'d': 0.5000000000000002, 'indices': (9, 9, 6), 'TERMA': 4255295.502039527},\n",
       " {'d': 0.5000000000000002, 'indices': (9, 9, 7), 'TERMA': 3907173.442334458},\n",
       " {'d': 0.5000000000000002, 'indices': (9, 9, 8), 'TERMA': 3587530.9484774536},\n",
       " {'d': 0.5000000000000002, 'indices': (9, 9, 9), 'TERMA': 3294038.131717475},\n",
       " {'d': 0.5000000000000002, 'indices': (9, 9, 10), 'TERMA': 3024555.7094953507},\n",
       " {'d': 0.4999999999999982, 'indices': (9, 9, 11), 'TERMA': 2777119.412115394},\n",
       " {'d': 0.5000000000000002, 'indices': (9, 9, 12), 'TERMA': 2549925.665093791},\n",
       " {'d': 0.5000000000000002, 'indices': (9, 9, 13), 'TERMA': 2341318.442821729},\n",
       " {'d': 0.5000000000000002, 'indices': (9, 9, 14), 'TERMA': 2149777.197719031},\n",
       " {'d': 0.5000000000000002, 'indices': (9, 9, 15), 'TERMA': 1973905.7768933224},\n",
       " {'d': 0.5000000000000002, 'indices': (9, 9, 16), 'TERMA': 1812422.2455177726},\n",
       " {'d': 0.5000000000000002, 'indices': (9, 9, 17), 'TERMA': 1664149.5427495332},\n",
       " {'d': 0.5000000000000002, 'indices': (9, 9, 18), 'TERMA': 1528006.9020794441},\n",
       " {'d': 0.5000000000000002, 'indices': (9, 9, 19), 'TERMA': 1403001.9735755352},\n",
       " {'d': 0.4999999999999982, 'indices': (9, 9, 20), 'TERMA': 1288223.590599007},\n",
       " {'d': 0.5000000000000002, 'indices': (9, 9, 21), 'TERMA': 1182835.1282689432},\n",
       " {'d': 0.5000000000000002, 'indices': (9, 9, 22), 'TERMA': 1086068.4052653033},\n",
       " {'d': 0.5000000000000002, 'indices': (9, 9, 23), 'TERMA': 997218.0845201651},\n",
       " {'d': 0.5000000000000002, 'indices': (9, 9, 24), 'TERMA': 915636.5319835872},\n",
       " {'d': 0.0, 'indices': (9, 9, 25), 'TERMA': 840729.0959894109}]"
      ]
     },
     "execution_count": 16,
     "metadata": {},
     "output_type": "execute_result"
    }
   ],
   "source": [
    "terma"
   ]
  },
  {
   "cell_type": "code",
   "execution_count": null,
   "id": "47dff494-51f0-455c-8315-71eed385238c",
   "metadata": {},
   "outputs": [],
   "source": [
    "dose_im_array = []\n",
    "\n",
    "for dose_row in dose:\n",
    "    dose_im_array.append(dose_row['energy'])\n",
    "\n",
    "dose_im_array = np.array(dose_im_array)\n",
    "\n",
    "dose_im_array = dose_im_array.reshape(Nx-1,Ny-1,Nz-1)\n",
    "\n",
    "pickle.dump(dose_im_array,open('dose_test.pickle','wb'))"
   ]
  },
  {
   "cell_type": "markdown",
   "id": "172cf36d-7104-47a2-910d-524e765474cc",
   "metadata": {},
   "source": [
    "### Slider to Look at 3D Stuff"
   ]
  },
  {
   "cell_type": "code",
   "execution_count": 6,
   "id": "aba68d76-c685-40c3-ba8c-0fde62a2cd5a",
   "metadata": {},
   "outputs": [],
   "source": [
    "data = BinnedResult(kernelname).data['Sum']"
   ]
  },
  {
   "cell_type": "code",
   "execution_count": 13,
   "id": "e70b54d5-802f-4bbb-83f6-ae832103e5c8",
   "metadata": {},
   "outputs": [
    {
     "data": {
      "application/vnd.jupyter.widget-view+json": {
       "model_id": "5f0c356eb08a4c399b1725e107122bc8",
       "version_major": 2,
       "version_minor": 0
      },
      "text/plain": [
       "VBox(children=(HBox(children=(Play(value=0, max=99), IntSlider(value=0, description='axis0', max=99, readout=F…"
      ]
     },
     "metadata": {},
     "output_type": "display_data"
    },
    {
     "data": {
      "application/vnd.jupyter.widget-view+json": {
       "model_id": "ecc92dae940841ad96349a2068d03431",
       "version_major": 2,
       "version_minor": 0
      },
      "image/png": "[encoded data removed]",
      "text/html": [
       "\n",
       "            <div style=\"display: inline-block;\">\n",
       "                <div class=\"jupyter-widgets widget-label\" style=\"text-align: center;\">\n",
       "                    Figure\n",
       "                </div>\n",
       "                <img src='data:image/png;base64,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' width=640.0/>\n",
       "            </div>\n",
       "        "
      ],
      "text/plain": [
       "Canvas(toolbar=Toolbar(toolitems=[('Home', 'Reset original view', 'home', 'home'), ('Back', 'Back to previous …"
      ]
     },
     "metadata": {},
     "output_type": "display_data"
    }
   ],
   "source": [
    "fig,ax,controls = ims.slider(data)"
   ]
  },
  {
   "cell_type": "code",
   "execution_count": 23,
   "id": "471b7a56-bbb3-4973-9f71-2002d7950313",
   "metadata": {},
   "outputs": [],
   "source": [
    "my_dose_array = pickle.load(open('dose_im_array.pickle','rb'))\n",
    "mc_dose_array_full = BinnedResult('../Topas/TestingDose1.csv')\n",
    "mc_dose_array = mc_dose_array_full.data['Sum']"
   ]
  },
  {
   "cell_type": "code",
   "execution_count": null,
   "id": "4f211284-1084-4ee0-9412-a58f38a25b60",
   "metadata": {},
   "outputs": [],
   "source": [
    "fig,ax,controls = ims.slider(dose_im_array)"
   ]
  },
  {
   "cell_type": "markdown",
   "id": "74cee703-c011-4813-a3f2-7ebb7bc03f51",
   "metadata": {
    "tags": []
   },
   "source": [
    "### Tests for Superposition"
   ]
  },
  {
   "cell_type": "code",
   "execution_count": 2,
   "id": "8ed17873-a185-4428-853b-f968e8678d96",
   "metadata": {},
   "outputs": [],
   "source": [
    "test_kernel = array([[[0,0,0],[0,0.1,0],[0,0,0]],\n",
    "                     [[0,0.1,0],[0.1,0.4,0.1],[0,0.1,0]],\n",
    "                     [[0,0,0],[0,0.1,0],[0,0,0]]])"
   ]
  },
  {
   "cell_type": "code",
   "execution_count": 3,
   "id": "e09b0ea5-2a45-479d-93b7-f872b328a152",
   "metadata": {},
   "outputs": [
    {
     "data": {
      "text/plain": [
       "[{'indices': (1, 1, 1), 'TERMA': (1, 1, 1)},\n",
       " {'indices': (1, 1, 2), 'TERMA': (1, 1, 1)},\n",
       " {'indices': (1, 2, 1), 'TERMA': (1, 1, 1)},\n",
       " {'indices': (1, 2, 2), 'TERMA': (1, 1, 1)},\n",
       " {'indices': (2, 1, 1), 'TERMA': (1, 1, 1)},\n",
       " {'indices': (2, 1, 2), 'TERMA': (1, 1, 1)},\n",
       " {'indices': (2, 2, 1), 'TERMA': (1, 1, 1)},\n",
       " {'indices': (2, 2, 2), 'TERMA': (1, 1, 1)}]"
      ]
     },
     "execution_count": 3,
     "metadata": {},
     "output_type": "execute_result"
    }
   ],
   "source": [
    "test_array_1 = array([[[1,1],[1,1]],\n",
    "                      [[1,1],[1,1]]])\n",
    "voxel_info_1 = []\n",
    "n=0\n",
    "for x in range(len(test_array_1)):\n",
    "    for y in range(len(test_array_1[0])):\n",
    "        for z in range(len(test_array_1[0][0])):\n",
    "            voxel_info_1.append({})\n",
    "            voxel_info_1[n]['indices'] = (x+1,y+1,z+1)\n",
    "            voxel_info_1[n]['TERMA'] = (1,1,1)\n",
    "            n += 1\n",
    "\n",
    "voxel_info_1"
   ]
  },
  {
   "cell_type": "code",
   "execution_count": 4,
   "id": "02136eae-f9be-4f66-98e1-a5c8c934e689",
   "metadata": {},
   "outputs": [
    {
     "data": {
      "text/plain": [
       "[{'indices': (1.0, 1.0, 1.0), 'energy': array([0., 0., 0.])},\n",
       " {'indices': (1.0, 1.0, 2.0), 'energy': array([0., 0., 0.])},\n",
       " {'indices': (1.0, 2.0, 1.0), 'energy': array([0., 0., 0.])},\n",
       " {'indices': (1.0, 2.0, 2.0), 'energy': array([0., 0., 0.])},\n",
       " {'indices': (2.0, 1.0, 1.0), 'energy': array([0., 0., 0.])},\n",
       " {'indices': (2.0, 1.0, 2.0), 'energy': array([0., 0., 0.])},\n",
       " {'indices': (2.0, 2.0, 1.0), 'energy': array([0., 0., 0.])},\n",
       " {'indices': (2.0, 2.0, 2.0), 'energy': array([0., 0., 0.])}]"
      ]
     },
     "execution_count": 4,
     "metadata": {},
     "output_type": "execute_result"
    }
   ],
   "source": [
    "sd.Superposition(test_kernel,(2,2,2),(3,3,3),(2,2,2),voxel_info_1)"
   ]
  },
  {
   "cell_type": "code",
   "execution_count": null,
   "id": "f21d99f1-5f37-4c33-8b7b-c526f72c9b47",
   "metadata": {},
   "outputs": [],
   "source": []
  }
 ],
 "metadata": {
  "kernelspec": {
   "display_name": "Python 3",
   "language": "python",
   "name": "python3"
  },
  "language_info": {
   "codemirror_mode": {
    "name": "ipython",
    "version": 3
   },
   "file_extension": ".py",
   "mimetype": "text/x-python",
   "name": "python",
   "nbconvert_exporter": "python",
   "pygments_lexer": "ipython3",
   "version": "3.6.9"
  }
 },
 "nbformat": 4,
 "nbformat_minor": 5
}
