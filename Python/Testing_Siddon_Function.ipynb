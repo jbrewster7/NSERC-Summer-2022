{
 "cells": [
  {
   "cell_type": "markdown",
   "id": "900f6f7d-7efa-4bdb-a667-f8578f013799",
   "metadata": {
    "tags": []
   },
   "source": [
    "# Testing Dose Calculator Function\n",
    "I'll do initial testing stuff and miscellaneous things here and then add them into `dose_calculator_tests.py`."
   ]
  },
  {
   "cell_type": "code",
   "execution_count": 1,
   "id": "5869feba-5ea0-48bf-93af-26a8f32eed41",
   "metadata": {},
   "outputs": [
    {
     "name": "stdout",
     "output_type": "stream",
     "text": [
      "Populating the interactive namespace from numpy and matplotlib\n"
     ]
    }
   ],
   "source": [
    "%pylab ipympl \n",
    "%load_ext autoreload\n",
    "import siddon as sd\n",
    "import dose_calculator as dc\n",
    "import imshow_slider as ims\n",
    "from topas2numpy import BinnedResult\n",
    "import pickle\n",
    "from scipy import interpolate\n",
    "import spekpy as sp"
   ]
  },
  {
   "cell_type": "markdown",
   "id": "e1b15e18-7a5c-4b26-ad2a-8b453873abe9",
   "metadata": {},
   "source": [
    "## Testing Dose One\n",
    "This is a 120 keV monoenergetic pencil beam in an ellipse shape moving from positive to negative z. The medium is a 5cm x 5cm x 5cm block with 50 voxels in each axis."
   ]
  },
  {
   "cell_type": "code",
   "execution_count": 2,
   "id": "8529847d-bbd1-498c-9190-8fe7d195c38f",
   "metadata": {},
   "outputs": [
    {
     "name": "stdout",
     "output_type": "stream",
     "text": [
      "CPU times: user 9.17 s, sys: 951 ms, total: 10.1 s\n",
      "Wall time: 12min 14s\n"
     ]
    }
   ],
   "source": [
    "%%time \n",
    "\n",
    "# for a CT array of (Nx-1,Ny-1,Nz-1) voxels\n",
    "Nx = 51\n",
    "Ny = 51\n",
    "Nz = 51\n",
    "\n",
    "# distances between the x,y,z planes (also the lengths of the sides of the voxels) in cm\n",
    "dx = 0.1\n",
    "dy = 0.1\n",
    "dz = 0.1\n",
    "\n",
    "# initial and final coordinates of the beam\n",
    "x1,x2 = (0,0)\n",
    "y1,y2 = (0,0)\n",
    "z1,z2 = (2.5,-2.5)\n",
    "\n",
    "# adjustment from center \n",
    "adjust = 0.025\n",
    "\n",
    "# initial plane coordinates\n",
    "xplane1 = -2.5\n",
    "yplane1 = -2.5\n",
    "zplane1 = -2.5\n",
    "\n",
    "# beam info and filename\n",
    "beam_energy = 0.120 # in MeV\n",
    "# fluence_0 = 3.183098862 * 10**8 # photon/cm^2\n",
    "# fluence_0 = 2.53 * 10**8 # photon/cm^2\n",
    "fluence_0 = 9.93 * 10**8 # photon/cm^2\n",
    "# filename = 'energy_absorption_coeff.txt'\n",
    "filename = 'energy_absorption_coeffs.txt'\n",
    "\n",
    "# kernel info\n",
    "kernelname = '../Topas/Kernels/RealKernel_halfinteractionbefore.csv'\n",
    "kernel_size = (2,2,2) # cm \n",
    "\n",
    "# number of cores to use\n",
    "num_cores = 16\n",
    "\n",
    "# Siddon((Nx,Ny,Nz),(dx,dy,dz),((x1,x2),(y1,y2),(z1,z2)),(xplane1,yplane1,zplane1),plot=True)\n",
    "# terma = sd.TERMA((Nx,Ny,Nz),(dx,dy,dz),((x1,x2),(y1,y2),(z1,z2)),(xplane1,yplane1,zplane1),[beam_energy],[fluence_0],mu)\n",
    "\n",
    "dose = dc.Dose_Calculator((Nx,Ny,Nz),(dx,dy,dz),[((x1+adjust,x2+adjust),(y1+adjust,y2+adjust),(z1,z2)),((x1-adjust,x2-adjust),(y1+adjust,y2+adjust),(z1,z2)),((x1+adjust,x2+adjust),(y1-adjust,y2-adjust),(z1,z2)),((x1-adjust,x2-adjust),(y1-adjust,y2-adjust),(z1,z2))],(xplane1,yplane1,zplane1),[beam_energy],[fluence_0],filename,kernelname,kernel_size,num_cores)\n"
   ]
  },
  {
   "cell_type": "code",
   "execution_count": null,
   "id": "75a1ccfb-0144-47f8-9892-088d61e77c28",
   "metadata": {},
   "outputs": [],
   "source": [
    "with 8 \"cores\":\n",
    "CPU times: user 9.19 s, sys: 901 ms, total: 10.1 s\n",
    "Wall time: 17min 27s"
   ]
  },
  {
   "cell_type": "code",
   "execution_count": 3,
   "id": "ae4c066d-cd48-4345-ab62-3c6115cd581c",
   "metadata": {},
   "outputs": [],
   "source": [
    "pickle.dump(dose,open('dose_16.pickle','wb'))"
   ]
  },
  {
   "cell_type": "markdown",
   "id": "2fbc050a-8bd1-4873-a7b0-4da4f461bf88",
   "metadata": {},
   "source": [
    "## Testing Dose Two\n"
   ]
  },
  {
   "cell_type": "code",
   "execution_count": 2,
   "id": "6e64aef1-c300-491b-9f0a-e7e65064ac4f",
   "metadata": {},
   "outputs": [],
   "source": [
    "s = sp.Spek(kvp=120,th=12) # Generate a spectrum (80 kV, 12 degree tube angle)\n",
    "s.filter('Al', 4.0) # Filter by 4 mm of Al\n",
    "\n",
    "hvl = s.get_hvl1() # Get the 1st HVL in mm Al\n",
    "\n",
    "# print(hvl) # Print out the HVL value (Python3 syntax)\n",
    "\n",
    "beam_energy,fluence_0 = s.get_spectrum()\n",
    "beam_energy = beam_energy/1000"
   ]
  },
  {
   "cell_type": "code",
   "execution_count": 3,
   "id": "0a677621-4bcf-4eb1-abf3-c28082fcfa1e",
   "metadata": {},
   "outputs": [
    {
     "data": {
      "text/plain": [
       "238"
      ]
     },
     "execution_count": 3,
     "metadata": {},
     "output_type": "execute_result"
    }
   ],
   "source": [
    "# for fluence in fluence_0:\n",
    "#     print(fluence/sum(fluence_0),end=' ')\n",
    "len(beam_energy)"
   ]
  },
  {
   "cell_type": "code",
   "execution_count": 4,
   "id": "9eaf59d5-eeea-4c5f-bd24-b3667bf8fc27",
   "metadata": {},
   "outputs": [
    {
     "name": "stdout",
     "output_type": "stream",
     "text": [
      "CPU times: user 9.15 s, sys: 1.01 s, total: 10.2 s\n",
      "Wall time: 12min 17s\n"
     ]
    }
   ],
   "source": [
    "%%time \n",
    "\n",
    "# for a CT array of (Nx-1,Ny-1,Nz-1) voxels\n",
    "Nx = 51\n",
    "Ny = 51\n",
    "Nz = 51\n",
    "\n",
    "# distances between the x,y,z planes (also the lengths of the sides of the voxels) in cm\n",
    "dx = 0.1\n",
    "dy = 0.1\n",
    "dz = 0.1\n",
    "\n",
    "# initial and final coordinates of the beam\n",
    "x1,x2 = (0,0)\n",
    "y1,y2 = (0,0)\n",
    "z1,z2 = (2.5,-2.5)\n",
    "\n",
    "# adjustment from center \n",
    "adjust = 0.025\n",
    "\n",
    "# initial plane coordinates\n",
    "xplane1 = -2.5\n",
    "yplane1 = -2.5\n",
    "zplane1 = -2.5\n",
    "\n",
    "# beam info and filename\n",
    "filename = 'energy_absorption_coeffs.txt'\n",
    "\n",
    "# kernel info\n",
    "kernelname = '../Topas/RealKernel1.csv'\n",
    "kernel_size = (2,2,2) # cm \n",
    "\n",
    "# number of cores to use\n",
    "num_cores = 16\n",
    "\n",
    "# Siddon((Nx,Ny,Nz),(dx,dy,dz),((x1,x2),(y1,y2),(z1,z2)),(xplane1,yplane1,zplane1),plot=True)\n",
    "# terma = sd.TERMA((Nx,Ny,Nz),(dx,dy,dz),((x1,x2),(y1,y2),(z1,z2)),(xplane1,yplane1,zplane1),[beam_energy],[fluence_0],mu)\n",
    "\n",
    "dose = sd.Dose_Calculator((Nx,Ny,Nz),(dx,dy,dz),[((x1+adjust,x2+adjust),(y1+adjust,y2+adjust),(z1,z2)),((x1-adjust,x2-adjust),(y1+adjust,y2+adjust),(z1,z2)),((x1+adjust,x2+adjust),(y1-adjust,y2-adjust),(z1,z2)),((x1-adjust,x2-adjust),(y1-adjust,y2-adjust),(z1,z2))],(xplane1,yplane1,zplane1),beam_energy,fluence_0,filename,kernelname,kernel_size,num_cores)\n"
   ]
  },
  {
   "cell_type": "code",
   "execution_count": 5,
   "id": "027a44a4-ca2a-4f88-b452-004df5f22586",
   "metadata": {},
   "outputs": [],
   "source": [
    "pickle.dump(dose,open('dosetest2_1.pickle','wb'))"
   ]
  },
  {
   "cell_type": "markdown",
   "id": "ee10efe1-42dd-473f-a30a-d11afb67a62e",
   "metadata": {},
   "source": [
    "## Other Stuff"
   ]
  },
  {
   "cell_type": "code",
   "execution_count": 18,
   "id": "92daa9e5-b1f0-478b-98e8-d4b79219771b",
   "metadata": {},
   "outputs": [],
   "source": [
    "'''\n",
    "making mu interpolation function\n",
    "'''\n",
    "filename = 'energy_absorption_coeffs.txt'\n",
    "\n",
    "coeff_array = np.loadtxt(filename,skiprows=2,dtype=float)\n",
    "\n",
    "# exponentially interpolate \n",
    "mu_linear = interpolate.interp1d(np.log(coeff_array.T[0]),np.log(coeff_array.T[1]),kind='linear',fill_value='extrapolate')\n",
    "mu_l = lambda energy, material: np.exp(mu_linear(np.log(energy))) # CHANGE THIS LATER TO A REAL FUNCTION\n",
    "\n",
    "mu_mass = interpolate.interp1d(np.log(coeff_array.T[0]),np.log(coeff_array.T[2]),kind='linear',fill_value='extrapolate')\n",
    "mu_m = lambda energy, material: np.exp(mu_mass(np.log(energy))) # CHANGE THIS LATER TO A REAL FUNCTION"
   ]
  },
  {
   "cell_type": "markdown",
   "id": "08997f62-318a-41aa-98a9-9dbd24ca4c9e",
   "metadata": {},
   "source": [
    "#### Testing TERMA with Polyenergetic"
   ]
  },
  {
   "cell_type": "code",
   "execution_count": 6,
   "id": "e688d2de-3c87-46f7-aeba-41bb9ae94fb6",
   "metadata": {},
   "outputs": [
    {
     "ename": "NameError",
     "evalue": "name 'mu_l' is not defined",
     "output_type": "error",
     "traceback": [
      "\u001b[0;31m---------------------------------------------------------------------------\u001b[0m",
      "\u001b[0;31mNameError\u001b[0m                                 Traceback (most recent call last)",
      "\u001b[0;32m<timed exec>\u001b[0m in \u001b[0;36m<module>\u001b[0;34m\u001b[0m\n",
      "\u001b[0;31mNameError\u001b[0m: name 'mu_l' is not defined"
     ]
    }
   ],
   "source": [
    "%%time\n",
    "# for a CT array of (Nx-1,Ny-1,Nz-1) voxels\n",
    "Nx = 10\n",
    "Ny = 10\n",
    "Nz = 10\n",
    "\n",
    "# distances between the x,y,z planes (also the lengths of the sides of the voxels)\n",
    "dx = 0.1\n",
    "dy = 0.1\n",
    "dz = 0.1\n",
    "\n",
    "# initial and final coordinates of the beam\n",
    "x1,x2 = (0.2,0.5)\n",
    "y1,y2 = (0.4,0.8)\n",
    "z1,z2 = (4,-6)\n",
    "\n",
    "# initial plane coordinates\n",
    "xplane1 = 0\n",
    "yplane1 = 0\n",
    "zplane1 = 0\n",
    "\n",
    "# beam info and filename\n",
    "# beam_energy = 0.120 # in MeV\n",
    "# fluence_0 = 1 # photon/cm^2\n",
    "filename = 'energy_absorption_coeffs.txt'\n",
    "\n",
    "# kernel info\n",
    "kernelname = '../Topas/RealKernel1.csv'\n",
    "kernel_size = (1,1,1) # cm \n",
    "\n",
    "# number of cores to use \n",
    "num_cores = 8\n",
    "\n",
    "# sd.Siddon((Nx,Ny,Nz),(dx,dy,dz),((x1,x2),(y1,y2),(z1,z2)),(xplane1,yplane1,zplane1),plot=True)\n",
    "terma = sd.TERMA((Nx,Ny,Nz),(dx,dy,dz),((x1,x2),(y1,y2),(z1,z2)),(xplane1,yplane1,zplane1),beam_energy,fluence_0,mu_l,mu_m)\n",
    "\n",
    "# dose = sd.Dose_Calculator((Nx,Ny,Nz),(dx,dy,dz),[((x1,x2),(y1,y2),(z1,z2))],(xplane1,yplane1,zplane1),beam_energy,fluence_0,filename,kernelname,kernel_size,num_cores)\n",
    "\n",
    "# sd.TERMA?\n",
    "terma"
   ]
  },
  {
   "cell_type": "code",
   "execution_count": 7,
   "id": "07f3e1b0-8e91-4cfa-b336-3b0b6d1a4d2c",
   "metadata": {},
   "outputs": [
    {
     "data": {
      "text/plain": [
       "0.1613015136737795"
      ]
     },
     "execution_count": 7,
     "metadata": {},
     "output_type": "execute_result"
    }
   ],
   "source": [
    "mu_l(0.12,'water')"
   ]
  },
  {
   "cell_type": "code",
   "execution_count": 2,
   "id": "fa9f2fee-5e7c-4f07-8ca5-2411eef0d6ea",
   "metadata": {},
   "outputs": [],
   "source": [
    "# for a CT array of (Nx-1,Ny-1,Nz-1) voxels\n",
    "Nx = 16\n",
    "Ny = 16\n",
    "Nz = 16\n",
    "\n",
    "# distances between the x,y,z planes (also the lengths of the sides of the voxels) in cm\n",
    "dx = 0.05\n",
    "dy = 0.05\n",
    "dz = 0.05\n",
    "\n",
    "# initial and final coordinates of the beam\n",
    "x1,x2 = (0,0)\n",
    "y1,y2 = (0,0)\n",
    "z1,z2 = (-0.8,0.8)\n",
    "\n",
    "# initial plane coordinates\n",
    "xplane1 = -0.8\n",
    "yplane1 = -0.8\n",
    "zplane1 = -0.8\n",
    "\n",
    "# beam info and filename\n",
    "beam_energy = 0.120 # in MeV\n",
    "fluence_0 = 3.183098862 * 10**8 # photon/cm^2\n",
    "filename = 'energy_absorption_coeffs.txt'\n",
    "\n",
    "# kernel info\n",
    "kernelname = '../Topas/RealKernel1.csv'\n",
    "kernel_size = (1,1,1) # cm \n",
    "\n",
    "# number of cores to use \n",
    "num_cores = 8\n",
    "\n",
    "# siddon = sd.Siddon((Nx,Ny,Nz),(dx,dy,dz),((x1,x2),(y1,y2),(z1,z2)),(xplane1,yplane1,zplane1))\n",
    "# terma = sd.TERMA((Nx,Ny,Nz),(dx,dy,dz),((x1,x2),(y1,y2),(z1,z2)),(xplane1,yplane1,zplane1),beam_energy,fluence_0,mu)\n",
    "dose = sd.Dose_Calculator((Nx,Ny,Nz),(dx,dy,dz),[((x1,x2),(y1,y2),(z1,z2))],(xplane1,yplane1,zplane1),[beam_energy],[fluence_0],filename,kernelname,kernel_size,num_cores)\n"
   ]
  },
  {
   "cell_type": "code",
   "execution_count": 3,
   "id": "112e1d3c-cc3b-4233-876b-d612551bcd20",
   "metadata": {},
   "outputs": [
    {
     "data": {
      "text/plain": [
       "(15, 15, 15)"
      ]
     },
     "execution_count": 3,
     "metadata": {},
     "output_type": "execute_result"
    }
   ],
   "source": [
    "shape(dose)"
   ]
  },
  {
   "cell_type": "code",
   "execution_count": 8,
   "id": "3513af4a-0c38-458b-bf41-17151d79cdc4",
   "metadata": {},
   "outputs": [],
   "source": [
    "s = sp.Spek(kvp=120,th=12) # Generate a spectrum (80 kV, 12 degree tube angle)\n",
    "s.filter('Al', 4.0) # Filter by 4 mm of Al\n",
    "\n",
    "hvl = s.get_hvl1() # Get the 1st HVL in mm Al\n",
    "\n",
    "# print(hvl) # Print out the HVL value (Python3 syntax)\n",
    "\n",
    "beam_energy,fluence_0 = s.get_spectrum()\n",
    "\n",
    "# sp.Spek?"
   ]
  },
  {
   "cell_type": "code",
   "execution_count": 11,
   "id": "6e9be349-5364-4de1-8f80-8559d71ac587",
   "metadata": {},
   "outputs": [
    {
     "name": "stdout",
     "output_type": "stream",
     "text": [
      "CPU times: user 8.1 s, sys: 164 ms, total: 8.27 s\n",
      "Wall time: 8.72 s\n"
     ]
    }
   ],
   "source": [
    "%%time\n",
    "# for a CT array of (Nx-1,Ny-1,Nz-1) voxels\n",
    "Nx = 10\n",
    "Ny = 10\n",
    "Nz = 10\n",
    "\n",
    "# distances between the x,y,z planes (also the lengths of the sides of the voxels)\n",
    "dx = 0.1\n",
    "dy = 0.1\n",
    "dz = 0.1\n",
    "\n",
    "# initial and final coordinates of the beam\n",
    "x1,x2 = (0.2,0.5)\n",
    "y1,y2 = (0.4,0.8)\n",
    "z1,z2 = (4,-6)\n",
    "\n",
    "# initial plane coordinates\n",
    "xplane1 = 0\n",
    "yplane1 = 0\n",
    "zplane1 = 0\n",
    "\n",
    "# beam info and filename\n",
    "# beam_energy = 0.120 # in MeV\n",
    "# fluence_0 = 1 # photon/cm^2\n",
    "filename = 'energy_absorption_coeffs.txt'\n",
    "\n",
    "# kernel info\n",
    "kernelname = '../Topas/RealKernel1.csv'\n",
    "kernel_size = (1,1,1) # cm \n",
    "\n",
    "# number of cores to use \n",
    "num_cores = 8\n",
    "\n",
    "# sd.Siddon((Nx,Ny,Nz),(dx,dy,dz),((x1,x2),(y1,y2),(z1,z2)),(xplane1,yplane1,zplane1),plot=True)\n",
    "# terma = sd.TERMA((Nx,Ny,Nz),(dx,dy,dz),((x1,x2),(y1,y2),(z1,z2)),(xplane1,yplane1,zplane1),beam_energy,fluence_0,mu)\n",
    "\n",
    "dose = sd.Dose_Calculator((Nx,Ny,Nz),(dx,dy,dz),[((x1,x2),(y1,y2),(z1,z2))],(xplane1,yplane1,zplane1),beam_energy,fluence_0,filename,kernelname,kernel_size,num_cores)\n"
   ]
  },
  {
   "cell_type": "markdown",
   "id": "5a727dda-bf55-4e07-9123-1063a79addd7",
   "metadata": {},
   "source": [
    "*I'm guessing a lot of this time is coming from interpolating the kernel at the beginning, maybe I'll try to run some tests with bigger arrays*"
   ]
  },
  {
   "cell_type": "markdown",
   "id": "2b9c6a88-e1bf-4fcf-a04b-1ce8bd935ea1",
   "metadata": {},
   "source": [
    "with 8 cores:\n",
    "CPU times: user 7.96 s, sys: 151 ms, total: 8.11 s\n",
    "Wall time: 8.55 s"
   ]
  },
  {
   "cell_type": "markdown",
   "id": "923da6f2-ced4-4b29-95fb-4cd36df2cf07",
   "metadata": {},
   "source": [
    "with 4 cores:\n",
    "CPU times: user 7.99 s, sys: 140 ms, total: 8.14 s\n",
    "Wall time: 8.76 s"
   ]
  },
  {
   "cell_type": "code",
   "execution_count": 19,
   "id": "02b14f2e-7f8e-43dc-bf09-c4b698145133",
   "metadata": {},
   "outputs": [],
   "source": [
    "for n in range(len(voxel_info)):\n",
    "    for voxel in voxel_info[n]:\n",
    "        if abs(voxel['d'] - 0.1) > 0.00000001:\n",
    "            print('oops')"
   ]
  },
  {
   "cell_type": "code",
   "execution_count": 7,
   "id": "47dff494-51f0-455c-8315-71eed385238c",
   "metadata": {},
   "outputs": [],
   "source": [
    "dose_im_array = []\n",
    "\n",
    "for dose_row in dose:\n",
    "    dose_im_array.append(dose_row['energy'])\n",
    "\n",
    "dose_im_array = np.array(dose_im_array)\n",
    "\n",
    "dose_im_array = dose_im_array.reshape(Nx-1,Ny-1,Nz-1)\n",
    "\n",
    "pickle.dump(dose_im_array,open('dose_test.pickle','wb'))"
   ]
  },
  {
   "cell_type": "code",
   "execution_count": 21,
   "id": "ea03e31b-387b-45e9-9067-e2d1f0f21d1f",
   "metadata": {},
   "outputs": [
    {
     "data": {
      "text/plain": [
       "6"
      ]
     },
     "execution_count": 21,
     "metadata": {},
     "output_type": "execute_result"
    }
   ],
   "source": [
    "a = array([1,2])\n",
    "b = []"
   ]
  },
  {
   "cell_type": "markdown",
   "id": "172cf36d-7104-47a2-910d-524e765474cc",
   "metadata": {},
   "source": [
    "### Slider to Look at 3D Stuff"
   ]
  },
  {
   "cell_type": "code",
   "execution_count": 10,
   "id": "aba68d76-c685-40c3-ba8c-0fde62a2cd5a",
   "metadata": {},
   "outputs": [],
   "source": [
    "kernelname = '../Topas/RealKernel1.csv'\n",
    "kernel_array = BinnedResult(kernelname).data['Sum']"
   ]
  },
  {
   "cell_type": "code",
   "execution_count": 5,
   "id": "8bd5a289-6b2f-4776-8d08-5a6673175ef9",
   "metadata": {},
   "outputs": [],
   "source": [
    "kernelname = '../Topas/BoneKernel1.csv'\n",
    "kernel_array = BinnedResult(kernelname).data['Sum']"
   ]
  },
  {
   "cell_type": "code",
   "execution_count": 6,
   "id": "343715ad-3318-4711-bd0d-298a4595a0a0",
   "metadata": {},
   "outputs": [],
   "source": [
    "data = BinnedResult('../Topas/EnergyFluence.csv').data['Sum']"
   ]
  },
  {
   "cell_type": "code",
   "execution_count": 7,
   "id": "e70b54d5-802f-4bbb-83f6-ae832103e5c8",
   "metadata": {},
   "outputs": [
    {
     "data": {
      "text/plain": [
       "(array([25]), array([24]), array([49]))"
      ]
     },
     "execution_count": 7,
     "metadata": {},
     "output_type": "execute_result"
    }
   ],
   "source": [
    "where(data==np.max(data))"
   ]
  },
  {
   "cell_type": "code",
   "execution_count": 11,
   "id": "a95f5121-1625-4b9b-ba94-573ca0c005cb",
   "metadata": {},
   "outputs": [
    {
     "data": {
      "application/vnd.jupyter.widget-view+json": {
       "model_id": "76b2e588f0c5475c9dd22ca687864228",
       "version_major": 2,
       "version_minor": 0
      },
      "text/plain": [
       "VBox(children=(HBox(children=(Play(value=0, max=98), IntSlider(value=0, description='axis0', max=98, readout=F…"
      ]
     },
     "metadata": {},
     "output_type": "display_data"
    },
    {
     "data": {
      "application/vnd.jupyter.widget-view+json": {
       "model_id": "a14f5785278145efaa42b25c4e15440e",
       "version_major": 2,
       "version_minor": 0
      },
      "image/png": "[encoded data removed]",
      "text/html": [
       "\n",
       "            <div style=\"display: inline-block;\">\n",
       "                <div class=\"jupyter-widgets widget-label\" style=\"text-align: center;\">\n",
       "                    Figure\n",
       "                </div>\n",
       "                <img src='data:image/png;base64,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' width=640.0/>\n",
       "            </div>\n",
       "        "
      ],
      "text/plain": [
       "Canvas(toolbar=Toolbar(toolitems=[('Home', 'Reset original view', 'home', 'home'), ('Back', 'Back to previous …"
      ]
     },
     "metadata": {},
     "output_type": "display_data"
    }
   ],
   "source": [
    "fig,ax,controls = ims.slider(kernel_array)"
   ]
  },
  {
   "cell_type": "code",
   "execution_count": 8,
   "id": "98c7079b-a34a-4a4c-a298-1dbd5c83fad9",
   "metadata": {},
   "outputs": [
    {
     "data": {
      "application/vnd.jupyter.widget-view+json": {
       "model_id": "0ba68aeeab9d4e11ac7bfeea137ad502",
       "version_major": 2,
       "version_minor": 0
      },
      "text/plain": [
       "VBox(children=(HBox(children=(Play(value=0, max=98), IntSlider(value=0, description='axis0', max=98, readout=F…"
      ]
     },
     "metadata": {},
     "output_type": "display_data"
    },
    {
     "data": {
      "application/vnd.jupyter.widget-view+json": {
       "model_id": "79a54f005c9640fa891ac453924ed05c",
       "version_major": 2,
       "version_minor": 0
      },
      "image/png": "[encoded data removed]",
      "text/html": [
       "\n",
       "            <div style=\"display: inline-block;\">\n",
       "                <div class=\"jupyter-widgets widget-label\" style=\"text-align: center;\">\n",
       "                    Figure\n",
       "                </div>\n",
       "                <img src='data:image/png;base64,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' width=640.0/>\n",
       "            </div>\n",
       "        "
      ],
      "text/plain": [
       "Canvas(toolbar=Toolbar(toolitems=[('Home', 'Reset original view', 'home', 'home'), ('Back', 'Back to previous …"
      ]
     },
     "metadata": {},
     "output_type": "display_data"
    }
   ],
   "source": [
    "fig,ax,controls = ims.slider(kernel_array)"
   ]
  },
  {
   "cell_type": "code",
   "execution_count": 7,
   "id": "7d75a888-2b22-44d2-befe-4de65c9431ba",
   "metadata": {},
   "outputs": [
    {
     "data": {
      "text/plain": [
       "(49, 49, 49)"
      ]
     },
     "execution_count": 7,
     "metadata": {},
     "output_type": "execute_result"
    }
   ],
   "source": [
    "(int(np.floor(len(kernel_array)/2)),int(np.floor(len(kernel_array[0])/2)),int(np.floor(len(kernel_array[0][0])/2)))"
   ]
  },
  {
   "cell_type": "code",
   "execution_count": 16,
   "id": "471b7a56-bbb3-4973-9f71-2002d7950313",
   "metadata": {},
   "outputs": [],
   "source": [
    "my_dose_array = pickle.load(open('dose_1.pickle','rb'))\n",
    "mc_dose_array_full = BinnedResult('../Topas/TestingDose1.csv')\n",
    "mc_dose_array = mc_dose_array_full.data['Sum']"
   ]
  },
  {
   "cell_type": "code",
   "execution_count": 12,
   "id": "4f211284-1084-4ee0-9412-a58f38a25b60",
   "metadata": {},
   "outputs": [
    {
     "data": {
      "application/vnd.jupyter.widget-view+json": {
       "model_id": "59e81d6d07174e2589be1db6857feb7c",
       "version_major": 2,
       "version_minor": 0
      },
      "text/plain": [
       "VBox(children=(HBox(children=(Play(value=0, max=14), IntSlider(value=0, description='axis0', max=14, readout=F…"
      ]
     },
     "metadata": {},
     "output_type": "display_data"
    },
    {
     "data": {
      "application/vnd.jupyter.widget-view+json": {
       "model_id": "693a1f0ee5e245c6a2d622e96c0b9400",
       "version_major": 2,
       "version_minor": 0
      },
      "image/png": "[encoded data removed]",
      "text/html": [
       "\n",
       "            <div style=\"display: inline-block;\">\n",
       "                <div class=\"jupyter-widgets widget-label\" style=\"text-align: center;\">\n",
       "                    Figure\n",
       "                </div>\n",
       "                <img src='data:image/png;base64,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' width=640.0/>\n",
       "            </div>\n",
       "        "
      ],
      "text/plain": [
       "Canvas(toolbar=Toolbar(toolitems=[('Home', 'Reset original view', 'home', 'home'), ('Back', 'Back to previous …"
      ]
     },
     "metadata": {},
     "output_type": "display_data"
    }
   ],
   "source": [
    "fig,ax,controls = ims.slider(dose)"
   ]
  },
  {
   "cell_type": "code",
   "execution_count": 9,
   "id": "f09adf6e-ac10-46a6-9ab4-b139228321a8",
   "metadata": {},
   "outputs": [
    {
     "name": "stdout",
     "output_type": "stream",
     "text": [
      "0.03631941168294036 0.0009266880412018293\n"
     ]
    }
   ],
   "source": [
    "print(sum(my_dose_array)*1.602e-10,sum(mc_dose_array))"
   ]
  },
  {
   "cell_type": "markdown",
   "id": "74cee703-c011-4813-a3f2-7ebb7bc03f51",
   "metadata": {
    "tags": []
   },
   "source": [
    "### Tests for Superposition"
   ]
  },
  {
   "cell_type": "code",
   "execution_count": 12,
   "id": "8ed17873-a185-4428-853b-f968e8678d96",
   "metadata": {},
   "outputs": [],
   "source": [
    "test_kernel = array([[[0,0,0],[0,0.1,0],[0,0,0]],\n",
    "                     [[0,0.1,0],[0.1,0.4,0.1],[0,0.1,0]],\n",
    "                     [[0,0,0],[0,0.1,0],[0,0,0]]])"
   ]
  },
  {
   "cell_type": "code",
   "execution_count": 13,
   "id": "e4769d3d-bd53-4826-bae9-33cc7feadc3e",
   "metadata": {},
   "outputs": [],
   "source": [
    "test_array_1 = array([[[1,1],[1,1]],\n",
    "                      [[1,1],[1,1]]])\n",
    "\n",
    "test_array_2 = array([[[1,1],[0,0]],\n",
    "                      [[0,0],[0,0]]])"
   ]
  },
  {
   "cell_type": "code",
   "execution_count": 17,
   "id": "4009f8da-ebf2-40e2-a981-6e1b6ee80c4c",
   "metadata": {},
   "outputs": [
    {
     "data": {
      "text/plain": [
       "[{'indices': (1, 1, 1), 'TERMA': 1, 'd': 0.1},\n",
       " {'indices': (1, 1, 2), 'TERMA': 1, 'd': 0.1},\n",
       " {'indices': (1, 2, 1), 'TERMA': 0, 'd': 0.1},\n",
       " {'indices': (1, 2, 2), 'TERMA': 0, 'd': 0.1},\n",
       " {'indices': (2, 1, 1), 'TERMA': 0, 'd': 0.1},\n",
       " {'indices': (2, 1, 2), 'TERMA': 0, 'd': 0.1},\n",
       " {'indices': (2, 2, 1), 'TERMA': 0, 'd': 0.1},\n",
       " {'indices': (2, 2, 2), 'TERMA': 0, 'd': 0.1}]"
      ]
     },
     "execution_count": 17,
     "metadata": {},
     "output_type": "execute_result"
    }
   ],
   "source": [
    "test_array = test_array_2\n",
    "\n",
    "voxel_info_1 = []\n",
    "n=0\n",
    "for x in range(len(test_array)):\n",
    "    for y in range(len(test_array[0])):\n",
    "        for z in range(len(test_array[0][0])):\n",
    "            voxel_info_1.append({})\n",
    "            voxel_info_1[n]['indices'] = (x+1,y+1,z+1)\n",
    "            voxel_info_1[n]['TERMA'] = test_array[x][y][z]\n",
    "            voxel_info_1[n]['d'] = 0.1\n",
    "            n += 1\n",
    "\n",
    "voxel_info_1"
   ]
  },
  {
   "cell_type": "code",
   "execution_count": 29,
   "id": "02136eae-f9be-4f66-98e1-a5c8c934e689",
   "metadata": {},
   "outputs": [
    {
     "data": {
      "text/plain": [
       "array([[[0.50758621, 0.50758621],\n",
       "        [0.20965517, 0.20965517]],\n",
       "\n",
       "       [[0.20965517, 0.20965517],\n",
       "        [0.07310345, 0.07310345]]])"
      ]
     },
     "execution_count": 29,
     "metadata": {},
     "output_type": "execute_result"
    }
   ],
   "source": [
    "sd.Superposition(test_kernel,(3,3,3),(3,3,3),(0.75,0.75,0.75),[voxel_info_1],4)\n",
    "# sd.Superposition?"
   ]
  },
  {
   "cell_type": "code",
   "execution_count": 28,
   "id": "c13e11a3-f7ca-436b-ba2c-6d449f84f1a3",
   "metadata": {},
   "outputs": [
    {
     "data": {
      "text/plain": [
       "array([[[0.71083793, 0.71083793],\n",
       "        [0.        , 0.        ]],\n",
       "\n",
       "       [[0.28916207, 0.28916207],\n",
       "        [0.        , 0.        ]]])"
      ]
     },
     "execution_count": 28,
     "metadata": {},
     "output_type": "execute_result"
    }
   ],
   "source": [
    "x1,x2 = (2,0.25)\n",
    "y1,y2 = (0,0)\n",
    "z1,z2 = (1,1.1)\n",
    "\n",
    "dc.Superposition(test_kernel,(3,3,3),(3,3,3),(0.75,0.75,0.75),[voxel_info_1],[((x1,x2),(y1,y2),(z1,z2))],4)"
   ]
  }
 ],
 "metadata": {
  "kernelspec": {
   "display_name": "Python 3",
   "language": "python",
   "name": "python3"
  },
  "language_info": {
   "codemirror_mode": {
    "name": "ipython",
    "version": 3
   },
   "file_extension": ".py",
   "mimetype": "text/x-python",
   "name": "python",
   "nbconvert_exporter": "python",
   "pygments_lexer": "ipython3",
   "version": "3.6.9"
  }
 },
 "nbformat": 4,
 "nbformat_minor": 5
}
