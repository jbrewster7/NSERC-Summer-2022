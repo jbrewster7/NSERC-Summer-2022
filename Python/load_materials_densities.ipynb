{
 "cells": [
  {
   "cell_type": "code",
   "execution_count": 1,
   "metadata": {},
   "outputs": [
    {
     "name": "stdout",
     "output_type": "stream",
     "text": [
      "Populating the interactive namespace from numpy and matplotlib\n"
     ]
    }
   ],
   "source": [
    "%pylab ipympl\n",
    "import mpl_interactions as pli"
   ]
  },
  {
   "cell_type": "code",
   "execution_count": 2,
   "metadata": {},
   "outputs": [],
   "source": [
    "import os\n",
    "import sys\n",
    "import glob\n",
    "import numpy as np\n",
    "from PIL import Image\n",
    "import matplotlib.pyplot as plt\n",
    "import matplotlib.gridspec as gridspec\n",
    "plt.rc('text', usetex=False)\n",
    "plt.rc('font', family='serif')"
   ]
  },
  {
   "cell_type": "markdown",
   "metadata": {},
   "source": [
    "## This throws error but it is fine lol just ignore it."
   ]
  },
  {
   "cell_type": "code",
   "execution_count": 8,
   "metadata": {},
   "outputs": [],
   "source": [
    "myArray = []\n",
    "fo = open(\"./dylans_patient_files/EGSnrc/egs_home/dosxyznrc/lung_materials.egsphant\", \"r\")\n",
    "for line in fo:\n",
    "    for nbr in line.split():\n",
    "        for n in nbr:\n",
    "            myArray.append(int(n))"
   ]
  },
  {
   "cell_type": "code",
   "execution_count": 9,
   "metadata": {},
   "outputs": [],
   "source": [
    "myArray2 = []\n",
    "fo = open(\"./dylans_patient_files/EGSnrc/egs_home/dosxyznrc/lung_densities.egsphant\", \"r\")\n",
    "for line in fo:\n",
    "    for nbr in line.split():\n",
    "        myArray2.append(float(nbr))\n",
    "# print myArray"
   ]
  },
  {
   "cell_type": "code",
   "execution_count": 10,
   "metadata": {},
   "outputs": [
    {
     "data": {
      "text/plain": [
       "(3408600, '0.0012', 20451513)"
      ]
     },
     "execution_count": 10,
     "metadata": {},
     "output_type": "execute_result"
    }
   ],
   "source": [
    "len(myArray2), nbr, len(myArray)"
   ]
  },
  {
   "cell_type": "code",
   "execution_count": 6,
   "metadata": {},
   "outputs": [],
   "source": [
    "lung_materials = np.reshape(myArray[:-1],[228,130,115],order='f').T\n",
    "lung_densities = np.reshape(myArray2,[228,130,115],order='f').T"
   ]
  },
  {
   "cell_type": "code",
   "execution_count": 7,
   "metadata": {},
   "outputs": [
    {
     "data": {
      "application/vnd.jupyter.widget-view+json": {
       "model_id": "d71bb95283eb41cd8fd6ff961e722017",
       "version_major": 2,
       "version_minor": 0
      },
      "text/plain": [
       "Canvas(toolbar=Toolbar(toolitems=[('Home', 'Reset original view', 'home', 'home'), ('Back', 'Back to previous …"
      ]
     },
     "metadata": {},
     "output_type": "display_data"
    },
    {
     "data": {
      "application/vnd.jupyter.widget-view+json": {
       "model_id": "f24bb40c7f774b36873e5b7e1c239b50",
       "version_major": 2,
       "version_minor": 0
      },
      "text/plain": [
       "VBox(children=(HBox(children=(IntSlider(value=0, description='axis0', max=114, readout=False), Label(value='0'…"
      ]
     },
     "metadata": {},
     "output_type": "display_data"
    },
    {
     "data": {
      "application/vnd.jupyter.widget-view+json": {
       "model_id": "f24bb40c7f774b36873e5b7e1c239b50",
       "version_major": 2,
       "version_minor": 0
      },
      "text/plain": [
       "VBox(children=(HBox(children=(IntSlider(value=0, description='axis0', max=114, readout=False), Label(value='0'…"
      ]
     },
     "metadata": {},
     "output_type": "display_data"
    }
   ],
   "source": [
    "plt.figure()\n",
    "pli.hyperslicer(lung_materials)"
   ]
  },
  {
   "cell_type": "code",
   "execution_count": 8,
   "metadata": {},
   "outputs": [
    {
     "data": {
      "application/vnd.jupyter.widget-view+json": {
       "model_id": "19cbeda3693f4e0a873f39ceb617791d",
       "version_major": 2,
       "version_minor": 0
      },
      "text/plain": [
       "Canvas(toolbar=Toolbar(toolitems=[('Home', 'Reset original view', 'home', 'home'), ('Back', 'Back to previous …"
      ]
     },
     "metadata": {},
     "output_type": "display_data"
    },
    {
     "name": "stdout",
     "output_type": "stream",
     "text": [
      "0.0494 0.0012 0 1 2\n",
      "2.7856 0.0012 3 4 5\n",
      "0.6642 0.0494 6 7 8\n",
      "2.1865 1.1067 9 10 11\n"
     ]
    }
   ],
   "source": [
    "plt.figure()\n",
    "\n",
    "new_materials = np.zeros(lung_materials.shape)\n",
    "\n",
    "for material  in np.unique(lung_materials):\n",
    "    \n",
    "    index = lung_materials == material\n",
    "    plt.hist(lung_densities[index],bins=500,histtype='step')\n",
    "    \n",
    "    print(lung_densities[index].max(),lung_densities[index].min(),(material-1)*3,(material-1)*3+1,(material-1)*3+2)\n",
    "    \n",
    "    first_third = np.percentile(lung_densities[index],33)\n",
    "    second_third = np.percentile(lung_densities[index],66)\n",
    "    new_materials[np.logical_and(index,lung_densities <= first_third)] = (material-1)*3\n",
    "    new_materials[np.logical_and(index,np.logical_and(lung_densities > first_third,lung_densities <= second_third))] = (material-1)*3 + 1\n",
    "    new_materials[np.logical_and(index,lung_densities > second_third)] = (material-1)*3 + 2"
   ]
  },
  {
   "cell_type": "code",
   "execution_count": 9,
   "metadata": {},
   "outputs": [
    {
     "data": {
      "application/vnd.jupyter.widget-view+json": {
       "model_id": "dc9341d8a4184ef6aed7e799fa7cec4d",
       "version_major": 2,
       "version_minor": 0
      },
      "text/plain": [
       "Canvas(toolbar=Toolbar(toolitems=[('Home', 'Reset original view', 'home', 'home'), ('Back', 'Back to previous …"
      ]
     },
     "metadata": {},
     "output_type": "display_data"
    },
    {
     "data": {
      "application/vnd.jupyter.widget-view+json": {
       "model_id": "1c85deb4c60b4df8815d7842d0350295",
       "version_major": 2,
       "version_minor": 0
      },
      "text/plain": [
       "Canvas(toolbar=Toolbar(toolitems=[('Home', 'Reset original view', 'home', 'home'), ('Back', 'Back to previous …"
      ]
     },
     "metadata": {},
     "output_type": "display_data"
    },
    {
     "data": {
      "text/plain": [
       "<matplotlib.image.AxesImage at 0x7f81be1f8e10>"
      ]
     },
     "execution_count": 9,
     "metadata": {},
     "output_type": "execute_result"
    }
   ],
   "source": [
    "plt.figure()\n",
    "plt.imshow(new_materials[17])\n",
    "plt.figure()\n",
    "plt.imshow(lung_materials[17])\n",
    "plt.imshow(lung_densities[17])"
   ]
  },
  {
   "cell_type": "code",
   "execution_count": 10,
   "metadata": {},
   "outputs": [
    {
     "name": "stdout",
     "output_type": "stream",
     "text": [
      "0.0011999999999999969\n",
      "2464749\n",
      "0.03299369114877589\n",
      "1062\n",
      "0.9187717861445283\n",
      "242388\n",
      "0.9956088730884959\n",
      "242610\n",
      "1.0799074071995733\n",
      "249487\n",
      "0.15538713002343543\n",
      "46084\n",
      "0.22378621295994786\n",
      "46065\n",
      "0.4121876414676811\n",
      "47449\n",
      "1.1216108399770954\n",
      "22703\n",
      "1.1715864741976783\n",
      "22653\n",
      "1.3450611434689506\n",
      "23350\n"
     ]
    },
    {
     "data": {
      "text/plain": [
       "array([ 0.,  2.,  3.,  4.,  5.,  6.,  7.,  8.,  9., 10., 11.])"
      ]
     },
     "execution_count": 10,
     "metadata": {},
     "output_type": "execute_result"
    }
   ],
   "source": [
    "for material in np.unique(new_materials):\n",
    "    \n",
    "    print(np.mean(lung_densities[new_materials == material]))\n",
    "    print(np.sum([new_materials == material]))\n",
    "\n",
    "np.unique(new_materials)"
   ]
  },
  {
   "cell_type": "code",
   "execution_count": 51,
   "metadata": {},
   "outputs": [],
   "source": [
    "np.array(new_materials,dtype=np.int16).tofile('lung_patient.bin')"
   ]
  }
 ],
 "metadata": {
  "kernelspec": {
   "display_name": "Python 3",
   "language": "python",
   "name": "python3"
  },
  "language_info": {
   "codemirror_mode": {
    "name": "ipython",
    "version": 3
   },
   "file_extension": ".py",
   "mimetype": "text/x-python",
   "name": "python",
   "nbconvert_exporter": "python",
   "pygments_lexer": "ipython3",
   "version": "3.7.6"
  },
  "toc": {
   "base_numbering": 1,
   "nav_menu": {},
   "number_sections": true,
   "sideBar": true,
   "skip_h1_title": false,
   "title_cell": "Table of Contents",
   "title_sidebar": "Contents",
   "toc_cell": false,
   "toc_position": {},
   "toc_section_display": true,
   "toc_window_display": false
  },
  "varInspector": {
   "cols": {
    "lenName": "16",
    "lenType": "3",
    "lenVar": "20"
   },
   "kernels_config": {
    "python": {
     "delete_cmd_postfix": "",
     "delete_cmd_prefix": "del ",
     "library": "var_list.py",
     "varRefreshCmd": "print(var_dic_list())"
    },
    "r": {
     "delete_cmd_postfix": ") ",
     "delete_cmd_prefix": "rm(",
     "library": "var_list.r",
     "varRefreshCmd": "cat(var_dic_list()) "
    }
   },
   "types_to_exclude": [
    "module",
    "function",
    "builtin_function_or_method",
    "instance",
    "_Feature"
   ],
   "window_display": false
  }
 },
 "nbformat": 4,
 "nbformat_minor": 4
}
