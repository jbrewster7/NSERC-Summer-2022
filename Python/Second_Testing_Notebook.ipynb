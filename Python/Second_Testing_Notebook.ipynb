{
 "cells": [
  {
   "cell_type": "code",
   "execution_count": 3,
   "id": "3ddf9142-b99d-435c-9bca-d442a15493d7",
   "metadata": {},
   "outputs": [
    {
     "name": "stdout",
     "output_type": "stream",
     "text": [
      "Populating the interactive namespace from numpy and matplotlib\n"
     ]
    }
   ],
   "source": [
    "%pylab ipympl \n",
    "%load_ext autoreload\n",
    "import siddon as sd\n",
    "import dose_calculator as dc\n",
    "import imshow_slider as ims\n",
    "from topas2numpy import BinnedResult\n",
    "import pickle\n",
    "from scipy import interpolate\n",
    "import spekpy as sp"
   ]
  },
  {
   "cell_type": "markdown",
   "id": "b2f11f32-5619-457a-ad90-4348816c143d",
   "metadata": {},
   "source": [
    "## Testing Dose Three"
   ]
  },
  {
   "cell_type": "code",
   "execution_count": 3,
   "id": "4a358e69-2f72-49aa-87fb-e413e1fc11e6",
   "metadata": {},
   "outputs": [
    {
     "name": "stdout",
     "output_type": "stream",
     "text": [
      "CPU times: user 17.6 s, sys: 708 ms, total: 18.3 s\n",
      "Wall time: 5min 48s\n"
     ]
    }
   ],
   "source": [
    "%%time \n",
    "\n",
    "# for a CT array of (Nx-1,Ny-1,Nz-1) voxels\n",
    "Nx = 51\n",
    "Ny = 51\n",
    "Nz = 51\n",
    "\n",
    "# distances between the x,y,z planes (also the lengths of the sides of the voxels) in cm\n",
    "dx = 0.1\n",
    "dy = 0.1\n",
    "dz = 0.1\n",
    "\n",
    "# initial and final coordinates of the beam\n",
    "x1,x2 = (0,0)\n",
    "y1,y2 = (0,0)\n",
    "z1,z2 = (2.5,-2.5)\n",
    "\n",
    "# adjustment from center \n",
    "adjust = 0.025\n",
    "\n",
    "# initial plane coordinates\n",
    "xplane1 = -2.5\n",
    "yplane1 = -2.5\n",
    "zplane1 = -2.5\n",
    "\n",
    "# beam info and filename\n",
    "beam_energy = 0.120 # in MeV\n",
    "# fluence_0 = 3.183098862 * 10**8 # photon/cm^2\n",
    "# fluence_0 = 2.53 * 10**8 # photon/cm^2\n",
    "fluence_0 = 9.93 * 10**8 # photon/cm^2\n",
    "# filename = 'energy_absorption_coeff.txt'\n",
    "filenames = ['energy_absorption_coeffs.txt','energy_absorption_coeffs_cort_bone.txt']\n",
    "\n",
    "# kernel info\n",
    "kernelname_water = '../Topas/Kernels/WaterKernel13.csv'\n",
    "kernelname_bone = '../Topas/Kernels/BoneKernel1.csv'\n",
    "kernelnames = [kernelname_water,kernelname_bone]\n",
    "# kernelname = '../Topas/RealKernel1.csv'\n",
    "kernel_size = (4,4,4) # cm \n",
    "\n",
    "# effective distance from center of kernel \n",
    "eff_dist = (2,2,2) # cm\n",
    "\n",
    "# making materials array \n",
    "materials = []\n",
    "for i in range(Nx-1):\n",
    "    materials.append([])\n",
    "    for j in range(Ny-1):\n",
    "        materials[i].append([])\n",
    "        for k in range((Nz-1)//2):\n",
    "            materials[i][j].append('b')\n",
    "        for k in range((Nz-1)//2,Nz-1):\n",
    "            materials[i][j].append('w')\n",
    "\n",
    "# number of cores to use\n",
    "num_cores = 16\n",
    "\n",
    "# Siddon((Nx,Ny,Nz),(dx,dy,dz),((x1,x2),(y1,y2),(z1,z2)),(xplane1,yplane1,zplane1),plot=True)\n",
    "# terma = sd.TERMA((Nx,Ny,Nz),(dx,dy,dz),((x1,x2),(y1,y2),(z1,z2)),(xplane1,yplane1,zplane1),[beam_energy],[fluence_0],mu)\n",
    "\n",
    "dose = dc.Dose_Calculator((Nx,Ny,Nz),(dx,dy,dz),[((x1+adjust,x2+adjust),(y1+adjust,y2+adjust),(z1,z2)),((x1-adjust,x2-adjust),(y1+adjust,y2+adjust),(z1,z2)),((x1+adjust,x2+adjust),(y1-adjust,y2-adjust),(z1,z2)),((x1-adjust,x2-adjust),(y1-adjust,y2-adjust),(z1,z2))],(xplane1,yplane1,zplane1),[beam_energy],[fluence_0],filenames,kernelnames,kernel_size,eff_dist,materials,num_cores)"
   ]
  },
  {
   "cell_type": "code",
   "execution_count": 4,
   "id": "4185e21e-0daf-44a2-942f-7a95eccca248",
   "metadata": {},
   "outputs": [],
   "source": [
    "pickle.dump(dose,open('dose3_1.pickle','wb'))"
   ]
  },
  {
   "cell_type": "markdown",
   "id": "655b6cfc-868e-404b-8d01-1b32cb42b104",
   "metadata": {},
   "source": [
    "## Testing Dose Five"
   ]
  },
  {
   "cell_type": "code",
   "execution_count": 5,
   "id": "bfc3f5bc-e926-4701-a84c-ca44c3d17d98",
   "metadata": {},
   "outputs": [
    {
     "name": "stdout",
     "output_type": "stream",
     "text": [
      "CPU times: user 17.6 s, sys: 832 ms, total: 18.4 s\n",
      "Wall time: 5min 43s\n"
     ]
    }
   ],
   "source": [
    "%%time \n",
    "\n",
    "# for a CT array of (Nx-1,Ny-1,Nz-1) voxels\n",
    "Nx = 51\n",
    "Ny = 51\n",
    "Nz = 51\n",
    "\n",
    "# distances between the x,y,z planes (also the lengths of the sides of the voxels) in cm\n",
    "dx = 0.1\n",
    "dy = 0.1\n",
    "dz = 0.1\n",
    "\n",
    "# initial and final coordinates of the beam\n",
    "x1,x2 = (0,0)\n",
    "y1,y2 = (0,0)\n",
    "z1,z2 = (2.5,-2.5)\n",
    "\n",
    "# adjustment from center \n",
    "adjust = 0.025\n",
    "\n",
    "# initial plane coordinates\n",
    "xplane1 = -2.5\n",
    "yplane1 = -2.5\n",
    "zplane1 = -2.5\n",
    "\n",
    "# beam info and filename\n",
    "beam_energy = 0.120 # in MeV\n",
    "# fluence_0 = 3.183098862 * 10**8 # photon/cm^2\n",
    "# fluence_0 = 2.53 * 10**8 # photon/cm^2\n",
    "fluence_0 = 9.93 * 10**8 # photon/cm^2\n",
    "# filename = 'energy_absorption_coeff.txt'\n",
    "filenames = ['energy_absorption_coeffs.txt','energy_absorption_coeffs_cort_bone.txt']\n",
    "\n",
    "# kernel info\n",
    "kernelname_water = '../Topas/Kernels/WaterKernel13.csv'\n",
    "kernelname_bone = '../Topas/Kernels/BoneKernel1.csv'\n",
    "kernelnames = [kernelname_water,kernelname_bone]\n",
    "# kernelname = '../Topas/RealKernel1.csv'\n",
    "kernel_size = (4,4,4) # cm \n",
    "\n",
    "# effective distance from center of kernel \n",
    "eff_dist = (2,2,2) # cm\n",
    "\n",
    "# making materials array \n",
    "materials = []\n",
    "for i in range(Nx-1):\n",
    "    materials.append([])\n",
    "    for j in range(Ny-1):\n",
    "        materials[i].append([])\n",
    "        for k in range(Nz-1):\n",
    "            materials[i][j].append('b')\n",
    "\n",
    "# number of cores to use\n",
    "num_cores = 16\n",
    "\n",
    "# Siddon((Nx,Ny,Nz),(dx,dy,dz),((x1,x2),(y1,y2),(z1,z2)),(xplane1,yplane1,zplane1),plot=True)\n",
    "# terma = sd.TERMA((Nx,Ny,Nz),(dx,dy,dz),((x1,x2),(y1,y2),(z1,z2)),(xplane1,yplane1,zplane1),[beam_energy],[fluence_0],mu)\n",
    "\n",
    "dose = dc.Dose_Calculator((Nx,Ny,Nz),(dx,dy,dz),[((x1+adjust,x2+adjust),(y1+adjust,y2+adjust),(z1,z2)),((x1-adjust,x2-adjust),(y1+adjust,y2+adjust),(z1,z2)),((x1+adjust,x2+adjust),(y1-adjust,y2-adjust),(z1,z2)),((x1-adjust,x2-adjust),(y1-adjust,y2-adjust),(z1,z2))],(xplane1,yplane1,zplane1),[beam_energy],[fluence_0],filenames,kernelnames,kernel_size,eff_dist,materials,num_cores)"
   ]
  },
  {
   "cell_type": "code",
   "execution_count": 7,
   "id": "e74a6cbd-7b3a-484f-a610-6ebb5bd16527",
   "metadata": {},
   "outputs": [],
   "source": [
    "pickle.dump(dose,open('dose5_1.pickle','wb'))"
   ]
  },
  {
   "cell_type": "code",
   "execution_count": 9,
   "id": "3fe65bc3-2782-4f21-95ef-8d64a87a960d",
   "metadata": {},
   "outputs": [
    {
     "name": "stdout",
     "output_type": "stream",
     "text": [
      "CPU times: user 1min 4s, sys: 318 ms, total: 1min 4s\n",
      "Wall time: 1min 4s\n"
     ]
    }
   ],
   "source": [
    "%%time\n",
    "array = BinnedResult('../Topas/Kernels/FakeBoneKernel.csv')"
   ]
  },
  {
   "cell_type": "markdown",
   "id": "71cf115e-db44-44b4-9b3e-bb14c5cc9916",
   "metadata": {},
   "source": [
    "## Testing $\\mu$ Function"
   ]
  },
  {
   "cell_type": "code",
   "execution_count": 4,
   "id": "be1eff35-9b6c-4dad-a551-e5b8b835a3a3",
   "metadata": {},
   "outputs": [],
   "source": [
    "materials = []\n",
    "Nx = 51\n",
    "Ny = 51\n",
    "Nz = 51\n",
    "for i in range(Nx-1):\n",
    "    materials.append([])\n",
    "    for j in range(Ny-1):\n",
    "        materials[i].append([])\n",
    "        for k in range(Nz-1):\n",
    "            materials[i][j].append('b')\n",
    "mat_array = materials"
   ]
  },
  {
   "cell_type": "code",
   "execution_count": 16,
   "id": "3e0d7e19-2549-45bf-91ef-1bdfdbb3dfd9",
   "metadata": {},
   "outputs": [],
   "source": [
    "filenames = ['energy_absorption_coeffs.txt','energy_absorption_coeffs_cort_bone.txt']\n",
    "CORT_BONE_DENSITY = 1.92\n",
    "\n",
    "# making mu interpolation function for water\n",
    "coeff_array = np.loadtxt(filenames[0],skiprows=2,dtype=float)\n",
    "mu_linear_water = interpolate.interp1d(np.log(coeff_array.T[0]),np.log(coeff_array.T[1]),kind='linear',fill_value='extrapolate')\n",
    "mu_mass_water = interpolate.interp1d(np.log(coeff_array.T[0]),np.log(coeff_array.T[2]),kind='linear',fill_value='extrapolate')\n",
    "\n",
    "# making mu interpolation function for bone\n",
    "coeff_array = np.loadtxt(filenames[1],skiprows=2,dtype=float)\n",
    "mu_linear_bone = interpolate.interp1d(np.log(coeff_array.T[0]),np.log(coeff_array.T[1]),kind='linear',fill_value='extrapolate')\n",
    "mu_mass_bone = interpolate.interp1d(np.log(coeff_array.T[0]),np.log(coeff_array.T[2]),kind='linear',fill_value='extrapolate')\n",
    "\n",
    "def mu(energy,voxel_index,kind):\n",
    "    '''\n",
    "    This is currently only set-up for water and cortical bone, will update later.\n",
    "\n",
    "    Parameters:\n",
    "    ----------\n",
    "    energy :: numpy array or float\n",
    "      energy of the beam \n",
    "\n",
    "    voxel_index :: tuple (3)\n",
    "      (x,y,z) coordinates of the voxel \n",
    "\n",
    "    kind :: str \n",
    "      type of absorption coefficient ('l' for linear and 'm' for mass-energy)\n",
    "\n",
    "    Returns:\n",
    "    -------\n",
    "    absorption_coefficient :: float \n",
    "      linear energy absorption coefficient in cm^{-1} or \n",
    "      mass energy absorption coefficient in cm^2/g\n",
    "\n",
    "    '''\n",
    "    # exponential interpolation\n",
    "\n",
    "    if mat_array[voxel_index[0]-1][voxel_index[1]-1][voxel_index[2]-1] == 'w':\n",
    "        if kind == 'l':\n",
    "            return np.exp(mu_linear_water(np.log(energy)))\n",
    "        elif kind == 'm':\n",
    "            return np.exp(mu_mass_water(np.log(energy)))\n",
    "        else:\n",
    "            raise ValueError('parameter \\\"kind\\\" must be either \\'l\\' or \\'m\\'')\n",
    "    elif mat_array[voxel_index[0]-1][voxel_index[1]-1][voxel_index[2]-1] == 'b':\n",
    "        if kind == 'l':\n",
    "            return np.exp(mu_linear_bone(np.log(energy)))*CORT_BONE_DENSITY\n",
    "        elif kind == 'm':\n",
    "            return np.exp(mu_mass_bone(np.log(energy)))\n",
    "        else:\n",
    "            raise ValueError('parameter \\\"kind\\\" must be either \\'l\\' or \\'m\\'')"
   ]
  },
  {
   "cell_type": "code",
   "execution_count": 17,
   "id": "7c238826-173f-4a6e-80a8-f3ac16d5be1a",
   "metadata": {},
   "outputs": [
    {
     "data": {
      "text/plain": [
       "0.03891051418466243"
      ]
     },
     "execution_count": 17,
     "metadata": {},
     "output_type": "execute_result"
    }
   ],
   "source": [
    "mu(0.12,(1,1,1),'m')"
   ]
  },
  {
   "cell_type": "code",
   "execution_count": 14,
   "id": "82e18e27-688f-42ce-b0cb-43431a2a26f7",
   "metadata": {},
   "outputs": [
    {
     "data": {
      "text/plain": [
       "0.03891051418466243"
      ]
     },
     "execution_count": 14,
     "metadata": {},
     "output_type": "execute_result"
    }
   ],
   "source": [
    "exp(mu_mass_bone(np.log(0.12)))"
   ]
  },
  {
   "cell_type": "code",
   "execution_count": null,
   "id": "be8a7b7c-84d2-4f01-b775-d49c34cf9af5",
   "metadata": {},
   "outputs": [],
   "source": []
  }
 ],
 "metadata": {
  "kernelspec": {
   "display_name": "Python 3",
   "language": "python",
   "name": "python3"
  },
  "language_info": {
   "codemirror_mode": {
    "name": "ipython",
    "version": 3
   },
   "file_extension": ".py",
   "mimetype": "text/x-python",
   "name": "python",
   "nbconvert_exporter": "python",
   "pygments_lexer": "ipython3",
   "version": "3.6.9"
  }
 },
 "nbformat": 4,
 "nbformat_minor": 5
}
