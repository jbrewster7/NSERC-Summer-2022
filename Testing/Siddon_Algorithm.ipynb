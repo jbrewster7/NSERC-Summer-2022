{
 "cells": [
  {
   "cell_type": "markdown",
   "id": "058540f9-c9e0-4401-8bad-670ba6764daa",
   "metadata": {
    "tags": []
   },
   "source": [
    "# Siddon's Algorithm for Ray Tracing \n",
    "Here I will be attempting to implement my own version of Siddon's Algorithm. Very much an attempt."
   ]
  },
  {
   "cell_type": "markdown",
   "id": "db4dd5ff-6d20-497d-89dc-15abfd7a802e",
   "metadata": {
    "tags": []
   },
   "source": [
    "### THE ALGORITHM\n",
    "- Calculate range of parametric values $(\\alpha_{min},\\alpha_{max})$\n",
    "- Calculate range of indices $(i_{min},i_{max}),(j_{min},j_{max}),(k_{min},k_{max})$\n",
    "- Calculate parametric sets $\\{\\alpha_x\\},\\{\\alpha_y\\},\\{\\alpha_z\\}$\n",
    "- Merge sets to form set $\\{\\alpha\\}$\n",
    "- Calculate voxel lengths\n",
    "- Calculate voxel indices"
   ]
  },
  {
   "cell_type": "code",
   "execution_count": 21,
   "id": "cd7036e6-bce6-42b2-9edf-df0c2aa6ec8d",
   "metadata": {},
   "outputs": [
    {
     "name": "stdout",
     "output_type": "stream",
     "text": [
      "Populating the interactive namespace from numpy and matplotlib\n"
     ]
    }
   ],
   "source": [
    "%pylab ipympl\n",
    "from scipy import interpolate"
   ]
  },
  {
   "cell_type": "markdown",
   "id": "26d5ebb7-66d5-4957-8668-8be76a6e80fa",
   "metadata": {},
   "source": [
    "#### Calculate Range of Parametric Values"
   ]
  },
  {
   "cell_type": "code",
   "execution_count": 2,
   "id": "78a4a727-0ea3-446d-8a10-353842937fd0",
   "metadata": {},
   "outputs": [],
   "source": [
    "def alpha_func(plane,coor1,coor2):\n",
    "    '''\n",
    "    plane is assumed to be already calculated\n",
    "    '''\n",
    "    return (plane-coor1)/(coor2-coor1)"
   ]
  },
  {
   "cell_type": "code",
   "execution_count": 3,
   "id": "c8ec800b-df4e-4599-8611-0ca62c0cfd40",
   "metadata": {},
   "outputs": [],
   "source": [
    "def plane_func(index,plane1,d):\n",
    "    '''\n",
    "    Parameters:\n",
    "    ----------\n",
    "    index :: integer\n",
    "      index to evaluate at, index in (1,...,n)\n",
    "    \n",
    "    plane1 :: float \n",
    "      location of plane with index 1 \n",
    "    \n",
    "    d :: float \n",
    "      distance between planes\n",
    "    \n",
    "    Returns:\n",
    "    -------\n",
    "    plane_location :: float \n",
    "      the location of the plane of the specified index\n",
    "    \n",
    "    '''\n",
    "    return plane1 + (index-1)*d"
   ]
  },
  {
   "cell_type": "code",
   "execution_count": 4,
   "id": "f52b0ce5-d4bf-42ee-ae39-a1430770f1c1",
   "metadata": {},
   "outputs": [],
   "source": [
    "def voxel_length(alpha,index,d12):\n",
    "    '''\n",
    "    Parameters:\n",
    "    ----------\n",
    "    alpha :: list\n",
    "      list of alpha values\n",
    "    \n",
    "    index :: integer\n",
    "      index to evaluate at, index in (1,...,n)\n",
    "    \n",
    "    d12 :: float\n",
    "      distance from point one to point two\n",
    "    \n",
    "    Returns:\n",
    "    -------\n",
    "    voxel_length :: float\n",
    "      voxel intersection length\n",
    "      \n",
    "    '''\n",
    "    \n",
    "    return d12*(alpha[index]-alpha[index-1])"
   ]
  },
  {
   "cell_type": "code",
   "execution_count": 5,
   "id": "589cb117-d5e7-445d-8559-c75a8f63e77c",
   "metadata": {},
   "outputs": [],
   "source": [
    "def voxel_indices(plane1s,coor1s,coor2s,distances,alpha,index):\n",
    "    '''\n",
    "    Parameters:\n",
    "    ----------\n",
    "    plane1s :: array\n",
    "      coordinate plane (1) in form (x,y,z)\n",
    "    \n",
    "    coor1s :: array\n",
    "      coordinate one in form (x,y,z)\n",
    "    \n",
    "    coor2s :: float\n",
    "      coordinate two in form (x,y,z)\n",
    "    \n",
    "    distances :: float\n",
    "      distance between two planes in form (x,y,z)\n",
    "      \n",
    "    alpha :: array\n",
    "      ordered set of alpha values\n",
    "    \n",
    "    index :: integer\n",
    "      i in 1,...,nfinal\n",
    "    \n",
    "    Returns:\n",
    "    -------\n",
    "    voxel_index :: integer\n",
    "      voxel index for the specific coordinate \n",
    "    \n",
    "    '''\n",
    "    a_mid = alpha_mid(alpha,index)\n",
    "    \n",
    "    i = int(np.floor(1 + (coor1s[0] + a_mid*(coor2s[0]-coor1s[0])-plane1s[0])/distances[0]))\n",
    "    j = int(np.floor(1 + (coor1s[1] + a_mid*(coor2s[1]-coor1s[1])-plane1s[1])/distances[1]))\n",
    "    k = int(np.floor(1 + (coor1s[2] + a_mid*(coor2s[2]-coor1s[2])-plane1s[2])/distances[2]))\n",
    "    \n",
    "    return (i,j,k)"
   ]
  },
  {
   "cell_type": "code",
   "execution_count": 6,
   "id": "1bd3b5af-88b2-48ed-ba21-549144f748f7",
   "metadata": {},
   "outputs": [],
   "source": [
    "def alpha_mid(alpha,index):\n",
    "    '''\n",
    "    Parameters:\n",
    "    ----------\n",
    "    alpha :: array\n",
    "      ordered set of alpha values\n",
    "    \n",
    "    index :: integer\n",
    "      i in 1,...,nfinal\n",
    "    \n",
    "    Returns:\n",
    "    -------\n",
    "    alpha_mid :: float \n",
    "    \n",
    "    '''\n",
    "    return (alpha[index]+alpha[index-1])/2"
   ]
  },
  {
   "cell_type": "code",
   "execution_count": 51,
   "id": "73eb2f10-1518-4c15-9fd8-d89d0834b3f3",
   "metadata": {},
   "outputs": [],
   "source": [
    "# IMPROVE LATER ONCE I ACTUALLY HAVE INFORMATION ABOUT HOW I WILL GET DENSITY\n",
    "def density(voxel_index):\n",
    "    '''\n",
    "    Parameters:\n",
    "    ----------\n",
    "    voxel_index :: tuple (3)\n",
    "      the index of the voxel \n",
    "    '''\n",
    "    \n",
    "    return 1"
   ]
  },
  {
   "cell_type": "code",
   "execution_count": 7,
   "id": "a3b94564-31fd-44e0-b04f-e9b2cc3b1050",
   "metadata": {},
   "outputs": [
    {
     "name": "stdout",
     "output_type": "stream",
     "text": [
      "0.2857142857142857 1\n"
     ]
    }
   ],
   "source": [
    "'''\n",
    "Parameters\n",
    "'''\n",
    "# for a CT array of (Nx-1,Ny-1,Nz-1) voxels\n",
    "Nx = 5 \n",
    "Ny = 4\n",
    "Nz = 4\n",
    "\n",
    "# distances between the x,y,z planes (also the lengths of the sides of the voxels) \n",
    "# ALL HAS TO BE IN CM\n",
    "dx = 0.1\n",
    "dy = 2\n",
    "dz = 0.5\n",
    "\n",
    "# initial and final coordinates of the beam\n",
    "x1,x2 = (0.5,0)\n",
    "y1,y2 = (3,0)\n",
    "z1,z2 = (2,0.25)\n",
    "\n",
    "# initial plane coordinates\n",
    "xplane1 = 0\n",
    "yplane1 = 0\n",
    "zplane1 = 0\n",
    "\n",
    "'''\n",
    "Setting up Dictionary \n",
    "'''\n",
    "# MAKE A DESCRIPTION OF EACH OF THE QUANTITIES OF THE DICTIONARY\n",
    "\n",
    "coor_values = {'x':{},'y':{},'z':{}}\n",
    "\n",
    "coor_values['x']['N'] = Nx\n",
    "coor_values['y']['N'] = Ny\n",
    "coor_values['z']['N'] = Nz\n",
    "\n",
    "coor_values['x']['d'] = dx\n",
    "coor_values['y']['d'] = dy\n",
    "coor_values['z']['d'] = dz\n",
    "\n",
    "coor_values['x']['1,2'] = (x1,x2)\n",
    "coor_values['y']['1,2'] = (y1,y2)\n",
    "coor_values['z']['1,2'] = (z1,z2)\n",
    "\n",
    "coor_values['x']['plane'] = [xplane1] # this ends up being min,max\n",
    "coor_values['y']['plane'] = [yplane1]\n",
    "coor_values['z']['plane'] = [zplane1]\n",
    "\n",
    "for key in coor_values.keys():\n",
    "    coor_values[key]['plane'].append(plane_func(coor_values[key]['N'],coor_values[key]['plane'][0],coor_values[key]['d']))\n",
    "\n",
    "for key in coor_values.keys():\n",
    "    if coor_values[key]['1,2'][1] - coor_values[key]['1,2'][0] != 0:\n",
    "        coor_values[key]['alpha_minmax'] = (alpha_func(coor_values[key]['plane'][0],coor_values[key]['1,2'][0],coor_values[key]['1,2'][1]),alpha_func(coor_values[key]['plane'][-1],coor_values[key]['1,2'][0],coor_values[key]['1,2'][1]))\n",
    "    else:\n",
    "        coor_values[key]['alpha_minmax'] = (0,1) # set to this so that it doesn't affect later business\n",
    "\n",
    "alpha_min = max(0,min(coor_values['x']['alpha_minmax']),min(coor_values['y']['alpha_minmax']),min(coor_values['z']['alpha_minmax']))\n",
    "alpha_max = min(1,max(coor_values['x']['alpha_minmax']),max(coor_values['y']['alpha_minmax']),max(coor_values['z']['alpha_minmax']))\n",
    "\n",
    "print(alpha_min,alpha_max)\n"
   ]
  },
  {
   "cell_type": "markdown",
   "id": "c190a80d-38d1-4dde-886c-19083d0d792d",
   "metadata": {},
   "source": [
    "#### Calculate Range of Indices"
   ]
  },
  {
   "cell_type": "code",
   "execution_count": 8,
   "id": "7bc3e3e7-bddc-4c88-83a2-01eb04d5e22f",
   "metadata": {},
   "outputs": [
    {
     "name": "stdout",
     "output_type": "stream",
     "text": [
      "(1, 4)\n",
      "(1, 2)\n",
      "(2, 4)\n"
     ]
    }
   ],
   "source": [
    "# FOR SOME REASON IT WORKS IF I ROUND THE INDICES BUT I DON'T LIKE THAT \n",
    "\n",
    "for key in coor_values.keys():\n",
    "    if coor_values[key]['1,2'][1] - coor_values[key]['1,2'][0] >= 0:\n",
    "        indmin = coor_values[key]['N'] - (coor_values[key]['plane'][-1]-alpha_min*(coor_values[key]['1,2'][1] - coor_values[key]['1,2'][0])-coor_values[key]['1,2'][0])/coor_values[key]['d']\n",
    "        indmax = 1 - (coor_values[key]['plane'][0]-alpha_max*(coor_values[key]['1,2'][1] - coor_values[key]['1,2'][0])-coor_values[key]['1,2'][0])/coor_values[key]['d']\n",
    "        indmin = int(ceil(indmin))\n",
    "        indmax = int(floor(indmax))\n",
    "        coor_values[key]['indminmax'] = (indmin,indmax)\n",
    "    else:\n",
    "        indmin = coor_values[key]['N'] - (coor_values[key]['plane'][-1]-alpha_max*(coor_values[key]['1,2'][1] - coor_values[key]['1,2'][0])-coor_values[key]['1,2'][0])/coor_values[key]['d']\n",
    "        indmax = 1 - (coor_values[key]['plane'][0]-alpha_min*(coor_values[key]['1,2'][1] - coor_values[key]['1,2'][0])-coor_values[key]['1,2'][0])/coor_values[key]['d']\n",
    "        indmin = int(ceil(indmin))\n",
    "        indmax = int(floor(indmax))\n",
    "        coor_values[key]['indminmax'] = (indmin,indmax)\n",
    "\n",
    "print(coor_values['x']['indminmax'])\n",
    "print(coor_values['y']['indminmax'])\n",
    "print(coor_values['z']['indminmax'])\n"
   ]
  },
  {
   "cell_type": "markdown",
   "id": "8e8fb748-feb2-4926-9377-4cbbd731317d",
   "metadata": {},
   "source": [
    "#### Calculate Parametric Sets"
   ]
  },
  {
   "cell_type": "code",
   "execution_count": 9,
   "id": "29a4675a-3eed-476d-a83c-7ddb94260e10",
   "metadata": {},
   "outputs": [
    {
     "name": "stdout",
     "output_type": "stream",
     "text": [
      "[4 3 2 1]\n",
      "[0.4 0.6 0.8 1. ]\n",
      "[2 1]\n",
      "[0.33333333 1.        ]\n",
      "[4 3 2]\n",
      "[0.28571429 0.57142857 0.85714286]\n"
     ]
    }
   ],
   "source": [
    "alpha_coor_set = {}\n",
    "\n",
    "for key in coor_values.keys():\n",
    "    if coor_values[key]['1,2'][1] - coor_values[key]['1,2'][0] > 0:\n",
    "        print(array([n for n in range(coor_values[key]['indminmax'][0],coor_values[key]['indminmax'][1]+1)]))\n",
    "        coor_values[key]['alpha_set'] = alpha_func(plane_func(array([n for n in range(coor_values[key]['indminmax'][0],coor_values[key]['indminmax'][1]+1)]),coor_values[key]['plane'][0],coor_values[key]['d']),coor_values[key]['1,2'][0],coor_values[key]['1,2'][1])\n",
    "    elif coor_values[key]['1,2'][1] - coor_values[key]['1,2'][0] < 0:\n",
    "        print(array([n for n in range(coor_values[key]['indminmax'][1],coor_values[key]['indminmax'][0]-1,-1)]))\n",
    "        coor_values[key]['alpha_set'] = alpha_func(plane_func(array([n for n in range(coor_values[key]['indminmax'][1],coor_values[key]['indminmax'][0]-1,-1)]),coor_values[key]['plane'][0],coor_values[key]['d']),coor_values[key]['1,2'][0],coor_values[key]['1,2'][1])\n",
    "    else:\n",
    "        coor_values[key]['alpha_set'] = []\n",
    "    print(coor_values[key]['alpha_set'])\n"
   ]
  },
  {
   "cell_type": "markdown",
   "id": "c7571072-2a44-40da-82cf-dff8e11914cc",
   "metadata": {},
   "source": [
    "#### Merge Sets to Form Alpha Set"
   ]
  },
  {
   "cell_type": "code",
   "execution_count": 10,
   "id": "fa465107-0d03-48e4-be0d-e1c6099a6ce6",
   "metadata": {},
   "outputs": [
    {
     "data": {
      "text/plain": [
       "array([0.28571429, 0.28571429, 0.33333333, 0.4       , 0.57142857,\n",
       "       0.6       , 0.8       , 0.85714286, 1.        , 1.        ,\n",
       "       1.        ])"
      ]
     },
     "execution_count": 10,
     "metadata": {},
     "output_type": "execute_result"
    }
   ],
   "source": [
    "alpha = [alpha_min,alpha_max] + list(coor_values['x']['alpha_set']) + list(coor_values['y']['alpha_set']) + list(coor_values['z']['alpha_set'])\n",
    "alpha = sort(list(alpha))\n",
    "alpha\n"
   ]
  },
  {
   "cell_type": "markdown",
   "id": "bb5cb3b0-8fe2-4601-aadc-991e0b6b3ab9",
   "metadata": {},
   "source": [
    "#### Calculate Voxel Lengths"
   ]
  },
  {
   "cell_type": "code",
   "execution_count": 11,
   "id": "330ff2cc-2af5-4c45-8c2f-61ffef94e43a",
   "metadata": {},
   "outputs": [
    {
     "name": "stdout",
     "output_type": "stream",
     "text": [
      "3.5089172119045497 10\n"
     ]
    }
   ],
   "source": [
    "nfinal = 1\n",
    "d12 = 0\n",
    "for key in coor_values.keys():\n",
    "    if coor_values[key]['1,2'][1] - coor_values[key]['1,2'][0] != 0:\n",
    "        nfinal += coor_values[key]['indminmax'][1] - coor_values[key]['indminmax'][0] + 1 \n",
    "    d12 += (coor_values[key]['1,2'][1] - coor_values[key]['1,2'][0])**2\n",
    "d12 = sqrt(d12)\n",
    "\n",
    "print(d12,nfinal)"
   ]
  },
  {
   "cell_type": "markdown",
   "id": "3a628327-e8cb-45a5-9a41-30038609fc46",
   "metadata": {},
   "source": [
    "#### Calculate Voxel Indices"
   ]
  },
  {
   "cell_type": "code",
   "execution_count": 49,
   "id": "dbe7a134-5e8a-4465-886e-f79c773495c3",
   "metadata": {},
   "outputs": [
    {
     "data": {
      "text/plain": [
       "[{'d': 0.0, 'indices': (4, 2, 4)},\n",
       " {'d': 0.16709129580497856, 'indices': (4, 2, 3)},\n",
       " {'d': 0.23392781412696972, 'indices': (4, 1, 3)},\n",
       " {'d': 0.601528664897923, 'indices': (3, 1, 3)},\n",
       " {'d': 0.10025477748298717, 'indices': (3, 1, 2)},\n",
       " {'d': 0.7017834423809102, 'indices': (2, 1, 2)},\n",
       " {'d': 0.20050955496597395, 'indices': (1, 1, 2)},\n",
       " {'d': 0.5012738874149358, 'indices': (1, 1, 1)},\n",
       " {'d': 0.0, 'indices': (1, 1, 1)},\n",
       " {'d': 0.0, 'indices': (1, 1, 1)}]"
      ]
     },
     "execution_count": 49,
     "metadata": {},
     "output_type": "execute_result"
    }
   ],
   "source": [
    "# print(coor_values['x']['plane'][0],coor_values['y']['plane'][0],coor_values['z']['plane'][0])\n",
    "# print(coor_values['x']['1,2'][0],coor_values['y']['1,2'][0],coor_values['z']['1,2'][0])\n",
    "# print(coor_values['x']['1,2'][1],coor_values['y']['1,2'][1],coor_values['z']['1,2'][1])\n",
    "# print(coor_values['x']['d'],coor_values['y']['d'],coor_values['z']['d'])\n",
    "\n",
    "# UNSURE ABOUT INDICES\n",
    "# using floor to get voxel index\n",
    "# make a note of what it does in boundary cases \n",
    "\n",
    "voxel_info = []\n",
    "\n",
    "for i in range(1,nfinal+1):\n",
    "    length = voxel_length(alpha,i,d12)\n",
    "    indices = voxel_indices((coor_values['x']['plane'][0],coor_values['y']['plane'][0],coor_values['z']['plane'][0]),(coor_values['x']['1,2'][0],coor_values['y']['1,2'][0],coor_values['z']['1,2'][0]),(coor_values['x']['1,2'][1],coor_values['y']['1,2'][1],coor_values['z']['1,2'][1]),(coor_values['x']['d'],coor_values['y']['d'],coor_values['z']['d']),alpha,i)\n",
    "    voxel_info.append({})\n",
    "    voxel_info[i-1]['d'] = length\n",
    "    voxel_info[i-1]['indices'] = indices\n",
    "\n",
    "voxel_info"
   ]
  },
  {
   "cell_type": "markdown",
   "id": "a1721617-1094-4f5c-a6ab-bd77e520f8e4",
   "metadata": {},
   "source": [
    "## Sum it all up \n",
    "Here I must diverge from the paper; this is where the superposition/convolution algorithm goes. (Sorta)"
   ]
  },
  {
   "cell_type": "markdown",
   "id": "c829f2aa-ad66-4bc7-9fa6-02ad355cdf66",
   "metadata": {},
   "source": [
    "## Attempting to Calculate TERMA"
   ]
  },
  {
   "cell_type": "code",
   "execution_count": 42,
   "id": "5c9091b2-e963-4288-9dae-223a9b7380a0",
   "metadata": {},
   "outputs": [],
   "source": [
    "'''\n",
    "Parameters\n",
    "'''\n",
    "ini_energy = 0.120 # in MeV\n",
    "filename = 'energy_absorption_coeff.txt'\n",
    "\n",
    "'''\n",
    "Code\n",
    "'''\n",
    "coeff_array = np.loadtxt(filename,skiprows=2,dtype=float)\n",
    "\n",
    "e_a_coeffs = [] # energy absorption coefficients\n",
    "\n",
    "for row in coeff_array:\n",
    "    e_a_coeffs.append([row[0],row[1]])\n",
    "\n",
    "e_a_coeffs = np.array(e_a_coeffs)\n",
    "\n",
    "mu = interpolate.interp1d(e_a_coeffs.T[0],e_a_coeffs.T[1],kind='nearest',fill_value='extrapolate')"
   ]
  },
  {
   "cell_type": "code",
   "execution_count": 43,
   "id": "f9b4928e-57e1-4934-ac87-daf2b8ff2edf",
   "metadata": {},
   "outputs": [
    {
     "data": {
      "text/plain": [
       "array([[5.000e-03, 4.259e+01],\n",
       "       [6.000e-03, 2.464e+01],\n",
       "       [8.000e-03, 1.037e+01],\n",
       "       [1.000e-02, 5.330e+00],\n",
       "       [1.500e-02, 1.672e+00],\n",
       "       [2.000e-02, 8.098e-01],\n",
       "       [3.000e-02, 3.756e-01],\n",
       "       [4.000e-02, 2.683e-01],\n",
       "       [5.000e-02, 2.269e-01],\n",
       "       [6.000e-02, 2.059e-01],\n",
       "       [8.000e-02, 1.837e-01],\n",
       "       [1.000e-01, 1.707e-01],\n",
       "       [1.500e-01, 1.505e-01],\n",
       "       [2.000e-01, 1.370e-01]])"
      ]
     },
     "execution_count": 43,
     "metadata": {},
     "output_type": "execute_result"
    }
   ],
   "source": [
    "e_a_coeffs"
   ]
  },
  {
   "cell_type": "code",
   "execution_count": 55,
   "id": "e1330e4f-bbb9-400d-b330-64085b168e48",
   "metadata": {},
   "outputs": [
    {
     "data": {
      "text/plain": [
       "[{'d': 0.0, 'indices': (4, 2, 4), 'energy_lost': 0.0},\n",
       " {'d': 0.16709129580497856,\n",
       "  'indices': (4, 2, 3),\n",
       "  'energy_lost': 0.003374346965740932},\n",
       " {'d': 0.23392781412696972,\n",
       "  'indices': (4, 1, 3),\n",
       "  'energy_lost': 0.004565278912413109},\n",
       " {'d': 0.601528664897923,\n",
       "  'indices': (3, 1, 3),\n",
       "  'energy_lost': 0.010935428502818312},\n",
       " {'d': 0.10025477748298717,\n",
       "  'indices': (3, 1, 2),\n",
       "  'energy_lost': 0.0017158766014276766},\n",
       " {'d': 0.7017834423809102,\n",
       "  'indices': (2, 1, 2),\n",
       "  'energy_lost': 0.011223007884153813},\n",
       " {'d': 0.20050955496597395,\n",
       "  'indices': (1, 1, 2),\n",
       "  'energy_lost': 0.0031891166797534953},\n",
       " {'d': 0.5012738874149358,\n",
       "  'indices': (1, 1, 1),\n",
       "  'energy_lost': 0.00747730666195065},\n",
       " {'d': 0.0, 'indices': (1, 1, 1), 'energy_lost': 0.0},\n",
       " {'d': 0.0, 'indices': (1, 1, 1), 'energy_lost': 0.0}]"
      ]
     },
     "execution_count": 55,
     "metadata": {},
     "output_type": "execute_result"
    }
   ],
   "source": [
    "# THIS ONLY WORKS FOR WATER!!! MAKE SURE YOU ADD IN DENSITY BUSINESS\n",
    "# THE MU IS ALSO ONLY CALCULATED FOR WATER... will need to figure out how to get for different materials later \n",
    "energy = ini_energy\n",
    "for index in range(len(voxel_info)):\n",
    "    energy_lost = energy - energy*exp(-mu(energy)/density(voxel_info[index]['indices'])*voxel_info[index]['d'])\n",
    "    voxel_info[index]['energy_lost'] = energy_lost\n",
    "    energy = energy - energy_lost\n",
    "\n",
    "voxel_info"
   ]
  }
 ],
 "metadata": {
  "kernelspec": {
   "display_name": "Python 3",
   "language": "python",
   "name": "python3"
  },
  "language_info": {
   "codemirror_mode": {
    "name": "ipython",
    "version": 3
   },
   "file_extension": ".py",
   "mimetype": "text/x-python",
   "name": "python",
   "nbconvert_exporter": "python",
   "pygments_lexer": "ipython3",
   "version": "3.6.9"
  }
 },
 "nbformat": 4,
 "nbformat_minor": 5
}
