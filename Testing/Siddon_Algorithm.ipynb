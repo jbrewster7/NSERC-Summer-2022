{
 "cells": [
  {
   "cell_type": "markdown",
   "id": "058540f9-c9e0-4401-8bad-670ba6764daa",
   "metadata": {
    "tags": []
   },
   "source": [
    "# Siddon's Algorithm for Ray Tracing \n",
    "Here I will be attempting to implement my own version of Siddon's Algorithm. Very much an attempt."
   ]
  },
  {
   "cell_type": "markdown",
   "id": "db4dd5ff-6d20-497d-89dc-15abfd7a802e",
   "metadata": {
    "tags": []
   },
   "source": [
    "### THE ALGORITHM\n",
    "- Calculate range of parametric values $(\\alpha_{min},\\alpha_{max})$\n",
    "- Calculate range of indices $(i_{min},i_{max}),(j_{min},j_{max}),(k_{min},k_{max})$\n",
    "- Calculate parametric sets $\\{\\alpha_x\\},\\{\\alpha_y\\},\\{\\alpha_z\\}$\n",
    "- Merge sets to form set $\\{\\alpha\\}$\n",
    "- Calculate voxel lengths\n",
    "- Calculate voxel indices"
   ]
  },
  {
   "cell_type": "code",
   "execution_count": 21,
   "id": "cd7036e6-bce6-42b2-9edf-df0c2aa6ec8d",
   "metadata": {},
   "outputs": [
    {
     "name": "stdout",
     "output_type": "stream",
     "text": [
      "Populating the interactive namespace from numpy and matplotlib\n"
     ]
    }
   ],
   "source": [
    "%pylab ipympl\n",
    "from scipy import interpolate"
   ]
  },
  {
   "cell_type": "markdown",
   "id": "26d5ebb7-66d5-4957-8668-8be76a6e80fa",
   "metadata": {},
   "source": [
    "#### Calculate Range of Parametric Values"
   ]
  },
  {
   "cell_type": "code",
   "execution_count": 2,
   "id": "78a4a727-0ea3-446d-8a10-353842937fd0",
   "metadata": {},
   "outputs": [],
   "source": [
    "def alpha_func(plane,coor1,coor2):\n",
    "    '''\n",
    "    plane is assumed to be already calculated\n",
    "    '''\n",
    "    return (plane-coor1)/(coor2-coor1)"
   ]
  },
  {
   "cell_type": "code",
   "execution_count": 3,
   "id": "c8ec800b-df4e-4599-8611-0ca62c0cfd40",
   "metadata": {},
   "outputs": [],
   "source": [
    "def plane_func(index,plane1,d):\n",
    "    '''\n",
    "    Parameters:\n",
    "    ----------\n",
    "    index :: integer\n",
    "      index to evaluate at, index in (1,...,n)\n",
    "    \n",
    "    plane1 :: float \n",
    "      location of plane with index 1 \n",
    "    \n",
    "    d :: float \n",
    "      distance between planes\n",
    "    \n",
    "    Returns:\n",
    "    -------\n",
    "    plane_location :: float \n",
    "      the location of the plane of the specified index\n",
    "    \n",
    "    '''\n",
    "    return plane1 + (index-1)*d"
   ]
  },
  {
   "cell_type": "code",
   "execution_count": 4,
   "id": "f52b0ce5-d4bf-42ee-ae39-a1430770f1c1",
   "metadata": {},
   "outputs": [],
   "source": [
    "def voxel_length(alpha,index,d12):\n",
    "    '''\n",
    "    Parameters:\n",
    "    ----------\n",
    "    alpha :: list\n",
    "      list of alpha values\n",
    "    \n",
    "    index :: integer\n",
    "      index to evaluate at, index in (1,...,n)\n",
    "    \n",
    "    d12 :: float\n",
    "      distance from point one to point two\n",
    "    \n",
    "    Returns:\n",
    "    -------\n",
    "    voxel_length :: float\n",
    "      voxel intersection length\n",
    "      \n",
    "    '''\n",
    "    \n",
    "    return d12*(alpha[index]-alpha[index-1])"
   ]
  },
  {
   "cell_type": "code",
   "execution_count": 5,
   "id": "589cb117-d5e7-445d-8559-c75a8f63e77c",
   "metadata": {},
   "outputs": [],
   "source": [
    "def voxel_indices(plane1s,coor1s,coor2s,distances,alpha,index):\n",
    "    '''\n",
    "    Parameters:\n",
    "    ----------\n",
    "    plane1s :: array\n",
    "      coordinate plane (1) in form (x,y,z)\n",
    "    \n",
    "    coor1s :: array\n",
    "      coordinate one in form (x,y,z)\n",
    "    \n",
    "    coor2s :: float\n",
    "      coordinate two in form (x,y,z)\n",
    "    \n",
    "    distances :: float\n",
    "      distance between two planes in form (x,y,z)\n",
    "      \n",
    "    alpha :: array\n",
    "      ordered set of alpha values\n",
    "    \n",
    "    index :: integer\n",
    "      i in 1,...,nfinal\n",
    "    \n",
    "    Returns:\n",
    "    -------\n",
    "    voxel_index :: integer\n",
    "      voxel index for the specific coordinate \n",
    "    \n",
    "    '''\n",
    "    a_mid = alpha_mid(alpha,index)\n",
    "    \n",
    "    i = int(np.floor(1 + (coor1s[0] + a_mid*(coor2s[0]-coor1s[0])-plane1s[0])/distances[0]))\n",
    "    j = int(np.floor(1 + (coor1s[1] + a_mid*(coor2s[1]-coor1s[1])-plane1s[1])/distances[1]))\n",
    "    k = int(np.floor(1 + (coor1s[2] + a_mid*(coor2s[2]-coor1s[2])-plane1s[2])/distances[2]))\n",
    "    \n",
    "    return (i,j,k)"
   ]
  },
  {
   "cell_type": "code",
   "execution_count": 6,
   "id": "1bd3b5af-88b2-48ed-ba21-549144f748f7",
   "metadata": {},
   "outputs": [],
   "source": [
    "def alpha_mid(alpha,index):\n",
    "    '''\n",
    "    Parameters:\n",
    "    ----------\n",
    "    alpha :: array\n",
    "      ordered set of alpha values\n",
    "    \n",
    "    index :: integer\n",
    "      i in 1,...,nfinal\n",
    "    \n",
    "    Returns:\n",
    "    -------\n",
    "    alpha_mid :: float \n",
    "    \n",
    "    '''\n",
    "    return (alpha[index]+alpha[index-1])/2"
   ]
  },
  {
   "cell_type": "code",
   "execution_count": 51,
   "id": "73eb2f10-1518-4c15-9fd8-d89d0834b3f3",
   "metadata": {},
   "outputs": [],
   "source": [
    "# IMPROVE LATER ONCE I ACTUALLY HAVE INFORMATION ABOUT HOW I WILL GET DENSITY\n",
    "def density(voxel_index):\n",
    "    '''\n",
    "    Parameters:\n",
    "    ----------\n",
    "    voxel_index :: tuple (3)\n",
    "      the index of the voxel \n",
    "    '''\n",
    "    \n",
    "    return 1"
   ]
  },
  {
   "cell_type": "code",
   "execution_count": 7,
   "id": "a3b94564-31fd-44e0-b04f-e9b2cc3b1050",
   "metadata": {},
   "outputs": [
    {
     "name": "stdout",
     "output_type": "stream",
     "text": [
      "0.2857142857142857 1\n"
     ]
    }
   ],
   "source": [
    "'''\n",
    "Parameters\n",
    "'''\n",
    "# for a CT array of (Nx-1,Ny-1,Nz-1) voxels\n",
    "Nx = 5 \n",
    "Ny = 4\n",
    "Nz = 4\n",
    "\n",
    "# distances between the x,y,z planes (also the lengths of the sides of the voxels) \n",
    "# ALL HAS TO BE IN CM\n",
    "dx = 0.1\n",
    "dy = 2\n",
    "dz = 0.5\n",
    "\n",
    "# initial and final coordinates of the beam\n",
    "x1,x2 = (0.5,0)\n",
    "y1,y2 = (3,0)\n",
    "z1,z2 = (2,0.25)\n",
    "\n",
    "# initial plane coordinates\n",
    "xplane1 = 0\n",
    "yplane1 = 0\n",
    "zplane1 = 0\n",
    "\n",
    "'''\n",
    "Setting up Dictionary \n",
    "'''\n",
    "# MAKE A DESCRIPTION OF EACH OF THE QUANTITIES OF THE DICTIONARY\n",
    "\n",
    "coor_values = {'x':{},'y':{},'z':{}}\n",
    "\n",
    "coor_values['x']['N'] = Nx\n",
    "coor_values['y']['N'] = Ny\n",
    "coor_values['z']['N'] = Nz\n",
    "\n",
    "coor_values['x']['d'] = dx\n",
    "coor_values['y']['d'] = dy\n",
    "coor_values['z']['d'] = dz\n",
    "\n",
    "coor_values['x']['1,2'] = (x1,x2)\n",
    "coor_values['y']['1,2'] = (y1,y2)\n",
    "coor_values['z']['1,2'] = (z1,z2)\n",
    "\n",
    "coor_values['x']['plane'] = [xplane1] # this ends up being min,max\n",
    "coor_values['y']['plane'] = [yplane1]\n",
    "coor_values['z']['plane'] = [zplane1]\n",
    "\n",
    "for key in coor_values.keys():\n",
    "    coor_values[key]['plane'].append(plane_func(coor_values[key]['N'],coor_values[key]['plane'][0],coor_values[key]['d']))\n",
    "\n",
    "for key in coor_values.keys():\n",
    "    if coor_values[key]['1,2'][1] - coor_values[key]['1,2'][0] != 0:\n",
    "        coor_values[key]['alpha_minmax'] = (alpha_func(coor_values[key]['plane'][0],coor_values[key]['1,2'][0],coor_values[key]['1,2'][1]),alpha_func(coor_values[key]['plane'][-1],coor_values[key]['1,2'][0],coor_values[key]['1,2'][1]))\n",
    "    else:\n",
    "        coor_values[key]['alpha_minmax'] = (0,1) # set to this so that it doesn't affect later business\n",
    "\n",
    "alpha_min = max(0,min(coor_values['x']['alpha_minmax']),min(coor_values['y']['alpha_minmax']),min(coor_values['z']['alpha_minmax']))\n",
    "alpha_max = min(1,max(coor_values['x']['alpha_minmax']),max(coor_values['y']['alpha_minmax']),max(coor_values['z']['alpha_minmax']))\n",
    "\n",
    "print(alpha_min,alpha_max)\n"
   ]
  },
  {
   "cell_type": "markdown",
   "id": "c190a80d-38d1-4dde-886c-19083d0d792d",
   "metadata": {},
   "source": [
    "#### Calculate Range of Indices"
   ]
  },
  {
   "cell_type": "code",
   "execution_count": 8,
   "id": "7bc3e3e7-bddc-4c88-83a2-01eb04d5e22f",
   "metadata": {},
   "outputs": [
    {
     "name": "stdout",
     "output_type": "stream",
     "text": [
      "(1, 4)\n",
      "(1, 2)\n",
      "(2, 4)\n"
     ]
    }
   ],
   "source": [
    "# FOR SOME REASON IT WORKS IF I ROUND THE INDICES BUT I DON'T LIKE THAT \n",
    "\n",
    "for key in coor_values.keys():\n",
    "    if coor_values[key]['1,2'][1] - coor_values[key]['1,2'][0] >= 0:\n",
    "        indmin = coor_values[key]['N'] - (coor_values[key]['plane'][-1]-alpha_min*(coor_values[key]['1,2'][1] - coor_values[key]['1,2'][0])-coor_values[key]['1,2'][0])/coor_values[key]['d']\n",
    "        indmax = 1 - (coor_values[key]['plane'][0]-alpha_max*(coor_values[key]['1,2'][1] - coor_values[key]['1,2'][0])-coor_values[key]['1,2'][0])/coor_values[key]['d']\n",
    "        indmin = int(ceil(indmin))\n",
    "        indmax = int(floor(indmax))\n",
    "        coor_values[key]['indminmax'] = (indmin,indmax)\n",
    "    else:\n",
    "        indmin = coor_values[key]['N'] - (coor_values[key]['plane'][-1]-alpha_max*(coor_values[key]['1,2'][1] - coor_values[key]['1,2'][0])-coor_values[key]['1,2'][0])/coor_values[key]['d']\n",
    "        indmax = 1 - (coor_values[key]['plane'][0]-alpha_min*(coor_values[key]['1,2'][1] - coor_values[key]['1,2'][0])-coor_values[key]['1,2'][0])/coor_values[key]['d']\n",
    "        indmin = int(ceil(indmin))\n",
    "        indmax = int(floor(indmax))\n",
    "        coor_values[key]['indminmax'] = (indmin,indmax)\n",
    "\n",
    "print(coor_values['x']['indminmax'])\n",
    "print(coor_values['y']['indminmax'])\n",
    "print(coor_values['z']['indminmax'])\n"
   ]
  },
  {
   "cell_type": "markdown",
   "id": "8e8fb748-feb2-4926-9377-4cbbd731317d",
   "metadata": {},
   "source": [
    "#### Calculate Parametric Sets"
   ]
  },
  {
   "cell_type": "code",
   "execution_count": 9,
   "id": "29a4675a-3eed-476d-a83c-7ddb94260e10",
   "metadata": {},
   "outputs": [
    {
     "name": "stdout",
     "output_type": "stream",
     "text": [
      "[4 3 2 1]\n",
      "[0.4 0.6 0.8 1. ]\n",
      "[2 1]\n",
      "[0.33333333 1.        ]\n",
      "[4 3 2]\n",
      "[0.28571429 0.57142857 0.85714286]\n"
     ]
    }
   ],
   "source": [
    "alpha_coor_set = {}\n",
    "\n",
    "for key in coor_values.keys():\n",
    "    if coor_values[key]['1,2'][1] - coor_values[key]['1,2'][0] > 0:\n",
    "        print(array([n for n in range(coor_values[key]['indminmax'][0],coor_values[key]['indminmax'][1]+1)]))\n",
    "        coor_values[key]['alpha_set'] = alpha_func(plane_func(array([n for n in range(coor_values[key]['indminmax'][0],coor_values[key]['indminmax'][1]+1)]),coor_values[key]['plane'][0],coor_values[key]['d']),coor_values[key]['1,2'][0],coor_values[key]['1,2'][1])\n",
    "    elif coor_values[key]['1,2'][1] - coor_values[key]['1,2'][0] < 0:\n",
    "        print(array([n for n in range(coor_values[key]['indminmax'][1],coor_values[key]['indminmax'][0]-1,-1)]))\n",
    "        coor_values[key]['alpha_set'] = alpha_func(plane_func(array([n for n in range(coor_values[key]['indminmax'][1],coor_values[key]['indminmax'][0]-1,-1)]),coor_values[key]['plane'][0],coor_values[key]['d']),coor_values[key]['1,2'][0],coor_values[key]['1,2'][1])\n",
    "    else:\n",
    "        coor_values[key]['alpha_set'] = []\n",
    "    print(coor_values[key]['alpha_set'])\n"
   ]
  },
  {
   "cell_type": "markdown",
   "id": "c7571072-2a44-40da-82cf-dff8e11914cc",
   "metadata": {},
   "source": [
    "#### Merge Sets to Form Alpha Set"
   ]
  },
  {
   "cell_type": "code",
   "execution_count": 10,
   "id": "fa465107-0d03-48e4-be0d-e1c6099a6ce6",
   "metadata": {},
   "outputs": [
    {
     "data": {
      "text/plain": [
       "array([0.28571429, 0.28571429, 0.33333333, 0.4       , 0.57142857,\n",
       "       0.6       , 0.8       , 0.85714286, 1.        , 1.        ,\n",
       "       1.        ])"
      ]
     },
     "execution_count": 10,
     "metadata": {},
     "output_type": "execute_result"
    }
   ],
   "source": [
    "alpha = [alpha_min,alpha_max] + list(coor_values['x']['alpha_set']) + list(coor_values['y']['alpha_set']) + list(coor_values['z']['alpha_set'])\n",
    "alpha = sort(list(alpha))\n",
    "alpha\n"
   ]
  },
  {
   "cell_type": "markdown",
   "id": "bb5cb3b0-8fe2-4601-aadc-991e0b6b3ab9",
   "metadata": {},
   "source": [
    "#### Calculate Voxel Lengths"
   ]
  },
  {
   "cell_type": "code",
   "execution_count": 11,
   "id": "330ff2cc-2af5-4c45-8c2f-61ffef94e43a",
   "metadata": {},
   "outputs": [
    {
     "name": "stdout",
     "output_type": "stream",
     "text": [
      "3.5089172119045497 10\n"
     ]
    }
   ],
   "source": [
    "nfinal = 1\n",
    "d12 = 0\n",
    "for key in coor_values.keys():\n",
    "    if coor_values[key]['1,2'][1] - coor_values[key]['1,2'][0] != 0:\n",
    "        nfinal += coor_values[key]['indminmax'][1] - coor_values[key]['indminmax'][0] + 1 \n",
    "    d12 += (coor_values[key]['1,2'][1] - coor_values[key]['1,2'][0])**2\n",
    "d12 = sqrt(d12)\n",
    "\n",
    "print(d12,nfinal)"
   ]
  },
  {
   "cell_type": "markdown",
   "id": "3a628327-e8cb-45a5-9a41-30038609fc46",
   "metadata": {},
   "source": [
    "#### Calculate Voxel Indices"
   ]
  },
  {
   "cell_type": "code",
   "execution_count": 49,
   "id": "dbe7a134-5e8a-4465-886e-f79c773495c3",
   "metadata": {},
   "outputs": [
    {
     "data": {
      "text/plain": [
       "[{'d': 0.0, 'indices': (4, 2, 4)},\n",
       " {'d': 0.16709129580497856, 'indices': (4, 2, 3)},\n",
       " {'d': 0.23392781412696972, 'indices': (4, 1, 3)},\n",
       " {'d': 0.601528664897923, 'indices': (3, 1, 3)},\n",
       " {'d': 0.10025477748298717, 'indices': (3, 1, 2)},\n",
       " {'d': 0.7017834423809102, 'indices': (2, 1, 2)},\n",
       " {'d': 0.20050955496597395, 'indices': (1, 1, 2)},\n",
       " {'d': 0.5012738874149358, 'indices': (1, 1, 1)},\n",
       " {'d': 0.0, 'indices': (1, 1, 1)},\n",
       " {'d': 0.0, 'indices': (1, 1, 1)}]"
      ]
     },
     "execution_count": 49,
     "metadata": {},
     "output_type": "execute_result"
    }
   ],
   "source": [
    "# print(coor_values['x']['plane'][0],coor_values['y']['plane'][0],coor_values['z']['plane'][0])\n",
    "# print(coor_values['x']['1,2'][0],coor_values['y']['1,2'][0],coor_values['z']['1,2'][0])\n",
    "# print(coor_values['x']['1,2'][1],coor_values['y']['1,2'][1],coor_values['z']['1,2'][1])\n",
    "# print(coor_values['x']['d'],coor_values['y']['d'],coor_values['z']['d'])\n",
    "\n",
    "# UNSURE ABOUT INDICES\n",
    "# using floor to get voxel index\n",
    "# make a note of what it does in boundary cases \n",
    "\n",
    "voxel_info = []\n",
    "\n",
    "for i in range(1,nfinal+1):\n",
    "    length = voxel_length(alpha,i,d12)\n",
    "    indices = voxel_indices((coor_values['x']['plane'][0],coor_values['y']['plane'][0],coor_values['z']['plane'][0]),(coor_values['x']['1,2'][0],coor_values['y']['1,2'][0],coor_values['z']['1,2'][0]),(coor_values['x']['1,2'][1],coor_values['y']['1,2'][1],coor_values['z']['1,2'][1]),(coor_values['x']['d'],coor_values['y']['d'],coor_values['z']['d']),alpha,i)\n",
    "    voxel_info.append({})\n",
    "    voxel_info[i-1]['d'] = length\n",
    "    voxel_info[i-1]['indices'] = indices\n",
    "\n",
    "voxel_info"
   ]
  },
  {
   "cell_type": "markdown",
   "id": "a1721617-1094-4f5c-a6ab-bd77e520f8e4",
   "metadata": {},
   "source": [
    "## Sum it all up \n",
    "Here I must diverge from the paper; this is where the superposition/convolution algorithm goes. (Sorta)"
   ]
  },
  {
   "cell_type": "markdown",
   "id": "c829f2aa-ad66-4bc7-9fa6-02ad355cdf66",
   "metadata": {},
   "source": [
    "## Attempting to Calculate TERMA"
   ]
  },
  {
   "cell_type": "code",
   "execution_count": 57,
   "id": "5c9091b2-e963-4288-9dae-223a9b7380a0",
   "metadata": {},
   "outputs": [],
   "source": [
    "'''\n",
    "Parameters\n",
    "'''\n",
    "ini_energy = 0.120 # in MeV\n",
    "filename = 'energy_absorption_coeff.txt'\n",
    "\n",
    "'''\n",
    "Code\n",
    "'''\n",
    "coeff_array = np.loadtxt(filename,skiprows=2,dtype=float)\n",
    "\n",
    "e_a_coeffs = [] # energy absorption coefficients\n",
    "\n",
    "for row in coeff_array:\n",
    "    e_a_coeffs.append([row[0],row[1]])\n",
    "\n",
    "e_a_coeffs = np.array(e_a_coeffs)\n",
    "\n",
    "mu_energy = interpolate.interp1d(e_a_coeffs.T[0],e_a_coeffs.T[1],kind='nearest',fill_value='extrapolate')\n",
    "mu = lambda energy, material: mu_energy(energy) # CHANGE THIS LATER TO A REAL FUNCTION"
   ]
  },
  {
   "cell_type": "code",
   "execution_count": 43,
   "id": "f9b4928e-57e1-4934-ac87-daf2b8ff2edf",
   "metadata": {},
   "outputs": [
    {
     "data": {
      "text/plain": [
       "array([[5.000e-03, 4.259e+01],\n",
       "       [6.000e-03, 2.464e+01],\n",
       "       [8.000e-03, 1.037e+01],\n",
       "       [1.000e-02, 5.330e+00],\n",
       "       [1.500e-02, 1.672e+00],\n",
       "       [2.000e-02, 8.098e-01],\n",
       "       [3.000e-02, 3.756e-01],\n",
       "       [4.000e-02, 2.683e-01],\n",
       "       [5.000e-02, 2.269e-01],\n",
       "       [6.000e-02, 2.059e-01],\n",
       "       [8.000e-02, 1.837e-01],\n",
       "       [1.000e-01, 1.707e-01],\n",
       "       [1.500e-01, 1.505e-01],\n",
       "       [2.000e-01, 1.370e-01]])"
      ]
     },
     "execution_count": 43,
     "metadata": {},
     "output_type": "execute_result"
    }
   ],
   "source": [
    "e_a_coeffs"
   ]
  },
  {
   "cell_type": "code",
   "execution_count": 58,
   "id": "e1330e4f-bbb9-400d-b330-64085b168e48",
   "metadata": {},
   "outputs": [
    {
     "data": {
      "text/plain": [
       "[{'d': 0.0, 'indices': (4, 2, 4), 'energy_lost': 0.0, 'fraction_lost': 0.0},\n",
       " {'d': 0.16709129580497856,\n",
       "  'indices': (4, 2, 3),\n",
       "  'energy_lost': 0.003374346965740932,\n",
       "  'fraction_lost': 0.028119558047841053},\n",
       " {'d': 0.23392781412696972,\n",
       "  'indices': (4, 1, 3),\n",
       "  'energy_lost': 0.004565278912413109,\n",
       "  'fraction_lost': 0.03804399093677591},\n",
       " {'d': 0.601528664897923,\n",
       "  'indices': (3, 1, 3),\n",
       "  'energy_lost': 0.010935428502818312,\n",
       "  'fraction_lost': 0.09112857085681925},\n",
       " {'d': 0.10025477748298717,\n",
       "  'indices': (3, 1, 2),\n",
       "  'energy_lost': 0.0017158766014276766,\n",
       "  'fraction_lost': 0.014298971678563976},\n",
       " {'d': 0.7017834423809102,\n",
       "  'indices': (2, 1, 2),\n",
       "  'energy_lost': 0.011223007884153813,\n",
       "  'fraction_lost': 0.09352506570128183},\n",
       " {'d': 0.20050955496597395,\n",
       "  'indices': (1, 1, 2),\n",
       "  'energy_lost': 0.0031891166797534953,\n",
       "  'fraction_lost': 0.024727271497377634},\n",
       " {'d': 0.5012738874149358,\n",
       "  'indices': (1, 1, 1),\n",
       "  'energy_lost': 0.00747730666195065,\n",
       "  'fraction_lost': 0.05823907395730721},\n",
       " {'d': 0.0, 'indices': (1, 1, 1), 'energy_lost': 0.0, 'fraction_lost': 0.0},\n",
       " {'d': 0.0, 'indices': (1, 1, 1), 'energy_lost': 0.0, 'fraction_lost': 0.0}]"
      ]
     },
     "execution_count": 58,
     "metadata": {},
     "output_type": "execute_result"
    }
   ],
   "source": [
    "# THIS ONLY WORKS FOR WATER!!! MAKE SURE YOU ADD IN DENSITY BUSINESS\n",
    "# THE MU IS ALSO ONLY CALCULATED FOR WATER... will need to figure out how to get for different materials later \n",
    "fraction = 1\n",
    "for index in range(len(voxel_info)):\n",
    "    fraction_lost = fraction - fraction*np.exp(-mu(ini_energy,voxel_info[index]['indices'])*voxel_info[index]['d'])\n",
    "    voxel_info[index]['fraction_lost'] = fraction_lost\n",
    "    fraction = fraction - fraction_lost\n",
    "\n",
    "voxel_info"
   ]
  },
  {
   "cell_type": "code",
   "execution_count": 61,
   "id": "2d436e06-1623-4186-b60b-93a62de1dda7",
   "metadata": {},
   "outputs": [
    {
     "data": {
      "application/vnd.jupyter.widget-view+json": {
       "model_id": "9435d9b1c04b489e982f1117d0923a23",
       "version_major": 2,
       "version_minor": 0
      },
      "image/png": "[encoded data removed]",
      "text/html": [
       "\n",
       "            <div style=\"display: inline-block;\">\n",
       "                <div class=\"jupyter-widgets widget-label\" style=\"text-align: center;\">\n",
       "                    Figure\n",
       "                </div>\n",
       "                <img src='data:image/png;base64,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' width=640.0/>\n",
       "            </div>\n",
       "        "
      ],
      "text/plain": [
       "Canvas(toolbar=Toolbar(toolitems=[('Home', 'Reset original view', 'home', 'home'), ('Back', 'Back to previous …"
      ]
     },
     "metadata": {},
     "output_type": "display_data"
    }
   ],
   "source": [
    "close(1);figure(1)\n",
    "for index in range(len(voxel_info)):\n",
    "    plot(voxel_info[index]['d'],voxel_info[index]['fraction_lost'],'o')"
   ]
  },
  {
   "cell_type": "code",
   "execution_count": null,
   "id": "535bf85f-5dc2-4641-b2a5-ea3fe3065676",
   "metadata": {},
   "outputs": [],
   "source": []
  }
 ],
 "metadata": {
  "kernelspec": {
   "display_name": "Python 3",
   "language": "python",
   "name": "python3"
  },
  "language_info": {
   "codemirror_mode": {
    "name": "ipython",
    "version": 3
   },
   "file_extension": ".py",
   "mimetype": "text/x-python",
   "name": "python",
   "nbconvert_exporter": "python",
   "pygments_lexer": "ipython3",
   "version": "3.6.9"
  }
 },
 "nbformat": 4,
 "nbformat_minor": 5
}
