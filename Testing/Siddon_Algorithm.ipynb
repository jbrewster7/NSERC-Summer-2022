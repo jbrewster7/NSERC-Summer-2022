{
 "cells": [
  {
   "cell_type": "markdown",
   "id": "058540f9-c9e0-4401-8bad-670ba6764daa",
   "metadata": {
    "tags": []
   },
   "source": [
    "# Siddon's Algorithm for Ray Tracing \n",
    "Here I will be attempting to implement my own version of Siddon's Algorithm. Very much an attempt."
   ]
  },
  {
   "cell_type": "markdown",
   "id": "db4dd5ff-6d20-497d-89dc-15abfd7a802e",
   "metadata": {
    "tags": []
   },
   "source": [
    "### THE ALGORITHM\n",
    "- Calculate range of parametric values $(\\alpha_{min},\\alpha_{max})$\n",
    "- Calculate range of indices $(i_{min},i_{max}),(j_{min},j_{max}),(k_{min},k_{max})$\n",
    "- Calculate parametric sets $\\{\\alpha_x\\},\\{\\alpha_y\\},\\{\\alpha_z\\}$\n",
    "- Merge sets to form set $\\{\\alpha\\}$\n",
    "- Calculate voxel lengths\n",
    "- Calculate voxel indices"
   ]
  },
  {
   "cell_type": "code",
   "execution_count": 24,
   "id": "cd7036e6-bce6-42b2-9edf-df0c2aa6ec8d",
   "metadata": {},
   "outputs": [
    {
     "name": "stdout",
     "output_type": "stream",
     "text": [
      "Populating the interactive namespace from numpy and matplotlib\n"
     ]
    }
   ],
   "source": [
    "%pylab ipympl"
   ]
  },
  {
   "cell_type": "markdown",
   "id": "26d5ebb7-66d5-4957-8668-8be76a6e80fa",
   "metadata": {},
   "source": [
    "#### Calculate Range of Parametric Values"
   ]
  },
  {
   "cell_type": "code",
   "execution_count": 141,
   "id": "78a4a727-0ea3-446d-8a10-353842937fd0",
   "metadata": {},
   "outputs": [],
   "source": [
    "def alpha_func(plane,coor1,coor2):\n",
    "    '''\n",
    "    plane is assumed to be already calculated\n",
    "    '''\n",
    "    return (plane-coor1)/(coor2-coor1)"
   ]
  },
  {
   "cell_type": "code",
   "execution_count": 142,
   "id": "c8ec800b-df4e-4599-8611-0ca62c0cfd40",
   "metadata": {},
   "outputs": [],
   "source": [
    "def plane_func(index,plane1,d):\n",
    "    '''\n",
    "    Parameters:\n",
    "    ----------\n",
    "    index :: integer\n",
    "      index to evaluate at, index in (1,...,n)\n",
    "    \n",
    "    plane1 :: float \n",
    "      location of plane with index 1 \n",
    "    \n",
    "    d :: float \n",
    "      distance between planes\n",
    "    \n",
    "    Returns:\n",
    "    -------\n",
    "    plane_location :: float \n",
    "      the location of the plane of the specified index\n",
    "    \n",
    "    '''\n",
    "    return plane1 + (index-1)*d"
   ]
  },
  {
   "cell_type": "code",
   "execution_count": 149,
   "id": "a3b94564-31fd-44e0-b04f-e9b2cc3b1050",
   "metadata": {},
   "outputs": [
    {
     "name": "stdout",
     "output_type": "stream",
     "text": [
      "0.2857142857142857 1\n"
     ]
    }
   ],
   "source": [
    "'''\n",
    "Parameters\n",
    "'''\n",
    "# for a CT array of (Nx-1,Ny-1,Nz-1) voxels\n",
    "Nx = 5 \n",
    "\n",
    "Ny = 4\n",
    "Nz = 4\n",
    "\n",
    "# distances between the x,y,z planes (also the lengths of the sides of the voxels)\n",
    "dx = 0.1\n",
    "dy = 2\n",
    "dz = 0.5\n",
    "\n",
    "# initial and final coordinates of the beam\n",
    "x1,x2 = (0.5,0)\n",
    "y1,y2 = (3,0)\n",
    "z1,z2 = (2,0.25)\n",
    "\n",
    "# initial plane coordinates\n",
    "xplane1 = 0\n",
    "yplane1 = 0\n",
    "zplane1 = 0\n",
    "\n",
    "'''\n",
    "Setting up Dictionary \n",
    "'''\n",
    "# MAKE A DESCRIPTION OF EACH OF THE QUANTITIES OF THE DICTIONARY\n",
    "\n",
    "coor_values = {'x':{},'y':{},'z':{}}\n",
    "\n",
    "coor_values['x']['N'] = Nx\n",
    "coor_values['y']['N'] = Ny\n",
    "coor_values['z']['N'] = Nz\n",
    "\n",
    "coor_values['x']['d'] = dx\n",
    "coor_values['y']['d'] = dy\n",
    "coor_values['z']['d'] = dz\n",
    "\n",
    "coor_values['x']['1,2'] = (x1,x2)\n",
    "coor_values['y']['1,2'] = (y1,y2)\n",
    "coor_values['z']['1,2'] = (z1,z2)\n",
    "\n",
    "coor_values['x']['plane'] = [xplane1] # this ends up being min,max\n",
    "coor_values['y']['plane'] = [yplane1]\n",
    "coor_values['z']['plane'] = [zplane1]\n",
    "\n",
    "for key in coor_values.keys():\n",
    "    coor_values[key]['plane'].append(plane_func(coor_values[key]['N'],coor_values[key]['plane'][0],coor_values[key]['d']))\n",
    "\n",
    "for key in coor_values.keys():\n",
    "    if coor_values[key]['1,2'][1] - coor_values[key]['1,2'][0] != 0:\n",
    "        coor_values[key]['alpha_minmax'] = (alpha_func(coor_values[key]['plane'][0],coor_values[key]['1,2'][0],coor_values[key]['1,2'][1]),alpha_func(coor_values[key]['plane'][-1],coor_values[key]['1,2'][0],coor_values[key]['1,2'][1]))\n",
    "    else:\n",
    "        coor_values[key]['alpha_minmax'] = (0,1) # set to this so that it doesn't affect later business\n",
    "\n",
    "alpha_min = max(0,min(coor_values['x']['alpha_minmax']),min(coor_values['y']['alpha_minmax']),min(coor_values['z']['alpha_minmax']))\n",
    "alpha_max = min(1,max(coor_values['x']['alpha_minmax']),max(coor_values['y']['alpha_minmax']),max(coor_values['z']['alpha_minmax']))\n",
    "\n",
    "print(alpha_min,alpha_max)\n"
   ]
  },
  {
   "cell_type": "markdown",
   "id": "c190a80d-38d1-4dde-886c-19083d0d792d",
   "metadata": {},
   "source": [
    "#### Calculate Range of Indices"
   ]
  },
  {
   "cell_type": "code",
   "execution_count": 144,
   "id": "7bc3e3e7-bddc-4c88-83a2-01eb04d5e22f",
   "metadata": {},
   "outputs": [
    {
     "name": "stdout",
     "output_type": "stream",
     "text": [
      "(1, 4)\n",
      "(1, 2)\n",
      "(2, 4)\n"
     ]
    }
   ],
   "source": [
    "# FOR SOME REASON IT WORKS IF I ROUND THE INDICES BUT I DON'T LIKE THAT \n",
    "\n",
    "for key in coor_values.keys():\n",
    "    if coor_values[key]['1,2'][1] - coor_values[key]['1,2'][0] >= 0:\n",
    "        indmin = coor_values[key]['N'] - (coor_values[key]['plane'][-1]-alpha_min*(coor_values[key]['1,2'][1] - coor_values[key]['1,2'][0])-coor_values[key]['1,2'][0])/coor_values[key]['d']\n",
    "        indmax = 1 - (coor_values[key]['plane'][0]-alpha_max*(coor_values[key]['1,2'][1] - coor_values[key]['1,2'][0])-coor_values[key]['1,2'][0])/coor_values[key]['d']\n",
    "        indmin = int(ceil(indmin))\n",
    "        indmax = int(floor(indmax))\n",
    "        coor_values[key]['indminmax'] = (indmin,indmax)\n",
    "    else:\n",
    "        indmin = coor_values[key]['N'] - (coor_values[key]['plane'][-1]-alpha_max*(coor_values[key]['1,2'][1] - coor_values[key]['1,2'][0])-coor_values[key]['1,2'][0])/coor_values[key]['d']\n",
    "        indmax = 1 - (coor_values[key]['plane'][0]-alpha_min*(coor_values[key]['1,2'][1] - coor_values[key]['1,2'][0])-coor_values[key]['1,2'][0])/coor_values[key]['d']\n",
    "        indmin = int(ceil(indmin))\n",
    "        indmax = int(floor(indmax))\n",
    "        coor_values[key]['indminmax'] = (indmin,indmax)\n",
    "\n",
    "print(coor_values['x']['indminmax'])\n",
    "print(coor_values['y']['indminmax'])\n",
    "print(coor_values['z']['indminmax'])\n"
   ]
  },
  {
   "cell_type": "markdown",
   "id": "8e8fb748-feb2-4926-9377-4cbbd731317d",
   "metadata": {},
   "source": [
    "#### Calculate Parametric Sets"
   ]
  },
  {
   "cell_type": "code",
   "execution_count": 145,
   "id": "29a4675a-3eed-476d-a83c-7ddb94260e10",
   "metadata": {},
   "outputs": [
    {
     "name": "stdout",
     "output_type": "stream",
     "text": [
      "[4 3 2 1]\n",
      "[0.4 0.6 0.8 1. ]\n",
      "[2 1]\n",
      "[0.33333333 1.        ]\n",
      "[4 3 2]\n",
      "[0.28571429 0.57142857 0.85714286]\n"
     ]
    }
   ],
   "source": [
    "alpha_coor_set = {}\n",
    "\n",
    "for key in coor_values.keys():\n",
    "    if coor_values[key]['1,2'][1] - coor_values[key]['1,2'][0] > 0:\n",
    "        print(array([n for n in range(coor_values[key]['indminmax'][0],coor_values[key]['indminmax'][1]+1)]))\n",
    "        coor_values[key]['alpha_set'] = alpha_func(plane_func(array([n for n in range(coor_values[key]['indminmax'][0],coor_values[key]['indminmax'][1]+1)]),coor_values[key]['plane'][0],coor_values[key]['d']),coor_values[key]['1,2'][0],coor_values[key]['1,2'][1])\n",
    "    elif coor_values[key]['1,2'][1] - coor_values[key]['1,2'][0] < 0:\n",
    "        print(array([n for n in range(coor_values[key]['indminmax'][1],coor_values[key]['indminmax'][0]-1,-1)]))\n",
    "        coor_values[key]['alpha_set'] = alpha_func(plane_func(array([n for n in range(coor_values[key]['indminmax'][1],coor_values[key]['indminmax'][0]-1,-1)]),coor_values[key]['plane'][0],coor_values[key]['d']),coor_values[key]['1,2'][0],coor_values[key]['1,2'][1])\n",
    "    else:\n",
    "        coor_values[key]['alpha_set'] = []\n",
    "    print(coor_values[key]['alpha_set'])\n"
   ]
  },
  {
   "cell_type": "markdown",
   "id": "c7571072-2a44-40da-82cf-dff8e11914cc",
   "metadata": {},
   "source": [
    "#### Merge Sets to Form Alpha Set"
   ]
  },
  {
   "cell_type": "code",
   "execution_count": 146,
   "id": "fa465107-0d03-48e4-be0d-e1c6099a6ce6",
   "metadata": {},
   "outputs": [
    {
     "data": {
      "text/plain": [
       "array([0.28571429, 0.33333333, 0.4       , 0.57142857, 0.6       ,\n",
       "       0.8       , 0.85714286, 1.        ])"
      ]
     },
     "execution_count": 146,
     "metadata": {},
     "output_type": "execute_result"
    }
   ],
   "source": [
    "# I still don't think its right bc alpha_min = 2/7 and there is a 0.2 in here which is smaller \n",
    "# also there are nfinal+1 values ???\n",
    "# FIGURE THIS OUT FIRST \n",
    "alpha = {alpha_min,alpha_max}.union(set(coor_values['x']['alpha_set'])).union(set(coor_values['y']['alpha_set'])).union(set(coor_values['z']['alpha_set']))\n",
    "alpha = sort(list(alpha))\n",
    "alpha\n"
   ]
  },
  {
   "cell_type": "markdown",
   "id": "bb5cb3b0-8fe2-4601-aadc-991e0b6b3ab9",
   "metadata": {},
   "source": [
    "#### Calculate Voxel Lengths"
   ]
  },
  {
   "cell_type": "code",
   "execution_count": 148,
   "id": "330ff2cc-2af5-4c45-8c2f-61ffef94e43a",
   "metadata": {},
   "outputs": [
    {
     "data": {
      "text/plain": [
       "(3.5089172119045497, 10)"
      ]
     },
     "execution_count": 148,
     "metadata": {},
     "output_type": "execute_result"
    }
   ],
   "source": [
    "nfinal = 1\n",
    "d12 = 0\n",
    "for key in coor_values.keys():\n",
    "    nfinal += coor_values[key]['indminmax'][1] - coor_values[key]['indminmax'][0] + 1 \n",
    "    d12 += (coor_values[key]['1,2'][1] - coor_values[key]['1,2'][0])**2\n",
    "d12 = sqrt(d12)\n",
    "\n",
    "d12,nfinal"
   ]
  },
  {
   "cell_type": "code",
   "execution_count": 51,
   "id": "f52b0ce5-d4bf-42ee-ae39-a1430770f1c1",
   "metadata": {},
   "outputs": [],
   "source": [
    "def voxel_length(alpha,index,d12):\n",
    "    '''\n",
    "    Parameters:\n",
    "    ----------\n",
    "    alpha :: list\n",
    "      list of alpha values\n",
    "    \n",
    "    index :: integer\n",
    "      index to evaluate at, index in (1,...,n)\n",
    "    \n",
    "    d12 :: float\n",
    "      distance from point one to point two\n",
    "    \n",
    "    Returns:\n",
    "    -------\n",
    "    voxel_length :: float\n",
    "      voxel intersection length\n",
    "      \n",
    "    '''\n",
    "    \n",
    "    return d12*(alpha[index]-alpha[index-1])"
   ]
  },
  {
   "cell_type": "markdown",
   "id": "3a628327-e8cb-45a5-9a41-30038609fc46",
   "metadata": {},
   "source": [
    "#### Calculate Voxel Indices"
   ]
  },
  {
   "cell_type": "code",
   "execution_count": 38,
   "id": "589cb117-d5e7-445d-8559-c75a8f63e77c",
   "metadata": {},
   "outputs": [],
   "source": [
    "def voxel_index(plane,coor1,coor2,alpha_mid,distance):\n",
    "    '''\n",
    "    Parameters:\n",
    "    ----------\n",
    "    plane :: float????\n",
    "      coordinate plane (1)\n",
    "    \n",
    "    coor1 :: float\n",
    "      coordinate one\n",
    "    \n",
    "    coor2 :: float\n",
    "      coordinate two\n",
    "    \n",
    "    alpha_mid :: float\n",
    "      average of alpha[m] and alpha[m-1]\n",
    "    \n",
    "    distance :: float\n",
    "      distance between two planes\n",
    "    \n",
    "    Returns:\n",
    "    -------\n",
    "    voxel_index :: integer\n",
    "      voxel index for the specific coordinate \n",
    "    \n",
    "    '''\n",
    "    \n",
    "    return 1 + (coor1 + alpha_mid(coor2-coor1)-plane)/distance"
   ]
  },
  {
   "cell_type": "markdown",
   "id": "a1721617-1094-4f5c-a6ab-bd77e520f8e4",
   "metadata": {},
   "source": [
    "## Sum it all up \n",
    "Here I must diverge from the paper; this is where the superposition/convolution algorithm goes."
   ]
  }
 ],
 "metadata": {
  "kernelspec": {
   "display_name": "Python 3",
   "language": "python",
   "name": "python3"
  },
  "language_info": {
   "codemirror_mode": {
    "name": "ipython",
    "version": 3
   },
   "file_extension": ".py",
   "mimetype": "text/x-python",
   "name": "python",
   "nbconvert_exporter": "python",
   "pygments_lexer": "ipython3",
   "version": "3.6.9"
  }
 },
 "nbformat": 4,
 "nbformat_minor": 5
}
