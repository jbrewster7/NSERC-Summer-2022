{
 "cells": [
  {
   "cell_type": "markdown",
   "id": "41b167eb-8811-497a-9b68-93cbb27581ea",
   "metadata": {},
   "source": [
    "# Superposition"
   ]
  },
  {
   "cell_type": "markdown",
   "id": "95271ee4-b842-46fe-9c9d-d4c821a1fe98",
   "metadata": {},
   "source": [
    "This is where I will be attemping to do superposition of the kernel onto the terma stuff."
   ]
  },
  {
   "cell_type": "code",
   "execution_count": 1,
   "id": "87c0281d-c6f4-4139-a4a1-fd8991098dd4",
   "metadata": {},
   "outputs": [
    {
     "name": "stdout",
     "output_type": "stream",
     "text": [
      "Populating the interactive namespace from numpy and matplotlib\n"
     ]
    }
   ],
   "source": [
    "%pylab ipympl\n",
    "import sliding as sl"
   ]
  },
  {
   "cell_type": "code",
   "execution_count": 2,
   "id": "091834a5-3b87-4dfd-883b-772f1aa966d4",
   "metadata": {},
   "outputs": [],
   "source": [
    "import siddon as sd\n",
    "from topas2numpy import BinnedResult\n",
    "from scipy import interpolate"
   ]
  },
  {
   "cell_type": "code",
   "execution_count": 63,
   "id": "e14c2780-f263-4236-b5e6-ce43c8ce3532",
   "metadata": {},
   "outputs": [],
   "source": [
    "'''\n",
    "Parameters\n",
    "'''\n",
    "# for a CT array of (Nx-1,Ny-1,Nz-1) voxels\n",
    "Nx = 5 \n",
    "Ny = 4\n",
    "Nz = 3\n",
    "\n",
    "# distances between the x,y,z planes (also the lengths of the sides of the voxels)\n",
    "dx = 0.1\n",
    "dy = 2\n",
    "dz = 0.5\n",
    "\n",
    "# initial and final coordinates of the beam\n",
    "x1,x2 = (0.5,0)\n",
    "y1,y2 = (3,0)\n",
    "z1,z2 = (2,0.25)\n",
    "\n",
    "# initial plane coordinates\n",
    "xplane1 = 0\n",
    "yplane1 = 0\n",
    "zplane1 = 0\n",
    "\n",
    "# beam info and filename\n",
    "ini_energy = 0.120 # in MeV\n",
    "filename = 'energy_absorption_coeff.txt'\n",
    "\n",
    "# information about the voxels\n",
    "voxel_info = sd.TERMA((Nx,Ny,Nz),(dx,dy,dz),((x1,x2),(y1,y2),(z1,z2)),(xplane1,yplane1,zplane1),ini_energy,filename)\n",
    "\n",
    "# kernel file\n",
    "kernelname = '../Topas/RealKernel1.csv'"
   ]
  },
  {
   "cell_type": "code",
   "execution_count": 64,
   "id": "2254344c-befe-4bd9-bdf4-42e3700888dc",
   "metadata": {},
   "outputs": [],
   "source": [
    "# real array\n",
    "kernel_array = BinnedResult(kernelname).data['Sum']"
   ]
  },
  {
   "cell_type": "code",
   "execution_count": 65,
   "id": "2256a027-1e36-49be-8f97-ce1e273960ce",
   "metadata": {},
   "outputs": [],
   "source": [
    "# pretend array for testing\n",
    "kernel_array = array([[[[0],[0],[0],[0],[0]],[[0],[0],[0],[0],[0]],[[0],[0],[0.1],[0],[0]],[[0],[0],[0],[0],[0]],[[0],[0],[0],[0],[0]]],[[[0],[0],[0],[0],[0]],[[0],[0],[0.1],[0],[0]],[[0],[0.1],[0.3],[0.1],[0]],[[0],[0],[0.1],[0],[0]],[[0],[0],[0],[0],[0]]],[[[0],[0],[0.2],[0],[0]],[[0],[0.2],[0.5],[0.2],[0]],[[0],[0.3],[1],[0.3],[0]],[[0],[0.1],[0.2],[0.1],[0]],[[0],[0],[0.1],[0],[0]]],[[[0],[0],[0],[0],[0]],[[0],[0],[0.1],[0],[0]],[[0],[0.1],[0.3],[0.1],[0]],[[0],[0],[0.1],[0],[0]],[[0],[0],[0],[0],[0]]],[[[0],[0],[0],[0],[0]],[[0],[0],[0],[0],[0]],[[0],[0],[0.1],[0],[0]],[[0],[0],[0],[0],[0]],[[0],[0],[0],[0],[0]]]])\n"
   ]
  },
  {
   "cell_type": "markdown",
   "id": "0a13f624-a078-4d7d-9d54-bc74110cf536",
   "metadata": {},
   "source": [
    "### Interpolating Kernel"
   ]
  },
  {
   "cell_type": "code",
   "execution_count": 66,
   "id": "ae9064fc-5918-448f-ba6f-6c105e4a6793",
   "metadata": {},
   "outputs": [],
   "source": [
    "x = linspace(0,len(kernel_array)-1,len(kernel_array))\n",
    "y = linspace(0,len(kernel_array[0])-1,len(kernel_array[0]))\n",
    "z = linspace(0,len(kernel_array[0][0])-1,len(kernel_array[0][0]))\n",
    "\n",
    "kernel_func = interpolate.RegularGridInterpolator((x,y,z),kernel_array)"
   ]
  },
  {
   "cell_type": "markdown",
   "id": "33566b1b-e7cf-46c9-8369-62b32f6d4c83",
   "metadata": {},
   "source": [
    "### Finding Center of Kernel\n",
    "*NOTE: Kernels will be forced to interact in the centre and will be an odd number of voxels.*"
   ]
  },
  {
   "cell_type": "code",
   "execution_count": 67,
   "id": "c69df087-68e9-409f-9576-c75db4bc41e2",
   "metadata": {},
   "outputs": [],
   "source": [
    "center_coor = (int(np.floor(len(kernel_array)/2)),int(np.floor(len(kernel_array[0])/2)),int(np.floor(len(kernel_array[0][0])/2)))\n"
   ]
  },
  {
   "cell_type": "markdown",
   "id": "b0d50753-5b26-4378-b8d7-d88d0e70a377",
   "metadata": {},
   "source": [
    "### Information Needed for Kernel"
   ]
  },
  {
   "cell_type": "code",
   "execution_count": 68,
   "id": "3456f276-5246-4480-9b61-f042a9b1330e",
   "metadata": {},
   "outputs": [],
   "source": [
    "'''\n",
    "Parameters\n",
    "'''\n",
    "# size of kernel in cm\n",
    "xsize = 20\n",
    "ysize = 20\n",
    "zsize = 20\n",
    "\n",
    "'''\n",
    "Creating Info Dictionary\n",
    "'''\n",
    "kernel_info = {}\n",
    "kernel_info['x'] = {}\n",
    "kernel_info['y'] = {}\n",
    "kernel_info['z'] = {}\n",
    "\n",
    "kernel_info['x']['bins'] = len(kernel_array)\n",
    "kernel_info['y']['bins'] = len(kernel_array[0])\n",
    "kernel_info['z']['bins'] = len(kernel_array[0][0])\n",
    "\n",
    "kernel_info['x']['size'] = xsize\n",
    "kernel_info['y']['size'] = ysize\n",
    "kernel_info['z']['size'] = zsize"
   ]
  },
  {
   "cell_type": "code",
   "execution_count": 69,
   "id": "6ece18cd-7cf7-482c-b0ae-67da2f0316a4",
   "metadata": {},
   "outputs": [
    {
     "data": {
      "text/plain": [
       "{'x': {'bins': 5, 'size': 20},\n",
       " 'y': {'bins': 5, 'size': 20},\n",
       " 'z': {'bins': 5, 'size': 20}}"
      ]
     },
     "execution_count": 69,
     "metadata": {},
     "output_type": "execute_result"
    }
   ],
   "source": [
    "kernel_info"
   ]
  },
  {
   "cell_type": "markdown",
   "id": "b5bf1926-3124-4beb-837c-e12e5138d8dc",
   "metadata": {},
   "source": [
    "### Put it All Together"
   ]
  },
  {
   "cell_type": "code",
   "execution_count": 92,
   "id": "1386f857-774c-448e-9d03-6a609e85f8f4",
   "metadata": {},
   "outputs": [],
   "source": [
    "voxel = voxel_info[0]\n",
    "# print(voxel)\n",
    "energy_deposit = []\n",
    "\n",
    "x_voxels = linspace(0,Nx-2,Nx-1)\n",
    "y_voxels = linspace(0,Ny-2,Ny-1)\n",
    "z_voxels = linspace(0,Nz-2,Nz-1)\n",
    "\n",
    "voxel_array = []\n",
    "for x in x_voxels:\n",
    "    for y in y_voxels:\n",
    "        for z in z_voxels:\n",
    "            voxel_array.append(array([x,y,z]))\n",
    "voxel_array = array(voxel_array)\n",
    "\n",
    "n = 0 \n",
    "for n in range(len(voxel_array)):\n",
    "    energy_deposit.append({})\n",
    "    energy_deposit[n]['indices'] = (voxel_array[0]+1,voxel_array[1]+1,voxel_array[2]+1)\n",
    "    "
   ]
  },
  {
   "cell_type": "code",
   "execution_count": 45,
   "id": "89894bda-a8fd-4217-bb97-72ab067803d1",
   "metadata": {},
   "outputs": [
    {
     "name": "stdout",
     "output_type": "stream",
     "text": [
      "[0.5]\n",
      "[0.2]\n",
      "[0.2]\n",
      "[0.]\n",
      "[0.]\n",
      "[0.]\n",
      "[0.]\n"
     ]
    }
   ],
   "source": [
    "for voxel in voxel_info:\n",
    "    # line up index with center of kernel\n",
    "    print(kernel_func((voxel['indices'][0]-1,voxel['indices'][1]-1,voxel['indices'][2]-1)))\n",
    "    # look up voxel number \n",
    "    # look up terma \n",
    "    # multiply with each kernel segment and add to voxel energy business"
   ]
  }
 ],
 "metadata": {
  "kernelspec": {
   "display_name": "Python 3",
   "language": "python",
   "name": "python3"
  },
  "language_info": {
   "codemirror_mode": {
    "name": "ipython",
    "version": 3
   },
   "file_extension": ".py",
   "mimetype": "text/x-python",
   "name": "python",
   "nbconvert_exporter": "python",
   "pygments_lexer": "ipython3",
   "version": "3.6.9"
  }
 },
 "nbformat": 4,
 "nbformat_minor": 5
}
