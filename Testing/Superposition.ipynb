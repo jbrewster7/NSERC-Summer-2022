{
 "cells": [
  {
   "cell_type": "markdown",
   "id": "41b167eb-8811-497a-9b68-93cbb27581ea",
   "metadata": {},
   "source": [
    "# Superposition"
   ]
  },
  {
   "cell_type": "markdown",
   "id": "95271ee4-b842-46fe-9c9d-d4c821a1fe98",
   "metadata": {},
   "source": [
    "This is where I will be attemping to do superposition of the kernel onto the terma stuff."
   ]
  },
  {
   "cell_type": "code",
   "execution_count": 1,
   "id": "87c0281d-c6f4-4139-a4a1-fd8991098dd4",
   "metadata": {},
   "outputs": [
    {
     "name": "stdout",
     "output_type": "stream",
     "text": [
      "Populating the interactive namespace from numpy and matplotlib\n"
     ]
    }
   ],
   "source": [
    "%pylab ipympl"
   ]
  },
  {
   "cell_type": "code",
   "execution_count": 2,
   "id": "091834a5-3b87-4dfd-883b-772f1aa966d4",
   "metadata": {},
   "outputs": [],
   "source": [
    "import siddon as sd"
   ]
  },
  {
   "cell_type": "code",
   "execution_count": 3,
   "id": "e14c2780-f263-4236-b5e6-ce43c8ce3532",
   "metadata": {},
   "outputs": [
    {
     "data": {
      "text/plain": [
       "[{'d': 0.0, 'indices': (4, 2, 4), 'fraction_lost': 0.0},\n",
       " {'d': 0.16709129580497856,\n",
       "  'indices': (4, 2, 3),\n",
       "  'fraction_lost': 0.028119558047841053},\n",
       " {'d': 0.23392781412696972,\n",
       "  'indices': (4, 1, 3),\n",
       "  'fraction_lost': 0.03804399093677591},\n",
       " {'d': 0.601528664897923,\n",
       "  'indices': (3, 1, 3),\n",
       "  'fraction_lost': 0.09112857085681925},\n",
       " {'d': 0.10025477748298717,\n",
       "  'indices': (3, 1, 2),\n",
       "  'fraction_lost': 0.014298971678563976},\n",
       " {'d': 0.7017834423809102,\n",
       "  'indices': (2, 1, 2),\n",
       "  'fraction_lost': 0.09352506570128183},\n",
       " {'d': 0.20050955496597395,\n",
       "  'indices': (1, 1, 2),\n",
       "  'fraction_lost': 0.024727271497377634},\n",
       " {'d': 0.5012738874149358,\n",
       "  'indices': (1, 1, 1),\n",
       "  'fraction_lost': 0.05823907395730721},\n",
       " {'d': 0.0, 'indices': (1, 1, 1), 'fraction_lost': 0.0},\n",
       " {'d': 0.0, 'indices': (1, 1, 1), 'fraction_lost': 0.0}]"
      ]
     },
     "execution_count": 3,
     "metadata": {},
     "output_type": "execute_result"
    }
   ],
   "source": [
    "'''\n",
    "Parameters\n",
    "'''\n",
    "# for a CT array of (Nx-1,Ny-1,Nz-1) voxels\n",
    "Nx = 5 \n",
    "Ny = 4\n",
    "Nz = 4\n",
    "\n",
    "# distances between the x,y,z planes (also the lengths of the sides of the voxels)\n",
    "dx = 0.1\n",
    "dy = 2\n",
    "dz = 0.5\n",
    "\n",
    "# initial and final coordinates of the beam\n",
    "x1,x2 = (0.5,0)\n",
    "y1,y2 = (3,0)\n",
    "z1,z2 = (2,0.25)\n",
    "\n",
    "# initial plane coordinates\n",
    "xplane1 = 0\n",
    "yplane1 = 0\n",
    "zplane1 = 0\n",
    "\n",
    "# beam info and filename\n",
    "ini_energy = 0.120 # in MeV\n",
    "filename = 'energy_absorption_coeff.txt'\n",
    "\n",
    "# sd.Siddon((Nx,Ny,Nz),(dx,dy,dz),((x1,x2),(y1,y2),(z1,z2)),(xplane1,yplane1,zplane1))\n",
    "sd.TERMA((Nx,Ny,Nz),(dx,dy,dz),((x1,x2),(y1,y2),(z1,z2)),(xplane1,yplane1,zplane1),ini_energy,filename)"
   ]
  }
 ],
 "metadata": {
  "kernelspec": {
   "display_name": "Python 3",
   "language": "python",
   "name": "python3"
  },
  "language_info": {
   "codemirror_mode": {
    "name": "ipython",
    "version": 3
   },
   "file_extension": ".py",
   "mimetype": "text/x-python",
   "name": "python",
   "nbconvert_exporter": "python",
   "pygments_lexer": "ipython3",
   "version": "3.6.9"
  }
 },
 "nbformat": 4,
 "nbformat_minor": 5
}
